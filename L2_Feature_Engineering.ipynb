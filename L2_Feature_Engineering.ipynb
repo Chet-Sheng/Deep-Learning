{
 "cells": [
  {
   "cell_type": "code",
   "execution_count": 1,
   "metadata": {
    "collapsed": false
   },
   "outputs": [
    {
     "name": "stdout",
     "output_type": "stream",
     "text": [
      "Requirement already satisfied: user_agents in /usr/local/lib/python3.5/dist-packages\n",
      "Requirement already satisfied: ua-parser>=0.4.1 in /usr/local/lib/python3.5/dist-packages (from user_agents)\n",
      "Requirement already satisfied: tqdm in /usr/local/lib/python3.5/dist-packages\n"
     ]
    }
   ],
   "source": [
    "%%bash\n",
    "pip3 install user_agents\n",
    "pip3 install tqdm"
   ]
  },
  {
   "cell_type": "code",
   "execution_count": 2,
   "metadata": {
    "collapsed": false
   },
   "outputs": [],
   "source": [
    "import numpy as np\n",
    "import pandas as pd\n",
    "import pickle\n",
    "import urllib\n",
    "from tqdm import tqdm, trange, tqdm_pandas\n",
    "import os\n",
    "from user_agents import parse\n",
    "import datetime\n",
    "import time\n",
    "from sklearn import preprocessing\n",
    "import matplotlib.pyplot as plt\n",
    "# import pytables"
   ]
  },
  {
   "cell_type": "code",
   "execution_count": 3,
   "metadata": {
    "collapsed": false
   },
   "outputs": [],
   "source": [
    "pd.set_option('display.max_columns', 1000)\n",
    "tqdm.pandas(desc=\"Progress Bar\")"
   ]
  },
  {
   "cell_type": "markdown",
   "metadata": {},
   "source": [
    "**Dictionary:**"
   ]
  },
  {
   "cell_type": "markdown",
   "metadata": {},
   "source": [
    "| name          |meaning        | \n",
    "| ------------- |:-------------| \n",
    "|**data    **      |data_final from data_manipulation table|\n",
    "|**data_base**    |data with 'ip','city','country' 3 columns dropped|"
   ]
  },
  {
   "cell_type": "markdown",
   "metadata": {},
   "source": [
    "---\n",
    "# Import Data:"
   ]
  },
  {
   "cell_type": "code",
   "execution_count": 4,
   "metadata": {
    "collapsed": false
   },
   "outputs": [
    {
     "name": "stdout",
     "output_type": "stream",
     "text": [
      "CPU times: user 4.04 s, sys: 1.67 s, total: 5.71 s\n",
      "Wall time: 13.9 s\n"
     ]
    }
   ],
   "source": [
    "%%time\n",
    "# initial inner join data\n",
    "# df=pickle.load(open( \"../Data/df.p\", \"rb\" ) )\n",
    "# dataframe dropping a few columns\n",
    "# df0=pickle.load(open( \"../Data/df0.p\", \"rb\" ) )\n",
    "# reorganized main dataframe\n",
    "with open( \"../Data/data_final.p\", \"rb\" )  as f:\n",
    "    data=pickle.load(f)"
   ]
  },
  {
   "cell_type": "markdown",
   "metadata": {},
   "source": [
    "---\n",
    "# Feature Engineering Part 1 (Preprocess):\n",
    "- **df is the final base dataframe we would use**\n",
    "- **Each subsection of Feature Engineering would update a column of df_groupby2 (can rerun without reload)**"
   ]
  },
  {
   "cell_type": "markdown",
   "metadata": {},
   "source": [
    "**Have a look at data**"
   ]
  },
  {
   "cell_type": "code",
   "execution_count": 5,
   "metadata": {
    "collapsed": false
   },
   "outputs": [
    {
     "data": {
      "text/html": [
       "<div>\n",
       "<table border=\"1\" class=\"dataframe\">\n",
       "  <thead>\n",
       "    <tr style=\"text-align: right;\">\n",
       "      <th></th>\n",
       "      <th>id</th>\n",
       "      <th>num_sess</th>\n",
       "      <th>session_id</th>\n",
       "      <th>finger_print</th>\n",
       "      <th>datetime</th>\n",
       "      <th>days</th>\n",
       "      <th>referrer</th>\n",
       "      <th>page_url</th>\n",
       "      <th>product_viewed_browse</th>\n",
       "      <th>cart_started</th>\n",
       "      <th>basket_paid_browsing</th>\n",
       "      <th>product_name</th>\n",
       "      <th>product_save</th>\n",
       "      <th>product_price</th>\n",
       "      <th>product_time_left</th>\n",
       "      <th>email</th>\n",
       "      <th>Post_Code</th>\n",
       "      <th>cart_startTime</th>\n",
       "      <th>product_viewed_cart</th>\n",
       "      <th>total</th>\n",
       "      <th>basket_paid_cart</th>\n",
       "      <th>payment_type</th>\n",
       "      <th>email_click_through</th>\n",
       "      <th>cart_firstTime</th>\n",
       "      <th>cart_lastTime</th>\n",
       "      <th>basketInfoTime</th>\n",
       "      <th>ip_address</th>\n",
       "      <th>user_agent</th>\n",
       "      <th>city</th>\n",
       "      <th>country</th>\n",
       "      <th>product_id_ProductViewed</th>\n",
       "      <th>product_id_CartStarted</th>\n",
       "      <th>last_cart_started</th>\n",
       "    </tr>\n",
       "  </thead>\n",
       "  <tbody>\n",
       "    <tr>\n",
       "      <th>0</th>\n",
       "      <td>1</td>\n",
       "      <td>1</td>\n",
       "      <td>k79c9lk1nfop9m4wx0fmrg16</td>\n",
       "      <td>5c6eaac3c9db786d83c28c4d673ff556</td>\n",
       "      <td>2017-05-19 08:02:53</td>\n",
       "      <td>19</td>\n",
       "      <td></td>\n",
       "      <td>https://secure.wowcher.co.uk/checkout/3838997?...</td>\n",
       "      <td>NaT</td>\n",
       "      <td>2017-05-19 08:02:51.292</td>\n",
       "      <td>None</td>\n",
       "      <td>None</td>\n",
       "      <td>None</td>\n",
       "      <td>None</td>\n",
       "      <td>None</td>\n",
       "      <td>None</td>\n",
       "      <td>None</td>\n",
       "      <td>2017-05-19 08:02:51</td>\n",
       "      <td>None</td>\n",
       "      <td>None</td>\n",
       "      <td>False</td>\n",
       "      <td>None</td>\n",
       "      <td>True</td>\n",
       "      <td>2017-05-19 08:02:53+00:00</td>\n",
       "      <td>2017-05-19 08:02:53+00:00</td>\n",
       "      <td>1495182843</td>\n",
       "      <td>77.103.157.226</td>\n",
       "      <td>Mozilla/5.0+(iPhone;+CPU+iPhone+OS+10_3_1+like...</td>\n",
       "      <td>None</td>\n",
       "      <td>GB</td>\n",
       "      <td>NaN</td>\n",
       "      <td>3838997</td>\n",
       "      <td>2017-05-19 08:02:53</td>\n",
       "    </tr>\n",
       "    <tr>\n",
       "      <th>1</th>\n",
       "      <td>1</td>\n",
       "      <td>2</td>\n",
       "      <td>w2gunkrgoifz0j4agqb8bz4</td>\n",
       "      <td>5c6eaac3c9db786d83c28c4d673ff556</td>\n",
       "      <td>2017-05-19 13:51:59</td>\n",
       "      <td>19</td>\n",
       "      <td></td>\n",
       "      <td>https://secure.wowcher.co.uk/checkout/3838997?...</td>\n",
       "      <td>NaT</td>\n",
       "      <td>2017-05-19 08:02:51.292</td>\n",
       "      <td>None</td>\n",
       "      <td>None</td>\n",
       "      <td>None</td>\n",
       "      <td>None</td>\n",
       "      <td>None</td>\n",
       "      <td>None</td>\n",
       "      <td>None</td>\n",
       "      <td>2017-05-19 08:02:51</td>\n",
       "      <td>None</td>\n",
       "      <td>None</td>\n",
       "      <td>False</td>\n",
       "      <td>None</td>\n",
       "      <td>True</td>\n",
       "      <td>2017-05-19 13:51:59+00:00</td>\n",
       "      <td>2017-05-19 13:51:59+00:00</td>\n",
       "      <td>1495203782</td>\n",
       "      <td>77.103.157.226</td>\n",
       "      <td>Mozilla/5.0+(iPhone;+CPU+iPhone+OS+10_3_1+like...</td>\n",
       "      <td>None</td>\n",
       "      <td>GB</td>\n",
       "      <td>NaN</td>\n",
       "      <td>3838997</td>\n",
       "      <td>2017-05-19 13:51:59</td>\n",
       "    </tr>\n",
       "    <tr>\n",
       "      <th>2</th>\n",
       "      <td>1</td>\n",
       "      <td>3</td>\n",
       "      <td>14qy38xtlrcnc1lamkqq6fqd84</td>\n",
       "      <td>5c6eaac3c9db786d83c28c4d673ff556</td>\n",
       "      <td>2017-06-02 21:40:06</td>\n",
       "      <td>2</td>\n",
       "      <td></td>\n",
       "      <td>https://www.wowcher.co.uk/deal/shop/4096138/bl...</td>\n",
       "      <td>NaT</td>\n",
       "      <td>2017-06-02 21:40:06.147</td>\n",
       "      <td>None</td>\n",
       "      <td>Thermal Blackout Curtains - 9 Colours &amp; 5 Sizes!</td>\n",
       "      <td>75%</td>\n",
       "      <td>9</td>\n",
       "      <td>03:01:20:04</td>\n",
       "      <td>None</td>\n",
       "      <td>None</td>\n",
       "      <td>2017-06-02 21:40:06</td>\n",
       "      <td>None</td>\n",
       "      <td>9</td>\n",
       "      <td>False</td>\n",
       "      <td>None</td>\n",
       "      <td>False</td>\n",
       "      <td>2017-06-02 21:40:06+00:00</td>\n",
       "      <td>2017-06-02 21:40:06+00:00</td>\n",
       "      <td>1496441524</td>\n",
       "      <td>77.103.157.226</td>\n",
       "      <td>Mozilla/5.0+(iPhone;+CPU+iPhone+OS+10_3_1+like...</td>\n",
       "      <td>None</td>\n",
       "      <td>GB</td>\n",
       "      <td>NaN</td>\n",
       "      <td>4096138</td>\n",
       "      <td>2017-06-02 21:40:06</td>\n",
       "    </tr>\n",
       "    <tr>\n",
       "      <th>3</th>\n",
       "      <td>1</td>\n",
       "      <td>4</td>\n",
       "      <td>1vf4mz1acp57x1p1zlyz5xebe6</td>\n",
       "      <td>5c6eaac3c9db786d83c28c4d673ff556</td>\n",
       "      <td>2017-06-09 14:23:10</td>\n",
       "      <td>9</td>\n",
       "      <td></td>\n",
       "      <td>https://www.wowcher.co.uk/deal/shop/4096138/bl...</td>\n",
       "      <td>NaT</td>\n",
       "      <td>2017-06-09 14:23:10.017</td>\n",
       "      <td>None</td>\n",
       "      <td>Thermal Blackout Curtains - 9 Colours &amp; 5 Sizes!</td>\n",
       "      <td>75%</td>\n",
       "      <td>9</td>\n",
       "      <td>00:08:36:54</td>\n",
       "      <td>None</td>\n",
       "      <td>None</td>\n",
       "      <td>2017-06-09 14:23:10</td>\n",
       "      <td>None</td>\n",
       "      <td>9</td>\n",
       "      <td>False</td>\n",
       "      <td>None</td>\n",
       "      <td>False</td>\n",
       "      <td>2017-06-09 14:23:10+00:00</td>\n",
       "      <td>2017-06-09 14:23:10+00:00</td>\n",
       "      <td>1497020106</td>\n",
       "      <td>77.103.157.226</td>\n",
       "      <td>Mozilla/5.0+(iPhone;+CPU+iPhone+OS+10_3_1+like...</td>\n",
       "      <td>None</td>\n",
       "      <td>GB</td>\n",
       "      <td>NaN</td>\n",
       "      <td>4096138</td>\n",
       "      <td>2017-06-09 14:23:10</td>\n",
       "    </tr>\n",
       "    <tr>\n",
       "      <th>1469181</th>\n",
       "      <td>52433</td>\n",
       "      <td>4</td>\n",
       "      <td>1tz5t8tsg2bdj5c3w6i1r5ufu</td>\n",
       "      <td>3a131efaa20b6a197508313f0eb266c4</td>\n",
       "      <td>2017-06-12 14:28:04</td>\n",
       "      <td>12</td>\n",
       "      <td></td>\n",
       "      <td>https://www.wowcher.co.uk/deal/travel/3997899/...</td>\n",
       "      <td>2017-06-12 14:28:04.531</td>\n",
       "      <td>NaT</td>\n",
       "      <td>None</td>\n",
       "      <td>3-5nt New York Break with Flights</td>\n",
       "      <td>20%</td>\n",
       "      <td>369</td>\n",
       "      <td>08:08:31:55</td>\n",
       "      <td>sue_terryshannon@yahoo.co.uk</td>\n",
       "      <td>None</td>\n",
       "      <td>2017-06-12 14:16:23</td>\n",
       "      <td>1497276973316</td>\n",
       "      <td>369</td>\n",
       "      <td>False</td>\n",
       "      <td>None</td>\n",
       "      <td>False</td>\n",
       "      <td>2017-06-12 14:15:54+00:00</td>\n",
       "      <td>2017-06-12 14:28:26+00:00</td>\n",
       "      <td>1497279605</td>\n",
       "      <td>86.6.191.124</td>\n",
       "      <td>Mozilla/5.0+(iPhone;+CPU+iPhone+OS+10_2_1+like...</td>\n",
       "      <td>Oxford</td>\n",
       "      <td>GB</td>\n",
       "      <td>3997899</td>\n",
       "      <td>NaN</td>\n",
       "      <td>NaT</td>\n",
       "    </tr>\n",
       "    <tr>\n",
       "      <th>1469182</th>\n",
       "      <td>52433</td>\n",
       "      <td>4</td>\n",
       "      <td>1tz5t8tsg2bdj5c3w6i1r5ufu</td>\n",
       "      <td>3a131efaa20b6a197508313f0eb266c4</td>\n",
       "      <td>2017-06-12 14:28:09</td>\n",
       "      <td>12</td>\n",
       "      <td></td>\n",
       "      <td>https://www.wowcher.co.uk/deal/travel/3997899/...</td>\n",
       "      <td>NaT</td>\n",
       "      <td>2017-06-12 14:28:09.550</td>\n",
       "      <td>None</td>\n",
       "      <td>3-5nt New York Break with Flights</td>\n",
       "      <td>20%</td>\n",
       "      <td>369</td>\n",
       "      <td>08:08:31:55</td>\n",
       "      <td>sue_terryshannon@yahoo.co.uk</td>\n",
       "      <td>None</td>\n",
       "      <td>2017-06-12 14:16:23</td>\n",
       "      <td>1497276973316</td>\n",
       "      <td>369</td>\n",
       "      <td>False</td>\n",
       "      <td>None</td>\n",
       "      <td>False</td>\n",
       "      <td>2017-06-12 14:15:54+00:00</td>\n",
       "      <td>2017-06-12 14:28:26+00:00</td>\n",
       "      <td>1497279605</td>\n",
       "      <td>86.6.191.124</td>\n",
       "      <td>Mozilla/5.0+(iPhone;+CPU+iPhone+OS+10_2_1+like...</td>\n",
       "      <td>Oxford</td>\n",
       "      <td>GB</td>\n",
       "      <td>NaN</td>\n",
       "      <td>3997899</td>\n",
       "      <td>NaT</td>\n",
       "    </tr>\n",
       "    <tr>\n",
       "      <th>1469183</th>\n",
       "      <td>52433</td>\n",
       "      <td>4</td>\n",
       "      <td>1tz5t8tsg2bdj5c3w6i1r5ufu</td>\n",
       "      <td>3a131efaa20b6a197508313f0eb266c4</td>\n",
       "      <td>2017-06-12 14:28:09</td>\n",
       "      <td>12</td>\n",
       "      <td></td>\n",
       "      <td>https://www.wowcher.co.uk/deal/travel/3997899/...</td>\n",
       "      <td>NaT</td>\n",
       "      <td>2017-06-12 14:28:09.554</td>\n",
       "      <td>None</td>\n",
       "      <td>3-5nt New York Break with Flights</td>\n",
       "      <td>20%</td>\n",
       "      <td>369</td>\n",
       "      <td>08:08:31:55</td>\n",
       "      <td>sue_terryshannon@yahoo.co.uk</td>\n",
       "      <td>None</td>\n",
       "      <td>2017-06-12 14:16:23</td>\n",
       "      <td>1497276973316</td>\n",
       "      <td>369</td>\n",
       "      <td>False</td>\n",
       "      <td>None</td>\n",
       "      <td>False</td>\n",
       "      <td>2017-06-12 14:15:54+00:00</td>\n",
       "      <td>2017-06-12 14:28:26+00:00</td>\n",
       "      <td>1497279605</td>\n",
       "      <td>86.6.191.124</td>\n",
       "      <td>Mozilla/5.0+(iPhone;+CPU+iPhone+OS+10_2_1+like...</td>\n",
       "      <td>Oxford</td>\n",
       "      <td>GB</td>\n",
       "      <td>NaN</td>\n",
       "      <td>3997899</td>\n",
       "      <td>2017-06-12 14:28:09</td>\n",
       "    </tr>\n",
       "    <tr>\n",
       "      <th>1469184</th>\n",
       "      <td>52433</td>\n",
       "      <td>4</td>\n",
       "      <td>1tz5t8tsg2bdj5c3w6i1r5ufu</td>\n",
       "      <td>3a131efaa20b6a197508313f0eb266c4</td>\n",
       "      <td>2017-06-12 14:28:26</td>\n",
       "      <td>12</td>\n",
       "      <td></td>\n",
       "      <td>https://www.wowcher.co.uk/deals/travel</td>\n",
       "      <td>NaT</td>\n",
       "      <td>NaT</td>\n",
       "      <td>None</td>\n",
       "      <td>3-5nt New York Break with Flights</td>\n",
       "      <td>20%</td>\n",
       "      <td>369</td>\n",
       "      <td>08:08:31:55</td>\n",
       "      <td>sue_terryshannon@yahoo.co.uk</td>\n",
       "      <td>None</td>\n",
       "      <td>2017-06-12 14:16:23</td>\n",
       "      <td>1497276973316</td>\n",
       "      <td>369</td>\n",
       "      <td>False</td>\n",
       "      <td>None</td>\n",
       "      <td>False</td>\n",
       "      <td>2017-06-12 14:15:54+00:00</td>\n",
       "      <td>2017-06-12 14:28:26+00:00</td>\n",
       "      <td>1497279605</td>\n",
       "      <td>86.6.191.124</td>\n",
       "      <td>Mozilla/5.0+(iPhone;+CPU+iPhone+OS+10_2_1+like...</td>\n",
       "      <td>Oxford</td>\n",
       "      <td>GB</td>\n",
       "      <td>NaN</td>\n",
       "      <td>NaN</td>\n",
       "      <td>NaT</td>\n",
       "    </tr>\n",
       "  </tbody>\n",
       "</table>\n",
       "</div>"
      ],
      "text/plain": [
       "            id  num_sess                  session_id  \\\n",
       "0            1         1    k79c9lk1nfop9m4wx0fmrg16   \n",
       "1            1         2     w2gunkrgoifz0j4agqb8bz4   \n",
       "2            1         3  14qy38xtlrcnc1lamkqq6fqd84   \n",
       "3            1         4  1vf4mz1acp57x1p1zlyz5xebe6   \n",
       "1469181  52433         4   1tz5t8tsg2bdj5c3w6i1r5ufu   \n",
       "1469182  52433         4   1tz5t8tsg2bdj5c3w6i1r5ufu   \n",
       "1469183  52433         4   1tz5t8tsg2bdj5c3w6i1r5ufu   \n",
       "1469184  52433         4   1tz5t8tsg2bdj5c3w6i1r5ufu   \n",
       "\n",
       "                             finger_print            datetime  days referrer  \\\n",
       "0        5c6eaac3c9db786d83c28c4d673ff556 2017-05-19 08:02:53    19            \n",
       "1        5c6eaac3c9db786d83c28c4d673ff556 2017-05-19 13:51:59    19            \n",
       "2        5c6eaac3c9db786d83c28c4d673ff556 2017-06-02 21:40:06     2            \n",
       "3        5c6eaac3c9db786d83c28c4d673ff556 2017-06-09 14:23:10     9            \n",
       "1469181  3a131efaa20b6a197508313f0eb266c4 2017-06-12 14:28:04    12            \n",
       "1469182  3a131efaa20b6a197508313f0eb266c4 2017-06-12 14:28:09    12            \n",
       "1469183  3a131efaa20b6a197508313f0eb266c4 2017-06-12 14:28:09    12            \n",
       "1469184  3a131efaa20b6a197508313f0eb266c4 2017-06-12 14:28:26    12            \n",
       "\n",
       "                                                  page_url  \\\n",
       "0        https://secure.wowcher.co.uk/checkout/3838997?...   \n",
       "1        https://secure.wowcher.co.uk/checkout/3838997?...   \n",
       "2        https://www.wowcher.co.uk/deal/shop/4096138/bl...   \n",
       "3        https://www.wowcher.co.uk/deal/shop/4096138/bl...   \n",
       "1469181  https://www.wowcher.co.uk/deal/travel/3997899/...   \n",
       "1469182  https://www.wowcher.co.uk/deal/travel/3997899/...   \n",
       "1469183  https://www.wowcher.co.uk/deal/travel/3997899/...   \n",
       "1469184             https://www.wowcher.co.uk/deals/travel   \n",
       "\n",
       "          product_viewed_browse            cart_started basket_paid_browsing  \\\n",
       "0                           NaT 2017-05-19 08:02:51.292                 None   \n",
       "1                           NaT 2017-05-19 08:02:51.292                 None   \n",
       "2                           NaT 2017-06-02 21:40:06.147                 None   \n",
       "3                           NaT 2017-06-09 14:23:10.017                 None   \n",
       "1469181 2017-06-12 14:28:04.531                     NaT                 None   \n",
       "1469182                     NaT 2017-06-12 14:28:09.550                 None   \n",
       "1469183                     NaT 2017-06-12 14:28:09.554                 None   \n",
       "1469184                     NaT                     NaT                 None   \n",
       "\n",
       "                                             product_name product_save  \\\n",
       "0                                                    None         None   \n",
       "1                                                    None         None   \n",
       "2        Thermal Blackout Curtains - 9 Colours & 5 Sizes!          75%   \n",
       "3        Thermal Blackout Curtains - 9 Colours & 5 Sizes!          75%   \n",
       "1469181                 3-5nt New York Break with Flights          20%   \n",
       "1469182                 3-5nt New York Break with Flights          20%   \n",
       "1469183                 3-5nt New York Break with Flights          20%   \n",
       "1469184                 3-5nt New York Break with Flights          20%   \n",
       "\n",
       "        product_price product_time_left                         email  \\\n",
       "0                None              None                          None   \n",
       "1                None              None                          None   \n",
       "2                   9       03:01:20:04                          None   \n",
       "3                   9       00:08:36:54                          None   \n",
       "1469181           369       08:08:31:55  sue_terryshannon@yahoo.co.uk   \n",
       "1469182           369       08:08:31:55  sue_terryshannon@yahoo.co.uk   \n",
       "1469183           369       08:08:31:55  sue_terryshannon@yahoo.co.uk   \n",
       "1469184           369       08:08:31:55  sue_terryshannon@yahoo.co.uk   \n",
       "\n",
       "        Post_Code       cart_startTime product_viewed_cart total  \\\n",
       "0            None  2017-05-19 08:02:51                None  None   \n",
       "1            None  2017-05-19 08:02:51                None  None   \n",
       "2            None  2017-06-02 21:40:06                None     9   \n",
       "3            None  2017-06-09 14:23:10                None     9   \n",
       "1469181      None  2017-06-12 14:16:23       1497276973316   369   \n",
       "1469182      None  2017-06-12 14:16:23       1497276973316   369   \n",
       "1469183      None  2017-06-12 14:16:23       1497276973316   369   \n",
       "1469184      None  2017-06-12 14:16:23       1497276973316   369   \n",
       "\n",
       "        basket_paid_cart payment_type email_click_through  \\\n",
       "0                  False         None                True   \n",
       "1                  False         None                True   \n",
       "2                  False         None               False   \n",
       "3                  False         None               False   \n",
       "1469181            False         None               False   \n",
       "1469182            False         None               False   \n",
       "1469183            False         None               False   \n",
       "1469184            False         None               False   \n",
       "\n",
       "                   cart_firstTime             cart_lastTime basketInfoTime  \\\n",
       "0       2017-05-19 08:02:53+00:00 2017-05-19 08:02:53+00:00     1495182843   \n",
       "1       2017-05-19 13:51:59+00:00 2017-05-19 13:51:59+00:00     1495203782   \n",
       "2       2017-06-02 21:40:06+00:00 2017-06-02 21:40:06+00:00     1496441524   \n",
       "3       2017-06-09 14:23:10+00:00 2017-06-09 14:23:10+00:00     1497020106   \n",
       "1469181 2017-06-12 14:15:54+00:00 2017-06-12 14:28:26+00:00     1497279605   \n",
       "1469182 2017-06-12 14:15:54+00:00 2017-06-12 14:28:26+00:00     1497279605   \n",
       "1469183 2017-06-12 14:15:54+00:00 2017-06-12 14:28:26+00:00     1497279605   \n",
       "1469184 2017-06-12 14:15:54+00:00 2017-06-12 14:28:26+00:00     1497279605   \n",
       "\n",
       "             ip_address                                         user_agent  \\\n",
       "0        77.103.157.226  Mozilla/5.0+(iPhone;+CPU+iPhone+OS+10_3_1+like...   \n",
       "1        77.103.157.226  Mozilla/5.0+(iPhone;+CPU+iPhone+OS+10_3_1+like...   \n",
       "2        77.103.157.226  Mozilla/5.0+(iPhone;+CPU+iPhone+OS+10_3_1+like...   \n",
       "3        77.103.157.226  Mozilla/5.0+(iPhone;+CPU+iPhone+OS+10_3_1+like...   \n",
       "1469181    86.6.191.124  Mozilla/5.0+(iPhone;+CPU+iPhone+OS+10_2_1+like...   \n",
       "1469182    86.6.191.124  Mozilla/5.0+(iPhone;+CPU+iPhone+OS+10_2_1+like...   \n",
       "1469183    86.6.191.124  Mozilla/5.0+(iPhone;+CPU+iPhone+OS+10_2_1+like...   \n",
       "1469184    86.6.191.124  Mozilla/5.0+(iPhone;+CPU+iPhone+OS+10_2_1+like...   \n",
       "\n",
       "           city country product_id_ProductViewed product_id_CartStarted  \\\n",
       "0          None      GB                      NaN                3838997   \n",
       "1          None      GB                      NaN                3838997   \n",
       "2          None      GB                      NaN                4096138   \n",
       "3          None      GB                      NaN                4096138   \n",
       "1469181  Oxford      GB                  3997899                    NaN   \n",
       "1469182  Oxford      GB                      NaN                3997899   \n",
       "1469183  Oxford      GB                      NaN                3997899   \n",
       "1469184  Oxford      GB                      NaN                    NaN   \n",
       "\n",
       "          last_cart_started  \n",
       "0       2017-05-19 08:02:53  \n",
       "1       2017-05-19 13:51:59  \n",
       "2       2017-06-02 21:40:06  \n",
       "3       2017-06-09 14:23:10  \n",
       "1469181                 NaT  \n",
       "1469182                 NaT  \n",
       "1469183 2017-06-12 14:28:09  \n",
       "1469184                 NaT  "
      ]
     },
     "execution_count": 5,
     "metadata": {},
     "output_type": "execute_result"
    }
   ],
   "source": [
    "num_row=4\n",
    "list=np.concatenate((range(0,num_row),range(-num_row,0)),axis=0)\n",
    "data.iloc[list,:]"
   ]
  },
  {
   "cell_type": "markdown",
   "metadata": {},
   "source": [
    "## Drop IP, City and Country in data\n",
    "**Generate data_base, which reduced duplicated rows for many counting related features**"
   ]
  },
  {
   "cell_type": "code",
   "execution_count": 6,
   "metadata": {
    "collapsed": false
   },
   "outputs": [
    {
     "data": {
      "text/plain": [
       "(1428378, 30)"
      ]
     },
     "execution_count": 6,
     "metadata": {},
     "output_type": "execute_result"
    }
   ],
   "source": [
    "data_base=data.drop(['ip_address','city','country'],axis=1)\n",
    "data_base.drop_duplicates().shape"
   ]
  },
  {
   "cell_type": "code",
   "execution_count": 7,
   "metadata": {
    "collapsed": false
   },
   "outputs": [
    {
     "name": "stdout",
     "output_type": "stream",
     "text": [
      "Pencentage of duplication cause by geolocation:\n",
      " 2.8715259627112735 %\n"
     ]
    }
   ],
   "source": [
    "print('Pencentage of duplication cause by geolocation:\\n',(1469184-1426996)/1469184*100,'%')"
   ]
  },
  {
   "cell_type": "code",
   "execution_count": 8,
   "metadata": {
    "collapsed": false
   },
   "outputs": [
    {
     "data": {
      "text/plain": [
       "Index(['id', 'num_sess', 'session_id', 'finger_print', 'datetime', 'days',\n",
       "       'referrer', 'page_url', 'product_viewed_browse', 'cart_started',\n",
       "       'basket_paid_browsing', 'product_name', 'product_save', 'product_price',\n",
       "       'product_time_left', 'email', 'Post_Code', 'cart_startTime',\n",
       "       'product_viewed_cart', 'total', 'basket_paid_cart', 'payment_type',\n",
       "       'email_click_through', 'cart_firstTime', 'cart_lastTime',\n",
       "       'basketInfoTime', 'user_agent', 'product_id_ProductViewed',\n",
       "       'product_id_CartStarted', 'last_cart_started'],\n",
       "      dtype='object')"
      ]
     },
     "execution_count": 8,
     "metadata": {},
     "output_type": "execute_result"
    }
   ],
   "source": [
    "data_base.columns"
   ]
  },
  {
   "cell_type": "code",
   "execution_count": 9,
   "metadata": {
    "collapsed": false
   },
   "outputs": [
    {
     "name": "stdout",
     "output_type": "stream",
     "text": [
      "(1469185, 30)\n"
     ]
    },
    {
     "data": {
      "text/html": [
       "<div>\n",
       "<table border=\"1\" class=\"dataframe\">\n",
       "  <thead>\n",
       "    <tr style=\"text-align: right;\">\n",
       "      <th></th>\n",
       "      <th>id</th>\n",
       "      <th>num_sess</th>\n",
       "      <th>session_id</th>\n",
       "      <th>finger_print</th>\n",
       "      <th>datetime</th>\n",
       "      <th>days</th>\n",
       "      <th>referrer</th>\n",
       "      <th>page_url</th>\n",
       "      <th>product_viewed_browse</th>\n",
       "      <th>cart_started</th>\n",
       "      <th>basket_paid_browsing</th>\n",
       "      <th>product_name</th>\n",
       "      <th>product_save</th>\n",
       "      <th>product_price</th>\n",
       "      <th>product_time_left</th>\n",
       "      <th>email</th>\n",
       "      <th>Post_Code</th>\n",
       "      <th>cart_startTime</th>\n",
       "      <th>product_viewed_cart</th>\n",
       "      <th>total</th>\n",
       "      <th>basket_paid_cart</th>\n",
       "      <th>payment_type</th>\n",
       "      <th>email_click_through</th>\n",
       "      <th>cart_firstTime</th>\n",
       "      <th>cart_lastTime</th>\n",
       "      <th>basketInfoTime</th>\n",
       "      <th>user_agent</th>\n",
       "      <th>product_id_ProductViewed</th>\n",
       "      <th>product_id_CartStarted</th>\n",
       "      <th>last_cart_started</th>\n",
       "    </tr>\n",
       "  </thead>\n",
       "  <tbody>\n",
       "    <tr>\n",
       "      <th>0</th>\n",
       "      <td>1</td>\n",
       "      <td>1</td>\n",
       "      <td>k79c9lk1nfop9m4wx0fmrg16</td>\n",
       "      <td>5c6eaac3c9db786d83c28c4d673ff556</td>\n",
       "      <td>2017-05-19 08:02:53</td>\n",
       "      <td>19</td>\n",
       "      <td></td>\n",
       "      <td>https://secure.wowcher.co.uk/checkout/3838997?...</td>\n",
       "      <td>NaT</td>\n",
       "      <td>2017-05-19 08:02:51.292</td>\n",
       "      <td>None</td>\n",
       "      <td>None</td>\n",
       "      <td>None</td>\n",
       "      <td>None</td>\n",
       "      <td>None</td>\n",
       "      <td>None</td>\n",
       "      <td>None</td>\n",
       "      <td>2017-05-19 08:02:51</td>\n",
       "      <td>None</td>\n",
       "      <td>None</td>\n",
       "      <td>False</td>\n",
       "      <td>None</td>\n",
       "      <td>True</td>\n",
       "      <td>2017-05-19 08:02:53+00:00</td>\n",
       "      <td>2017-05-19 08:02:53+00:00</td>\n",
       "      <td>1495182843</td>\n",
       "      <td>Mozilla/5.0+(iPhone;+CPU+iPhone+OS+10_3_1+like...</td>\n",
       "      <td>NaN</td>\n",
       "      <td>3838997</td>\n",
       "      <td>2017-05-19 08:02:53</td>\n",
       "    </tr>\n",
       "    <tr>\n",
       "      <th>1</th>\n",
       "      <td>1</td>\n",
       "      <td>2</td>\n",
       "      <td>w2gunkrgoifz0j4agqb8bz4</td>\n",
       "      <td>5c6eaac3c9db786d83c28c4d673ff556</td>\n",
       "      <td>2017-05-19 13:51:59</td>\n",
       "      <td>19</td>\n",
       "      <td></td>\n",
       "      <td>https://secure.wowcher.co.uk/checkout/3838997?...</td>\n",
       "      <td>NaT</td>\n",
       "      <td>2017-05-19 08:02:51.292</td>\n",
       "      <td>None</td>\n",
       "      <td>None</td>\n",
       "      <td>None</td>\n",
       "      <td>None</td>\n",
       "      <td>None</td>\n",
       "      <td>None</td>\n",
       "      <td>None</td>\n",
       "      <td>2017-05-19 08:02:51</td>\n",
       "      <td>None</td>\n",
       "      <td>None</td>\n",
       "      <td>False</td>\n",
       "      <td>None</td>\n",
       "      <td>True</td>\n",
       "      <td>2017-05-19 13:51:59+00:00</td>\n",
       "      <td>2017-05-19 13:51:59+00:00</td>\n",
       "      <td>1495203782</td>\n",
       "      <td>Mozilla/5.0+(iPhone;+CPU+iPhone+OS+10_3_1+like...</td>\n",
       "      <td>NaN</td>\n",
       "      <td>3838997</td>\n",
       "      <td>2017-05-19 13:51:59</td>\n",
       "    </tr>\n",
       "    <tr>\n",
       "      <th>2</th>\n",
       "      <td>1</td>\n",
       "      <td>3</td>\n",
       "      <td>14qy38xtlrcnc1lamkqq6fqd84</td>\n",
       "      <td>5c6eaac3c9db786d83c28c4d673ff556</td>\n",
       "      <td>2017-06-02 21:40:06</td>\n",
       "      <td>2</td>\n",
       "      <td></td>\n",
       "      <td>https://www.wowcher.co.uk/deal/shop/4096138/bl...</td>\n",
       "      <td>NaT</td>\n",
       "      <td>2017-06-02 21:40:06.147</td>\n",
       "      <td>None</td>\n",
       "      <td>Thermal Blackout Curtains - 9 Colours &amp; 5 Sizes!</td>\n",
       "      <td>75%</td>\n",
       "      <td>9</td>\n",
       "      <td>03:01:20:04</td>\n",
       "      <td>None</td>\n",
       "      <td>None</td>\n",
       "      <td>2017-06-02 21:40:06</td>\n",
       "      <td>None</td>\n",
       "      <td>9</td>\n",
       "      <td>False</td>\n",
       "      <td>None</td>\n",
       "      <td>False</td>\n",
       "      <td>2017-06-02 21:40:06+00:00</td>\n",
       "      <td>2017-06-02 21:40:06+00:00</td>\n",
       "      <td>1496441524</td>\n",
       "      <td>Mozilla/5.0+(iPhone;+CPU+iPhone+OS+10_3_1+like...</td>\n",
       "      <td>NaN</td>\n",
       "      <td>4096138</td>\n",
       "      <td>2017-06-02 21:40:06</td>\n",
       "    </tr>\n",
       "  </tbody>\n",
       "</table>\n",
       "</div>"
      ],
      "text/plain": [
       "   id  num_sess                  session_id                      finger_print  \\\n",
       "0   1         1    k79c9lk1nfop9m4wx0fmrg16  5c6eaac3c9db786d83c28c4d673ff556   \n",
       "1   1         2     w2gunkrgoifz0j4agqb8bz4  5c6eaac3c9db786d83c28c4d673ff556   \n",
       "2   1         3  14qy38xtlrcnc1lamkqq6fqd84  5c6eaac3c9db786d83c28c4d673ff556   \n",
       "\n",
       "             datetime  days referrer  \\\n",
       "0 2017-05-19 08:02:53    19            \n",
       "1 2017-05-19 13:51:59    19            \n",
       "2 2017-06-02 21:40:06     2            \n",
       "\n",
       "                                            page_url product_viewed_browse  \\\n",
       "0  https://secure.wowcher.co.uk/checkout/3838997?...                   NaT   \n",
       "1  https://secure.wowcher.co.uk/checkout/3838997?...                   NaT   \n",
       "2  https://www.wowcher.co.uk/deal/shop/4096138/bl...                   NaT   \n",
       "\n",
       "             cart_started basket_paid_browsing  \\\n",
       "0 2017-05-19 08:02:51.292                 None   \n",
       "1 2017-05-19 08:02:51.292                 None   \n",
       "2 2017-06-02 21:40:06.147                 None   \n",
       "\n",
       "                                       product_name product_save  \\\n",
       "0                                              None         None   \n",
       "1                                              None         None   \n",
       "2  Thermal Blackout Curtains - 9 Colours & 5 Sizes!          75%   \n",
       "\n",
       "  product_price product_time_left email Post_Code       cart_startTime  \\\n",
       "0          None              None  None      None  2017-05-19 08:02:51   \n",
       "1          None              None  None      None  2017-05-19 08:02:51   \n",
       "2             9       03:01:20:04  None      None  2017-06-02 21:40:06   \n",
       "\n",
       "  product_viewed_cart total basket_paid_cart payment_type email_click_through  \\\n",
       "0                None  None            False         None                True   \n",
       "1                None  None            False         None                True   \n",
       "2                None     9            False         None               False   \n",
       "\n",
       "             cart_firstTime             cart_lastTime basketInfoTime  \\\n",
       "0 2017-05-19 08:02:53+00:00 2017-05-19 08:02:53+00:00     1495182843   \n",
       "1 2017-05-19 13:51:59+00:00 2017-05-19 13:51:59+00:00     1495203782   \n",
       "2 2017-06-02 21:40:06+00:00 2017-06-02 21:40:06+00:00     1496441524   \n",
       "\n",
       "                                          user_agent product_id_ProductViewed  \\\n",
       "0  Mozilla/5.0+(iPhone;+CPU+iPhone+OS+10_3_1+like...                      NaN   \n",
       "1  Mozilla/5.0+(iPhone;+CPU+iPhone+OS+10_3_1+like...                      NaN   \n",
       "2  Mozilla/5.0+(iPhone;+CPU+iPhone+OS+10_3_1+like...                      NaN   \n",
       "\n",
       "  product_id_CartStarted   last_cart_started  \n",
       "0                3838997 2017-05-19 08:02:53  \n",
       "1                3838997 2017-05-19 13:51:59  \n",
       "2                4096138 2017-06-02 21:40:06  "
      ]
     },
     "execution_count": 9,
     "metadata": {},
     "output_type": "execute_result"
    }
   ],
   "source": [
    "print(data_base.shape)\n",
    "data_base[:3]"
   ]
  },
  {
   "cell_type": "markdown",
   "metadata": {},
   "source": [
    "**Save data_base**"
   ]
  },
  {
   "cell_type": "code",
   "execution_count": 12,
   "metadata": {
    "collapsed": false
   },
   "outputs": [
    {
     "name": "stdout",
     "output_type": "stream",
     "text": [
      "CPU times: user 10.1 s, sys: 3.05 s, total: 13.2 s\n",
      "Wall time: 13.1 s\n"
     ]
    }
   ],
   "source": [
    "%%time\n",
    "with open( \"../Data/Feature_Engineering/data_base.p\", \"wb\" ) as f:\n",
    "    pickle.dump(data_base, f)"
   ]
  },
  {
   "cell_type": "markdown",
   "metadata": {},
   "source": [
    "---\n",
    "## Load data_base"
   ]
  },
  {
   "cell_type": "code",
   "execution_count": 4,
   "metadata": {
    "collapsed": false
   },
   "outputs": [
    {
     "name": "stdout",
     "output_type": "stream",
     "text": [
      "CPU times: user 3.57 s, sys: 1.61 s, total: 5.18 s\n",
      "Wall time: 12.4 s\n"
     ]
    }
   ],
   "source": [
    "%%time\n",
    "with open( \"../Data/Feature_Engineering/data_base.p\", \"rb\" )  as f:\n",
    "    data_base=pickle.load(f)"
   ]
  },
  {
   "cell_type": "markdown",
   "metadata": {},
   "source": [
    "## 1. Time Features\n",
    "---\n",
    "### 1.1 Session Dwell time\n",
    "for one product name / session is fine. what if there's only several product name? is this for session or for "
   ]
  },
  {
   "cell_type": "markdown",
   "metadata": {},
   "source": [
    "**Get dwell_time**"
   ]
  },
  {
   "cell_type": "code",
   "execution_count": 7,
   "metadata": {
    "collapsed": false
   },
   "outputs": [
    {
     "name": "stdout",
     "output_type": "stream",
     "text": [
      "CPU times: user 4.02 s, sys: 443 ms, total: 4.46 s\n",
      "Wall time: 4.46 s\n"
     ]
    }
   ],
   "source": [
    "%%time\n",
    "# here I use .first is fine as I only care about datatime and cart_lastTime\n",
    "df_sess=data_base.groupby(['id','num_sess']).first()\n",
    "\n",
    "# cart_lastTime is same during a session\n",
    "# date_time is sorted\n",
    "last_browsing_time=pd.to_datetime(df_sess.cart_lastTime.values)\n",
    "first_browsing_time=pd.to_datetime(df_sess.datetime.values)\n",
    "df_sess['dwell_time']=last_browsing_time-first_browsing_time"
   ]
  },
  {
   "cell_type": "code",
   "execution_count": 8,
   "metadata": {
    "collapsed": false
   },
   "outputs": [
    {
     "name": "stdout",
     "output_type": "stream",
     "text": [
      "(220047, 29)\n"
     ]
    },
    {
     "data": {
      "text/html": [
       "<div>\n",
       "<table border=\"1\" class=\"dataframe\">\n",
       "  <thead>\n",
       "    <tr style=\"text-align: right;\">\n",
       "      <th></th>\n",
       "      <th></th>\n",
       "      <th>session_id</th>\n",
       "      <th>finger_print</th>\n",
       "      <th>datetime</th>\n",
       "      <th>days</th>\n",
       "      <th>referrer</th>\n",
       "      <th>page_url</th>\n",
       "      <th>product_viewed_browse</th>\n",
       "      <th>cart_started</th>\n",
       "      <th>basket_paid_browsing</th>\n",
       "      <th>product_name</th>\n",
       "      <th>product_save</th>\n",
       "      <th>product_price</th>\n",
       "      <th>product_time_left</th>\n",
       "      <th>email</th>\n",
       "      <th>Post_Code</th>\n",
       "      <th>cart_startTime</th>\n",
       "      <th>product_viewed_cart</th>\n",
       "      <th>total</th>\n",
       "      <th>basket_paid_cart</th>\n",
       "      <th>payment_type</th>\n",
       "      <th>email_click_through</th>\n",
       "      <th>cart_firstTime</th>\n",
       "      <th>cart_lastTime</th>\n",
       "      <th>basketInfoTime</th>\n",
       "      <th>user_agent</th>\n",
       "      <th>product_id_ProductViewed</th>\n",
       "      <th>product_id_CartStarted</th>\n",
       "      <th>last_cart_started</th>\n",
       "      <th>dwell_time</th>\n",
       "    </tr>\n",
       "    <tr>\n",
       "      <th>id</th>\n",
       "      <th>num_sess</th>\n",
       "      <th></th>\n",
       "      <th></th>\n",
       "      <th></th>\n",
       "      <th></th>\n",
       "      <th></th>\n",
       "      <th></th>\n",
       "      <th></th>\n",
       "      <th></th>\n",
       "      <th></th>\n",
       "      <th></th>\n",
       "      <th></th>\n",
       "      <th></th>\n",
       "      <th></th>\n",
       "      <th></th>\n",
       "      <th></th>\n",
       "      <th></th>\n",
       "      <th></th>\n",
       "      <th></th>\n",
       "      <th></th>\n",
       "      <th></th>\n",
       "      <th></th>\n",
       "      <th></th>\n",
       "      <th></th>\n",
       "      <th></th>\n",
       "      <th></th>\n",
       "      <th></th>\n",
       "      <th></th>\n",
       "      <th></th>\n",
       "      <th></th>\n",
       "    </tr>\n",
       "  </thead>\n",
       "  <tbody>\n",
       "    <tr>\n",
       "      <th rowspan=\"4\" valign=\"top\">2</th>\n",
       "      <th>1</th>\n",
       "      <td>qvsw8ty43cbb15tu52ujywjs3</td>\n",
       "      <td>e5f3ca057208f51a2cacae58ff95d757</td>\n",
       "      <td>2017-05-26 13:25:27</td>\n",
       "      <td>26</td>\n",
       "      <td></td>\n",
       "      <td>https://www.wowcher.co.uk/email-deals/travel/4...</td>\n",
       "      <td>2017-05-26 13:25:20.268000000</td>\n",
       "      <td>2017-05-26 13:25:20.891000064</td>\n",
       "      <td>None</td>\n",
       "      <td>3 5 or 7nt Algarve Break &amp; Flights</td>\n",
       "      <td>26%</td>\n",
       "      <td>69</td>\n",
       "      <td>06:09:34:40</td>\n",
       "      <td>None</td>\n",
       "      <td>None</td>\n",
       "      <td>2017-05-26 13:25:20</td>\n",
       "      <td>None</td>\n",
       "      <td>69</td>\n",
       "      <td>False</td>\n",
       "      <td>None</td>\n",
       "      <td>False</td>\n",
       "      <td>2017-05-26 13:25:27+00:00</td>\n",
       "      <td>2017-05-26 13:25:27+00:00</td>\n",
       "      <td>1495807024</td>\n",
       "      <td>Mozilla/5.0+(Windows+NT+6.0;+WOW64)+AppleWebKi...</td>\n",
       "      <td>4009686</td>\n",
       "      <td>4009686</td>\n",
       "      <td>2017-05-26 13:25:27</td>\n",
       "      <td>00:00:00</td>\n",
       "    </tr>\n",
       "    <tr>\n",
       "      <th>2</th>\n",
       "      <td>xe1kopsb1o573zhid3i51eds</td>\n",
       "      <td>e5f3ca057208f51a2cacae58ff95d757</td>\n",
       "      <td>2017-06-09 13:20:22</td>\n",
       "      <td>9</td>\n",
       "      <td></td>\n",
       "      <td>https://www.wowcher.co.uk/email-deals/travel/4...</td>\n",
       "      <td>2017-06-09 13:20:30.129999872</td>\n",
       "      <td>2017-06-09 13:20:30.748999936</td>\n",
       "      <td>None</td>\n",
       "      <td>7nt 4* All-Inclusive Croatia &amp; Flights - Summe...</td>\n",
       "      <td>27%</td>\n",
       "      <td>229</td>\n",
       "      <td>04:09:39:29</td>\n",
       "      <td>None</td>\n",
       "      <td>None</td>\n",
       "      <td>2017-06-09 13:20:30</td>\n",
       "      <td>None</td>\n",
       "      <td>229</td>\n",
       "      <td>False</td>\n",
       "      <td>None</td>\n",
       "      <td>False</td>\n",
       "      <td>2017-06-09 13:20:23+00:00</td>\n",
       "      <td>2017-06-09 13:20:23+00:00</td>\n",
       "      <td>1497016328</td>\n",
       "      <td>Mozilla/5.0+(Windows+NT+6.0;+WOW64)+AppleWebKi...</td>\n",
       "      <td>4085525</td>\n",
       "      <td>4085525</td>\n",
       "      <td>2017-06-09 13:20:23</td>\n",
       "      <td>00:00:01</td>\n",
       "    </tr>\n",
       "    <tr>\n",
       "      <th>3</th>\n",
       "      <td>184grb3zg9udt1scfxr2697n5b</td>\n",
       "      <td>e5f3ca057208f51a2cacae58ff95d757</td>\n",
       "      <td>2017-06-12 08:32:26</td>\n",
       "      <td>12</td>\n",
       "      <td></td>\n",
       "      <td>https://www.wowcher.co.uk/deal/shop/4212459/mo...</td>\n",
       "      <td>2017-06-12 08:32:43.032999936</td>\n",
       "      <td>2017-06-12 08:32:44.376999936</td>\n",
       "      <td>None</td>\n",
       "      <td>Modern Shaggy Rug - 10 Colours &amp; 6 Sizes!</td>\n",
       "      <td>64%</td>\n",
       "      <td>9</td>\n",
       "      <td>03:14:27:15</td>\n",
       "      <td>None</td>\n",
       "      <td>None</td>\n",
       "      <td>2017-06-12 08:32:44</td>\n",
       "      <td>None</td>\n",
       "      <td>9</td>\n",
       "      <td>False</td>\n",
       "      <td>None</td>\n",
       "      <td>False</td>\n",
       "      <td>2017-06-12 08:32:26+00:00</td>\n",
       "      <td>2017-06-12 08:32:26+00:00</td>\n",
       "      <td>1497258247</td>\n",
       "      <td>Mozilla/5.0+(Windows+NT+6.0;+WOW64)+AppleWebKi...</td>\n",
       "      <td>4212459</td>\n",
       "      <td>4212459</td>\n",
       "      <td>2017-06-12 08:32:26</td>\n",
       "      <td>00:00:00</td>\n",
       "    </tr>\n",
       "    <tr>\n",
       "      <th>4</th>\n",
       "      <td>11expdzyaf01l4rt3b953me14</td>\n",
       "      <td>e5f3ca057208f51a2cacae58ff95d757</td>\n",
       "      <td>2017-06-14 13:50:01</td>\n",
       "      <td>14</td>\n",
       "      <td></td>\n",
       "      <td>https://www.wowcher.co.uk/email-deals/travel/4...</td>\n",
       "      <td>2017-06-14 13:49:41.153999872</td>\n",
       "      <td>2017-06-14 13:49:41.772000000</td>\n",
       "      <td>None</td>\n",
       "      <td>7nt All-Inclusive Mallorca Holiday &amp; Flights</td>\n",
       "      <td>35%</td>\n",
       "      <td>259</td>\n",
       "      <td>06:09:09:13</td>\n",
       "      <td>None</td>\n",
       "      <td>None</td>\n",
       "      <td>2017-06-14 13:49:41</td>\n",
       "      <td>1497448247032</td>\n",
       "      <td>259</td>\n",
       "      <td>False</td>\n",
       "      <td>None</td>\n",
       "      <td>False</td>\n",
       "      <td>2017-06-14 13:50:02+00:00</td>\n",
       "      <td>2017-06-14 13:51:09+00:00</td>\n",
       "      <td>1497450182</td>\n",
       "      <td>Mozilla/5.0+(Windows+NT+6.0;+WOW64)+AppleWebKi...</td>\n",
       "      <td>4247216</td>\n",
       "      <td>4247216</td>\n",
       "      <td>2017-06-14 13:51:09</td>\n",
       "      <td>00:01:08</td>\n",
       "    </tr>\n",
       "  </tbody>\n",
       "</table>\n",
       "</div>"
      ],
      "text/plain": [
       "                             session_id                      finger_print  \\\n",
       "id num_sess                                                                 \n",
       "2  1          qvsw8ty43cbb15tu52ujywjs3  e5f3ca057208f51a2cacae58ff95d757   \n",
       "   2           xe1kopsb1o573zhid3i51eds  e5f3ca057208f51a2cacae58ff95d757   \n",
       "   3         184grb3zg9udt1scfxr2697n5b  e5f3ca057208f51a2cacae58ff95d757   \n",
       "   4          11expdzyaf01l4rt3b953me14  e5f3ca057208f51a2cacae58ff95d757   \n",
       "\n",
       "                       datetime  days referrer  \\\n",
       "id num_sess                                      \n",
       "2  1        2017-05-26 13:25:27    26            \n",
       "   2        2017-06-09 13:20:22     9            \n",
       "   3        2017-06-12 08:32:26    12            \n",
       "   4        2017-06-14 13:50:01    14            \n",
       "\n",
       "                                                      page_url  \\\n",
       "id num_sess                                                      \n",
       "2  1         https://www.wowcher.co.uk/email-deals/travel/4...   \n",
       "   2         https://www.wowcher.co.uk/email-deals/travel/4...   \n",
       "   3         https://www.wowcher.co.uk/deal/shop/4212459/mo...   \n",
       "   4         https://www.wowcher.co.uk/email-deals/travel/4...   \n",
       "\n",
       "                    product_viewed_browse                  cart_started  \\\n",
       "id num_sess                                                               \n",
       "2  1        2017-05-26 13:25:20.268000000 2017-05-26 13:25:20.891000064   \n",
       "   2        2017-06-09 13:20:30.129999872 2017-06-09 13:20:30.748999936   \n",
       "   3        2017-06-12 08:32:43.032999936 2017-06-12 08:32:44.376999936   \n",
       "   4        2017-06-14 13:49:41.153999872 2017-06-14 13:49:41.772000000   \n",
       "\n",
       "            basket_paid_browsing  \\\n",
       "id num_sess                        \n",
       "2  1                        None   \n",
       "   2                        None   \n",
       "   3                        None   \n",
       "   4                        None   \n",
       "\n",
       "                                                  product_name product_save  \\\n",
       "id num_sess                                                                   \n",
       "2  1                        3 5 or 7nt Algarve Break & Flights          26%   \n",
       "   2         7nt 4* All-Inclusive Croatia & Flights - Summe...          27%   \n",
       "   3                 Modern Shaggy Rug - 10 Colours & 6 Sizes!          64%   \n",
       "   4              7nt All-Inclusive Mallorca Holiday & Flights          35%   \n",
       "\n",
       "            product_price product_time_left email Post_Code  \\\n",
       "id num_sess                                                   \n",
       "2  1                   69       06:09:34:40  None      None   \n",
       "   2                  229       04:09:39:29  None      None   \n",
       "   3                    9       03:14:27:15  None      None   \n",
       "   4                  259       06:09:09:13  None      None   \n",
       "\n",
       "                  cart_startTime product_viewed_cart total basket_paid_cart  \\\n",
       "id num_sess                                                                   \n",
       "2  1         2017-05-26 13:25:20                None    69            False   \n",
       "   2         2017-06-09 13:20:30                None   229            False   \n",
       "   3         2017-06-12 08:32:44                None     9            False   \n",
       "   4         2017-06-14 13:49:41       1497448247032   259            False   \n",
       "\n",
       "            payment_type email_click_through            cart_firstTime  \\\n",
       "id num_sess                                                              \n",
       "2  1                None               False 2017-05-26 13:25:27+00:00   \n",
       "   2                None               False 2017-06-09 13:20:23+00:00   \n",
       "   3                None               False 2017-06-12 08:32:26+00:00   \n",
       "   4                None               False 2017-06-14 13:50:02+00:00   \n",
       "\n",
       "                        cart_lastTime basketInfoTime  \\\n",
       "id num_sess                                            \n",
       "2  1        2017-05-26 13:25:27+00:00     1495807024   \n",
       "   2        2017-06-09 13:20:23+00:00     1497016328   \n",
       "   3        2017-06-12 08:32:26+00:00     1497258247   \n",
       "   4        2017-06-14 13:51:09+00:00     1497450182   \n",
       "\n",
       "                                                    user_agent  \\\n",
       "id num_sess                                                      \n",
       "2  1         Mozilla/5.0+(Windows+NT+6.0;+WOW64)+AppleWebKi...   \n",
       "   2         Mozilla/5.0+(Windows+NT+6.0;+WOW64)+AppleWebKi...   \n",
       "   3         Mozilla/5.0+(Windows+NT+6.0;+WOW64)+AppleWebKi...   \n",
       "   4         Mozilla/5.0+(Windows+NT+6.0;+WOW64)+AppleWebKi...   \n",
       "\n",
       "            product_id_ProductViewed product_id_CartStarted  \\\n",
       "id num_sess                                                   \n",
       "2  1                         4009686                4009686   \n",
       "   2                         4085525                4085525   \n",
       "   3                         4212459                4212459   \n",
       "   4                         4247216                4247216   \n",
       "\n",
       "              last_cart_started  dwell_time  \n",
       "id num_sess                                  \n",
       "2  1        2017-05-26 13:25:27    00:00:00  \n",
       "   2        2017-06-09 13:20:23    00:00:01  \n",
       "   3        2017-06-12 08:32:26    00:00:00  \n",
       "   4        2017-06-14 13:51:09    00:01:08  "
      ]
     },
     "execution_count": 8,
     "metadata": {},
     "output_type": "execute_result"
    }
   ],
   "source": [
    "print(df_sess.shape)\n",
    "df_sess.loc[[2]]"
   ]
  },
  {
   "cell_type": "code",
   "execution_count": 9,
   "metadata": {
    "collapsed": false
   },
   "outputs": [
    {
     "name": "stdout",
     "output_type": "stream",
     "text": [
      "(220047,)\n"
     ]
    },
    {
     "data": {
      "text/plain": [
       "id  num_sess\n",
       "1   1          00:00:00\n",
       "    2          00:00:00\n",
       "    3          00:00:00\n",
       "    4          00:00:00\n",
       "2   1          00:00:00\n",
       "    2          00:00:01\n",
       "    3          00:00:00\n",
       "    4          00:01:08\n",
       "3   1          00:01:22\n",
       "    2          00:05:56\n",
       "    3          00:00:05\n",
       "Name: dwell_time, dtype: timedelta64[ns]"
      ]
     },
     "execution_count": 9,
     "metadata": {},
     "output_type": "execute_result"
    }
   ],
   "source": [
    "df_DwellTime=df_sess['dwell_time']\n",
    "print(df_DwellTime.shape)\n",
    "df_DwellTime.loc[[1,2,3]]"
   ]
  },
  {
   "cell_type": "markdown",
   "metadata": {},
   "source": [
    "**Concert to seconds**"
   ]
  },
  {
   "cell_type": "code",
   "execution_count": 10,
   "metadata": {
    "collapsed": false
   },
   "outputs": [],
   "source": [
    "df_DwellTime=df_DwellTime.apply(lambda x: x.total_seconds() if not pd.isnull(x) else 0)"
   ]
  },
  {
   "cell_type": "code",
   "execution_count": 11,
   "metadata": {
    "collapsed": false
   },
   "outputs": [
    {
     "data": {
      "text/plain": [
       "id  num_sess\n",
       "1   1             0.0\n",
       "    2             0.0\n",
       "    3             0.0\n",
       "    4             0.0\n",
       "2   1             0.0\n",
       "    2             1.0\n",
       "    3             0.0\n",
       "    4            68.0\n",
       "3   1            82.0\n",
       "    2           356.0\n",
       "    3             5.0\n",
       "Name: dwell_time, dtype: float64"
      ]
     },
     "execution_count": 11,
     "metadata": {},
     "output_type": "execute_result"
    }
   ],
   "source": [
    "df_DwellTime.loc[[1,2,3]]"
   ]
  },
  {
   "cell_type": "markdown",
   "metadata": {},
   "source": [
    "**Plot dwell time**"
   ]
  },
  {
   "cell_type": "code",
   "execution_count": 12,
   "metadata": {
    "collapsed": false
   },
   "outputs": [
    {
     "data": {
      "text/plain": [
       "pandas.core.series.Series"
      ]
     },
     "execution_count": 12,
     "metadata": {},
     "output_type": "execute_result"
    }
   ],
   "source": [
    "type(df_DwellTime)"
   ]
  },
  {
   "cell_type": "code",
   "execution_count": 33,
   "metadata": {
    "collapsed": false
   },
   "outputs": [
    {
     "data": {
      "text/plain": [
       "<matplotlib.axes._subplots.AxesSubplot at 0x7f43c61c24a8>"
      ]
     },
     "execution_count": 33,
     "metadata": {},
     "output_type": "execute_result"
    },
    {
     "name": "stderr",
     "output_type": "stream",
     "text": [
      "/usr/local/lib/python3.5/dist-packages/matplotlib/figure.py:1742: UserWarning: This figure includes Axes that are not compatible with tight_layout, so its results might be incorrect.\n",
      "  warnings.warn(\"This figure includes Axes that are not \"\n"
     ]
    },
    {
     "data": {
      "image/png": "[encoded data removed]",
      "text/plain": [
       "<matplotlib.figure.Figure at 0x7f43c61d8710>"
      ]
     },
     "metadata": {},
     "output_type": "display_data"
    }
   ],
   "source": []
  },
  {
   "cell_type": "code",
   "execution_count": 30,
   "metadata": {
    "collapsed": false
   },
   "outputs": [
    {
     "data": {
      "image/png": "[encoded data removed]",
      "text/plain": [
       "<matplotlib.figure.Figure at 0x7f47a239ec88>"
      ]
     },
     "metadata": {},
     "output_type": "display_data"
    }
   ],
   "source": [
    "plt.plot(df_DwellTime.tolist())\n",
    "plt.ylabel('Dwell time')\n",
    "plt.show()"
   ]
  },
  {
   "cell_type": "code",
   "execution_count": 20,
   "metadata": {
    "collapsed": false
   },
   "outputs": [
    {
     "data": {
      "text/plain": [
       "<matplotlib.axes._subplots.AxesSubplot at 0x7f43c9079da0>"
      ]
     },
     "execution_count": 20,
     "metadata": {},
     "output_type": "execute_result"
    },
    {
     "data": {
      "image/png": "[encoded data removed]",
      "text/plain": [
       "<matplotlib.figure.Figure at 0x7f43c9071908>"
      ]
     },
     "metadata": {},
     "output_type": "display_data"
    }
   ],
   "source": [
    "plt.subplots()\n",
    "df_DwellTime.hist(bins=100,range=(-100,1000))"
   ]
  },
  {
   "cell_type": "code",
   "execution_count": 29,
   "metadata": {
    "collapsed": false
   },
   "outputs": [
    {
     "data": {
      "text/plain": [
       "209.9402627620463"
      ]
     },
     "execution_count": 29,
     "metadata": {},
     "output_type": "execute_result"
    }
   ],
   "source": [
    "np.mean(df_DwellTime.tolist())"
   ]
  },
  {
   "cell_type": "markdown",
   "metadata": {},
   "source": [
    "- **save df_DwellTime**"
   ]
  },
  {
   "cell_type": "code",
   "execution_count": 18,
   "metadata": {
    "collapsed": false
   },
   "outputs": [
    {
     "name": "stdout",
     "output_type": "stream",
     "text": [
      "CPU times: user 4 ms, sys: 3 ms, total: 7 ms\n",
      "Wall time: 7.17 ms\n"
     ]
    }
   ],
   "source": [
    "%%time\n",
    "with open( \"../Data/Feature_Engineering/df_DwellTime.p\", \"wb\" ) as f:\n",
    "    pickle.dump(df_DwellTime, f)"
   ]
  },
  {
   "cell_type": "markdown",
   "metadata": {},
   "source": [
    "**Example of concatenate features:**"
   ]
  },
  {
   "cell_type": "code",
   "execution_count": 21,
   "metadata": {
    "collapsed": false
   },
   "outputs": [],
   "source": [
    "# df_feature=pd.concat([df_DwellTime, df_productID], axis=1)"
   ]
  },
  {
   "cell_type": "code",
   "execution_count": null,
   "metadata": {
    "collapsed": false
   },
   "outputs": [],
   "source": [
    "# df_feature[:3]"
   ]
  },
  {
   "cell_type": "markdown",
   "metadata": {
    "collapsed": true
   },
   "source": [
    "---\n",
    "### 1.2 Weekday\n",
    "all these weekdays, month, days, etc are session start time"
   ]
  },
  {
   "cell_type": "code",
   "execution_count": 22,
   "metadata": {
    "collapsed": false
   },
   "outputs": [
    {
     "data": {
      "text/plain": [
       "Timestamp('2017-05-19 08:02:53')"
      ]
     },
     "execution_count": 22,
     "metadata": {},
     "output_type": "execute_result"
    }
   ],
   "source": [
    "df_sess=data_base.groupby(['id','num_sess']).first()\n",
    "df_sess.datetime[0]"
   ]
  },
  {
   "cell_type": "code",
   "execution_count": 23,
   "metadata": {
    "collapsed": false
   },
   "outputs": [],
   "source": [
    "# Monday is 0, Sunday is 6\n",
    "df_sess['weekday'] = df_sess.datetime.apply(lambda x: x.dayofweek).values"
   ]
  },
  {
   "cell_type": "code",
   "execution_count": 24,
   "metadata": {
    "collapsed": false
   },
   "outputs": [],
   "source": [
    "df_WeekDay=df_sess['weekday'].copy()"
   ]
  },
  {
   "cell_type": "code",
   "execution_count": 25,
   "metadata": {
    "collapsed": false
   },
   "outputs": [
    {
     "name": "stdout",
     "output_type": "stream",
     "text": [
      "(220047,)\n"
     ]
    },
    {
     "data": {
      "text/plain": [
       "id     num_sess\n",
       "1      1           4\n",
       "       2           4\n",
       "       3           4\n",
       "       4           4\n",
       "52433  1           2\n",
       "       2           0\n",
       "       3           0\n",
       "       4           0\n",
       "Name: weekday, dtype: int64"
      ]
     },
     "execution_count": 25,
     "metadata": {},
     "output_type": "execute_result"
    }
   ],
   "source": [
    "num_row=4\n",
    "list=np.concatenate((range(0,num_row),range(-num_row,0)),axis=0)\n",
    "print(df_WeekDay.shape)\n",
    "df_WeekDay.iloc[list]"
   ]
  },
  {
   "cell_type": "markdown",
   "metadata": {},
   "source": [
    "**Save df_WeekDay:**"
   ]
  },
  {
   "cell_type": "code",
   "execution_count": 26,
   "metadata": {
    "collapsed": false
   },
   "outputs": [
    {
     "name": "stdout",
     "output_type": "stream",
     "text": [
      "CPU times: user 3 ms, sys: 5 ms, total: 8 ms\n",
      "Wall time: 7.12 ms\n"
     ]
    }
   ],
   "source": [
    "%%time\n",
    "with open( \"../Data/Feature_Engineering/df_WeekDay.p\", \"wb\" ) as f:\n",
    "    pickle.dump(df_WeekDay, f )"
   ]
  },
  {
   "cell_type": "markdown",
   "metadata": {
    "collapsed": true
   },
   "source": [
    "---\n",
    "### 1.3 Month"
   ]
  },
  {
   "cell_type": "code",
   "execution_count": 27,
   "metadata": {
    "collapsed": false
   },
   "outputs": [
    {
     "data": {
      "text/plain": [
       "Timestamp('2017-05-19 08:02:53')"
      ]
     },
     "execution_count": 27,
     "metadata": {},
     "output_type": "execute_result"
    }
   ],
   "source": [
    "df_sess=data_base.groupby(['id','num_sess']).first()\n",
    "df_sess.datetime[0]"
   ]
  },
  {
   "cell_type": "code",
   "execution_count": 28,
   "metadata": {
    "collapsed": true
   },
   "outputs": [],
   "source": [
    "df_sess['month'] = df_sess.datetime.apply(lambda x: x.month).values"
   ]
  },
  {
   "cell_type": "code",
   "execution_count": 29,
   "metadata": {
    "collapsed": true
   },
   "outputs": [],
   "source": [
    "df_month=df_sess['month'].copy()"
   ]
  },
  {
   "cell_type": "code",
   "execution_count": 30,
   "metadata": {
    "collapsed": false
   },
   "outputs": [
    {
     "name": "stdout",
     "output_type": "stream",
     "text": [
      "(220047,)\n"
     ]
    },
    {
     "data": {
      "text/plain": [
       "id     num_sess\n",
       "1      1           5\n",
       "       2           5\n",
       "       3           6\n",
       "       4           6\n",
       "52433  1           5\n",
       "       2           6\n",
       "       3           6\n",
       "       4           6\n",
       "Name: month, dtype: int64"
      ]
     },
     "execution_count": 30,
     "metadata": {},
     "output_type": "execute_result"
    }
   ],
   "source": [
    "num_row=4\n",
    "list=np.concatenate((range(0,num_row),range(-num_row,0)),axis=0)\n",
    "print(df_month.shape)\n",
    "df_month.iloc[list]"
   ]
  },
  {
   "cell_type": "markdown",
   "metadata": {},
   "source": [
    "**Save df_month:**"
   ]
  },
  {
   "cell_type": "code",
   "execution_count": 31,
   "metadata": {
    "collapsed": false
   },
   "outputs": [
    {
     "name": "stdout",
     "output_type": "stream",
     "text": [
      "CPU times: user 3 ms, sys: 3 ms, total: 6 ms\n",
      "Wall time: 5.49 ms\n"
     ]
    }
   ],
   "source": [
    "%%time\n",
    "with open( \"../Data/Feature_Engineering/df_month.p\", \"wb\" ) as f:\n",
    "    pickle.dump(df_month, f )"
   ]
  },
  {
   "cell_type": "markdown",
   "metadata": {},
   "source": [
    "---\n",
    "### 1.4 Time of Day (TBD)\n",
    "**Session start time.**"
   ]
  },
  {
   "cell_type": "code",
   "execution_count": 32,
   "metadata": {
    "collapsed": false
   },
   "outputs": [
    {
     "data": {
      "text/plain": [
       "array(['2017-05-19T08:02:53.000000000', '2017-05-19T13:51:59.000000000',\n",
       "       '2017-06-02T21:40:06.000000000', ...,\n",
       "       '2017-06-12T14:03:52.000000000', '2017-06-12T14:03:52.000000000',\n",
       "       '2017-06-12T14:15:41.000000000'], dtype='datetime64[ns]')"
      ]
     },
     "execution_count": 32,
     "metadata": {},
     "output_type": "execute_result"
    }
   ],
   "source": [
    "df_sess=data_base.groupby(['id','num_sess']).first()\n",
    "df_sess.datetime.values"
   ]
  },
  {
   "cell_type": "markdown",
   "metadata": {},
   "source": [
    "**transform the data to timestamp form**"
   ]
  },
  {
   "cell_type": "code",
   "execution_count": 33,
   "metadata": {
    "collapsed": false
   },
   "outputs": [
    {
     "data": {
      "text/plain": [
       "Timestamp('2017-05-19 08:02:53')"
      ]
     },
     "execution_count": 33,
     "metadata": {},
     "output_type": "execute_result"
    }
   ],
   "source": [
    "a=pd.to_datetime(df_sess[:1].datetime.values)\n",
    "a[0]"
   ]
  },
  {
   "cell_type": "code",
   "execution_count": 34,
   "metadata": {
    "collapsed": false
   },
   "outputs": [
    {
     "data": {
      "text/plain": [
       "datetime.time(8, 2, 53)"
      ]
     },
     "execution_count": 34,
     "metadata": {},
     "output_type": "execute_result"
    }
   ],
   "source": [
    "a[0].time()"
   ]
  },
  {
   "cell_type": "code",
   "execution_count": 35,
   "metadata": {
    "collapsed": true
   },
   "outputs": [],
   "source": [
    "tmp=df_sess.datetime.apply(lambda x: pd.to_datetime(x).time()).values\n",
    "df_sess['time_of_day']=tmp # this is an array"
   ]
  },
  {
   "cell_type": "code",
   "execution_count": 36,
   "metadata": {
    "collapsed": true
   },
   "outputs": [],
   "source": [
    "df_TimeOfDay=df_sess['time_of_day'].copy()"
   ]
  },
  {
   "cell_type": "code",
   "execution_count": 37,
   "metadata": {
    "collapsed": false
   },
   "outputs": [
    {
     "name": "stdout",
     "output_type": "stream",
     "text": [
      "(220047,)\n"
     ]
    },
    {
     "data": {
      "text/plain": [
       "id     num_sess\n",
       "1      1           08:02:53\n",
       "       2           13:51:59\n",
       "       3           21:40:06\n",
       "       4           14:23:10\n",
       "52433  1           18:48:37\n",
       "       2           14:03:52\n",
       "       3           14:03:52\n",
       "       4           14:15:41\n",
       "Name: time_of_day, dtype: object"
      ]
     },
     "execution_count": 37,
     "metadata": {},
     "output_type": "execute_result"
    }
   ],
   "source": [
    "num_row=4\n",
    "list=np.concatenate((range(0,num_row),range(-num_row,0)),axis=0)\n",
    "print(df_TimeOfDay.shape)\n",
    "df_TimeOfDay.iloc[list]"
   ]
  },
  {
   "cell_type": "markdown",
   "metadata": {},
   "source": [
    "**Transform to seconds**"
   ]
  },
  {
   "cell_type": "code",
   "execution_count": 38,
   "metadata": {
    "collapsed": true
   },
   "outputs": [],
   "source": [
    "def hms_to_seconds(t):\n",
    "    h, m, s = [int(i) for i in t.split(':')]\n",
    "    return 3600*h + 60*m + s"
   ]
  },
  {
   "cell_type": "code",
   "execution_count": 39,
   "metadata": {
    "collapsed": false
   },
   "outputs": [],
   "source": [
    "df_TimeOfDay=df_TimeOfDay.apply(lambda x: hms_to_seconds(str(x)))"
   ]
  },
  {
   "cell_type": "code",
   "execution_count": 40,
   "metadata": {
    "collapsed": false
   },
   "outputs": [
    {
     "data": {
      "text/plain": [
       "id  num_sess\n",
       "1   1           28973\n",
       "    2           49919\n",
       "    3           78006\n",
       "Name: time_of_day, dtype: int64"
      ]
     },
     "execution_count": 40,
     "metadata": {},
     "output_type": "execute_result"
    }
   ],
   "source": [
    "df_TimeOfDay[:3]"
   ]
  },
  {
   "cell_type": "markdown",
   "metadata": {},
   "source": [
    "**Save df_TimeOfDay:**"
   ]
  },
  {
   "cell_type": "code",
   "execution_count": 41,
   "metadata": {
    "collapsed": false
   },
   "outputs": [
    {
     "name": "stdout",
     "output_type": "stream",
     "text": [
      "CPU times: user 1e+03 µs, sys: 7 ms, total: 8 ms\n",
      "Wall time: 6.63 ms\n"
     ]
    }
   ],
   "source": [
    "%%time\n",
    "with open( \"../Data/Feature_Engineering/df_TimeOfDay.p\", \"wb\" ) as f:\n",
    "    pickle.dump(df_TimeOfDay, f )"
   ]
  },
  {
   "cell_type": "markdown",
   "metadata": {},
   "source": [
    "---\n",
    "### 1.5 last_CartStartedTime (not feature)\n",
    "In wowcher data, there's no proper cart. Possible useful features could be cart dwell time (cart time), more detailed dwell time of a certain product page etc.\n",
    "<br> here only use the last nonNull cart_started time, ie. last_cart_started\n",
    "<br>这边在作弊了。。。这样算出来的cart_dwellTime其实不准，那些没买的基本就是cart_dwellTime=0了。。。"
   ]
  },
  {
   "cell_type": "markdown",
   "metadata": {},
   "source": [
    "**Replace 0 in product_id_CartStarted to nan**"
   ]
  },
  {
   "cell_type": "code",
   "execution_count": 124,
   "metadata": {
    "collapsed": false
   },
   "outputs": [],
   "source": [
    "data_base0=data_base.copy()\n",
    "data_base0['product_id_CartStarted'].replace({0:np.nan},inplace=True)"
   ]
  },
  {
   "cell_type": "markdown",
   "metadata": {},
   "source": [
    "**Find last valid product_id_CartStarted and corresponding datetime (as last_cart_startedTime) for each num_sess**"
   ]
  },
  {
   "cell_type": "code",
   "execution_count": 43,
   "metadata": {
    "collapsed": false
   },
   "outputs": [],
   "source": [
    "df_last_CartStartedTime=data_base0[['id','num_sess','product_id_CartStarted','datetime']]\\\n",
    "                                .groupby(['id','num_sess']).nth(-1,dropna='any')"
   ]
  },
  {
   "cell_type": "code",
   "execution_count": 44,
   "metadata": {
    "collapsed": false
   },
   "outputs": [
    {
     "name": "stdout",
     "output_type": "stream",
     "text": [
      "(220047,)\n",
      "(220047,)\n"
     ]
    }
   ],
   "source": [
    "print(df_last_CartStartedTime['datetime'].shape)\n",
    "print(df_sess.cart_lastTime.shape)"
   ]
  },
  {
   "cell_type": "code",
   "execution_count": 45,
   "metadata": {
    "collapsed": false
   },
   "outputs": [],
   "source": [
    "df_last_CartStartedTime['datetime'].fillna(0, inplace=True)"
   ]
  },
  {
   "cell_type": "code",
   "execution_count": 46,
   "metadata": {
    "collapsed": false
   },
   "outputs": [
    {
     "name": "stdout",
     "output_type": "stream",
     "text": [
      "CPU times: user 4 ms, sys: 2 ms, total: 6 ms\n",
      "Wall time: 5.81 ms\n"
     ]
    }
   ],
   "source": [
    "%%time\n",
    "with open( \"../Data/Feature_Engineering/df_last_CartStartedTime.p\", \"wb\" ) as f:\n",
    "    pickle.dump(df_last_CartStartedTime['datetime'], f)"
   ]
  },
  {
   "cell_type": "markdown",
   "metadata": {
    "collapsed": false
   },
   "source": [
    "### 1.6 Cart_DwellTime"
   ]
  },
  {
   "cell_type": "markdown",
   "metadata": {},
   "source": [
    "**Load df_last_CartStartedTime & data_base**"
   ]
  },
  {
   "cell_type": "code",
   "execution_count": 47,
   "metadata": {
    "collapsed": false
   },
   "outputs": [
    {
     "name": "stdout",
     "output_type": "stream",
     "text": [
      "CPU times: user 3.89 s, sys: 1.61 s, total: 5.5 s\n",
      "Wall time: 5.49 s\n"
     ]
    }
   ],
   "source": [
    "%%time\n",
    "with open( \"../Data/Feature_Engineering/df_last_CartStartedTime.p\", \"rb\" ) as f:\n",
    "    df_last_CartStartedTime = pickle.load(f)\n",
    "    \n",
    "with open( \"../Data/Feature_Engineering/data_base.p\", \"rb\" )  as f:\n",
    "    data_base = pickle.load(f)"
   ]
  },
  {
   "cell_type": "markdown",
   "metadata": {},
   "source": [
    "**get Cart_StartedTime**"
   ]
  },
  {
   "cell_type": "code",
   "execution_count": 48,
   "metadata": {
    "collapsed": false
   },
   "outputs": [],
   "source": [
    "# cart_first_time and cart_last_time are all same during a session\n",
    "cart_started=pd.to_datetime(df_last_CartStartedTime.values)\n",
    "cart_last_time=pd.to_datetime(df_sess.cart_lastTime.values)\n",
    "# assign new columns:\n",
    "df_sess['cart_DwellTime']=cart_last_time-cart_started"
   ]
  },
  {
   "cell_type": "code",
   "execution_count": 49,
   "metadata": {
    "collapsed": true
   },
   "outputs": [],
   "source": [
    "df_CartDwellTime=df_sess['cart_DwellTime'].copy()"
   ]
  },
  {
   "cell_type": "code",
   "execution_count": 50,
   "metadata": {
    "collapsed": false
   },
   "outputs": [
    {
     "name": "stdout",
     "output_type": "stream",
     "text": [
      "(220047,)\n"
     ]
    },
    {
     "data": {
      "text/plain": [
       "id     num_sess\n",
       "1      1          00:00:00\n",
       "       2          00:00:00\n",
       "       3          00:00:00\n",
       "       4          00:00:00\n",
       "52433  1          00:00:00\n",
       "       2          00:00:00\n",
       "       3          00:00:00\n",
       "       4          00:00:17\n",
       "Name: cart_DwellTime, dtype: timedelta64[ns]"
      ]
     },
     "execution_count": 50,
     "metadata": {},
     "output_type": "execute_result"
    }
   ],
   "source": [
    "num_row=4\n",
    "list=np.concatenate((range(0,num_row),range(-num_row,0)),axis=0)\n",
    "print(df_CartDwellTime.shape)\n",
    "df_CartDwellTime.iloc[list]"
   ]
  },
  {
   "cell_type": "code",
   "execution_count": 51,
   "metadata": {
    "collapsed": false
   },
   "outputs": [
    {
     "data": {
      "text/plain": [
       "num_sess\n",
       "1       0 days 00:00:00\n",
       "2   17308 days 10:42:14\n",
       "3       0 days 00:04:03\n",
       "4       0 days 00:00:00\n",
       "5   17320 days 10:47:06\n",
       "Name: cart_DwellTime, dtype: timedelta64[ns]"
      ]
     },
     "execution_count": 51,
     "metadata": {},
     "output_type": "execute_result"
    }
   ],
   "source": [
    "df_CartDwellTime.loc[52426]"
   ]
  },
  {
   "cell_type": "markdown",
   "metadata": {},
   "source": [
    "**Tranform time to seconds**"
   ]
  },
  {
   "cell_type": "code",
   "execution_count": 52,
   "metadata": {
    "collapsed": false
   },
   "outputs": [
    {
     "name": "stdout",
     "output_type": "stream",
     "text": [
      "(220047,)\n"
     ]
    }
   ],
   "source": [
    "df_CartDwellTime=df_CartDwellTime.apply(lambda x: x.total_seconds() if not pd.isnull(x) else 0)\n",
    "print(df_CartDwellTime.shape)"
   ]
  },
  {
   "cell_type": "code",
   "execution_count": 53,
   "metadata": {
    "collapsed": false
   },
   "outputs": [],
   "source": [
    "df_CartDwellTime[df_CartDwellTime<0]=0"
   ]
  },
  {
   "cell_type": "code",
   "execution_count": 54,
   "metadata": {
    "collapsed": true
   },
   "outputs": [],
   "source": [
    "df_CartDwellTime[df_CartDwellTime>86400]=0"
   ]
  },
  {
   "cell_type": "code",
   "execution_count": 55,
   "metadata": {
    "collapsed": false
   },
   "outputs": [
    {
     "name": "stdout",
     "output_type": "stream",
     "text": [
      "number of having df_CartDwellTime positive:  35067\n"
     ]
    }
   ],
   "source": [
    "print('number of having df_CartDwellTime positive: ',sum(df_CartDwellTime!=0))"
   ]
  },
  {
   "cell_type": "code",
   "execution_count": 56,
   "metadata": {
    "collapsed": false
   },
   "outputs": [
    {
     "data": {
      "text/plain": [
       "id  num_sess\n",
       "1   1           0.0\n",
       "    2           0.0\n",
       "    3           0.0\n",
       "Name: cart_DwellTime, dtype: float64"
      ]
     },
     "execution_count": 56,
     "metadata": {},
     "output_type": "execute_result"
    }
   ],
   "source": [
    "df_CartDwellTime[:3]"
   ]
  },
  {
   "cell_type": "markdown",
   "metadata": {},
   "source": [
    "**Save df_CartDwellTime:**"
   ]
  },
  {
   "cell_type": "code",
   "execution_count": 57,
   "metadata": {
    "collapsed": false
   },
   "outputs": [
    {
     "name": "stdout",
     "output_type": "stream",
     "text": [
      "CPU times: user 4 ms, sys: 3 ms, total: 7 ms\n",
      "Wall time: 6.19 ms\n"
     ]
    }
   ],
   "source": [
    "%%time\n",
    "with open( \"../Data/Feature_Engineering/df_CartDwellTime.p\", \"wb\" ) as f:\n",
    "    pickle.dump(df_CartDwellTime, f)"
   ]
  },
  {
   "cell_type": "markdown",
   "metadata": {},
   "source": [
    "### 1.7 Product_time_left"
   ]
  },
  {
   "cell_type": "markdown",
   "metadata": {},
   "source": [
    "**Load data_base**"
   ]
  },
  {
   "cell_type": "code",
   "execution_count": 58,
   "metadata": {
    "collapsed": false
   },
   "outputs": [
    {
     "name": "stdout",
     "output_type": "stream",
     "text": [
      "CPU times: user 4.31 s, sys: 1.73 s, total: 6.04 s\n",
      "Wall time: 6.04 s\n"
     ]
    }
   ],
   "source": [
    "%%time\n",
    "with open( \"../Data/Feature_Engineering/data_base.p\", \"rb\" )  as f:\n",
    "    data_base = pickle.load(f)"
   ]
  },
  {
   "cell_type": "markdown",
   "metadata": {},
   "source": [
    "**transform product_time_left to seconds**"
   ]
  },
  {
   "cell_type": "code",
   "execution_count": 59,
   "metadata": {
    "collapsed": false
   },
   "outputs": [],
   "source": [
    "df_sess=data_base.groupby(['id','num_sess']).first()"
   ]
  },
  {
   "cell_type": "code",
   "execution_count": 60,
   "metadata": {
    "collapsed": false
   },
   "outputs": [
    {
     "data": {
      "text/plain": [
       "id  num_sess\n",
       "1   1                  None\n",
       "    2                  None\n",
       "    3           03:01:20:04\n",
       "    4           00:08:36:54\n",
       "2   1           06:09:34:40\n",
       "Name: product_time_left, dtype: object"
      ]
     },
     "execution_count": 60,
     "metadata": {},
     "output_type": "execute_result"
    }
   ],
   "source": [
    "df_sess.product_time_left[:5]"
   ]
  },
  {
   "cell_type": "code",
   "execution_count": 61,
   "metadata": {
    "collapsed": true
   },
   "outputs": [],
   "source": [
    "def product_time_left(timeleft):\n",
    "    if not timeleft == None:\n",
    "        try:\n",
    "            if(timeleft[timeleft.rfind(':')+1:]!='60'):\n",
    "                t = datetime.datetime.strptime(timeleft, \"%d:%H:%M:%S\")\n",
    "                delta = datetime.timedelta(days=t.day, hours=t.hour, minutes=t.minute, seconds=t.second)\n",
    "                return delta.total_seconds()\n",
    "            else:\n",
    "                timeleft = timeleft[:timeleft.rfind(':')+1]+\"00\"\n",
    "                t = datetime.datetime.strptime(timeleft, \"%d:%H:%M:%S\")\n",
    "                delta = datetime.timedelta(days=t.day, hours=t.hour, minutes=t.minute, seconds=t.second)\n",
    "                return delta.total_seconds()\n",
    "        except ValueError:\n",
    "            if ':' in timeleft and 'NaN' not in timeleft: #filter some strange uncleaned terms out\n",
    "                timeleft = timeleft[timeleft.index(':')+1:]\n",
    "                t = datetime.datetime.strptime(timeleft, \"%H:%M:%S\")\n",
    "                delta = datetime.timedelta(hours=t.hour, minutes=t.minute, seconds=t.second)\n",
    "                return delta.total_seconds()\n",
    "            else:\n",
    "                return 0\n",
    "    else:\n",
    "        return 0"
   ]
  },
  {
   "cell_type": "code",
   "execution_count": 62,
   "metadata": {
    "collapsed": false
   },
   "outputs": [
    {
     "name": "stdout",
     "output_type": "stream",
     "text": [
      "CPU times: user 3.3 s, sys: 20 ms, total: 3.32 s\n",
      "Wall time: 3.32 s\n"
     ]
    }
   ],
   "source": [
    "%%time\n",
    "df_sess.product_time_left = df_sess['product_time_left'].apply(lambda x: product_time_left(x))"
   ]
  },
  {
   "cell_type": "code",
   "execution_count": 63,
   "metadata": {
    "collapsed": false
   },
   "outputs": [
    {
     "data": {
      "text/plain": [
       "(220047,)"
      ]
     },
     "execution_count": 63,
     "metadata": {},
     "output_type": "execute_result"
    }
   ],
   "source": [
    "df_ProductTimeLeft=df_sess.product_time_left\n",
    "df_ProductTimeLeft.shape"
   ]
  },
  {
   "cell_type": "markdown",
   "metadata": {},
   "source": [
    "**Save df_ProductTimeLeft**"
   ]
  },
  {
   "cell_type": "code",
   "execution_count": 64,
   "metadata": {
    "collapsed": false
   },
   "outputs": [
    {
     "name": "stdout",
     "output_type": "stream",
     "text": [
      "CPU times: user 3 ms, sys: 3 ms, total: 6 ms\n",
      "Wall time: 5.98 ms\n"
     ]
    }
   ],
   "source": [
    "%%time\n",
    "with open( \"../Data/Feature_Engineering/df_ProductTimeLeft.p\", \"wb\" ) as f:\n",
    "    pickle.dump(df_ProductTimeLeft, f)"
   ]
  },
  {
   "cell_type": "markdown",
   "metadata": {},
   "source": [
    "### 1.8 date_time"
   ]
  },
  {
   "cell_type": "markdown",
   "metadata": {},
   "source": [
    "**Load data_base**"
   ]
  },
  {
   "cell_type": "code",
   "execution_count": 4,
   "metadata": {
    "collapsed": false
   },
   "outputs": [
    {
     "name": "stdout",
     "output_type": "stream",
     "text": [
      "CPU times: user 3.66 s, sys: 1.36 s, total: 5.02 s\n",
      "Wall time: 5.02 s\n"
     ]
    }
   ],
   "source": [
    "%%time\n",
    "with open( \"../Data/Feature_Engineering/data_base.p\", \"rb\" )  as f:\n",
    "    data_base = pickle.load(f)"
   ]
  },
  {
   "cell_type": "markdown",
   "metadata": {},
   "source": [
    "**Create datatime feature**"
   ]
  },
  {
   "cell_type": "code",
   "execution_count": 10,
   "metadata": {
    "collapsed": false
   },
   "outputs": [],
   "source": [
    "df_sess=data_base.groupby(['id','num_sess']).first()"
   ]
  },
  {
   "cell_type": "code",
   "execution_count": 12,
   "metadata": {
    "collapsed": true
   },
   "outputs": [],
   "source": [
    "# timestamp function to \n",
    "def absolute_time(datetime):\n",
    "    return time.mktime(datetime.timetuple())"
   ]
  },
  {
   "cell_type": "code",
   "execution_count": 16,
   "metadata": {
    "collapsed": false
   },
   "outputs": [],
   "source": [
    "df_dateTime = df_sess['datetime'].apply(lambda x: absolute_time(x) if not pd.isnull(x) else 0)"
   ]
  },
  {
   "cell_type": "code",
   "execution_count": 19,
   "metadata": {
    "collapsed": false
   },
   "outputs": [
    {
     "name": "stdout",
     "output_type": "stream",
     "text": [
      "(220047,)\n"
     ]
    },
    {
     "data": {
      "text/plain": [
       "id  num_sess\n",
       "1   1           1.495181e+09\n",
       "    2           1.495202e+09\n",
       "    3           1.496440e+09\n",
       "    4           1.497018e+09\n",
       "2   1           1.495805e+09\n",
       "Name: datetime, dtype: float64"
      ]
     },
     "execution_count": 19,
     "metadata": {},
     "output_type": "execute_result"
    }
   ],
   "source": [
    "print(df_dateTime.shape)\n",
    "df_dateTime[:5]"
   ]
  },
  {
   "cell_type": "markdown",
   "metadata": {},
   "source": [
    "**Save df_dateTime**"
   ]
  },
  {
   "cell_type": "code",
   "execution_count": 20,
   "metadata": {
    "collapsed": false
   },
   "outputs": [
    {
     "name": "stdout",
     "output_type": "stream",
     "text": [
      "CPU times: user 5 ms, sys: 3 ms, total: 8 ms\n",
      "Wall time: 16.5 ms\n"
     ]
    }
   ],
   "source": [
    "%%time\n",
    "with open( \"../Data/Feature_Engineering/df_dateTime.p\", \"wb\" ) as f:\n",
    "    pickle.dump(df_dateTime, f)"
   ]
  },
  {
   "cell_type": "markdown",
   "metadata": {
    "collapsed": true
   },
   "source": [
    "## 2. Catefories Features\n",
    "---\n",
    "### 2.1 #Page viewed within a session\n",
    "This is a measurement of how active the customer is for each session"
   ]
  },
  {
   "cell_type": "markdown",
   "metadata": {},
   "source": [
    "**Load data_base**"
   ]
  },
  {
   "cell_type": "code",
   "execution_count": 9,
   "metadata": {
    "collapsed": false
   },
   "outputs": [
    {
     "name": "stdout",
     "output_type": "stream",
     "text": [
      "CPU times: user 3.83 s, sys: 1.64 s, total: 5.46 s\n",
      "Wall time: 5.58 s\n"
     ]
    }
   ],
   "source": [
    "%%time\n",
    "with open( \"../Data/Feature_Engineering/data_base.p\", \"rb\" )  as f:\n",
    "    data_base=pickle.load(f)"
   ]
  },
  {
   "cell_type": "markdown",
   "metadata": {},
   "source": [
    "Can only be run at once for this section"
   ]
  },
  {
   "cell_type": "code",
   "execution_count": 10,
   "metadata": {
    "collapsed": false
   },
   "outputs": [
    {
     "data": {
      "text/plain": [
       "id     num_sess\n",
       "1      1            1\n",
       "       2            1\n",
       "       3            1\n",
       "       4            1\n",
       "2      1            1\n",
       "       2            1\n",
       "       3            1\n",
       "       4            2\n",
       "3      1            2\n",
       "       2            1\n",
       "       3            1\n",
       "4      1            1\n",
       "       2            1\n",
       "       3            1\n",
       "5      1            1\n",
       "       2            1\n",
       "       3            1\n",
       "6      1            5\n",
       "       2            1\n",
       "       3            3\n",
       "7      1            1\n",
       "       2            1\n",
       "       3            1\n",
       "8      1            4\n",
       "       2            4\n",
       "       3            3\n",
       "       4            2\n",
       "       5            3\n",
       "9      1            1\n",
       "       2            1\n",
       "                   ..\n",
       "52425  4            2\n",
       "       5            2\n",
       "52426  1            1\n",
       "       2            2\n",
       "       3            9\n",
       "       4            1\n",
       "       5            1\n",
       "52427  1            1\n",
       "       2            1\n",
       "       3            1\n",
       "52428  1            4\n",
       "       2            1\n",
       "       3           11\n",
       "52429  1            1\n",
       "       2            1\n",
       "       3            1\n",
       "52430  1            1\n",
       "       2            1\n",
       "       3            1\n",
       "52431  1            1\n",
       "       2            3\n",
       "       3            3\n",
       "52432  1            4\n",
       "       2            5\n",
       "       3            1\n",
       "       4            2\n",
       "52433  1            1\n",
       "       2            1\n",
       "       3            1\n",
       "       4           10\n",
       "dtype: int64"
      ]
     },
     "execution_count": 10,
     "metadata": {},
     "output_type": "execute_result"
    }
   ],
   "source": [
    "tmp=data_base[['id','num_sess','page_url']].copy()\n",
    "\n",
    "page_count_sess=tmp.groupby(['id','num_sess']).page_url.nunique()\n",
    "# page_count_sess=page_count_sess.reset_index().copy()\n",
    "page_count_sess.rename(columns={'page_url':'page_count_sess'},inplace=True)\n",
    "# tmp01=pd.merge(df_page_sess.reset_index(),page_count_sess[['id','num_sess','page_count_sess']]\n",
    "#                , how='inner', on=['id','num_sess'])\n",
    "\n",
    "# df_page_sess=tmp01.groupby(['id','num_sess','product_name'],sort=False).first()"
   ]
  },
  {
   "cell_type": "code",
   "execution_count": 11,
   "metadata": {
    "collapsed": false
   },
   "outputs": [
    {
     "name": "stdout",
     "output_type": "stream",
     "text": [
      "(220047,)\n"
     ]
    },
    {
     "data": {
      "text/plain": [
       "id     num_sess\n",
       "1      1            1\n",
       "       2            1\n",
       "       3            1\n",
       "       4            1\n",
       "52433  1            1\n",
       "       2            1\n",
       "       3            1\n",
       "       4           10\n",
       "dtype: int64"
      ]
     },
     "execution_count": 11,
     "metadata": {},
     "output_type": "execute_result"
    }
   ],
   "source": [
    "num_row=4\n",
    "list=np.concatenate((range(0,num_row),range(-num_row,0)),axis=0)\n",
    "print(page_count_sess.shape)\n",
    "page_count_sess.iloc[list]"
   ]
  },
  {
   "cell_type": "code",
   "execution_count": 12,
   "metadata": {
    "collapsed": false
   },
   "outputs": [],
   "source": [
    "df_PageCount=page_count_sess.copy()"
   ]
  },
  {
   "cell_type": "code",
   "execution_count": 13,
   "metadata": {
    "collapsed": false
   },
   "outputs": [
    {
     "data": {
      "text/plain": [
       "(220047,)"
      ]
     },
     "execution_count": 13,
     "metadata": {},
     "output_type": "execute_result"
    }
   ],
   "source": [
    "df_PageCount.shape"
   ]
  },
  {
   "cell_type": "markdown",
   "metadata": {},
   "source": [
    "**Check (id = 52433, num_sess=[1,2,3])**"
   ]
  },
  {
   "cell_type": "code",
   "execution_count": 163,
   "metadata": {
    "collapsed": false
   },
   "outputs": [
    {
     "data": {
      "text/html": [
       "<div>\n",
       "<table border=\"1\" class=\"dataframe\">\n",
       "  <thead>\n",
       "    <tr style=\"text-align: right;\">\n",
       "      <th></th>\n",
       "      <th>id</th>\n",
       "      <th>num_sess</th>\n",
       "      <th>session_id</th>\n",
       "      <th>finger_print</th>\n",
       "      <th>datetime</th>\n",
       "      <th>days</th>\n",
       "      <th>referrer</th>\n",
       "      <th>page_url</th>\n",
       "      <th>product_viewed_browse</th>\n",
       "      <th>cart_started</th>\n",
       "      <th>basket_paid_browsing</th>\n",
       "      <th>product_name</th>\n",
       "      <th>product_save</th>\n",
       "      <th>product_price</th>\n",
       "      <th>product_time_left</th>\n",
       "      <th>email</th>\n",
       "      <th>Post_Code</th>\n",
       "      <th>cart_startTime</th>\n",
       "      <th>product_viewed_cart</th>\n",
       "      <th>total</th>\n",
       "      <th>basket_paid_cart</th>\n",
       "      <th>payment_type</th>\n",
       "      <th>email_click_through</th>\n",
       "      <th>cart_firstTime</th>\n",
       "      <th>cart_lastTime</th>\n",
       "      <th>basketInfoTime</th>\n",
       "      <th>user_agent</th>\n",
       "      <th>product_id_ProductViewed</th>\n",
       "      <th>product_id_CartStarted</th>\n",
       "      <th>last_cart_started</th>\n",
       "    </tr>\n",
       "  </thead>\n",
       "  <tbody>\n",
       "    <tr>\n",
       "      <th>1469154</th>\n",
       "      <td>52433</td>\n",
       "      <td>1</td>\n",
       "      <td>zxkbfysuold2vl2v4el3ubzv</td>\n",
       "      <td>17e96f528f8940c9392619c58b8b136d</td>\n",
       "      <td>2017-05-24 18:48:37</td>\n",
       "      <td>24</td>\n",
       "      <td>https://www.wowcher.co.uk/deal/shop/3997409/9-...</td>\n",
       "      <td>https://secure.wowcher.co.uk/checkout/3949698?...</td>\n",
       "      <td>NaT</td>\n",
       "      <td>2017-05-24 18:48:36.464</td>\n",
       "      <td>None</td>\n",
       "      <td>9-Seater XL Grey Rattan Garden Dining Sofa Set</td>\n",
       "      <td>48%</td>\n",
       "      <td>509.00</td>\n",
       "      <td>02:04:20:57</td>\n",
       "      <td>sue_terryshannon@yahoo.co.uk</td>\n",
       "      <td>Rm17 6ax</td>\n",
       "      <td>2017-05-24 18:43:00</td>\n",
       "      <td>None</td>\n",
       "      <td>509.00</td>\n",
       "      <td>False</td>\n",
       "      <td>paypalExpress</td>\n",
       "      <td>False</td>\n",
       "      <td>2017-05-24 18:43:00+00:00</td>\n",
       "      <td>2017-05-24 18:48:37+00:00</td>\n",
       "      <td>1495653603</td>\n",
       "      <td>Mozilla/5.0+(iPad;+CPU+OS+9_3_5+like+Mac+OS+X)...</td>\n",
       "      <td>NaN</td>\n",
       "      <td>3949698</td>\n",
       "      <td>2017-05-24 18:48:37</td>\n",
       "    </tr>\n",
       "    <tr>\n",
       "      <th>1469155</th>\n",
       "      <td>52433</td>\n",
       "      <td>2</td>\n",
       "      <td>vxhv5kka1iu93rtmz4g6osc4</td>\n",
       "      <td>de6f52700a2fefcd15e803abbe23cde1</td>\n",
       "      <td>2017-06-12 14:03:52</td>\n",
       "      <td>12</td>\n",
       "      <td>https://www.wowcher.co.uk/deal/shop/4211595/9-...</td>\n",
       "      <td>https://secure.wowcher.co.uk/checkout/4211595?...</td>\n",
       "      <td>NaT</td>\n",
       "      <td>2017-06-12 14:03:52.170</td>\n",
       "      <td>None</td>\n",
       "      <td>9-Seater XL Grey Rattan Garden Dining Sofa Set</td>\n",
       "      <td>48%</td>\n",
       "      <td>509.00</td>\n",
       "      <td>01:08:56:14</td>\n",
       "      <td>sue_terryshannon@yahoo.co.uk</td>\n",
       "      <td>None</td>\n",
       "      <td>2017-06-12 14:03:52</td>\n",
       "      <td>None</td>\n",
       "      <td>509.00</td>\n",
       "      <td>False</td>\n",
       "      <td>None</td>\n",
       "      <td>False</td>\n",
       "      <td>2017-06-12 14:03:52+00:00</td>\n",
       "      <td>2017-06-12 14:03:52+00:00</td>\n",
       "      <td>1497278104</td>\n",
       "      <td>Mozilla/5.0+(iPhone;+CPU+iPhone+OS+10_3_2+like...</td>\n",
       "      <td>NaN</td>\n",
       "      <td>4211595</td>\n",
       "      <td>2017-06-12 14:03:52</td>\n",
       "    </tr>\n",
       "    <tr>\n",
       "      <th>1469156</th>\n",
       "      <td>52433</td>\n",
       "      <td>3</td>\n",
       "      <td>15ox967rdf7q3yjn65eedevsh</td>\n",
       "      <td>de6f52700a2fefcd15e803abbe23cde1</td>\n",
       "      <td>2017-06-12 14:03:52</td>\n",
       "      <td>12</td>\n",
       "      <td>https://www.wowcher.co.uk/deal/shop/4211595/9-...</td>\n",
       "      <td>https://secure.wowcher.co.uk/checkout/4211595?...</td>\n",
       "      <td>NaT</td>\n",
       "      <td>2017-06-12 14:03:52.155</td>\n",
       "      <td>None</td>\n",
       "      <td>9-Seater XL Grey Rattan Garden Dining Sofa Set</td>\n",
       "      <td>48%</td>\n",
       "      <td>509.00</td>\n",
       "      <td>01:08:56:14</td>\n",
       "      <td>sue_terryshannon@yahoo.co.uk</td>\n",
       "      <td>None</td>\n",
       "      <td>2017-06-12 14:03:52</td>\n",
       "      <td>None</td>\n",
       "      <td>509.00</td>\n",
       "      <td>False</td>\n",
       "      <td>None</td>\n",
       "      <td>False</td>\n",
       "      <td>2017-06-12 14:03:14+00:00</td>\n",
       "      <td>2017-06-12 14:03:52+00:00</td>\n",
       "      <td>1497278104</td>\n",
       "      <td>Mozilla/5.0+(iPhone;+CPU+iPhone+OS+10_3_2+like...</td>\n",
       "      <td>NaN</td>\n",
       "      <td>4211595</td>\n",
       "      <td>2017-06-12 14:03:52</td>\n",
       "    </tr>\n",
       "  </tbody>\n",
       "</table>\n",
       "</div>"
      ],
      "text/plain": [
       "            id  num_sess                 session_id  \\\n",
       "1469154  52433         1   zxkbfysuold2vl2v4el3ubzv   \n",
       "1469155  52433         2   vxhv5kka1iu93rtmz4g6osc4   \n",
       "1469156  52433         3  15ox967rdf7q3yjn65eedevsh   \n",
       "\n",
       "                             finger_print            datetime  days  \\\n",
       "1469154  17e96f528f8940c9392619c58b8b136d 2017-05-24 18:48:37    24   \n",
       "1469155  de6f52700a2fefcd15e803abbe23cde1 2017-06-12 14:03:52    12   \n",
       "1469156  de6f52700a2fefcd15e803abbe23cde1 2017-06-12 14:03:52    12   \n",
       "\n",
       "                                                  referrer  \\\n",
       "1469154  https://www.wowcher.co.uk/deal/shop/3997409/9-...   \n",
       "1469155  https://www.wowcher.co.uk/deal/shop/4211595/9-...   \n",
       "1469156  https://www.wowcher.co.uk/deal/shop/4211595/9-...   \n",
       "\n",
       "                                                  page_url  \\\n",
       "1469154  https://secure.wowcher.co.uk/checkout/3949698?...   \n",
       "1469155  https://secure.wowcher.co.uk/checkout/4211595?...   \n",
       "1469156  https://secure.wowcher.co.uk/checkout/4211595?...   \n",
       "\n",
       "        product_viewed_browse            cart_started basket_paid_browsing  \\\n",
       "1469154                   NaT 2017-05-24 18:48:36.464                 None   \n",
       "1469155                   NaT 2017-06-12 14:03:52.170                 None   \n",
       "1469156                   NaT 2017-06-12 14:03:52.155                 None   \n",
       "\n",
       "                                           product_name product_save  \\\n",
       "1469154  9-Seater XL Grey Rattan Garden Dining Sofa Set          48%   \n",
       "1469155  9-Seater XL Grey Rattan Garden Dining Sofa Set          48%   \n",
       "1469156  9-Seater XL Grey Rattan Garden Dining Sofa Set          48%   \n",
       "\n",
       "        product_price product_time_left                         email  \\\n",
       "1469154        509.00       02:04:20:57  sue_terryshannon@yahoo.co.uk   \n",
       "1469155        509.00       01:08:56:14  sue_terryshannon@yahoo.co.uk   \n",
       "1469156        509.00       01:08:56:14  sue_terryshannon@yahoo.co.uk   \n",
       "\n",
       "        Post_Code       cart_startTime product_viewed_cart   total  \\\n",
       "1469154  Rm17 6ax  2017-05-24 18:43:00                None  509.00   \n",
       "1469155      None  2017-06-12 14:03:52                None  509.00   \n",
       "1469156      None  2017-06-12 14:03:52                None  509.00   \n",
       "\n",
       "        basket_paid_cart   payment_type email_click_through  \\\n",
       "1469154            False  paypalExpress               False   \n",
       "1469155            False           None               False   \n",
       "1469156            False           None               False   \n",
       "\n",
       "                   cart_firstTime             cart_lastTime basketInfoTime  \\\n",
       "1469154 2017-05-24 18:43:00+00:00 2017-05-24 18:48:37+00:00     1495653603   \n",
       "1469155 2017-06-12 14:03:52+00:00 2017-06-12 14:03:52+00:00     1497278104   \n",
       "1469156 2017-06-12 14:03:14+00:00 2017-06-12 14:03:52+00:00     1497278104   \n",
       "\n",
       "                                                user_agent  \\\n",
       "1469154  Mozilla/5.0+(iPad;+CPU+OS+9_3_5+like+Mac+OS+X)...   \n",
       "1469155  Mozilla/5.0+(iPhone;+CPU+iPhone+OS+10_3_2+like...   \n",
       "1469156  Mozilla/5.0+(iPhone;+CPU+iPhone+OS+10_3_2+like...   \n",
       "\n",
       "        product_id_ProductViewed product_id_CartStarted   last_cart_started  \n",
       "1469154                      NaN                3949698 2017-05-24 18:48:37  \n",
       "1469155                      NaN                4211595 2017-06-12 14:03:52  \n",
       "1469156                      NaN                4211595 2017-06-12 14:03:52  "
      ]
     },
     "execution_count": 163,
     "metadata": {},
     "output_type": "execute_result"
    }
   ],
   "source": [
    "data_base[(data_base['id']==52433)&(data_base['num_sess'].isin([1,2,3]))]"
   ]
  },
  {
   "cell_type": "markdown",
   "metadata": {},
   "source": [
    "**Save df_update:**"
   ]
  },
  {
   "cell_type": "code",
   "execution_count": 14,
   "metadata": {
    "collapsed": false
   },
   "outputs": [
    {
     "name": "stdout",
     "output_type": "stream",
     "text": [
      "CPU times: user 7 ms, sys: 5 ms, total: 12 ms\n",
      "Wall time: 31.9 ms\n"
     ]
    }
   ],
   "source": [
    "%%time\n",
    "with open( \"../Data/Feature_Engineering/df_PageCount.p\", \"wb\" ) as f:\n",
    "    pickle.dump(df_PageCount, f)"
   ]
  },
  {
   "cell_type": "markdown",
   "metadata": {},
   "source": [
    "---\n",
    "### 2.2 #Product browsed count\n",
    "This is a measure of how active a customer for looking at a product"
   ]
  },
  {
   "cell_type": "markdown",
   "metadata": {},
   "source": [
    "**Load data_sess**"
   ]
  },
  {
   "cell_type": "code",
   "execution_count": 71,
   "metadata": {
    "collapsed": false
   },
   "outputs": [
    {
     "name": "stdout",
     "output_type": "stream",
     "text": [
      "CPU times: user 4.21 s, sys: 797 ms, total: 5.01 s\n",
      "Wall time: 5.01 s\n"
     ]
    }
   ],
   "source": [
    "%%time\n",
    "with open( \"../Data/Feature_Engineering/data_base.p\", \"rb\" )  as f:\n",
    "    data_base=pickle.load(f)"
   ]
  },
  {
   "cell_type": "markdown",
   "metadata": {},
   "source": [
    "**Generate df_ProductCountSess**"
   ]
  },
  {
   "cell_type": "code",
   "execution_count": 72,
   "metadata": {
    "collapsed": false
   },
   "outputs": [],
   "source": [
    "df_ProductCount=data_base.groupby(['id','num_sess'])['product_id_ProductViewed'].nunique()"
   ]
  },
  {
   "cell_type": "markdown",
   "metadata": {},
   "source": [
    "**Save df_ProductCountSess**"
   ]
  },
  {
   "cell_type": "code",
   "execution_count": 73,
   "metadata": {
    "collapsed": false
   },
   "outputs": [
    {
     "name": "stdout",
     "output_type": "stream",
     "text": [
      "CPU times: user 3 ms, sys: 4 ms, total: 7 ms\n",
      "Wall time: 5.66 ms\n"
     ]
    }
   ],
   "source": [
    "%%time\n",
    "with open( \"../Data/Feature_Engineering/df_ProductCount.p\", \"wb\" ) as f:\n",
    "    pickle.dump(df_ProductCount, f)"
   ]
  },
  {
   "cell_type": "markdown",
   "metadata": {},
   "source": [
    "---\n",
    "### *** Last Product In Cart"
   ]
  },
  {
   "cell_type": "markdown",
   "metadata": {},
   "source": [
    "**Load data_base**"
   ]
  },
  {
   "cell_type": "code",
   "execution_count": 21,
   "metadata": {
    "collapsed": false
   },
   "outputs": [
    {
     "name": "stdout",
     "output_type": "stream",
     "text": [
      "CPU times: user 4.14 s, sys: 1.58 s, total: 5.71 s\n",
      "Wall time: 5.71 s\n"
     ]
    }
   ],
   "source": [
    "%%time\n",
    "with open( \"../Data/Feature_Engineering/data_base.p\", \"rb\" )  as f:\n",
    "    data_base=pickle.load(f)"
   ]
  },
  {
   "cell_type": "markdown",
   "metadata": {},
   "source": [
    "**Generate df_ProductInCart and df_lastProductInCart**"
   ]
  },
  {
   "cell_type": "code",
   "execution_count": 22,
   "metadata": {
    "collapsed": false
   },
   "outputs": [
    {
     "data": {
      "text/plain": [
       "Index(['id', 'num_sess', 'session_id', 'finger_print', 'datetime', 'days',\n",
       "       'referrer', 'page_url', 'product_viewed_browse', 'cart_started',\n",
       "       'basket_paid_browsing', 'product_name', 'product_save', 'product_price',\n",
       "       'product_time_left', 'email', 'Post_Code', 'cart_startTime',\n",
       "       'product_viewed_cart', 'total', 'basket_paid_cart', 'payment_type',\n",
       "       'email_click_through', 'cart_firstTime', 'cart_lastTime',\n",
       "       'basketInfoTime', 'user_agent', 'product_id_ProductViewed',\n",
       "       'product_id_CartStarted', 'last_cart_started'],\n",
       "      dtype='object')"
      ]
     },
     "execution_count": 22,
     "metadata": {},
     "output_type": "execute_result"
    }
   ],
   "source": [
    "data_base.columns"
   ]
  },
  {
   "cell_type": "code",
   "execution_count": 23,
   "metadata": {
    "collapsed": true
   },
   "outputs": [],
   "source": [
    "df_LastProductInCart=data_base.groupby(['id','num_sess'])['product_id_CartStarted'].last()"
   ]
  },
  {
   "cell_type": "code",
   "execution_count": 24,
   "metadata": {
    "collapsed": false
   },
   "outputs": [
    {
     "data": {
      "text/plain": [
       "id  num_sess\n",
       "1   1           3838997\n",
       "    2           3838997\n",
       "    3           4096138\n",
       "    4           4096138\n",
       "2   1           4009686\n",
       "Name: product_id_CartStarted, dtype: object"
      ]
     },
     "execution_count": 24,
     "metadata": {},
     "output_type": "execute_result"
    }
   ],
   "source": [
    "df_LastProductInCart[:5]\n",
    "# Wrong!!!!! need to substitute 0 to be NaN"
   ]
  },
  {
   "cell_type": "markdown",
   "metadata": {},
   "source": [
    "**Save df_LastProductInCart**"
   ]
  },
  {
   "cell_type": "code",
   "execution_count": 27,
   "metadata": {
    "collapsed": false
   },
   "outputs": [
    {
     "name": "stdout",
     "output_type": "stream",
     "text": [
      "CPU times: user 40 ms, sys: 5 ms, total: 45 ms\n",
      "Wall time: 44.6 ms\n"
     ]
    }
   ],
   "source": [
    "%%time\n",
    "with open( \"../Data/Feature_Engineering/df_lastProductInCart.p\", \"wb\" ) as f:\n",
    "    pickle.dump(df_LastProductInCart, f)"
   ]
  },
  {
   "cell_type": "markdown",
   "metadata": {},
   "source": [
    "---\n",
    "### 2.3Popularity of final Product in cart - (product_viewed Edition)"
   ]
  },
  {
   "cell_type": "markdown",
   "metadata": {},
   "source": [
    "**Load data_base and df_lastProductInCart**"
   ]
  },
  {
   "cell_type": "code",
   "execution_count": 25,
   "metadata": {
    "collapsed": false
   },
   "outputs": [
    {
     "name": "stdout",
     "output_type": "stream",
     "text": [
      "CPU times: user 4.74 s, sys: 1.72 s, total: 6.46 s\n",
      "Wall time: 6.65 s\n"
     ]
    }
   ],
   "source": [
    "%%time\n",
    "with open( \"../Data/Feature_Engineering/data_base.p\", \"rb\" )  as f:\n",
    "    data_base=pickle.load(f)\n",
    "with open( \"../Data/Feature_Engineering/df_lastProductInCart.p\", \"rb\" ) as f:\n",
    "    df_lastProductInCart=pickle.load(f)"
   ]
  },
  {
   "cell_type": "markdown",
   "metadata": {},
   "source": [
    "**Generate popularity measure by count product_viewed**\n",
    "- 点一点每个product_id_ProductViewed有多少个，做成dictionary"
   ]
  },
  {
   "cell_type": "code",
   "execution_count": 26,
   "metadata": {
    "collapsed": false
   },
   "outputs": [
    {
     "data": {
      "text/plain": [
       "Index(['id', 'num_sess', 'session_id', 'finger_print', 'datetime', 'days',\n",
       "       'referrer', 'page_url', 'product_viewed_browse', 'cart_started',\n",
       "       'basket_paid_browsing', 'product_name', 'product_save', 'product_price',\n",
       "       'product_time_left', 'email', 'Post_Code', 'cart_startTime',\n",
       "       'product_viewed_cart', 'total', 'basket_paid_cart', 'payment_type',\n",
       "       'email_click_through', 'cart_firstTime', 'cart_lastTime',\n",
       "       'basketInfoTime', 'user_agent', 'product_id_ProductViewed',\n",
       "       'product_id_CartStarted', 'last_cart_started'],\n",
       "      dtype='object')"
      ]
     },
     "execution_count": 26,
     "metadata": {},
     "output_type": "execute_result"
    }
   ],
   "source": [
    "data_base.columns"
   ]
  },
  {
   "cell_type": "code",
   "execution_count": 27,
   "metadata": {
    "collapsed": false
   },
   "outputs": [
    {
     "name": "stdout",
     "output_type": "stream",
     "text": [
      "(7443,)\n"
     ]
    },
    {
     "data": {
      "text/plain": [
       "0          154072\n",
       "4096588      3913\n",
       "3839768      1714\n",
       "3173397      1660\n",
       "4031900      1555\n",
       "Name: product_id_ProductViewed, dtype: int64"
      ]
     },
     "execution_count": 27,
     "metadata": {},
     "output_type": "execute_result"
    }
   ],
   "source": [
    "pop_dict_prod=data_base['product_id_ProductViewed'].value_counts()\n",
    "print(pop_dict_prod.shape)\n",
    "pop_dict_prod_resetIndex=pop_dict_prod.reset_index()\n",
    "pop_dict_prod[:5]"
   ]
  },
  {
   "cell_type": "code",
   "execution_count": 28,
   "metadata": {
    "collapsed": false
   },
   "outputs": [
    {
     "data": {
      "text/html": [
       "<div>\n",
       "<table border=\"1\" class=\"dataframe\">\n",
       "  <thead>\n",
       "    <tr style=\"text-align: right;\">\n",
       "      <th></th>\n",
       "      <th>index</th>\n",
       "      <th>product_id_ProductViewed</th>\n",
       "    </tr>\n",
       "  </thead>\n",
       "  <tbody>\n",
       "    <tr>\n",
       "      <th>1</th>\n",
       "      <td>4096588</td>\n",
       "      <td>3913</td>\n",
       "    </tr>\n",
       "    <tr>\n",
       "      <th>2</th>\n",
       "      <td>3839768</td>\n",
       "      <td>1714</td>\n",
       "    </tr>\n",
       "    <tr>\n",
       "      <th>3</th>\n",
       "      <td>3173397</td>\n",
       "      <td>1660</td>\n",
       "    </tr>\n",
       "    <tr>\n",
       "      <th>4</th>\n",
       "      <td>4031900</td>\n",
       "      <td>1555</td>\n",
       "    </tr>\n",
       "    <tr>\n",
       "      <th>5</th>\n",
       "      <td>4020841</td>\n",
       "      <td>1508</td>\n",
       "    </tr>\n",
       "  </tbody>\n",
       "</table>\n",
       "</div>"
      ],
      "text/plain": [
       "     index  product_id_ProductViewed\n",
       "1  4096588                      3913\n",
       "2  3839768                      1714\n",
       "3  3173397                      1660\n",
       "4  4031900                      1555\n",
       "5  4020841                      1508"
      ]
     },
     "execution_count": 28,
     "metadata": {},
     "output_type": "execute_result"
    }
   ],
   "source": [
    "# delete the row with index=0\n",
    "pop_dict_prod_resetIndex = pop_dict_prod_resetIndex[1:]\n",
    "pop_dict_prod_resetIndex[:5]"
   ]
  },
  {
   "cell_type": "markdown",
   "metadata": {},
   "source": [
    "- 这个函数来点当前的Product_id（in last cart）在product_id_ProductViewed里面出现过多少次"
   ]
  },
  {
   "cell_type": "code",
   "execution_count": 29,
   "metadata": {
    "collapsed": false
   },
   "outputs": [],
   "source": [
    "def pop_count_ByProductViewed(x):\n",
    "    try:\n",
    "        return pop_dict_prod_resetIndex[x==pop_dict_prod_resetIndex['index']]['product_id_ProductViewed'].values[0]\n",
    "    except IndexError:\n",
    "        return 0"
   ]
  },
  {
   "cell_type": "code",
   "execution_count": 30,
   "metadata": {
    "collapsed": false
   },
   "outputs": [
    {
     "name": "stdout",
     "output_type": "stream",
     "text": [
      "3913\n",
      "0\n",
      "0\n"
     ]
    }
   ],
   "source": [
    "# eg.:\n",
    "print(pop_count_ByProductViewed('4096588'))\n",
    "print(pop_count_ByProductViewed(0))\n",
    "print(pop_count_ByProductViewed(np.nan))"
   ]
  },
  {
   "cell_type": "code",
   "execution_count": 33,
   "metadata": {
    "collapsed": false
   },
   "outputs": [
    {
     "name": "stderr",
     "output_type": "stream",
     "text": [
      "Progress Bar: 100%|██████████| 220047/220047 [07:10<00:00, 510.86it/s]\n"
     ]
    }
   ],
   "source": [
    "df_PopByViewed=df_lastProductInCart.progress_apply(lambda x: pop_count_ByProductViewed(x))"
   ]
  },
  {
   "cell_type": "code",
   "execution_count": 62,
   "metadata": {
    "collapsed": false
   },
   "outputs": [
    {
     "name": "stdout",
     "output_type": "stream",
     "text": [
      "(220047,)\n"
     ]
    },
    {
     "data": {
      "text/plain": [
       "id  num_sess\n",
       "1   1            761\n",
       "    2            761\n",
       "    3            286\n",
       "    4            286\n",
       "2   1            710\n",
       "    2           1202\n",
       "    3             19\n",
       "    4            829\n",
       "Name: product_id_CartStarted, dtype: int64"
      ]
     },
     "execution_count": 62,
     "metadata": {},
     "output_type": "execute_result"
    }
   ],
   "source": [
    "print(df_PopByViewed.shape)\n",
    "df_PopByViewed[:8]"
   ]
  },
  {
   "cell_type": "markdown",
   "metadata": {},
   "source": [
    "---"
   ]
  },
  {
   "cell_type": "code",
   "execution_count": 39,
   "metadata": {
    "collapsed": true
   },
   "outputs": [],
   "source": [
    "with open( \"../Data/Feature_Engineering/df_PopByViewed.p\", \"rb\" ) as f:\n",
    "    df_PopByViewed=pickle.load(f)"
   ]
  },
  {
   "cell_type": "code",
   "execution_count": 40,
   "metadata": {
    "collapsed": false
   },
   "outputs": [],
   "source": [
    "df_PopByViewed.name='PopByViewed'"
   ]
  },
  {
   "cell_type": "markdown",
   "metadata": {},
   "source": [
    "---"
   ]
  },
  {
   "cell_type": "markdown",
   "metadata": {},
   "source": [
    "**Save df_PopByViewed**"
   ]
  },
  {
   "cell_type": "code",
   "execution_count": 41,
   "metadata": {
    "collapsed": false
   },
   "outputs": [
    {
     "name": "stdout",
     "output_type": "stream",
     "text": [
      "CPU times: user 4 ms, sys: 7 ms, total: 11 ms\n",
      "Wall time: 41 ms\n"
     ]
    }
   ],
   "source": [
    "%%time\n",
    "with open( \"../Data/Feature_Engineering/df_PopByViewed.p\", \"wb\" ) as f:\n",
    "    pickle.dump(df_PopByViewed, f)"
   ]
  },
  {
   "cell_type": "markdown",
   "metadata": {},
   "source": [
    "### 2.4 Popularity of final Product in cart - (cart_started Edition)"
   ]
  },
  {
   "cell_type": "markdown",
   "metadata": {},
   "source": [
    "**Load data_base & df_lastProductInCart**"
   ]
  },
  {
   "cell_type": "code",
   "execution_count": 63,
   "metadata": {
    "collapsed": false
   },
   "outputs": [
    {
     "name": "stdout",
     "output_type": "stream",
     "text": [
      "CPU times: user 4.53 s, sys: 2.03 s, total: 6.56 s\n",
      "Wall time: 6.56 s\n"
     ]
    }
   ],
   "source": [
    "%%time\n",
    "with open( \"../Data/Feature_Engineering/data_base.p\", \"rb\" )  as f:\n",
    "    data_base=pickle.load(f)\n",
    "with open( \"../Data/Feature_Engineering/df_lastProductInCart.p\", \"rb\" ) as f:\n",
    "    df_lastProductInCart=pickle.load(f)"
   ]
  },
  {
   "cell_type": "markdown",
   "metadata": {},
   "source": [
    "**Generate popularity measure by count Cart_Started**\n",
    "- 点一点每个product_id_CartStarted有多少个，做成dictionary"
   ]
  },
  {
   "cell_type": "code",
   "execution_count": 64,
   "metadata": {
    "collapsed": false
   },
   "outputs": [
    {
     "data": {
      "text/plain": [
       "Index(['id', 'num_sess', 'session_id', 'finger_print', 'datetime', 'days',\n",
       "       'referrer', 'page_url', 'product_viewed_browse', 'cart_started',\n",
       "       'basket_paid_browsing', 'product_name', 'product_save', 'product_price',\n",
       "       'product_time_left', 'email', 'Post_Code', 'cart_startTime',\n",
       "       'product_viewed_cart', 'total', 'basket_paid_cart', 'payment_type',\n",
       "       'email_click_through', 'cart_firstTime', 'cart_lastTime',\n",
       "       'basketInfoTime', 'user_agent', 'product_id_ProductViewed',\n",
       "       'product_id_CartStarted', 'last_cart_started'],\n",
       "      dtype='object')"
      ]
     },
     "execution_count": 64,
     "metadata": {},
     "output_type": "execute_result"
    }
   ],
   "source": [
    "data_base.columns"
   ]
  },
  {
   "cell_type": "code",
   "execution_count": 66,
   "metadata": {
    "collapsed": false
   },
   "outputs": [
    {
     "name": "stdout",
     "output_type": "stream",
     "text": [
      "(5426,)\n"
     ]
    },
    {
     "data": {
      "text/plain": [
       "0          191454\n",
       "4096588      8122\n",
       "4031900      5727\n",
       "3750568      5635\n",
       "3173397      5495\n",
       "Name: product_id_CartStarted, dtype: int64"
      ]
     },
     "execution_count": 66,
     "metadata": {},
     "output_type": "execute_result"
    }
   ],
   "source": [
    "pop_dict_cart=data_base['product_id_CartStarted'].value_counts()\n",
    "print(pop_dict_cart.shape)\n",
    "pop_dict_cart_resetIndex=pop_dict_cart.reset_index()\n",
    "pop_dict_cart[:5]"
   ]
  },
  {
   "cell_type": "code",
   "execution_count": 68,
   "metadata": {
    "collapsed": false
   },
   "outputs": [
    {
     "data": {
      "text/html": [
       "<div>\n",
       "<table border=\"1\" class=\"dataframe\">\n",
       "  <thead>\n",
       "    <tr style=\"text-align: right;\">\n",
       "      <th></th>\n",
       "      <th>index</th>\n",
       "      <th>product_id_CartStarted</th>\n",
       "    </tr>\n",
       "  </thead>\n",
       "  <tbody>\n",
       "    <tr>\n",
       "      <th>1</th>\n",
       "      <td>4096588</td>\n",
       "      <td>8122</td>\n",
       "    </tr>\n",
       "    <tr>\n",
       "      <th>2</th>\n",
       "      <td>4031900</td>\n",
       "      <td>5727</td>\n",
       "    </tr>\n",
       "    <tr>\n",
       "      <th>3</th>\n",
       "      <td>3750568</td>\n",
       "      <td>5635</td>\n",
       "    </tr>\n",
       "    <tr>\n",
       "      <th>4</th>\n",
       "      <td>3173397</td>\n",
       "      <td>5495</td>\n",
       "    </tr>\n",
       "    <tr>\n",
       "      <th>5</th>\n",
       "      <td>3938318</td>\n",
       "      <td>3921</td>\n",
       "    </tr>\n",
       "  </tbody>\n",
       "</table>\n",
       "</div>"
      ],
      "text/plain": [
       "     index  product_id_CartStarted\n",
       "1  4096588                    8122\n",
       "2  4031900                    5727\n",
       "3  3750568                    5635\n",
       "4  3173397                    5495\n",
       "5  3938318                    3921"
      ]
     },
     "execution_count": 68,
     "metadata": {},
     "output_type": "execute_result"
    }
   ],
   "source": [
    "# delete the row with index=0\n",
    "pop_dict_cart_resetIndex = pop_dict_cart_resetIndex[1:]\n",
    "pop_dict_cart_resetIndex[:5]"
   ]
  },
  {
   "cell_type": "markdown",
   "metadata": {
    "collapsed": true
   },
   "source": [
    "- 这个函数来点当前的Product_id（in last cart）在product_id_CartStarted里面出现过多少次"
   ]
  },
  {
   "cell_type": "code",
   "execution_count": 71,
   "metadata": {
    "collapsed": true
   },
   "outputs": [],
   "source": [
    "def pop_count_ByCartStarted(x):\n",
    "    try:\n",
    "        return pop_dict_cart_resetIndex[x==pop_dict_cart_resetIndex['index']]['product_id_CartStarted'].values[0]\n",
    "    except IndexError:\n",
    "        return 0"
   ]
  },
  {
   "cell_type": "code",
   "execution_count": 72,
   "metadata": {
    "collapsed": false
   },
   "outputs": [
    {
     "name": "stdout",
     "output_type": "stream",
     "text": [
      "8122\n",
      "0\n",
      "0\n"
     ]
    }
   ],
   "source": [
    "# eg.:\n",
    "print(pop_count_ByCartStarted('4096588'))\n",
    "print(pop_count_ByCartStarted(0))\n",
    "print(pop_count_ByCartStarted(np.nan))"
   ]
  },
  {
   "cell_type": "code",
   "execution_count": 73,
   "metadata": {
    "collapsed": false
   },
   "outputs": [
    {
     "name": "stderr",
     "output_type": "stream",
     "text": [
      "Progress Bar: 100%|██████████| 220047/220047 [07:28<00:00, 491.01it/s]\n"
     ]
    }
   ],
   "source": [
    "df_PopByCart=df_LastProductInCart.progress_apply(lambda x: pop_count_ByCartStarted(x))"
   ]
  },
  {
   "cell_type": "code",
   "execution_count": 74,
   "metadata": {
    "collapsed": false
   },
   "outputs": [
    {
     "name": "stdout",
     "output_type": "stream",
     "text": [
      "(220047,)\n"
     ]
    },
    {
     "data": {
      "text/plain": [
       "id  num_sess\n",
       "1   1           3465\n",
       "    2           3465\n",
       "    3            736\n",
       "    4            736\n",
       "2   1           1420\n",
       "    2           2738\n",
       "    3             43\n",
       "    4           1799\n",
       "Name: product_id_CartStarted, dtype: int64"
      ]
     },
     "execution_count": 74,
     "metadata": {},
     "output_type": "execute_result"
    }
   ],
   "source": [
    "print(df_PopByCart.shape)\n",
    "df_PopByCart[:8]"
   ]
  },
  {
   "cell_type": "markdown",
   "metadata": {},
   "source": [
    "---"
   ]
  },
  {
   "cell_type": "code",
   "execution_count": 49,
   "metadata": {
    "collapsed": false
   },
   "outputs": [],
   "source": [
    "with open( \"../Data/Feature_Engineering/df_PopByCart.p\", \"rb\" ) as f:\n",
    "    df_PopByCart = pickle.load(f)"
   ]
  },
  {
   "cell_type": "code",
   "execution_count": 50,
   "metadata": {
    "collapsed": false
   },
   "outputs": [],
   "source": [
    "df_PopByCart.name='PopByCart'"
   ]
  },
  {
   "cell_type": "code",
   "execution_count": 51,
   "metadata": {
    "collapsed": false
   },
   "outputs": [
    {
     "data": {
      "text/plain": [
       "id  num_sess\n",
       "1   1           3465\n",
       "    2           3465\n",
       "    3            736\n",
       "Name: PopByCart, dtype: int64"
      ]
     },
     "execution_count": 51,
     "metadata": {},
     "output_type": "execute_result"
    }
   ],
   "source": [
    "df_PopByCart[:3]"
   ]
  },
  {
   "cell_type": "markdown",
   "metadata": {},
   "source": [
    "---"
   ]
  },
  {
   "cell_type": "markdown",
   "metadata": {},
   "source": [
    "**Save df_PopByCart**"
   ]
  },
  {
   "cell_type": "code",
   "execution_count": 52,
   "metadata": {
    "collapsed": false
   },
   "outputs": [
    {
     "name": "stdout",
     "output_type": "stream",
     "text": [
      "CPU times: user 5 ms, sys: 5 ms, total: 10 ms\n",
      "Wall time: 9.72 ms\n"
     ]
    }
   ],
   "source": [
    "%%time\n",
    "with open( \"../Data/Feature_Engineering/df_PopByCart.p\", \"wb\" ) as f:\n",
    "    pickle.dump(df_PopByCart, f)"
   ]
  },
  {
   "cell_type": "markdown",
   "metadata": {
    "collapsed": true
   },
   "source": [
    "---\n",
    "### 2.5 Porpularity of final Product in cart - (Purchased Edition)"
   ]
  },
  {
   "cell_type": "markdown",
   "metadata": {
    "collapsed": true
   },
   "source": [
    "Would come back to this when label is done "
   ]
  },
  {
   "cell_type": "code",
   "execution_count": null,
   "metadata": {
    "collapsed": true
   },
   "outputs": [],
   "source": []
  },
  {
   "cell_type": "code",
   "execution_count": null,
   "metadata": {
    "collapsed": true
   },
   "outputs": [],
   "source": []
  },
  {
   "cell_type": "code",
   "execution_count": null,
   "metadata": {
    "collapsed": true
   },
   "outputs": [],
   "source": []
  },
  {
   "cell_type": "markdown",
   "metadata": {},
   "source": [
    "---\n",
    "### 2.6 Email providor"
   ]
  },
  {
   "cell_type": "markdown",
   "metadata": {},
   "source": [
    "**Load data_base**"
   ]
  },
  {
   "cell_type": "code",
   "execution_count": 5,
   "metadata": {
    "collapsed": false
   },
   "outputs": [
    {
     "name": "stdout",
     "output_type": "stream",
     "text": [
      "CPU times: user 3.92 s, sys: 1.54 s, total: 5.45 s\n",
      "Wall time: 5.45 s\n"
     ]
    }
   ],
   "source": [
    "%%time\n",
    "with open( \"../Data/Feature_Engineering/data_base.p\", \"rb\" )  as f:\n",
    "    data_base=pickle.load(f)"
   ]
  },
  {
   "cell_type": "markdown",
   "metadata": {},
   "source": [
    "**Count email:**"
   ]
  },
  {
   "cell_type": "code",
   "execution_count": 6,
   "metadata": {
    "collapsed": false
   },
   "outputs": [
    {
     "name": "stdout",
     "output_type": "stream",
     "text": [
      "# email null in df_email is: \n",
      " 57372\n",
      "size of df_email:\n",
      " 220047\n"
     ]
    }
   ],
   "source": [
    "tmp=data_base.sort_values(['id','num_sess','email'], ascending=[True,True,False])\n",
    "df_email = tmp.groupby(['id','num_sess']).first()\n",
    "print('# email null in df_email is: \\n',sum(df_email.email.apply(lambda x: x==None)))\n",
    "print('size of df_email:\\n', df_email.shape[0])"
   ]
  },
  {
   "cell_type": "markdown",
   "metadata": {},
   "source": [
    "**email provider function**"
   ]
  },
  {
   "cell_type": "code",
   "execution_count": 7,
   "metadata": {
    "collapsed": false
   },
   "outputs": [],
   "source": [
    "def email_provider(email):  \n",
    "    email = email.lower()\n",
    "    return email.split('@')[1].split('.')[0]"
   ]
  },
  {
   "cell_type": "code",
   "execution_count": 8,
   "metadata": {
    "collapsed": false
   },
   "outputs": [
    {
     "data": {
      "text/plain": [
       "'aol'"
      ]
     },
     "execution_count": 8,
     "metadata": {},
     "output_type": "execute_result"
    }
   ],
   "source": [
    "email_provider(df_email.email.iloc[91803])"
   ]
  },
  {
   "cell_type": "code",
   "execution_count": 9,
   "metadata": {
    "collapsed": false
   },
   "outputs": [
    {
     "name": "stderr",
     "output_type": "stream",
     "text": [
      "Progress Bar: 100%|██████████| 220047/220047 [00:00<00:00, 422476.19it/s]\n"
     ]
    }
   ],
   "source": [
    "df_email.email=df_email.email.progress_apply(lambda x: email_provider(x) if not pd.isnull(x) else 'nun')"
   ]
  },
  {
   "cell_type": "code",
   "execution_count": 10,
   "metadata": {
    "collapsed": false
   },
   "outputs": [
    {
     "name": "stdout",
     "output_type": "stream",
     "text": [
      "(220047, 28)\n"
     ]
    },
    {
     "data": {
      "text/html": [
       "<div>\n",
       "<table border=\"1\" class=\"dataframe\">\n",
       "  <thead>\n",
       "    <tr style=\"text-align: right;\">\n",
       "      <th></th>\n",
       "      <th></th>\n",
       "      <th>session_id</th>\n",
       "      <th>finger_print</th>\n",
       "      <th>datetime</th>\n",
       "      <th>days</th>\n",
       "      <th>referrer</th>\n",
       "      <th>page_url</th>\n",
       "      <th>product_viewed_browse</th>\n",
       "      <th>cart_started</th>\n",
       "      <th>basket_paid_browsing</th>\n",
       "      <th>product_name</th>\n",
       "      <th>product_save</th>\n",
       "      <th>product_price</th>\n",
       "      <th>product_time_left</th>\n",
       "      <th>email</th>\n",
       "      <th>Post_Code</th>\n",
       "      <th>cart_startTime</th>\n",
       "      <th>product_viewed_cart</th>\n",
       "      <th>total</th>\n",
       "      <th>basket_paid_cart</th>\n",
       "      <th>payment_type</th>\n",
       "      <th>email_click_through</th>\n",
       "      <th>cart_firstTime</th>\n",
       "      <th>cart_lastTime</th>\n",
       "      <th>basketInfoTime</th>\n",
       "      <th>user_agent</th>\n",
       "      <th>product_id_ProductViewed</th>\n",
       "      <th>product_id_CartStarted</th>\n",
       "      <th>last_cart_started</th>\n",
       "    </tr>\n",
       "    <tr>\n",
       "      <th>id</th>\n",
       "      <th>num_sess</th>\n",
       "      <th></th>\n",
       "      <th></th>\n",
       "      <th></th>\n",
       "      <th></th>\n",
       "      <th></th>\n",
       "      <th></th>\n",
       "      <th></th>\n",
       "      <th></th>\n",
       "      <th></th>\n",
       "      <th></th>\n",
       "      <th></th>\n",
       "      <th></th>\n",
       "      <th></th>\n",
       "      <th></th>\n",
       "      <th></th>\n",
       "      <th></th>\n",
       "      <th></th>\n",
       "      <th></th>\n",
       "      <th></th>\n",
       "      <th></th>\n",
       "      <th></th>\n",
       "      <th></th>\n",
       "      <th></th>\n",
       "      <th></th>\n",
       "      <th></th>\n",
       "      <th></th>\n",
       "      <th></th>\n",
       "      <th></th>\n",
       "    </tr>\n",
       "  </thead>\n",
       "  <tbody>\n",
       "    <tr>\n",
       "      <th rowspan=\"4\" valign=\"top\">1</th>\n",
       "      <th>1</th>\n",
       "      <td>k79c9lk1nfop9m4wx0fmrg16</td>\n",
       "      <td>5c6eaac3c9db786d83c28c4d673ff556</td>\n",
       "      <td>2017-05-19 08:02:53</td>\n",
       "      <td>19</td>\n",
       "      <td></td>\n",
       "      <td>https://secure.wowcher.co.uk/checkout/3838997?...</td>\n",
       "      <td>NaT</td>\n",
       "      <td>2017-05-19 08:02:51.292000000</td>\n",
       "      <td>None</td>\n",
       "      <td>None</td>\n",
       "      <td>None</td>\n",
       "      <td>None</td>\n",
       "      <td>None</td>\n",
       "      <td>nun</td>\n",
       "      <td>None</td>\n",
       "      <td>2017-05-19 08:02:51</td>\n",
       "      <td>None</td>\n",
       "      <td>None</td>\n",
       "      <td>False</td>\n",
       "      <td>None</td>\n",
       "      <td>True</td>\n",
       "      <td>2017-05-19 08:02:53+00:00</td>\n",
       "      <td>2017-05-19 08:02:53+00:00</td>\n",
       "      <td>1495182843</td>\n",
       "      <td>Mozilla/5.0+(iPhone;+CPU+iPhone+OS+10_3_1+like...</td>\n",
       "      <td>NaN</td>\n",
       "      <td>3838997</td>\n",
       "      <td>2017-05-19 08:02:53</td>\n",
       "    </tr>\n",
       "    <tr>\n",
       "      <th>2</th>\n",
       "      <td>w2gunkrgoifz0j4agqb8bz4</td>\n",
       "      <td>5c6eaac3c9db786d83c28c4d673ff556</td>\n",
       "      <td>2017-05-19 13:51:59</td>\n",
       "      <td>19</td>\n",
       "      <td></td>\n",
       "      <td>https://secure.wowcher.co.uk/checkout/3838997?...</td>\n",
       "      <td>NaT</td>\n",
       "      <td>2017-05-19 08:02:51.292000000</td>\n",
       "      <td>None</td>\n",
       "      <td>None</td>\n",
       "      <td>None</td>\n",
       "      <td>None</td>\n",
       "      <td>None</td>\n",
       "      <td>nun</td>\n",
       "      <td>None</td>\n",
       "      <td>2017-05-19 08:02:51</td>\n",
       "      <td>None</td>\n",
       "      <td>None</td>\n",
       "      <td>False</td>\n",
       "      <td>None</td>\n",
       "      <td>True</td>\n",
       "      <td>2017-05-19 13:51:59+00:00</td>\n",
       "      <td>2017-05-19 13:51:59+00:00</td>\n",
       "      <td>1495203782</td>\n",
       "      <td>Mozilla/5.0+(iPhone;+CPU+iPhone+OS+10_3_1+like...</td>\n",
       "      <td>NaN</td>\n",
       "      <td>3838997</td>\n",
       "      <td>2017-05-19 13:51:59</td>\n",
       "    </tr>\n",
       "    <tr>\n",
       "      <th>3</th>\n",
       "      <td>14qy38xtlrcnc1lamkqq6fqd84</td>\n",
       "      <td>5c6eaac3c9db786d83c28c4d673ff556</td>\n",
       "      <td>2017-06-02 21:40:06</td>\n",
       "      <td>2</td>\n",
       "      <td></td>\n",
       "      <td>https://www.wowcher.co.uk/deal/shop/4096138/bl...</td>\n",
       "      <td>NaT</td>\n",
       "      <td>2017-06-02 21:40:06.147000064</td>\n",
       "      <td>None</td>\n",
       "      <td>Thermal Blackout Curtains - 9 Colours &amp; 5 Sizes!</td>\n",
       "      <td>75%</td>\n",
       "      <td>9</td>\n",
       "      <td>03:01:20:04</td>\n",
       "      <td>nun</td>\n",
       "      <td>None</td>\n",
       "      <td>2017-06-02 21:40:06</td>\n",
       "      <td>None</td>\n",
       "      <td>9</td>\n",
       "      <td>False</td>\n",
       "      <td>None</td>\n",
       "      <td>False</td>\n",
       "      <td>2017-06-02 21:40:06+00:00</td>\n",
       "      <td>2017-06-02 21:40:06+00:00</td>\n",
       "      <td>1496441524</td>\n",
       "      <td>Mozilla/5.0+(iPhone;+CPU+iPhone+OS+10_3_1+like...</td>\n",
       "      <td>NaN</td>\n",
       "      <td>4096138</td>\n",
       "      <td>2017-06-02 21:40:06</td>\n",
       "    </tr>\n",
       "    <tr>\n",
       "      <th>4</th>\n",
       "      <td>1vf4mz1acp57x1p1zlyz5xebe6</td>\n",
       "      <td>5c6eaac3c9db786d83c28c4d673ff556</td>\n",
       "      <td>2017-06-09 14:23:10</td>\n",
       "      <td>9</td>\n",
       "      <td></td>\n",
       "      <td>https://www.wowcher.co.uk/deal/shop/4096138/bl...</td>\n",
       "      <td>NaT</td>\n",
       "      <td>2017-06-09 14:23:10.016999936</td>\n",
       "      <td>None</td>\n",
       "      <td>Thermal Blackout Curtains - 9 Colours &amp; 5 Sizes!</td>\n",
       "      <td>75%</td>\n",
       "      <td>9</td>\n",
       "      <td>00:08:36:54</td>\n",
       "      <td>nun</td>\n",
       "      <td>None</td>\n",
       "      <td>2017-06-09 14:23:10</td>\n",
       "      <td>None</td>\n",
       "      <td>9</td>\n",
       "      <td>False</td>\n",
       "      <td>None</td>\n",
       "      <td>False</td>\n",
       "      <td>2017-06-09 14:23:10+00:00</td>\n",
       "      <td>2017-06-09 14:23:10+00:00</td>\n",
       "      <td>1497020106</td>\n",
       "      <td>Mozilla/5.0+(iPhone;+CPU+iPhone+OS+10_3_1+like...</td>\n",
       "      <td>NaN</td>\n",
       "      <td>4096138</td>\n",
       "      <td>2017-06-09 14:23:10</td>\n",
       "    </tr>\n",
       "    <tr>\n",
       "      <th rowspan=\"9\" valign=\"top\">2000</th>\n",
       "      <th>1</th>\n",
       "      <td>j9w8zmjs7et71h9zjnhvy8x3e</td>\n",
       "      <td>5d1cbe1850d2ef372568a01081d6f548</td>\n",
       "      <td>2017-05-22 07:40:09</td>\n",
       "      <td>22</td>\n",
       "      <td></td>\n",
       "      <td>https://www.wowcher.co.uk/email-deals/travel/3...</td>\n",
       "      <td>NaT</td>\n",
       "      <td>2017-05-22 07:40:09.052999936</td>\n",
       "      <td>None</td>\n",
       "      <td>Chester Family Stay &amp; Zoo Entry - Summer Dates!</td>\n",
       "      <td>38%</td>\n",
       "      <td>99</td>\n",
       "      <td>03:15:19:52</td>\n",
       "      <td>flowtechnologyuk</td>\n",
       "      <td>None</td>\n",
       "      <td>2017-05-22 07:40:09</td>\n",
       "      <td>None</td>\n",
       "      <td>99</td>\n",
       "      <td>False</td>\n",
       "      <td>None</td>\n",
       "      <td>False</td>\n",
       "      <td>2017-05-22 07:40:09+00:00</td>\n",
       "      <td>2017-05-22 07:40:09+00:00</td>\n",
       "      <td>1495440724</td>\n",
       "      <td>Mozilla/5.0+(Windows+NT+6.1;+WOW64;+Trident/7....</td>\n",
       "      <td>NaN</td>\n",
       "      <td>3950272</td>\n",
       "      <td>2017-05-22 07:40:09</td>\n",
       "    </tr>\n",
       "    <tr>\n",
       "      <th>2</th>\n",
       "      <td>8pjrk1nrfl0ntndfysb9046i</td>\n",
       "      <td>5d1cbe1850d2ef372568a01081d6f548</td>\n",
       "      <td>2017-05-22 08:44:02</td>\n",
       "      <td>22</td>\n",
       "      <td></td>\n",
       "      <td>https://secure.wowcher.co.uk/checkout/3950272?...</td>\n",
       "      <td>NaT</td>\n",
       "      <td>2017-05-22 08:44:02.768999936</td>\n",
       "      <td>None</td>\n",
       "      <td>Chester Family Stay &amp; Zoo Entry - Summer Dates!</td>\n",
       "      <td>None</td>\n",
       "      <td>99.00</td>\n",
       "      <td>03:15:19:52</td>\n",
       "      <td>flowtechnologyuk</td>\n",
       "      <td>None</td>\n",
       "      <td>2017-05-22 08:44:00</td>\n",
       "      <td>None</td>\n",
       "      <td>0.00</td>\n",
       "      <td>False</td>\n",
       "      <td>None</td>\n",
       "      <td>True</td>\n",
       "      <td>2017-05-22 08:44:00+00:00</td>\n",
       "      <td>2017-05-22 08:44:02+00:00</td>\n",
       "      <td>1495444504</td>\n",
       "      <td>Mozilla/5.0+(Windows+NT+6.1;+WOW64;+Trident/7....</td>\n",
       "      <td>NaN</td>\n",
       "      <td>3950272</td>\n",
       "      <td>2017-05-22 08:44:02</td>\n",
       "    </tr>\n",
       "    <tr>\n",
       "      <th>3</th>\n",
       "      <td>o41lumrzu4arg94iiaz0qmll</td>\n",
       "      <td>5d1cbe1850d2ef372568a01081d6f548</td>\n",
       "      <td>2017-06-05 10:11:35</td>\n",
       "      <td>5</td>\n",
       "      <td>https://www.wowcher.co.uk/email-deals/travel/4...</td>\n",
       "      <td>https://secure.wowcher.co.uk/checkout/4096640?...</td>\n",
       "      <td>NaT</td>\n",
       "      <td>2017-06-05 10:11:35.091000064</td>\n",
       "      <td>None</td>\n",
       "      <td>3nt All-Inclusive Mallorca &amp; Flights - Or Call...</td>\n",
       "      <td>49%</td>\n",
       "      <td>149.00</td>\n",
       "      <td>05:12:49:03</td>\n",
       "      <td>flowtechnologyuk</td>\n",
       "      <td>None</td>\n",
       "      <td>2017-06-05 10:11:31</td>\n",
       "      <td>None</td>\n",
       "      <td>447.00</td>\n",
       "      <td>False</td>\n",
       "      <td>None</td>\n",
       "      <td>False</td>\n",
       "      <td>2017-06-05 10:11:31+00:00</td>\n",
       "      <td>2017-06-05 10:11:35+00:00</td>\n",
       "      <td>1496659387</td>\n",
       "      <td>Mozilla/5.0+(Windows+NT+6.1;+WOW64;+Trident/7....</td>\n",
       "      <td>NaN</td>\n",
       "      <td>4096640</td>\n",
       "      <td>2017-06-05 10:11:35</td>\n",
       "    </tr>\n",
       "    <tr>\n",
       "      <th>4</th>\n",
       "      <td>1kdo851g2wol61d18fy3ub79j7</td>\n",
       "      <td>5d1cbe1850d2ef372568a01081d6f548</td>\n",
       "      <td>2017-06-06 08:00:37</td>\n",
       "      <td>6</td>\n",
       "      <td>https://www.wowcher.co.uk/email-deals/liverpoo...</td>\n",
       "      <td>https://secure.wowcher.co.uk/checkout/4155974?...</td>\n",
       "      <td>NaT</td>\n",
       "      <td>2017-06-06 08:00:37.521999872</td>\n",
       "      <td>None</td>\n",
       "      <td>2nt Blackpool Stay &amp; Breakfast @ Waters Edge</td>\n",
       "      <td>45%</td>\n",
       "      <td>59.00</td>\n",
       "      <td>03:15:00:02</td>\n",
       "      <td>flowtechnologyuk</td>\n",
       "      <td>None</td>\n",
       "      <td>2017-06-06 08:00:35</td>\n",
       "      <td>None</td>\n",
       "      <td>59.00</td>\n",
       "      <td>False</td>\n",
       "      <td>None</td>\n",
       "      <td>False</td>\n",
       "      <td>2017-06-06 08:00:36+00:00</td>\n",
       "      <td>2017-06-06 08:00:37+00:00</td>\n",
       "      <td>1496737923</td>\n",
       "      <td>Mozilla/5.0+(Windows+NT+6.1;+WOW64;+Trident/7....</td>\n",
       "      <td>NaN</td>\n",
       "      <td>4155974</td>\n",
       "      <td>2017-06-06 08:00:37</td>\n",
       "    </tr>\n",
       "    <tr>\n",
       "      <th>5</th>\n",
       "      <td>183zjbajje2ga1rma0uae3uhj</td>\n",
       "      <td>5d1cbe1850d2ef372568a01081d6f548</td>\n",
       "      <td>2017-06-06 09:12:54</td>\n",
       "      <td>6</td>\n",
       "      <td>https://www.wowcher.co.uk/email-deals/liverpoo...</td>\n",
       "      <td>https://secure.wowcher.co.uk/checkout/4106509?...</td>\n",
       "      <td>NaT</td>\n",
       "      <td>2017-06-06 09:12:51.056999936</td>\n",
       "      <td>None</td>\n",
       "      <td>Lancashire Stay for 2 with Breakfast Dining Cr...</td>\n",
       "      <td>None</td>\n",
       "      <td>79.00</td>\n",
       "      <td>00:13:48:36</td>\n",
       "      <td>flowtechnologyuk</td>\n",
       "      <td>None</td>\n",
       "      <td>2017-06-06 09:12:50</td>\n",
       "      <td>None</td>\n",
       "      <td>79.00</td>\n",
       "      <td>False</td>\n",
       "      <td>None</td>\n",
       "      <td>False</td>\n",
       "      <td>2017-06-06 09:12:50+00:00</td>\n",
       "      <td>2017-06-06 09:12:54+00:00</td>\n",
       "      <td>1496742245</td>\n",
       "      <td>Mozilla/5.0+(Windows+NT+6.1;+WOW64;+Trident/7....</td>\n",
       "      <td>NaN</td>\n",
       "      <td>4106509</td>\n",
       "      <td>2017-06-06 09:12:54</td>\n",
       "    </tr>\n",
       "    <tr>\n",
       "      <th>6</th>\n",
       "      <td>1umkum1623h2i8t9f6ewhkafi</td>\n",
       "      <td>5d1cbe1850d2ef372568a01081d6f548</td>\n",
       "      <td>2017-06-07 14:15:56</td>\n",
       "      <td>7</td>\n",
       "      <td>https://www.wowcher.co.uk/email-deals/travel/3...</td>\n",
       "      <td>https://secure.wowcher.co.uk/checkout/3998003?...</td>\n",
       "      <td>NaT</td>\n",
       "      <td>2017-06-07 14:15:56.416999936</td>\n",
       "      <td>None</td>\n",
       "      <td>2nt 4* Amsterdam Spa Break Flights &amp; Prosecco</td>\n",
       "      <td>None</td>\n",
       "      <td>169.00</td>\n",
       "      <td>13:08:44:39</td>\n",
       "      <td>flowtechnologyuk</td>\n",
       "      <td>None</td>\n",
       "      <td>2017-06-07 14:15:21</td>\n",
       "      <td>None</td>\n",
       "      <td>338.00</td>\n",
       "      <td>False</td>\n",
       "      <td>None</td>\n",
       "      <td>False</td>\n",
       "      <td>2017-06-07 14:15:21+00:00</td>\n",
       "      <td>2017-06-07 14:15:56+00:00</td>\n",
       "      <td>1496846830</td>\n",
       "      <td>Mozilla/5.0+(Windows+NT+6.1;+WOW64;+Trident/7....</td>\n",
       "      <td>NaN</td>\n",
       "      <td>3998003</td>\n",
       "      <td>2017-06-07 14:15:56</td>\n",
       "    </tr>\n",
       "    <tr>\n",
       "      <th>7</th>\n",
       "      <td>qz9q18evh7fwajorozfqmfo4</td>\n",
       "      <td>5d1cbe1850d2ef372568a01081d6f548</td>\n",
       "      <td>2017-06-08 14:56:01</td>\n",
       "      <td>8</td>\n",
       "      <td>https://www.wowcher.co.uk/deal/travel/3998003/...</td>\n",
       "      <td>https://secure.wowcher.co.uk/checkout/3998003?...</td>\n",
       "      <td>NaT</td>\n",
       "      <td>2017-06-08 14:56:00.711000064</td>\n",
       "      <td>None</td>\n",
       "      <td>2nt 4* Amsterdam Spa Break Flights &amp; Prosecco</td>\n",
       "      <td>None</td>\n",
       "      <td>169.00</td>\n",
       "      <td>12:08:04:40</td>\n",
       "      <td>flowtechnologyuk</td>\n",
       "      <td>None</td>\n",
       "      <td>2017-06-08 14:55:21</td>\n",
       "      <td>None</td>\n",
       "      <td>338.00</td>\n",
       "      <td>False</td>\n",
       "      <td>None</td>\n",
       "      <td>True</td>\n",
       "      <td>2017-06-08 14:55:28+00:00</td>\n",
       "      <td>2017-06-08 14:56:01+00:00</td>\n",
       "      <td>1496935625</td>\n",
       "      <td>Mozilla/5.0+(Windows+NT+6.1;+WOW64;+Trident/7....</td>\n",
       "      <td>NaN</td>\n",
       "      <td>3998003</td>\n",
       "      <td>2017-06-08 14:56:01</td>\n",
       "    </tr>\n",
       "    <tr>\n",
       "      <th>8</th>\n",
       "      <td>68e6cd539kdddb3lgexbqb7w</td>\n",
       "      <td>5d1cbe1850d2ef372568a01081d6f548</td>\n",
       "      <td>2017-06-09 15:00:17</td>\n",
       "      <td>9</td>\n",
       "      <td>https://www.wowcher.co.uk/email-deals/liverpoo...</td>\n",
       "      <td>https://secure.wowcher.co.uk/checkout/4172490?...</td>\n",
       "      <td>NaT</td>\n",
       "      <td>2017-06-09 15:00:17.249999872</td>\n",
       "      <td>None</td>\n",
       "      <td>8-Mile Helicopter Flight &amp; Drink Eccles</td>\n",
       "      <td>42%</td>\n",
       "      <td>29.00</td>\n",
       "      <td>03:08:01:06</td>\n",
       "      <td>flowtechnologyuk</td>\n",
       "      <td>None</td>\n",
       "      <td>2017-06-09 15:00:16</td>\n",
       "      <td>None</td>\n",
       "      <td>29.00</td>\n",
       "      <td>False</td>\n",
       "      <td>None</td>\n",
       "      <td>False</td>\n",
       "      <td>2017-06-09 15:00:16+00:00</td>\n",
       "      <td>2017-06-09 15:00:17+00:00</td>\n",
       "      <td>1497022327</td>\n",
       "      <td>Mozilla/5.0+(Windows+NT+6.1;+WOW64;+Trident/7....</td>\n",
       "      <td>NaN</td>\n",
       "      <td>4172490</td>\n",
       "      <td>2017-06-09 15:00:17</td>\n",
       "    </tr>\n",
       "    <tr>\n",
       "      <th>9</th>\n",
       "      <td>18x0649akpilt1exeipgydesc4</td>\n",
       "      <td>0dec8ca8eedb6d7f0598a8897fb9e7e2</td>\n",
       "      <td>2017-06-14 14:34:53</td>\n",
       "      <td>14</td>\n",
       "      <td>https://www.wowcher.co.uk/email-deals/travel/4...</td>\n",
       "      <td>https://secure.wowcher.co.uk/checkout/4096588?...</td>\n",
       "      <td>NaT</td>\n",
       "      <td>2017-06-14 14:34:53.851000064</td>\n",
       "      <td>None</td>\n",
       "      <td>3-4nt Summer Parkdean Resorts Stay for 6 - 48 ...</td>\n",
       "      <td>50%</td>\n",
       "      <td>99.00</td>\n",
       "      <td>03:08:32:12</td>\n",
       "      <td>flowtechnologyuk</td>\n",
       "      <td>wn8 6rs</td>\n",
       "      <td>2017-06-14 14:28:03</td>\n",
       "      <td>None</td>\n",
       "      <td>99.00</td>\n",
       "      <td>False</td>\n",
       "      <td>paypalExpress</td>\n",
       "      <td>False</td>\n",
       "      <td>2017-06-14 14:28:03+00:00</td>\n",
       "      <td>2017-06-14 14:34:53+00:00</td>\n",
       "      <td>1497452763</td>\n",
       "      <td>Mozilla/5.0+(Windows+NT+6.1;+WOW64;+Trident/7....</td>\n",
       "      <td>NaN</td>\n",
       "      <td>4096588</td>\n",
       "      <td>2017-06-14 14:34:53</td>\n",
       "    </tr>\n",
       "  </tbody>\n",
       "</table>\n",
       "</div>"
      ],
      "text/plain": [
       "                               session_id                      finger_print  \\\n",
       "id   num_sess                                                                 \n",
       "1    1           k79c9lk1nfop9m4wx0fmrg16  5c6eaac3c9db786d83c28c4d673ff556   \n",
       "     2            w2gunkrgoifz0j4agqb8bz4  5c6eaac3c9db786d83c28c4d673ff556   \n",
       "     3         14qy38xtlrcnc1lamkqq6fqd84  5c6eaac3c9db786d83c28c4d673ff556   \n",
       "     4         1vf4mz1acp57x1p1zlyz5xebe6  5c6eaac3c9db786d83c28c4d673ff556   \n",
       "2000 1          j9w8zmjs7et71h9zjnhvy8x3e  5d1cbe1850d2ef372568a01081d6f548   \n",
       "     2           8pjrk1nrfl0ntndfysb9046i  5d1cbe1850d2ef372568a01081d6f548   \n",
       "     3           o41lumrzu4arg94iiaz0qmll  5d1cbe1850d2ef372568a01081d6f548   \n",
       "     4         1kdo851g2wol61d18fy3ub79j7  5d1cbe1850d2ef372568a01081d6f548   \n",
       "     5          183zjbajje2ga1rma0uae3uhj  5d1cbe1850d2ef372568a01081d6f548   \n",
       "     6          1umkum1623h2i8t9f6ewhkafi  5d1cbe1850d2ef372568a01081d6f548   \n",
       "     7           qz9q18evh7fwajorozfqmfo4  5d1cbe1850d2ef372568a01081d6f548   \n",
       "     8           68e6cd539kdddb3lgexbqb7w  5d1cbe1850d2ef372568a01081d6f548   \n",
       "     9         18x0649akpilt1exeipgydesc4  0dec8ca8eedb6d7f0598a8897fb9e7e2   \n",
       "\n",
       "                         datetime  days  \\\n",
       "id   num_sess                             \n",
       "1    1        2017-05-19 08:02:53    19   \n",
       "     2        2017-05-19 13:51:59    19   \n",
       "     3        2017-06-02 21:40:06     2   \n",
       "     4        2017-06-09 14:23:10     9   \n",
       "2000 1        2017-05-22 07:40:09    22   \n",
       "     2        2017-05-22 08:44:02    22   \n",
       "     3        2017-06-05 10:11:35     5   \n",
       "     4        2017-06-06 08:00:37     6   \n",
       "     5        2017-06-06 09:12:54     6   \n",
       "     6        2017-06-07 14:15:56     7   \n",
       "     7        2017-06-08 14:56:01     8   \n",
       "     8        2017-06-09 15:00:17     9   \n",
       "     9        2017-06-14 14:34:53    14   \n",
       "\n",
       "                                                        referrer  \\\n",
       "id   num_sess                                                      \n",
       "1    1                                                             \n",
       "     2                                                             \n",
       "     3                                                             \n",
       "     4                                                             \n",
       "2000 1                                                             \n",
       "     2                                                             \n",
       "     3         https://www.wowcher.co.uk/email-deals/travel/4...   \n",
       "     4         https://www.wowcher.co.uk/email-deals/liverpoo...   \n",
       "     5         https://www.wowcher.co.uk/email-deals/liverpoo...   \n",
       "     6         https://www.wowcher.co.uk/email-deals/travel/3...   \n",
       "     7         https://www.wowcher.co.uk/deal/travel/3998003/...   \n",
       "     8         https://www.wowcher.co.uk/email-deals/liverpoo...   \n",
       "     9         https://www.wowcher.co.uk/email-deals/travel/4...   \n",
       "\n",
       "                                                        page_url  \\\n",
       "id   num_sess                                                      \n",
       "1    1         https://secure.wowcher.co.uk/checkout/3838997?...   \n",
       "     2         https://secure.wowcher.co.uk/checkout/3838997?...   \n",
       "     3         https://www.wowcher.co.uk/deal/shop/4096138/bl...   \n",
       "     4         https://www.wowcher.co.uk/deal/shop/4096138/bl...   \n",
       "2000 1         https://www.wowcher.co.uk/email-deals/travel/3...   \n",
       "     2         https://secure.wowcher.co.uk/checkout/3950272?...   \n",
       "     3         https://secure.wowcher.co.uk/checkout/4096640?...   \n",
       "     4         https://secure.wowcher.co.uk/checkout/4155974?...   \n",
       "     5         https://secure.wowcher.co.uk/checkout/4106509?...   \n",
       "     6         https://secure.wowcher.co.uk/checkout/3998003?...   \n",
       "     7         https://secure.wowcher.co.uk/checkout/3998003?...   \n",
       "     8         https://secure.wowcher.co.uk/checkout/4172490?...   \n",
       "     9         https://secure.wowcher.co.uk/checkout/4096588?...   \n",
       "\n",
       "              product_viewed_browse                  cart_started  \\\n",
       "id   num_sess                                                       \n",
       "1    1                          NaT 2017-05-19 08:02:51.292000000   \n",
       "     2                          NaT 2017-05-19 08:02:51.292000000   \n",
       "     3                          NaT 2017-06-02 21:40:06.147000064   \n",
       "     4                          NaT 2017-06-09 14:23:10.016999936   \n",
       "2000 1                          NaT 2017-05-22 07:40:09.052999936   \n",
       "     2                          NaT 2017-05-22 08:44:02.768999936   \n",
       "     3                          NaT 2017-06-05 10:11:35.091000064   \n",
       "     4                          NaT 2017-06-06 08:00:37.521999872   \n",
       "     5                          NaT 2017-06-06 09:12:51.056999936   \n",
       "     6                          NaT 2017-06-07 14:15:56.416999936   \n",
       "     7                          NaT 2017-06-08 14:56:00.711000064   \n",
       "     8                          NaT 2017-06-09 15:00:17.249999872   \n",
       "     9                          NaT 2017-06-14 14:34:53.851000064   \n",
       "\n",
       "              basket_paid_browsing  \\\n",
       "id   num_sess                        \n",
       "1    1                        None   \n",
       "     2                        None   \n",
       "     3                        None   \n",
       "     4                        None   \n",
       "2000 1                        None   \n",
       "     2                        None   \n",
       "     3                        None   \n",
       "     4                        None   \n",
       "     5                        None   \n",
       "     6                        None   \n",
       "     7                        None   \n",
       "     8                        None   \n",
       "     9                        None   \n",
       "\n",
       "                                                    product_name product_save  \\\n",
       "id   num_sess                                                                   \n",
       "1    1                                                      None         None   \n",
       "     2                                                      None         None   \n",
       "     3          Thermal Blackout Curtains - 9 Colours & 5 Sizes!          75%   \n",
       "     4          Thermal Blackout Curtains - 9 Colours & 5 Sizes!          75%   \n",
       "2000 1           Chester Family Stay & Zoo Entry - Summer Dates!          38%   \n",
       "     2           Chester Family Stay & Zoo Entry - Summer Dates!         None   \n",
       "     3         3nt All-Inclusive Mallorca & Flights - Or Call...          49%   \n",
       "     4              2nt Blackpool Stay & Breakfast @ Waters Edge          45%   \n",
       "     5         Lancashire Stay for 2 with Breakfast Dining Cr...         None   \n",
       "     6             2nt 4* Amsterdam Spa Break Flights & Prosecco         None   \n",
       "     7             2nt 4* Amsterdam Spa Break Flights & Prosecco         None   \n",
       "     8                   8-Mile Helicopter Flight & Drink Eccles          42%   \n",
       "     9         3-4nt Summer Parkdean Resorts Stay for 6 - 48 ...          50%   \n",
       "\n",
       "              product_price product_time_left             email Post_Code  \\\n",
       "id   num_sess                                                               \n",
       "1    1                 None              None               nun      None   \n",
       "     2                 None              None               nun      None   \n",
       "     3                    9       03:01:20:04               nun      None   \n",
       "     4                    9       00:08:36:54               nun      None   \n",
       "2000 1                   99       03:15:19:52  flowtechnologyuk      None   \n",
       "     2                99.00       03:15:19:52  flowtechnologyuk      None   \n",
       "     3               149.00       05:12:49:03  flowtechnologyuk      None   \n",
       "     4                59.00       03:15:00:02  flowtechnologyuk      None   \n",
       "     5                79.00       00:13:48:36  flowtechnologyuk      None   \n",
       "     6               169.00       13:08:44:39  flowtechnologyuk      None   \n",
       "     7               169.00       12:08:04:40  flowtechnologyuk      None   \n",
       "     8                29.00       03:08:01:06  flowtechnologyuk      None   \n",
       "     9                99.00       03:08:32:12  flowtechnologyuk   wn8 6rs   \n",
       "\n",
       "                    cart_startTime product_viewed_cart   total  \\\n",
       "id   num_sess                                                    \n",
       "1    1         2017-05-19 08:02:51                None    None   \n",
       "     2         2017-05-19 08:02:51                None    None   \n",
       "     3         2017-06-02 21:40:06                None       9   \n",
       "     4         2017-06-09 14:23:10                None       9   \n",
       "2000 1         2017-05-22 07:40:09                None      99   \n",
       "     2         2017-05-22 08:44:00                None    0.00   \n",
       "     3         2017-06-05 10:11:31                None  447.00   \n",
       "     4         2017-06-06 08:00:35                None   59.00   \n",
       "     5         2017-06-06 09:12:50                None   79.00   \n",
       "     6         2017-06-07 14:15:21                None  338.00   \n",
       "     7         2017-06-08 14:55:21                None  338.00   \n",
       "     8         2017-06-09 15:00:16                None   29.00   \n",
       "     9         2017-06-14 14:28:03                None   99.00   \n",
       "\n",
       "              basket_paid_cart   payment_type email_click_through  \\\n",
       "id   num_sess                                                       \n",
       "1    1                   False           None                True   \n",
       "     2                   False           None                True   \n",
       "     3                   False           None               False   \n",
       "     4                   False           None               False   \n",
       "2000 1                   False           None               False   \n",
       "     2                   False           None                True   \n",
       "     3                   False           None               False   \n",
       "     4                   False           None               False   \n",
       "     5                   False           None               False   \n",
       "     6                   False           None               False   \n",
       "     7                   False           None                True   \n",
       "     8                   False           None               False   \n",
       "     9                   False  paypalExpress               False   \n",
       "\n",
       "                         cart_firstTime             cart_lastTime  \\\n",
       "id   num_sess                                                       \n",
       "1    1        2017-05-19 08:02:53+00:00 2017-05-19 08:02:53+00:00   \n",
       "     2        2017-05-19 13:51:59+00:00 2017-05-19 13:51:59+00:00   \n",
       "     3        2017-06-02 21:40:06+00:00 2017-06-02 21:40:06+00:00   \n",
       "     4        2017-06-09 14:23:10+00:00 2017-06-09 14:23:10+00:00   \n",
       "2000 1        2017-05-22 07:40:09+00:00 2017-05-22 07:40:09+00:00   \n",
       "     2        2017-05-22 08:44:00+00:00 2017-05-22 08:44:02+00:00   \n",
       "     3        2017-06-05 10:11:31+00:00 2017-06-05 10:11:35+00:00   \n",
       "     4        2017-06-06 08:00:36+00:00 2017-06-06 08:00:37+00:00   \n",
       "     5        2017-06-06 09:12:50+00:00 2017-06-06 09:12:54+00:00   \n",
       "     6        2017-06-07 14:15:21+00:00 2017-06-07 14:15:56+00:00   \n",
       "     7        2017-06-08 14:55:28+00:00 2017-06-08 14:56:01+00:00   \n",
       "     8        2017-06-09 15:00:16+00:00 2017-06-09 15:00:17+00:00   \n",
       "     9        2017-06-14 14:28:03+00:00 2017-06-14 14:34:53+00:00   \n",
       "\n",
       "              basketInfoTime  \\\n",
       "id   num_sess                  \n",
       "1    1            1495182843   \n",
       "     2            1495203782   \n",
       "     3            1496441524   \n",
       "     4            1497020106   \n",
       "2000 1            1495440724   \n",
       "     2            1495444504   \n",
       "     3            1496659387   \n",
       "     4            1496737923   \n",
       "     5            1496742245   \n",
       "     6            1496846830   \n",
       "     7            1496935625   \n",
       "     8            1497022327   \n",
       "     9            1497452763   \n",
       "\n",
       "                                                      user_agent  \\\n",
       "id   num_sess                                                      \n",
       "1    1         Mozilla/5.0+(iPhone;+CPU+iPhone+OS+10_3_1+like...   \n",
       "     2         Mozilla/5.0+(iPhone;+CPU+iPhone+OS+10_3_1+like...   \n",
       "     3         Mozilla/5.0+(iPhone;+CPU+iPhone+OS+10_3_1+like...   \n",
       "     4         Mozilla/5.0+(iPhone;+CPU+iPhone+OS+10_3_1+like...   \n",
       "2000 1         Mozilla/5.0+(Windows+NT+6.1;+WOW64;+Trident/7....   \n",
       "     2         Mozilla/5.0+(Windows+NT+6.1;+WOW64;+Trident/7....   \n",
       "     3         Mozilla/5.0+(Windows+NT+6.1;+WOW64;+Trident/7....   \n",
       "     4         Mozilla/5.0+(Windows+NT+6.1;+WOW64;+Trident/7....   \n",
       "     5         Mozilla/5.0+(Windows+NT+6.1;+WOW64;+Trident/7....   \n",
       "     6         Mozilla/5.0+(Windows+NT+6.1;+WOW64;+Trident/7....   \n",
       "     7         Mozilla/5.0+(Windows+NT+6.1;+WOW64;+Trident/7....   \n",
       "     8         Mozilla/5.0+(Windows+NT+6.1;+WOW64;+Trident/7....   \n",
       "     9         Mozilla/5.0+(Windows+NT+6.1;+WOW64;+Trident/7....   \n",
       "\n",
       "              product_id_ProductViewed product_id_CartStarted  \\\n",
       "id   num_sess                                                   \n",
       "1    1                             NaN                3838997   \n",
       "     2                             NaN                3838997   \n",
       "     3                             NaN                4096138   \n",
       "     4                             NaN                4096138   \n",
       "2000 1                             NaN                3950272   \n",
       "     2                             NaN                3950272   \n",
       "     3                             NaN                4096640   \n",
       "     4                             NaN                4155974   \n",
       "     5                             NaN                4106509   \n",
       "     6                             NaN                3998003   \n",
       "     7                             NaN                3998003   \n",
       "     8                             NaN                4172490   \n",
       "     9                             NaN                4096588   \n",
       "\n",
       "                last_cart_started  \n",
       "id   num_sess                      \n",
       "1    1        2017-05-19 08:02:53  \n",
       "     2        2017-05-19 13:51:59  \n",
       "     3        2017-06-02 21:40:06  \n",
       "     4        2017-06-09 14:23:10  \n",
       "2000 1        2017-05-22 07:40:09  \n",
       "     2        2017-05-22 08:44:02  \n",
       "     3        2017-06-05 10:11:35  \n",
       "     4        2017-06-06 08:00:37  \n",
       "     5        2017-06-06 09:12:54  \n",
       "     6        2017-06-07 14:15:56  \n",
       "     7        2017-06-08 14:56:01  \n",
       "     8        2017-06-09 15:00:17  \n",
       "     9        2017-06-14 14:34:53  "
      ]
     },
     "execution_count": 10,
     "metadata": {},
     "output_type": "execute_result"
    }
   ],
   "source": [
    "print(df_email.shape)\n",
    "df_email.loc[[1,2000],:]"
   ]
  },
  {
   "cell_type": "code",
   "execution_count": 11,
   "metadata": {
    "collapsed": false
   },
   "outputs": [
    {
     "name": "stdout",
     "output_type": "stream",
     "text": [
      "(220047,)\n"
     ]
    }
   ],
   "source": [
    "df_EmailProv=df_email.email\n",
    "print(df_EmailProv.shape)"
   ]
  },
  {
   "cell_type": "code",
   "execution_count": 12,
   "metadata": {
    "collapsed": false
   },
   "outputs": [
    {
     "data": {
      "text/plain": [
       "id     num_sess\n",
       "52425  1           gmail\n",
       "       2           gmail\n",
       "       3           gmail\n",
       "       4           gmail\n",
       "       5           gmail\n",
       "Name: email, dtype: object"
      ]
     },
     "execution_count": 12,
     "metadata": {},
     "output_type": "execute_result"
    }
   ],
   "source": [
    "df_EmailProv.loc[52425,:]"
   ]
  },
  {
   "cell_type": "code",
   "execution_count": 53,
   "metadata": {
    "collapsed": false
   },
   "outputs": [
    {
     "data": {
      "text/plain": [
       "1534"
      ]
     },
     "execution_count": 53,
     "metadata": {},
     "output_type": "execute_result"
    }
   ],
   "source": [
    "len(df_EmailProv.value_counts().values)"
   ]
  },
  {
   "cell_type": "code",
   "execution_count": 13,
   "metadata": {
    "collapsed": false
   },
   "outputs": [
    {
     "data": {
      "text/plain": [
       "nun            57372\n",
       "hotmail        54724\n",
       "gmail          31517\n",
       "yahoo          20278\n",
       "live            6773\n",
       "aol             5622\n",
       "btinternet      5534\n",
       "outlook         5077\n",
       "sky             5009\n",
       "icloud          4515\n",
       "googlemail      3049\n",
       "msn             1844\n",
       "ntlworld        1517\n",
       "talktalk        1466\n",
       "virginmedia      898\n",
       "me               791\n",
       "blueyonder       730\n",
       "ymail            728\n",
       "tiscali          695\n",
       "mail             458\n",
       "rocketmail       393\n",
       "wowcher          337\n",
       "btopenworld      287\n",
       "gmx              209\n",
       "talk21           159\n",
       "wp               150\n",
       "virgin           149\n",
       "btconnect        149\n",
       "nhs              138\n",
       "tesco            134\n",
       "Name: email, dtype: int64"
      ]
     },
     "execution_count": 13,
     "metadata": {},
     "output_type": "execute_result"
    }
   ],
   "source": [
    "df_EmailProv.value_counts()[:30]"
   ]
  },
  {
   "cell_type": "code",
   "execution_count": 38,
   "metadata": {
    "collapsed": false
   },
   "outputs": [
    {
     "data": {
      "text/plain": [
       "array([57372, 54724, 31517, 20278,  6773,  5622,  5534,  5077,  5009,  4515])"
      ]
     },
     "execution_count": 38,
     "metadata": {},
     "output_type": "execute_result"
    }
   ],
   "source": [
    "df_EmailProv.value_counts()[:10].values\n"
   ]
  },
  {
   "cell_type": "code",
   "execution_count": 41,
   "metadata": {
    "collapsed": false
   },
   "outputs": [
    {
     "data": {
      "text/plain": [
       "['nun',\n",
       " 'hotmail',\n",
       " 'gmail',\n",
       " 'yahoo',\n",
       " 'live',\n",
       " 'aol',\n",
       " 'btinternet',\n",
       " 'outlook',\n",
       " 'sky',\n",
       " 'icloud']"
      ]
     },
     "execution_count": 41,
     "metadata": {},
     "output_type": "execute_result"
    }
   ],
   "source": [
    "df_EmailProv.value_counts()[:10].index.tolist()"
   ]
  },
  {
   "cell_type": "code",
   "execution_count": 47,
   "metadata": {
    "collapsed": false
   },
   "outputs": [
    {
     "data": {
      "text/plain": [
       "([<matplotlib.patches.Wedge at 0x7fa4bea65048>,\n",
       "  <matplotlib.patches.Wedge at 0x7fa4bea65cc0>,\n",
       "  <matplotlib.patches.Wedge at 0x7fa4be9e9940>,\n",
       "  <matplotlib.patches.Wedge at 0x7fa4be9f05c0>,\n",
       "  <matplotlib.patches.Wedge at 0x7fa4be9f5240>,\n",
       "  <matplotlib.patches.Wedge at 0x7fa4be9f5e80>,\n",
       "  <matplotlib.patches.Wedge at 0x7fa4be9fbb00>,\n",
       "  <matplotlib.patches.Wedge at 0x7fa4bea01780>,\n",
       "  <matplotlib.patches.Wedge at 0x7fa4bea05400>,\n",
       "  <matplotlib.patches.Wedge at 0x7fa4bea0d080>],\n",
       " [<matplotlib.text.Text at 0x7fa4bea65860>,\n",
       "  <matplotlib.text.Text at 0x7fa4be9e94e0>,\n",
       "  <matplotlib.text.Text at 0x7fa4be9f0160>,\n",
       "  <matplotlib.text.Text at 0x7fa4be9f0da0>,\n",
       "  <matplotlib.text.Text at 0x7fa4be9f5a20>,\n",
       "  <matplotlib.text.Text at 0x7fa4be9fb6a0>,\n",
       "  <matplotlib.text.Text at 0x7fa4bea01320>,\n",
       "  <matplotlib.text.Text at 0x7fa4bea01f60>,\n",
       "  <matplotlib.text.Text at 0x7fa4bea05be0>,\n",
       "  <matplotlib.text.Text at 0x7fa4bea0d860>])"
      ]
     },
     "execution_count": 47,
     "metadata": {},
     "output_type": "execute_result"
    },
    {
     "data": {
      "image/png": "[encoded data removed]",
      "text/plain": [
       "<matplotlib.figure.Figure at 0x7fa4cae91630>"
      ]
     },
     "metadata": {},
     "output_type": "display_data"
    }
   ],
   "source": [
    "# labels = 'Frogs', 'Hogs', 'Dogs', 'Logs'\n",
    "# fracs = [1, 30, 23, 10]\n",
    "from matplotlib import cm\n",
    "fracs=df_EmailProv.value_counts()[:10].values\n",
    "labels=df_EmailProv.value_counts()[:10].index.tolist()\n",
    "cs=cm.Set1(np.arange(40)/40.)\n",
    "# explode = (0, 0.05, 0, 0)\n",
    "f=plt.figure()\n",
    "plt.pie(fracs, labels=labels, colors=cs)\n"
   ]
  },
  {
   "cell_type": "markdown",
   "metadata": {},
   "source": [
    "**Define a email dictionary:**"
   ]
  },
  {
   "cell_type": "code",
   "execution_count": 38,
   "metadata": {
    "collapsed": false
   },
   "outputs": [
    {
     "data": {
      "text/plain": [
       "Index(['nun', 'hotmail', 'gmail', 'yahoo', 'live', 'aol', 'btinternet',\n",
       "       'outlook', 'sky', 'icloud', 'googlemail', 'msn', 'ntlworld', 'talktalk',\n",
       "       'virginmedia', 'me', 'blueyonder', 'ymail', 'tiscali', 'mail',\n",
       "       'rocketmail', 'wowcher', 'btopenworld', 'gmx', 'talk21', 'wp', 'virgin',\n",
       "       'btconnect', 'nhs', 'tesco'],\n",
       "      dtype='object')"
      ]
     },
     "execution_count": 38,
     "metadata": {},
     "output_type": "execute_result"
    }
   ],
   "source": [
    "email=df_EmailProv.value_counts()[:30].index\n",
    "email"
   ]
  },
  {
   "cell_type": "code",
   "execution_count": 40,
   "metadata": {
    "collapsed": true
   },
   "outputs": [],
   "source": [
    "def email_class(x):\n",
    "  if x in email:\n",
    "    return x\n",
    "  else:\n",
    "    return 'Others'"
   ]
  },
  {
   "cell_type": "code",
   "execution_count": 41,
   "metadata": {
    "collapsed": false
   },
   "outputs": [
    {
     "name": "stderr",
     "output_type": "stream",
     "text": [
      "Progress Bar: 100%|██████████| 220047/220047 [00:00<00:00, 512525.15it/s]\n"
     ]
    }
   ],
   "source": [
    "df_EmailProv=df_EmailProv.progress_apply(lambda x: email_class(x))"
   ]
  },
  {
   "cell_type": "code",
   "execution_count": 45,
   "metadata": {
    "collapsed": false
   },
   "outputs": [
    {
     "name": "stdout",
     "output_type": "stream",
     "text": [
      "(220047,)\n"
     ]
    },
    {
     "data": {
      "text/plain": [
       "id     num_sess\n",
       "52432  1           Others\n",
       "       2           Others\n",
       "       3           Others\n",
       "       4           Others\n",
       "52433  1            yahoo\n",
       "       2            yahoo\n",
       "       3            yahoo\n",
       "       4            yahoo\n",
       "Name: email, dtype: object"
      ]
     },
     "execution_count": 45,
     "metadata": {},
     "output_type": "execute_result"
    }
   ],
   "source": [
    "print(df_EmailProv.shape)\n",
    "df_EmailProv.loc[[52432,52433]]"
   ]
  },
  {
   "cell_type": "markdown",
   "metadata": {},
   "source": [
    "**Save df_EmailProv:**"
   ]
  },
  {
   "cell_type": "code",
   "execution_count": 46,
   "metadata": {
    "collapsed": false
   },
   "outputs": [
    {
     "name": "stdout",
     "output_type": "stream",
     "text": [
      "CPU times: user 31 ms, sys: 7 ms, total: 38 ms\n",
      "Wall time: 36.9 ms\n"
     ]
    }
   ],
   "source": [
    "%%time\n",
    "with open( \"../Data/Feature_Engineering/df_EmailProv.p\", \"wb\" ) as f:\n",
    "    pickle.dump(df_EmailProv, f)"
   ]
  },
  {
   "cell_type": "markdown",
   "metadata": {},
   "source": [
    "---\n",
    "### 2.7 User_agent"
   ]
  },
  {
   "cell_type": "markdown",
   "metadata": {},
   "source": [
    "**Load data_base:**"
   ]
  },
  {
   "cell_type": "code",
   "execution_count": 58,
   "metadata": {
    "collapsed": false
   },
   "outputs": [
    {
     "name": "stdout",
     "output_type": "stream",
     "text": [
      "CPU times: user 3.85 s, sys: 1.45 s, total: 5.3 s\n",
      "Wall time: 5.39 s\n"
     ]
    }
   ],
   "source": [
    "%%time\n",
    "with open( \"../Data/Feature_Engineering/data_base.p\", \"rb\" )  as f:\n",
    "    data_base=pickle.load(f)"
   ]
  },
  {
   "cell_type": "markdown",
   "metadata": {},
   "source": [
    "**Sample experiment of parsing**"
   ]
  },
  {
   "cell_type": "code",
   "execution_count": 59,
   "metadata": {
    "collapsed": false
   },
   "outputs": [
    {
     "data": {
      "text/plain": [
       "pandas.core.series.Series"
      ]
     },
     "execution_count": 59,
     "metadata": {},
     "output_type": "execute_result"
    }
   ],
   "source": [
    "type(data_base['user_agent'])"
   ]
  },
  {
   "cell_type": "code",
   "execution_count": 60,
   "metadata": {
    "collapsed": false
   },
   "outputs": [],
   "source": [
    "user_agent=data_base['user_agent'].copy()"
   ]
  },
  {
   "cell_type": "code",
   "execution_count": 61,
   "metadata": {
    "collapsed": false
   },
   "outputs": [
    {
     "name": "stdout",
     "output_type": "stream",
     "text": [
      "iPhone / iOS 10.3.1 / Mobile Safari 10.0\n",
      "\n",
      "\n",
      "Browser(family='Mobile Safari', version=(10, 0), version_string='10.0')\n",
      "OperatingSystem(family='iOS', version=(10, 3, 1), version_string='10.3.1')\n",
      "Device(family='iPhone', brand='Apple', model='iPhone')\n"
     ]
    }
   ],
   "source": [
    "print(parse(user_agent[0]))\n",
    "print('\\n')\n",
    "print(parse(user_agent[0]).browser)\n",
    "print(parse(user_agent[0]).os)\n",
    "print(parse(user_agent[0]).device)"
   ]
  },
  {
   "cell_type": "markdown",
   "metadata": {},
   "source": [
    "- ** Parse data:**"
   ]
  },
  {
   "cell_type": "code",
   "execution_count": 62,
   "metadata": {
    "collapsed": true
   },
   "outputs": [],
   "source": [
    "df_sess=data_base.groupby(['id','num_sess']).first()"
   ]
  },
  {
   "cell_type": "code",
   "execution_count": 90,
   "metadata": {
    "codeCollapsed": false,
    "collapsed": false,
    "hiddenCell": false
   },
   "outputs": [
    {
     "name": "stderr",
     "output_type": "stream",
     "text": [
      "Progress Bar: 100%|██████████| 220047/220047 [02:07<00:00, 1728.35it/s]\n",
      "Progress Bar:  21%|██        | 46337/220047 [00:00<00:00, 463363.81it/s]"
     ]
    },
    {
     "name": "stdout",
     "output_type": "stream",
     "text": [
      "user_agent_parse finished\n"
     ]
    },
    {
     "name": "stderr",
     "output_type": "stream",
     "text": [
      "Progress Bar: 100%|██████████| 220047/220047 [00:00<00:00, 514245.99it/s]\n",
      "Progress Bar: 100%|██████████| 220047/220047 [00:00<00:00, 475932.50it/s]\n",
      "Progress Bar:  15%|█▍        | 32647/220047 [00:00<00:00, 326467.20it/s]"
     ]
    },
    {
     "name": "stdout",
     "output_type": "stream",
     "text": [
      "data_browser finished\n"
     ]
    },
    {
     "name": "stderr",
     "output_type": "stream",
     "text": [
      "Progress Bar: 100%|██████████| 220047/220047 [00:00<00:00, 440078.89it/s]\n",
      "Progress Bar: 100%|██████████| 220047/220047 [00:00<00:00, 474741.02it/s]\n",
      "Progress Bar:  19%|█▉        | 42080/220047 [00:00<00:00, 420788.36it/s]"
     ]
    },
    {
     "name": "stdout",
     "output_type": "stream",
     "text": [
      "data_os finished\n"
     ]
    },
    {
     "name": "stderr",
     "output_type": "stream",
     "text": [
      "Progress Bar: 100%|██████████| 220047/220047 [00:00<00:00, 498626.67it/s]\n",
      "Progress Bar: 100%|██████████| 220047/220047 [00:00<00:00, 464292.35it/s]\n",
      "Progress Bar: 100%|██████████| 220047/220047 [00:00<00:00, 506504.01it/s]"
     ]
    },
    {
     "name": "stdout",
     "output_type": "stream",
     "text": [
      "data_device finished\n"
     ]
    },
    {
     "name": "stderr",
     "output_type": "stream",
     "text": [
      "\n"
     ]
    }
   ],
   "source": [
    "#user_agent_parse=list(map(lambda x: parse(user_agent[x]), range(0,2344636)))\n",
    "# tqdm.pandas(tqdm())\n",
    "# tqdmuser_agent_parse = df_groupby2['user_agent'].progress_apply(lambda x: parse(x))\n",
    "\n",
    "user_agent_parse = df_sess['user_agent'].progress_apply(lambda x: parse(x))\n",
    "print('user_agent_parse finished')\n",
    "\n",
    "# data_browser = user_agent_parse.apply(lambda x: x.browser)\n",
    "data_browser_family = user_agent_parse.progress_apply(lambda x: x.browser.family)\n",
    "data_browser_version_string = user_agent_parse.progress_apply(lambda x: x.browser.version_string)\n",
    "print('data_browser finished')\n",
    "\n",
    "# data_os = user_agent_parse.apply(lambda x: x.os)\n",
    "data_os_family = user_agent_parse.progress_apply(lambda x: x.os.family)\n",
    "data_os_version_string = user_agent_parse.progress_apply(lambda x: x.os.version_string)\n",
    "print('data_os finished')\n",
    "\n",
    "# data_device = user_agent_parse.apply(lambda x: x.device)\n",
    "data_device_family = user_agent_parse.progress_apply(lambda x: x.device.family)\n",
    "data_device_brand = user_agent_parse.progress_apply(lambda x: x.device.brand)\n",
    "data_device_model = user_agent_parse.progress_apply(lambda x: x.device.model)\n",
    "print('data_device finished')"
   ]
  },
  {
   "cell_type": "markdown",
   "metadata": {},
   "source": [
    "- **Save Parsed data to csv:**"
   ]
  },
  {
   "cell_type": "code",
   "execution_count": 91,
   "metadata": {
    "collapsed": false
   },
   "outputs": [
    {
     "name": "stdout",
     "output_type": "stream",
     "text": [
      "CPU times: user 6.15 s, sys: 119 ms, total: 6.26 s\n",
      "Wall time: 6.27 s\n"
     ]
    }
   ],
   "source": [
    "%%time\n",
    "user_agent_parse.to_csv('../Data/Feature_Engineering/user_agent_parse.csv')\n",
    "\n",
    "# data_browser.to_csv('../Data/data_browser.csv')\n",
    "data_browser_family.to_csv('../Data/Feature_Engineering/data_browser_family.csv')\n",
    "data_browser_version_string.to_csv('../Data/Feature_Engineering/data_browser_version_string.csv')\n",
    "\n",
    "# data_os.to_csv('../Data/data_os.csv')\n",
    "data_os_family.to_csv('../Data/Feature_Engineering/data_os_family.csv')\n",
    "data_os_version_string.to_csv('../Data/Feature_Engineering/data_os_version_string.csv')\n",
    "\n",
    "# data_device.to_csv('../Data/data_device.csv')\n",
    "data_device_family.to_csv('../Data/Feature_Engineering/data_device_family.csv')\n",
    "data_device_model.to_csv('../Data/Feature_Engineering/data_device_model.csv')\n",
    "data_device_brand.to_csv('../Data/Feature_Engineering/data_device_brand.csv')\n",
    "# Read saved csv:\n",
    "# pd.read_csv('../Data/user_agent_parse.csv')"
   ]
  },
  {
   "cell_type": "markdown",
   "metadata": {},
   "source": [
    "- **Read user_agent data:**"
   ]
  },
  {
   "cell_type": "code",
   "execution_count": 63,
   "metadata": {
    "collapsed": false
   },
   "outputs": [
    {
     "name": "stdout",
     "output_type": "stream",
     "text": [
      "CPU times: user 498 ms, sys: 6 ms, total: 504 ms\n",
      "Wall time: 503 ms\n"
     ]
    }
   ],
   "source": [
    "%%time\n",
    "# must add:\n",
    "# ,header=None\n",
    "# after the path to avoid making the first line become column names\n",
    "user_agent=pd.read_csv('../Data/Feature_Engineering/user_agent_parse.csv',header=None)\n",
    "\n",
    "data_browser_family=pd.read_csv('../Data/Feature_Engineering/data_browser_family.csv',header=None)\n",
    "data_browser_version_string=pd.read_csv('../Data/Feature_Engineering/data_browser_version_string.csv',header=None)\n",
    "\n",
    "data_os_family=pd.read_csv('../Data/Feature_Engineering/data_os_family.csv',header=None)\n",
    "data_os_version_string=pd.read_csv('../Data/Feature_Engineering/data_os_version_string.csv',header=None)\n",
    "\n",
    "data_device_family=pd.read_csv('../Data/Feature_Engineering/data_device_family.csv',header=None)\n",
    "data_device_model=pd.read_csv('../Data/Feature_Engineering/data_device_model.csv',header=None)\n",
    "data_device_brand=pd.read_csv('../Data/Feature_Engineering/data_device_brand.csv',header=None)"
   ]
  },
  {
   "cell_type": "code",
   "execution_count": 64,
   "metadata": {
    "collapsed": false
   },
   "outputs": [
    {
     "name": "stdout",
     "output_type": "stream",
     "text": [
      "(220047, 28)\n",
      "<class 'pandas.core.frame.DataFrame'>\n",
      "(220047, 3)\n",
      "<class 'pandas.core.frame.DataFrame'>\n"
     ]
    }
   ],
   "source": [
    "print(df_sess.shape)\n",
    "print(type(df_sess))\n",
    "print(data_browser_family.shape)\n",
    "print(type(data_browser_family))"
   ]
  },
  {
   "cell_type": "code",
   "execution_count": 65,
   "metadata": {
    "collapsed": false
   },
   "outputs": [
    {
     "data": {
      "text/plain": [
       "0    Mobile Safari\n",
       "1    Mobile Safari\n",
       "2    Mobile Safari\n",
       "3    Mobile Safari\n",
       "4           Chrome\n",
       "Name: 2, dtype: object"
      ]
     },
     "execution_count": 65,
     "metadata": {},
     "output_type": "execute_result"
    }
   ],
   "source": [
    "data_browser_family.loc[:4,2]"
   ]
  },
  {
   "cell_type": "markdown",
   "metadata": {},
   "source": [
    "---\n",
    "- **df_BrowserFamily**"
   ]
  },
  {
   "cell_type": "code",
   "execution_count": 66,
   "metadata": {
    "collapsed": false
   },
   "outputs": [
    {
     "name": "stdout",
     "output_type": "stream",
     "text": [
      "(220047, 3)\n"
     ]
    },
    {
     "data": {
      "text/html": [
       "<div>\n",
       "<table border=\"1\" class=\"dataframe\">\n",
       "  <thead>\n",
       "    <tr style=\"text-align: right;\">\n",
       "      <th></th>\n",
       "      <th>0</th>\n",
       "      <th>1</th>\n",
       "      <th>2</th>\n",
       "    </tr>\n",
       "  </thead>\n",
       "  <tbody>\n",
       "    <tr>\n",
       "      <th>0</th>\n",
       "      <td>1</td>\n",
       "      <td>1</td>\n",
       "      <td>Mobile Safari</td>\n",
       "    </tr>\n",
       "    <tr>\n",
       "      <th>1</th>\n",
       "      <td>1</td>\n",
       "      <td>2</td>\n",
       "      <td>Mobile Safari</td>\n",
       "    </tr>\n",
       "    <tr>\n",
       "      <th>2</th>\n",
       "      <td>1</td>\n",
       "      <td>3</td>\n",
       "      <td>Mobile Safari</td>\n",
       "    </tr>\n",
       "  </tbody>\n",
       "</table>\n",
       "</div>"
      ],
      "text/plain": [
       "   0  1              2\n",
       "0  1  1  Mobile Safari\n",
       "1  1  2  Mobile Safari\n",
       "2  1  3  Mobile Safari"
      ]
     },
     "execution_count": 66,
     "metadata": {},
     "output_type": "execute_result"
    }
   ],
   "source": [
    "print(data_browser_family.shape)\n",
    "data_browser_family[:3]"
   ]
  },
  {
   "cell_type": "code",
   "execution_count": 67,
   "metadata": {
    "collapsed": false
   },
   "outputs": [
    {
     "data": {
      "text/plain": [
       "Mobile Safari                 88059\n",
       "Chrome                        72821\n",
       "Samsung Internet              17578\n",
       "IE                            12029\n",
       "Edge                           8718\n",
       "Safari                         5652\n",
       "Firefox                        5146\n",
       "Amazon Silk                    3198\n",
       "IE Mobile                      2206\n",
       "Chrome Mobile iOS              1634\n",
       "Facebook                       1516\n",
       "Mobile Safari UI/WKWebView      296\n",
       "Firefox Mobile                  289\n",
       "PhantomJS                       263\n",
       "Other                           178\n",
       "Opera                           174\n",
       "moatbot                          74\n",
       "BlackBerry WebKit                51\n",
       "Maxthon                          50\n",
       "Crosswalk                        25\n",
       "Firefox iOS                      18\n",
       "UC Browser                       16\n",
       "Yandex Browser                   12\n",
       "Iceweasel                        10\n",
       "SeaMonkey                         9\n",
       "Dragon                            8\n",
       "Vivaldi                           6\n",
       "Chromium                          6\n",
       "Opera Coast                       2\n",
       "QQ Browser                        2\n",
       "Apple Mail                        1\n",
       "Name: 2, dtype: int64"
      ]
     },
     "execution_count": 67,
     "metadata": {},
     "output_type": "execute_result"
    }
   ],
   "source": [
    "data_browser_family.loc[:,2].value_counts()"
   ]
  },
  {
   "cell_type": "markdown",
   "metadata": {},
   "source": [
    "**plot section**"
   ]
  },
  {
   "cell_type": "code",
   "execution_count": 73,
   "metadata": {
    "collapsed": false
   },
   "outputs": [
    {
     "data": {
      "text/plain": [
       "[88059,\n",
       " 72821,\n",
       " 17578,\n",
       " 12029,\n",
       " 8718,\n",
       " 5652,\n",
       " 5146,\n",
       " 3198,\n",
       " 2206,\n",
       " 1634,\n",
       " 1516,\n",
       " 296,\n",
       " 289,\n",
       " 263,\n",
       " 178,\n",
       " 174,\n",
       " 74,\n",
       " 51,\n",
       " 50,\n",
       " 25,\n",
       " 18,\n",
       " 16,\n",
       " 12,\n",
       " 10,\n",
       " 9,\n",
       " 8,\n",
       " 6,\n",
       " 6,\n",
       " 2,\n",
       " 2,\n",
       " 1]"
      ]
     },
     "execution_count": 73,
     "metadata": {},
     "output_type": "execute_result"
    }
   ],
   "source": [
    "tmp.tolist()"
   ]
  },
  {
   "cell_type": "code",
   "execution_count": 92,
   "metadata": {
    "collapsed": false
   },
   "outputs": [
    {
     "data": {
      "text/plain": [
       "['Mobile Safari',\n",
       " 'Chrome',\n",
       " 'Samsung Internet',\n",
       " 'IE',\n",
       " 'Edge',\n",
       " 'Safari',\n",
       " 'Firefox',\n",
       " 'Amazon Silk',\n",
       " 'IE Mobile',\n",
       " 'Chrome Mobile iOS',\n",
       " 'Facebook',\n",
       " 'Mobile Safari UI/WKWebView',\n",
       " 'Firefox Mobile',\n",
       " 'PhantomJS',\n",
       " 'Other',\n",
       " 'Opera',\n",
       " 'moatbot',\n",
       " 'BlackBerry WebKit',\n",
       " 'Maxthon',\n",
       " 'Crosswalk',\n",
       " 'Firefox iOS',\n",
       " 'UC Browser',\n",
       " 'Yandex Browser',\n",
       " 'Iceweasel',\n",
       " 'SeaMonkey',\n",
       " 'Dragon',\n",
       " 'Vivaldi',\n",
       " 'Chromium',\n",
       " 'Opera Coast',\n",
       " 'QQ Browser',\n",
       " 'Apple Mail']"
      ]
     },
     "execution_count": 92,
     "metadata": {},
     "output_type": "execute_result"
    }
   ],
   "source": [
    "x=data_browser_family.loc[:,2].value_counts().index.tolist()\n",
    "x"
   ]
  },
  {
   "cell_type": "code",
   "execution_count": 97,
   "metadata": {
    "collapsed": false
   },
   "outputs": [
    {
     "data": {
      "text/plain": [
       "([<matplotlib.axis.XTick at 0x7fa3a4b0c240>,\n",
       "  <matplotlib.axis.XTick at 0x7fa3a4b0b198>,\n",
       "  <matplotlib.axis.XTick at 0x7fa3a4aeeda0>,\n",
       "  <matplotlib.axis.XTick at 0x7fa3a4b03128>,\n",
       "  <matplotlib.axis.XTick at 0x7fa3a4b097b8>,\n",
       "  <matplotlib.axis.XTick at 0x7fa3a4b0dcc0>,\n",
       "  <matplotlib.axis.XTick at 0x7fa3a4b47438>,\n",
       "  <matplotlib.axis.XTick at 0x7fa3a4b45908>,\n",
       "  <matplotlib.axis.XTick at 0x7fa3a4b44c88>,\n",
       "  <matplotlib.axis.XTick at 0x7fa3a4b44198>,\n",
       "  <matplotlib.axis.XTick at 0x7fa3a4b42668>,\n",
       "  <matplotlib.axis.XTick at 0x7fa3a4b3fa58>,\n",
       "  <matplotlib.axis.XTick at 0x7fa3a4b3de10>,\n",
       "  <matplotlib.axis.XTick at 0x7fa3a4b3cc18>,\n",
       "  <matplotlib.axis.XTick at 0x7fa3a4b3aeb8>,\n",
       "  <matplotlib.axis.XTick at 0x7fa3a4b39f60>,\n",
       "  <matplotlib.axis.XTick at 0x7fa3a4b39278>,\n",
       "  <matplotlib.axis.XTick at 0x7fa3a4b36dd8>,\n",
       "  <matplotlib.axis.XTick at 0x7fa3a4b361d0>,\n",
       "  <matplotlib.axis.XTick at 0x7fa3a4b34208>,\n",
       "  <matplotlib.axis.XTick at 0x7fa3a4b33518>,\n",
       "  <matplotlib.axis.XTick at 0x7fa3a4b30860>,\n",
       "  <matplotlib.axis.XTick at 0x7fa3a4b2f8d0>,\n",
       "  <matplotlib.axis.XTick at 0x7fa3a4b2d7b8>,\n",
       "  <matplotlib.axis.XTick at 0x7fa3a4b2cb70>,\n",
       "  <matplotlib.axis.XTick at 0x7fa3a4b2abe0>,\n",
       "  <matplotlib.axis.XTick at 0x7fa3a4b29f98>,\n",
       "  <matplotlib.axis.XTick at 0x7fa3a4b27eb8>,\n",
       "  <matplotlib.axis.XTick at 0x7fa3a4b25e48>,\n",
       "  <matplotlib.axis.XTick at 0x7fa3a4b25198>,\n",
       "  <matplotlib.axis.XTick at 0x7fa3a4b24518>],\n",
       " <a list of 31 Text xticklabel objects>)"
      ]
     },
     "execution_count": 97,
     "metadata": {},
     "output_type": "execute_result"
    },
    {
     "data": {
      "image/png": "[encoded data removed]",
      "text/plain": [
       "<matplotlib.figure.Figure at 0x7fa3a4a135f8>"
      ]
     },
     "metadata": {},
     "output_type": "display_data"
    }
   ],
   "source": [
    "y=data_browser_family.loc[:,2].value_counts().tolist()\n",
    "N = len(y)\n",
    "bar_width = 0.35\n",
    "label=data_browser_family.loc[:,2].value_counts().index.tolist()\n",
    "\n",
    "x = range(N)\n",
    "# x=data_browser_family.loc[:,2].index.tolist()\n",
    "width =1/1.5\n",
    "plt.bar(x, y, width, color=\"blue\")\n",
    "plt.xticks(x, label)\n",
    "\n",
    "# plt.bar(tmp.tolist())\n",
    "# plt.ylabel('Dwell time')\n",
    "# plt.show()\n",
    "\n",
    "# y = [3, 10, 7, 5, 3, 4.5, 6, 8.1]\n",
    "# N = len(y)\n",
    "# x = range(N)\n",
    "# width = 1/1.5\n",
    "# plt.bar(x, y, width, color=\"blue\")"
   ]
  },
  {
   "cell_type": "code",
   "execution_count": 69,
   "metadata": {
    "collapsed": false
   },
   "outputs": [
    {
     "data": {
      "text/plain": [
       "([<matplotlib.patches.Wedge at 0x7fa3a48f31d0>,\n",
       "  <matplotlib.patches.Wedge at 0x7fa3a48f0f60>,\n",
       "  <matplotlib.patches.Wedge at 0x7fa3a48efef0>,\n",
       "  <matplotlib.patches.Wedge at 0x7fa3a48ef080>,\n",
       "  <matplotlib.patches.Wedge at 0x7fa3a48ee358>,\n",
       "  <matplotlib.patches.Wedge at 0x7fa3a48ed6d8>,\n",
       "  <matplotlib.patches.Wedge at 0x7fa3a48eb240>,\n",
       "  <matplotlib.patches.Wedge at 0x7fa3a48ea208>,\n",
       "  <matplotlib.patches.Wedge at 0x7fa3a48e8198>,\n",
       "  <matplotlib.patches.Wedge at 0x7fa3a48e7128>,\n",
       "  <matplotlib.patches.Wedge at 0x7fa3a48e62b0>,\n",
       "  <matplotlib.patches.Wedge at 0x7fa3a48e4550>,\n",
       "  <matplotlib.patches.Wedge at 0x7fa3a48e36a0>,\n",
       "  <matplotlib.patches.Wedge at 0x7fa3a48e1668>,\n",
       "  <matplotlib.patches.Wedge at 0x7fa3a48e05f8>,\n",
       "  <matplotlib.patches.Wedge at 0x7fa3a48de940>,\n",
       "  <matplotlib.patches.Wedge at 0x7fa3a48dc1d0>,\n",
       "  <matplotlib.patches.Wedge at 0x7fa3a48db358>,\n",
       "  <matplotlib.patches.Wedge at 0x7fa3a48da240>,\n",
       "  <matplotlib.patches.Wedge at 0x7fa3a48d8400>,\n",
       "  <matplotlib.patches.Wedge at 0x7fa3a49572e8>,\n",
       "  <matplotlib.patches.Wedge at 0x7fa3a49551d0>,\n",
       "  <matplotlib.patches.Wedge at 0x7fa3a4952ef0>,\n",
       "  <matplotlib.patches.Wedge at 0x7fa3a4903978>,\n",
       "  <matplotlib.patches.Wedge at 0x7fa3a4909320>,\n",
       "  <matplotlib.patches.Wedge at 0x7fa3a4912fd0>,\n",
       "  <matplotlib.patches.Wedge at 0x7fa3a4952358>,\n",
       "  <matplotlib.patches.Wedge at 0x7fa3a49502e8>,\n",
       "  <matplotlib.patches.Wedge at 0x7fa3a494e160>,\n",
       "  <matplotlib.patches.Wedge at 0x7fa3a494d278>,\n",
       "  <matplotlib.patches.Wedge at 0x7fa3a494b470>],\n",
       " [<matplotlib.text.Text at 0x7fa3a48f2668>,\n",
       "  <matplotlib.text.Text at 0x7fa3a48f04e0>,\n",
       "  <matplotlib.text.Text at 0x7fa3a48ef4e0>,\n",
       "  <matplotlib.text.Text at 0x7fa3a48ee7f0>,\n",
       "  <matplotlib.text.Text at 0x7fa3a48edb38>,\n",
       "  <matplotlib.text.Text at 0x7fa3a48eb898>,\n",
       "  <matplotlib.text.Text at 0x7fa3a48ea748>,\n",
       "  <matplotlib.text.Text at 0x7fa3a48e8860>,\n",
       "  <matplotlib.text.Text at 0x7fa3a48e7828>,\n",
       "  <matplotlib.text.Text at 0x7fa3a48e6860>,\n",
       "  <matplotlib.text.Text at 0x7fa3a48e49e8>,\n",
       "  <matplotlib.text.Text at 0x7fa3a48e3b38>,\n",
       "  <matplotlib.text.Text at 0x7fa3a48e1b38>,\n",
       "  <matplotlib.text.Text at 0x7fa3a48e0be0>,\n",
       "  <matplotlib.text.Text at 0x7fa3a48deda0>,\n",
       "  <matplotlib.text.Text at 0x7fa3a48dc940>,\n",
       "  <matplotlib.text.Text at 0x7fa3a48db940>,\n",
       "  <matplotlib.text.Text at 0x7fa3a48daef0>,\n",
       "  <matplotlib.text.Text at 0x7fa3a48d8940>,\n",
       "  <matplotlib.text.Text at 0x7fa3a4957748>,\n",
       "  <matplotlib.text.Text at 0x7fa3a49557b8>,\n",
       "  <matplotlib.text.Text at 0x7fa3a49533c8>,\n",
       "  <matplotlib.text.Text at 0x7fa3a4902630>,\n",
       "  <matplotlib.text.Text at 0x7fa3a49065f8>,\n",
       "  <matplotlib.text.Text at 0x7fa3a490b6a0>,\n",
       "  <matplotlib.text.Text at 0x7fa3a48992b0>,\n",
       "  <matplotlib.text.Text at 0x7fa3a4950748>,\n",
       "  <matplotlib.text.Text at 0x7fa3a494e6a0>,\n",
       "  <matplotlib.text.Text at 0x7fa3a494d898>,\n",
       "  <matplotlib.text.Text at 0x7fa3a494b940>,\n",
       "  <matplotlib.text.Text at 0x7fa3a494aa90>])"
      ]
     },
     "execution_count": 69,
     "metadata": {},
     "output_type": "execute_result"
    },
    {
     "data": {
      "image/png": "[encoded data removed]",
      "text/plain": [
       "<matplotlib.figure.Figure at 0x7fa3a48aba20>"
      ]
     },
     "metadata": {},
     "output_type": "display_data"
    }
   ],
   "source": [
    "from matplotlib import cm\n",
    "tmp=data_browser_family.loc[:,2].value_counts()\n",
    "fracs=tmp.values\n",
    "labels=tmp.index.tolist()\n",
    "cs=cm.Set1(np.arange(40)/40.)\n",
    "# explode = (0, 0.05, 0, 0)\n",
    "f=plt.figure()\n",
    "plt.pie(fracs, labels=labels, colors=cs)\n",
    "\n"
   ]
  },
  {
   "cell_type": "code",
   "execution_count": null,
   "metadata": {
    "collapsed": true
   },
   "outputs": [],
   "source": []
  },
  {
   "cell_type": "code",
   "execution_count": null,
   "metadata": {
    "collapsed": true
   },
   "outputs": [],
   "source": []
  },
  {
   "cell_type": "code",
   "execution_count": 137,
   "metadata": {
    "collapsed": true
   },
   "outputs": [],
   "source": [
    "df_BrowserFamily=data_browser_family.loc[:,2]"
   ]
  },
  {
   "cell_type": "code",
   "execution_count": 138,
   "metadata": {
    "collapsed": false
   },
   "outputs": [
    {
     "data": {
      "text/plain": [
       "0    Mobile Safari\n",
       "1    Mobile Safari\n",
       "2    Mobile Safari\n",
       "Name: 2, dtype: object"
      ]
     },
     "execution_count": 138,
     "metadata": {},
     "output_type": "execute_result"
    }
   ],
   "source": [
    "df_BrowserFamily[:3]"
   ]
  },
  {
   "cell_type": "code",
   "execution_count": 139,
   "metadata": {
    "collapsed": false
   },
   "outputs": [],
   "source": [
    "df_sess['Browser_Family']=df_BrowserFamily.values\n",
    "df_BrowserFamily=df_sess['Browser_Family']"
   ]
  },
  {
   "cell_type": "code",
   "execution_count": 141,
   "metadata": {
    "collapsed": false
   },
   "outputs": [
    {
     "data": {
      "text/plain": [
       "id  num_sess\n",
       "1   1           Mobile Safari\n",
       "    2           Mobile Safari\n",
       "    3           Mobile Safari\n",
       "    4           Mobile Safari\n",
       "2   1                  Chrome\n",
       "Name: Browser_Family, dtype: object"
      ]
     },
     "execution_count": 141,
     "metadata": {},
     "output_type": "execute_result"
    }
   ],
   "source": [
    "df_BrowserFamily[:5]"
   ]
  },
  {
   "cell_type": "code",
   "execution_count": 142,
   "metadata": {
    "collapsed": false
   },
   "outputs": [
    {
     "name": "stdout",
     "output_type": "stream",
     "text": [
      "CPU times: user 8 ms, sys: 4 ms, total: 12 ms\n",
      "Wall time: 12.6 ms\n"
     ]
    }
   ],
   "source": [
    "%%time\n",
    "with open( \"../Data/Feature_Engineering/df_BrowserFamily.p\", \"wb\" ) as f:\n",
    "    pickle.dump(df_BrowserFamily, f)"
   ]
  },
  {
   "cell_type": "markdown",
   "metadata": {},
   "source": [
    "---\n",
    "- **data_os_family**"
   ]
  },
  {
   "cell_type": "code",
   "execution_count": 143,
   "metadata": {
    "collapsed": false
   },
   "outputs": [
    {
     "data": {
      "text/plain": [
       "iOS                     93061\n",
       "Windows                 59429\n",
       "Android                 58267\n",
       "Mac OS X                 7752\n",
       "Other                    1050\n",
       "Linux                     353\n",
       "Ubuntu                     77\n",
       "BlackBerry OS              51\n",
       "BlackBerry Tablet OS        5\n",
       "Fedora                      1\n",
       "Firefox OS                  1\n",
       "Name: 2, dtype: int64"
      ]
     },
     "execution_count": 143,
     "metadata": {},
     "output_type": "execute_result"
    }
   ],
   "source": [
    "data_os_family.loc[:,2].value_counts()"
   ]
  },
  {
   "cell_type": "code",
   "execution_count": 145,
   "metadata": {
    "collapsed": true
   },
   "outputs": [],
   "source": [
    "df_OSfamily=data_os_family.loc[:,2]"
   ]
  },
  {
   "cell_type": "code",
   "execution_count": 146,
   "metadata": {
    "collapsed": true
   },
   "outputs": [],
   "source": [
    "df_sess['OS_family']=df_OSfamily.values\n",
    "df_OSfamily=df_sess['OS_family']"
   ]
  },
  {
   "cell_type": "code",
   "execution_count": 147,
   "metadata": {
    "collapsed": false
   },
   "outputs": [
    {
     "data": {
      "text/plain": [
       "id  num_sess\n",
       "1   1           iOS\n",
       "    2           iOS\n",
       "    3           iOS\n",
       "Name: OS_family, dtype: object"
      ]
     },
     "execution_count": 147,
     "metadata": {},
     "output_type": "execute_result"
    }
   ],
   "source": [
    "df_OSfamily[:3]"
   ]
  },
  {
   "cell_type": "code",
   "execution_count": 148,
   "metadata": {
    "collapsed": false
   },
   "outputs": [
    {
     "name": "stdout",
     "output_type": "stream",
     "text": [
      "CPU times: user 11 ms, sys: 2 ms, total: 13 ms\n",
      "Wall time: 12.9 ms\n"
     ]
    }
   ],
   "source": [
    "%%time\n",
    "with open( \"../Data/Feature_Engineering/df_OSfamily.p\", \"wb\" ) as f:\n",
    "    pickle.dump(df_OSfamily, f)"
   ]
  },
  {
   "cell_type": "markdown",
   "metadata": {},
   "source": [
    "---\n",
    "- **data_device_brand**"
   ]
  },
  {
   "cell_type": "code",
   "execution_count": 149,
   "metadata": {
    "collapsed": false
   },
   "outputs": [
    {
     "data": {
      "text/plain": [
       "Apple      90865\n",
       "Generic    39687\n",
       "Samsung    18021\n",
       "HTC         1044\n",
       "LG          1027\n",
       "Lenovo       769\n",
       "Huawei       360\n",
       "Spider        76\n",
       "Archos        20\n",
       "Sony          18\n",
       "Name: 2, dtype: int64"
      ]
     },
     "execution_count": 149,
     "metadata": {},
     "output_type": "execute_result"
    }
   ],
   "source": [
    "data_device_brand.loc[:,2].value_counts()"
   ]
  },
  {
   "cell_type": "code",
   "execution_count": 150,
   "metadata": {
    "collapsed": false
   },
   "outputs": [
    {
     "name": "stdout",
     "output_type": "stream",
     "text": [
      "(220047,)\n"
     ]
    }
   ],
   "source": [
    "df_deviceBrand=data_device_brand.loc[:,2]\n",
    "print(df_deviceBrand.shape)"
   ]
  },
  {
   "cell_type": "code",
   "execution_count": 151,
   "metadata": {
    "collapsed": true
   },
   "outputs": [],
   "source": [
    "df_sess['Device_Brand']=df_deviceBrand.values\n",
    "df_deviceBrand=df_sess['Device_Brand']"
   ]
  },
  {
   "cell_type": "code",
   "execution_count": 152,
   "metadata": {
    "collapsed": false
   },
   "outputs": [
    {
     "name": "stdout",
     "output_type": "stream",
     "text": [
      "CPU times: user 11 ms, sys: 3 ms, total: 14 ms\n",
      "Wall time: 14 ms\n"
     ]
    }
   ],
   "source": [
    "%%time\n",
    "with open( \"../Data/Feature_Engineering/df_deviceBrand.p\", \"wb\" ) as f:\n",
    "    pickle.dump(df_deviceBrand, f)"
   ]
  },
  {
   "cell_type": "markdown",
   "metadata": {},
   "source": [
    "---\n",
    "### 2.8 Referrer\n",
    "Here, we only check if the first referrer is empty"
   ]
  },
  {
   "cell_type": "markdown",
   "metadata": {},
   "source": [
    "**Load data_base:**"
   ]
  },
  {
   "cell_type": "code",
   "execution_count": 97,
   "metadata": {
    "collapsed": false
   },
   "outputs": [
    {
     "name": "stdout",
     "output_type": "stream",
     "text": [
      "CPU times: user 5.67 s, sys: 1.78 s, total: 7.45 s\n",
      "Wall time: 7.64 s\n"
     ]
    }
   ],
   "source": [
    "%%time\n",
    "with open( \"../Data/Feature_Engineering/data_base.p\", \"rb\" )  as f:\n",
    "    data_base=pickle.load(f)"
   ]
  },
  {
   "cell_type": "code",
   "execution_count": 98,
   "metadata": {
    "collapsed": false
   },
   "outputs": [],
   "source": [
    "df_sess=data_base.groupby(['id','num_sess']).nth(0)"
   ]
  },
  {
   "cell_type": "code",
   "execution_count": 99,
   "metadata": {
    "collapsed": false
   },
   "outputs": [
    {
     "data": {
      "text/plain": [
       "''"
      ]
     },
     "execution_count": 99,
     "metadata": {},
     "output_type": "execute_result"
    }
   ],
   "source": [
    "df_sess.referrer.iloc[1]"
   ]
  },
  {
   "cell_type": "code",
   "execution_count": 100,
   "metadata": {
    "collapsed": false
   },
   "outputs": [],
   "source": [
    "def referrer_check(referrer):  \n",
    "    if referrer == '':\n",
    "        return 0\n",
    "    else: \n",
    "        return 1"
   ]
  },
  {
   "cell_type": "code",
   "execution_count": 103,
   "metadata": {
    "collapsed": false
   },
   "outputs": [
    {
     "name": "stderr",
     "output_type": "stream",
     "text": [
      "Progress Bar: 100%|██████████| 220047/220047 [00:00<00:00, 530113.49it/s]\n"
     ]
    }
   ],
   "source": [
    "df_referrer=df_sess.referrer.progress_apply(lambda x: referrer_check(x))"
   ]
  },
  {
   "cell_type": "code",
   "execution_count": 108,
   "metadata": {
    "collapsed": false
   },
   "outputs": [
    {
     "name": "stdout",
     "output_type": "stream",
     "text": [
      "(220047,)\n"
     ]
    },
    {
     "data": {
      "text/plain": [
       "id  num_sess\n",
       "1   1           0\n",
       "    2           0\n",
       "    3           0\n",
       "    4           0\n",
       "2   1           0\n",
       "    2           0\n",
       "    3           0\n",
       "    4           0\n",
       "3   1           0\n",
       "    2           0\n",
       "    3           0\n",
       "4   1           0\n",
       "    2           0\n",
       "    3           0\n",
       "5   1           0\n",
       "    2           0\n",
       "    3           0\n",
       "6   1           1\n",
       "    2           1\n",
       "    3           1\n",
       "Name: referrer, dtype: int64"
      ]
     },
     "execution_count": 108,
     "metadata": {},
     "output_type": "execute_result"
    }
   ],
   "source": [
    "print(df_referrer.shape)\n",
    "df_referrer[:20]"
   ]
  },
  {
   "cell_type": "markdown",
   "metadata": {},
   "source": [
    "**Save df_referrer**"
   ]
  },
  {
   "cell_type": "code",
   "execution_count": 109,
   "metadata": {
    "collapsed": false
   },
   "outputs": [
    {
     "name": "stdout",
     "output_type": "stream",
     "text": [
      "CPU times: user 6 ms, sys: 4 ms, total: 10 ms\n",
      "Wall time: 26.8 ms\n"
     ]
    }
   ],
   "source": [
    "%%time\n",
    "with open( \"../Data/Feature_Engineering/df_referrer.p\", \"wb\" ) as f:\n",
    "    pickle.dump(df_referrer, f)"
   ]
  },
  {
   "cell_type": "markdown",
   "metadata": {},
   "source": [
    "### 2.9 Payment Type"
   ]
  },
  {
   "cell_type": "code",
   "execution_count": 47,
   "metadata": {
    "collapsed": false
   },
   "outputs": [
    {
     "name": "stdout",
     "output_type": "stream",
     "text": [
      "CPU times: user 8.54 s, sys: 1.15 s, total: 9.69 s\n",
      "Wall time: 9.68 s\n"
     ]
    }
   ],
   "source": [
    "%%time\n",
    "with open( \"../Data/Feature_Engineering/data_base.p\", \"rb\" )  as f:\n",
    "    data_base=pickle.load(f)\n",
    "    \n",
    "df_sess=data_base.groupby(['id','num_sess']).last()"
   ]
  },
  {
   "cell_type": "code",
   "execution_count": 55,
   "metadata": {
    "collapsed": false
   },
   "outputs": [
    {
     "name": "stdout",
     "output_type": "stream",
     "text": [
      "(220047,)\n"
     ]
    },
    {
     "data": {
      "text/plain": [
       "id     num_sess\n",
       "52432  1             credit_card\n",
       "       2                    None\n",
       "       3                    None\n",
       "       4                    None\n",
       "52433  1           paypalExpress\n",
       "       2                    None\n",
       "       3                    None\n",
       "       4                    None\n",
       "Name: payment_type, dtype: object"
      ]
     },
     "execution_count": 55,
     "metadata": {},
     "output_type": "execute_result"
    }
   ],
   "source": [
    "df_paymentType=df_sess['payment_type'].copy()\n",
    "print(df_paymentType.shape)\n",
    "df_paymentType.loc[[52432,52433]]"
   ]
  },
  {
   "cell_type": "markdown",
   "metadata": {},
   "source": [
    "**Save df_paymentType**"
   ]
  },
  {
   "cell_type": "code",
   "execution_count": 56,
   "metadata": {
    "collapsed": false
   },
   "outputs": [
    {
     "name": "stdout",
     "output_type": "stream",
     "text": [
      "CPU times: user 9 ms, sys: 4 ms, total: 13 ms\n",
      "Wall time: 37.6 ms\n"
     ]
    }
   ],
   "source": [
    "%%time\n",
    "with open( \"../Data/Feature_Engineering/df_paymentType.p\", \"wb\" ) as f:\n",
    "    pickle.dump(df_paymentType, f)"
   ]
  },
  {
   "cell_type": "markdown",
   "metadata": {},
   "source": [
    "### 2.10 Product_price"
   ]
  },
  {
   "cell_type": "code",
   "execution_count": 57,
   "metadata": {
    "collapsed": false
   },
   "outputs": [
    {
     "name": "stdout",
     "output_type": "stream",
     "text": [
      "CPU times: user 8.8 s, sys: 2.15 s, total: 11 s\n",
      "Wall time: 10.9 s\n"
     ]
    }
   ],
   "source": [
    "%%time\n",
    "with open( \"../Data/Feature_Engineering/data_base.p\", \"rb\" )  as f:\n",
    "    data_base=pickle.load(f)\n",
    "    \n",
    "df_sess=data_base.groupby(['id','num_sess']).last()"
   ]
  },
  {
   "cell_type": "markdown",
   "metadata": {},
   "source": [
    "**Experiment**"
   ]
  },
  {
   "cell_type": "code",
   "execution_count": 79,
   "metadata": {
    "collapsed": false
   },
   "outputs": [
    {
     "name": "stdout",
     "output_type": "stream",
     "text": [
      "186627\n"
     ]
    },
    {
     "data": {
      "text/plain": [
       "'9'"
      ]
     },
     "execution_count": 79,
     "metadata": {},
     "output_type": "execute_result"
    }
   ],
   "source": [
    "print(df_sess['product_price'].count())\n",
    "df_sess['product_price'].iloc[3]"
   ]
  },
  {
   "cell_type": "code",
   "execution_count": 76,
   "metadata": {
    "collapsed": false
   },
   "outputs": [
    {
     "data": {
      "text/plain": [
       "'2500.00'"
      ]
     },
     "execution_count": 76,
     "metadata": {},
     "output_type": "execute_result"
    }
   ],
   "source": [
    "string='2,500.00'\n",
    "string.replace(',','')"
   ]
  },
  {
   "cell_type": "markdown",
   "metadata": {},
   "source": [
    "**Find df_productPrice**"
   ]
  },
  {
   "cell_type": "code",
   "execution_count": 80,
   "metadata": {
    "collapsed": true
   },
   "outputs": [],
   "source": [
    "def product_price_replace(x):\n",
    "  x=x.replace(',','')\n",
    "  try:\n",
    "    return(float(x))\n",
    "  except ValueError:\n",
    "    return 0"
   ]
  },
  {
   "cell_type": "code",
   "execution_count": 82,
   "metadata": {
    "collapsed": false
   },
   "outputs": [],
   "source": [
    "df_productPrice=df_sess['product_price'].apply(lambda x: product_price_replace(x) if not pd.isnull(x) else 0)"
   ]
  },
  {
   "cell_type": "code",
   "execution_count": 90,
   "metadata": {
    "collapsed": false
   },
   "outputs": [
    {
     "name": "stdout",
     "output_type": "stream",
     "text": [
      "number of not well-defined data: 186606\n",
      "therefore info loss is very few\n",
      "(220047,)\n"
     ]
    }
   ],
   "source": [
    "print('number of not well-defined data:',sum(df_productPrice!=0))\n",
    "print('therefore info loss is very few')\n",
    "print(df_productPrice.shape)"
   ]
  },
  {
   "cell_type": "markdown",
   "metadata": {},
   "source": [
    "**Save df_productPrice**"
   ]
  },
  {
   "cell_type": "code",
   "execution_count": 91,
   "metadata": {
    "collapsed": false
   },
   "outputs": [
    {
     "name": "stdout",
     "output_type": "stream",
     "text": [
      "CPU times: user 5 ms, sys: 3 ms, total: 8 ms\n",
      "Wall time: 7.17 ms\n"
     ]
    }
   ],
   "source": [
    "%%time\n",
    "with open( \"../Data/Feature_Engineering/df_productPrice.p\", \"wb\" ) as f:\n",
    "    pickle.dump(df_productPrice, f)"
   ]
  },
  {
   "cell_type": "markdown",
   "metadata": {},
   "source": [
    "### 2.11 Product_save"
   ]
  },
  {
   "cell_type": "code",
   "execution_count": 92,
   "metadata": {
    "collapsed": false
   },
   "outputs": [
    {
     "name": "stdout",
     "output_type": "stream",
     "text": [
      "CPU times: user 8.9 s, sys: 1.22 s, total: 10.1 s\n",
      "Wall time: 10.1 s\n"
     ]
    }
   ],
   "source": [
    "%%time\n",
    "with open( \"../Data/Feature_Engineering/data_base.p\", \"rb\" )  as f:\n",
    "    data_base=pickle.load(f)\n",
    "    \n",
    "df_sess=data_base.groupby(['id','num_sess']).last()"
   ]
  },
  {
   "cell_type": "code",
   "execution_count": 103,
   "metadata": {
    "collapsed": false
   },
   "outputs": [
    {
     "name": "stdout",
     "output_type": "stream",
     "text": [
      "number of nonNull product_save:  174791\n",
      "75%\n",
      "<class 'str'>\n"
     ]
    }
   ],
   "source": [
    "print('number of nonNull product_save: ',df_sess.product_save.count())\n",
    "print(df_sess.product_save[1][3])\n",
    "print(type(df_sess.product_save[1][3]))"
   ]
  },
  {
   "cell_type": "code",
   "execution_count": 100,
   "metadata": {
    "collapsed": true
   },
   "outputs": [],
   "source": [
    "def product_save_clean(x):\n",
    "  x=x.replace('%','')\n",
    "  try:\n",
    "    return(float(x))\n",
    "  except ValueError:\n",
    "    return 0"
   ]
  },
  {
   "cell_type": "code",
   "execution_count": 105,
   "metadata": {
    "collapsed": false
   },
   "outputs": [
    {
     "data": {
      "text/plain": [
       "0"
      ]
     },
     "execution_count": 105,
     "metadata": {},
     "output_type": "execute_result"
    }
   ],
   "source": [
    "product_save_clean('50% de')"
   ]
  },
  {
   "cell_type": "code",
   "execution_count": 106,
   "metadata": {
    "collapsed": true
   },
   "outputs": [],
   "source": [
    "df_productSave=df_sess['product_save'].apply(lambda x: product_save_clean(x) if not pd.isnull(x) else 0)"
   ]
  },
  {
   "cell_type": "code",
   "execution_count": 112,
   "metadata": {
    "collapsed": false
   },
   "outputs": [
    {
     "name": "stdout",
     "output_type": "stream",
     "text": [
      "number of nonNull product_save:  174791\n",
      "After the funciton, #nonNull :  174761\n"
     ]
    },
    {
     "data": {
      "text/plain": [
       "(220047,)"
      ]
     },
     "execution_count": 112,
     "metadata": {},
     "output_type": "execute_result"
    }
   ],
   "source": [
    "print('number of nonNull product_save: ',df_sess.product_save.count())\n",
    "print('After the funciton, #nonNull : ',sum(df_productSave!=0))\n",
    "df_productSave.shape"
   ]
  },
  {
   "cell_type": "code",
   "execution_count": 113,
   "metadata": {
    "collapsed": false
   },
   "outputs": [
    {
     "data": {
      "text/plain": [
       "id  num_sess\n",
       "1   1            0.0\n",
       "    2            0.0\n",
       "    3           75.0\n",
       "Name: product_save, dtype: float64"
      ]
     },
     "execution_count": 113,
     "metadata": {},
     "output_type": "execute_result"
    }
   ],
   "source": [
    "df_productSave[:3]"
   ]
  },
  {
   "cell_type": "markdown",
   "metadata": {},
   "source": [
    "**Save df_productSave**"
   ]
  },
  {
   "cell_type": "code",
   "execution_count": 114,
   "metadata": {
    "collapsed": false
   },
   "outputs": [
    {
     "name": "stdout",
     "output_type": "stream",
     "text": [
      "CPU times: user 5 ms, sys: 3 ms, total: 8 ms\n",
      "Wall time: 7.14 ms\n"
     ]
    }
   ],
   "source": [
    "%%time\n",
    "with open( \"../Data/Feature_Engineering/df_productSave.p\", \"wb\" ) as f:\n",
    "    pickle.dump(df_productSave, f)"
   ]
  },
  {
   "cell_type": "markdown",
   "metadata": {},
   "source": [
    "---\n",
    "### 2.12 Total Value"
   ]
  },
  {
   "cell_type": "code",
   "execution_count": 115,
   "metadata": {
    "collapsed": false
   },
   "outputs": [
    {
     "name": "stdout",
     "output_type": "stream",
     "text": [
      "CPU times: user 11.2 s, sys: 1.3 s, total: 12.5 s\n",
      "Wall time: 12.5 s\n"
     ]
    }
   ],
   "source": [
    "%%time\n",
    "with open( \"../Data/Feature_Engineering/data_base.p\", \"rb\" )  as f:\n",
    "    data_base=pickle.load(f)\n",
    "    \n",
    "df_sess=data_base.groupby(['id','num_sess']).last()"
   ]
  },
  {
   "cell_type": "code",
   "execution_count": 122,
   "metadata": {
    "collapsed": false
   },
   "outputs": [
    {
     "name": "stdout",
     "output_type": "stream",
     "text": [
      "number of nonNull product_save:  186559\n",
      "9\n",
      "<class 'str'>\n"
     ]
    }
   ],
   "source": [
    "print('number of nonNull product_save: ',df_sess.total.count())\n",
    "print(df_sess.total[1][3])\n",
    "print(type(df_sess.total[1][3]))"
   ]
  },
  {
   "cell_type": "code",
   "execution_count": 121,
   "metadata": {
    "collapsed": true
   },
   "outputs": [],
   "source": [
    "def total(x):\n",
    "  try:\n",
    "    return(float(x))\n",
    "  except ValueError:\n",
    "    return 0"
   ]
  },
  {
   "cell_type": "code",
   "execution_count": 123,
   "metadata": {
    "collapsed": true
   },
   "outputs": [],
   "source": [
    "df_total=df_sess['total'].apply(lambda x: total(x) if not pd.isnull(x) else 0)"
   ]
  },
  {
   "cell_type": "code",
   "execution_count": 127,
   "metadata": {
    "collapsed": false
   },
   "outputs": [
    {
     "name": "stdout",
     "output_type": "stream",
     "text": [
      "number of nonNull product_save:  186559\n",
      "After the funciton, #nonNull :  180539\n"
     ]
    }
   ],
   "source": [
    "print('number of nonNull product_save: ',df_sess.total.count())\n",
    "print('After the funciton, #nonNull : ',sum(df_total!=0))"
   ]
  },
  {
   "cell_type": "code",
   "execution_count": 130,
   "metadata": {
    "collapsed": false
   },
   "outputs": [
    {
     "name": "stdout",
     "output_type": "stream",
     "text": [
      "(220047,)\n"
     ]
    },
    {
     "data": {
      "text/plain": [
       "id  num_sess\n",
       "1   1           0.0\n",
       "    2           0.0\n",
       "    3           9.0\n",
       "Name: total, dtype: float64"
      ]
     },
     "execution_count": 130,
     "metadata": {},
     "output_type": "execute_result"
    }
   ],
   "source": [
    "print(df_total.shape)\n",
    "df_total[:3]"
   ]
  },
  {
   "cell_type": "markdown",
   "metadata": {},
   "source": [
    "**Save df_total**"
   ]
  },
  {
   "cell_type": "code",
   "execution_count": 131,
   "metadata": {
    "collapsed": false
   },
   "outputs": [
    {
     "name": "stdout",
     "output_type": "stream",
     "text": [
      "CPU times: user 5 ms, sys: 3 ms, total: 8 ms\n",
      "Wall time: 7.21 ms\n"
     ]
    }
   ],
   "source": [
    "%%time\n",
    "with open( \"../Data/Feature_Engineering/df_total.p\", \"wb\" ) as f:\n",
    "    pickle.dump(df_total, f)"
   ]
  },
  {
   "cell_type": "markdown",
   "metadata": {},
   "source": [
    "---\n",
    "### 2.13 City"
   ]
  },
  {
   "cell_type": "markdown",
   "metadata": {},
   "source": [
    "**Load data_base**"
   ]
  },
  {
   "cell_type": "code",
   "execution_count": 174,
   "metadata": {
    "collapsed": false
   },
   "outputs": [],
   "source": [
    "with open( \"../Data/data_final.p\", \"rb\" )  as f:\n",
    "    data=pickle.load(f)"
   ]
  },
  {
   "cell_type": "markdown",
   "metadata": {},
   "source": [
    "**Add city as a feature**"
   ]
  },
  {
   "cell_type": "code",
   "execution_count": 175,
   "metadata": {
    "collapsed": false
   },
   "outputs": [
    {
     "name": "stdout",
     "output_type": "stream",
     "text": [
      "(220047, 31)\n"
     ]
    }
   ],
   "source": [
    "df_sess=data.groupby(['id','num_sess']).last()\n",
    "print(df_sess.shape)"
   ]
  },
  {
   "cell_type": "code",
   "execution_count": 181,
   "metadata": {
    "collapsed": false
   },
   "outputs": [
    {
     "data": {
      "text/plain": [
       "London                 20255\n",
       "Manchester              4353\n",
       "Birmingham              2404\n",
       "Derby                   2393\n",
       "Liverpool               2033\n",
       "Nottingham              2006\n",
       "Glasgow                 1975\n",
       "Leeds                   1737\n",
       "Bristol                 1592\n",
       "Edinburgh               1408\n",
       "Sheffield               1296\n",
       "El Segundo              1235\n",
       "Leicester               1170\n",
       "Coventry                 888\n",
       "Cardiff                  805\n",
       "Southampton              804\n",
       "Northampton              734\n",
       "Milton Keynes            721\n",
       "Reading                  709\n",
       "Newcastle Upon Tyne      697\n",
       "Bolton                   664\n",
       "Stoke-on-trent           654\n",
       "Plymouth                 629\n",
       "Oxford                   611\n",
       "Stockport                574\n",
       "Preston                  567\n",
       "Brighton                 546\n",
       "Belfast                  542\n",
       "Wolverhampton            535\n",
       "Croydon                  534\n",
       "Hull                     522\n",
       "Swindon                  511\n",
       "Cambridge                505\n",
       "Bradford                 492\n",
       "Gloucester               491\n",
       "Warrington               476\n",
       "Huddersfield             440\n",
       "Newport                  435\n",
       "Ilford                   422\n",
       "Duncan                   420\n",
       "Cheltenham               417\n",
       "Peterborough             412\n",
       "Swansea                  404\n",
       "Wembley                  399\n",
       "Blackpool                388\n",
       "Portsmouth               378\n",
       "Walsall                  373\n",
       "Norwich                  364\n",
       "Wigan                    359\n",
       "York                     358\n",
       "Name: city, dtype: int64"
      ]
     },
     "execution_count": 181,
     "metadata": {},
     "output_type": "execute_result"
    }
   ],
   "source": [
    "df_sess.city.value_counts()[:50]"
   ]
  },
  {
   "cell_type": "code",
   "execution_count": 184,
   "metadata": {
    "collapsed": true
   },
   "outputs": [],
   "source": [
    "# create a dictionary\n",
    "city=df_sess.city.value_counts().index"
   ]
  },
  {
   "cell_type": "code",
   "execution_count": 185,
   "metadata": {
    "collapsed": true
   },
   "outputs": [],
   "source": [
    "def city_class(x):\n",
    "  if x in city:\n",
    "    return x\n",
    "  else:\n",
    "    return 'Others'"
   ]
  },
  {
   "cell_type": "code",
   "execution_count": 186,
   "metadata": {
    "collapsed": true
   },
   "outputs": [],
   "source": [
    "df_city=df_sess['city'].apply(lambda x: city_class(x))"
   ]
  },
  {
   "cell_type": "code",
   "execution_count": 191,
   "metadata": {
    "collapsed": false
   },
   "outputs": [
    {
     "name": "stdout",
     "output_type": "stream",
     "text": [
      "(220047,)\n"
     ]
    },
    {
     "data": {
      "text/plain": [
       "id  num_sess\n",
       "1   1            Others\n",
       "    2            Others\n",
       "    3            Others\n",
       "    4            Others\n",
       "2   1            Others\n",
       "    2            Others\n",
       "    3            Others\n",
       "    4            Others\n",
       "3   1           Ashford\n",
       "    2           Ashford\n",
       "Name: city, dtype: object"
      ]
     },
     "execution_count": 191,
     "metadata": {},
     "output_type": "execute_result"
    }
   ],
   "source": [
    "print(df_city.shape)\n",
    "df_city[:10]"
   ]
  },
  {
   "cell_type": "markdown",
   "metadata": {},
   "source": [
    "**Save df_city**"
   ]
  },
  {
   "cell_type": "code",
   "execution_count": 192,
   "metadata": {
    "collapsed": false
   },
   "outputs": [
    {
     "name": "stdout",
     "output_type": "stream",
     "text": [
      "CPU times: user 38 ms, sys: 5 ms, total: 43 ms\n",
      "Wall time: 42.6 ms\n"
     ]
    }
   ],
   "source": [
    "%%time\n",
    "with open( \"../Data/Feature_Engineering/df_city.p\", \"wb\" ) as f:\n",
    "    pickle.dump(df_city, f)"
   ]
  },
  {
   "cell_type": "markdown",
   "metadata": {},
   "source": [
    "---\n",
    "### 2.14 Country"
   ]
  },
  {
   "cell_type": "code",
   "execution_count": 194,
   "metadata": {
    "collapsed": false
   },
   "outputs": [
    {
     "name": "stdout",
     "output_type": "stream",
     "text": [
      "CPU times: user 5.66 s, sys: 893 ms, total: 6.55 s\n",
      "Wall time: 6.56 s\n"
     ]
    }
   ],
   "source": [
    "%%time\n",
    "with open( \"../Data/data_final.p\", \"rb\" )  as f:\n",
    "    data=pickle.load(f)"
   ]
  },
  {
   "cell_type": "code",
   "execution_count": 195,
   "metadata": {
    "collapsed": false
   },
   "outputs": [
    {
     "name": "stdout",
     "output_type": "stream",
     "text": [
      "(220047, 31)\n"
     ]
    }
   ],
   "source": [
    "df_sess=data.groupby(['id','num_sess']).last()\n",
    "print(df_sess.shape)"
   ]
  },
  {
   "cell_type": "code",
   "execution_count": 197,
   "metadata": {
    "collapsed": false
   },
   "outputs": [
    {
     "data": {
      "text/plain": [
       "GB    212153\n",
       "US      2842\n",
       "IN      1106\n",
       "DE       474\n",
       "ES       378\n",
       "CH       365\n",
       "IE       332\n",
       "LK       213\n",
       "EU       187\n",
       "FR       172\n",
       "NL       151\n",
       "IM       117\n",
       "GR       100\n",
       "RO        84\n",
       "CY        82\n",
       "Name: country, dtype: int64"
      ]
     },
     "execution_count": 197,
     "metadata": {},
     "output_type": "execute_result"
    }
   ],
   "source": [
    "df_sess.country.value_counts()[:15]"
   ]
  },
  {
   "cell_type": "code",
   "execution_count": 200,
   "metadata": {
    "collapsed": false
   },
   "outputs": [
    {
     "data": {
      "text/plain": [
       "Index(['GB', 'US', 'IN', 'DE', 'ES', 'CH', 'IE', 'LK', 'EU', 'FR', 'NL', 'IM',\n",
       "       'GR', 'RO', 'CY'],\n",
       "      dtype='object')"
      ]
     },
     "execution_count": 200,
     "metadata": {},
     "output_type": "execute_result"
    }
   ],
   "source": [
    "#create dictonary\n",
    "country=df_sess.country.value_counts()[:15].index\n",
    "country"
   ]
  },
  {
   "cell_type": "code",
   "execution_count": 201,
   "metadata": {
    "collapsed": true
   },
   "outputs": [],
   "source": [
    "def country_class(x):\n",
    "    if x in country:\n",
    "        return x\n",
    "    else:\n",
    "        return 'Others'"
   ]
  },
  {
   "cell_type": "code",
   "execution_count": 202,
   "metadata": {
    "collapsed": true
   },
   "outputs": [],
   "source": [
    "df_country=df_sess['country'].apply(lambda x: country_class(x))"
   ]
  },
  {
   "cell_type": "code",
   "execution_count": 205,
   "metadata": {
    "collapsed": false
   },
   "outputs": [
    {
     "data": {
      "text/plain": [
       "2842"
      ]
     },
     "execution_count": 205,
     "metadata": {},
     "output_type": "execute_result"
    }
   ],
   "source": [
    "sum(df_country=='US')"
   ]
  },
  {
   "cell_type": "markdown",
   "metadata": {},
   "source": [
    "**Save df_country**"
   ]
  },
  {
   "cell_type": "code",
   "execution_count": 206,
   "metadata": {
    "collapsed": false
   },
   "outputs": [
    {
     "name": "stdout",
     "output_type": "stream",
     "text": [
      "CPU times: user 63 ms, sys: 5 ms, total: 68 ms\n",
      "Wall time: 67.7 ms\n"
     ]
    }
   ],
   "source": [
    "%%time\n",
    "with open( \"../Data/Feature_Engineering/df_country.p\", \"wb\" ) as f:\n",
    "    pickle.dump(df_country, f)"
   ]
  },
  {
   "cell_type": "markdown",
   "metadata": {},
   "source": [
    "---\n",
    "# Features: All to One"
   ]
  },
  {
   "cell_type": "code",
   "execution_count": 4,
   "metadata": {
    "collapsed": false
   },
   "outputs": [
    {
     "name": "stdout",
     "output_type": "stream",
     "text": [
      "CPU times: user 162 ms, sys: 123 ms, total: 285 ms\n",
      "Wall time: 4.52 s\n"
     ]
    }
   ],
   "source": [
    "%%time\n",
    "with open( \"../Data/Feature_Engineering/df_dateTime.p\", \"rb\" ) as f:\n",
    "    df_dateTime=pickle.load(f)\n",
    "with open( \"../Data/Feature_Engineering/df_DwellTime.p\", \"rb\" ) as f:\n",
    "    df_DwellTime=pickle.load(f)\n",
    "with open( \"../Data/Feature_Engineering/df_WeekDay.p\", \"rb\" ) as f:\n",
    "    df_WeekDay=pickle.load(f)\n",
    "with open( \"../Data/Feature_Engineering/df_month.p\", \"rb\" ) as f:\n",
    "    df_month=pickle.load(f)\n",
    "with open( \"../Data/Feature_Engineering/df_TimeOfDay.p\", \"rb\" ) as f:\n",
    "    df_TimeOfDay=pickle.load(f)\n",
    "with open( \"../Data/Feature_Engineering/df_last_CartStartedTime.p\", \"rb\" ) as f:\n",
    "    df_last_CartStartedTime=pickle.load(f)\n",
    "with open( \"../Data/Feature_Engineering/df_CartDwellTime.p\", \"rb\" ) as f:\n",
    "    df_CartDwellTime=pickle.load(f)\n",
    "with open( \"../Data/Feature_Engineering/df_ProductTimeLeft.p\", \"rb\" ) as f:\n",
    "    df_ProductTimeLeft=pickle.load(f)\n",
    "with open( \"../Data/Feature_Engineering/df_PageCount.p\", \"rb\" ) as f:\n",
    "    df_PageCount=pickle.load(f)\n",
    "with open( \"../Data/Feature_Engineering/df_ProductCount.p\", \"rb\" ) as f:\n",
    "    df_ProductCount=pickle.load(f)\n",
    "with open( \"../Data/Feature_Engineering/df_PopByViewed.p\", \"rb\" ) as f:\n",
    "    df_PopByViewed=pickle.load(f)\n",
    "with open( \"../Data/Feature_Engineering/df_PopByCart.p\", \"rb\" ) as f:\n",
    "    df_PopByCart=pickle.load(f)\n",
    "with open( \"../Data/Feature_Engineering/df_EmailProv.p\", \"rb\" ) as f:\n",
    "    df_EmailProv=pickle.load(f)\n",
    "with open( \"../Data/Feature_Engineering/df_BrowserFamily.p\", \"rb\" ) as f:\n",
    "    df_BrowserFamily=pickle.load(f)   \n",
    "with open( \"../Data/Feature_Engineering/df_OSfamily.p\", \"rb\" ) as f:\n",
    "    df_OSfamily=pickle.load(f)\n",
    "with open( \"../Data/Feature_Engineering/df_deviceBrand.p\", \"rb\" ) as f:\n",
    "    df_deviceBrand=pickle.load(f)\n",
    "with open( \"../Data/Feature_Engineering/df_referrer.p\", \"rb\" ) as f:\n",
    "    df_referrer=pickle.load(f)\n",
    "with open( \"../Data/Feature_Engineering/df_paymentType.p\", \"rb\" ) as f:\n",
    "    df_paymentType=pickle.load(f)\n",
    "with open( \"../Data/Feature_Engineering/df_productPrice.p\", \"rb\" ) as f:\n",
    "    df_productPrice=pickle.load(f)\n",
    "with open( \"../Data/Feature_Engineering/df_productSave.p\", \"rb\" ) as f:\n",
    "    df_productSave=pickle.load(f)\n",
    "with open( \"../Data/Feature_Engineering/df_total.p\", \"rb\" ) as f:\n",
    "    df_total=pickle.load(f)\n",
    "with open( \"../Data/Feature_Engineering/df_city.p\", \"rb\" ) as f:\n",
    "    df_city=pickle.load(f)\n",
    "with open( \"../Data/Feature_Engineering/df_country.p\", \"rb\" ) as f:\n",
    "    df_country=pickle.load(f)"
   ]
  },
  {
   "cell_type": "code",
   "execution_count": 5,
   "metadata": {
    "collapsed": true
   },
   "outputs": [],
   "source": [
    "list_features=[df_dateTime,df_DwellTime, df_WeekDay,df_month,df_TimeOfDay,df_CartDwellTime,\n",
    "              df_ProductTimeLeft,df_PageCount,df_ProductCount,df_PopByViewed,df_PopByCart,\n",
    "              df_EmailProv,df_BrowserFamily,df_OSfamily,df_deviceBrand,df_referrer,df_paymentType,df_productPrice,\n",
    "              df_productSave,df_total,df_city,df_country]"
   ]
  },
  {
   "cell_type": "code",
   "execution_count": 6,
   "metadata": {
    "collapsed": false
   },
   "outputs": [
    {
     "name": "stdout",
     "output_type": "stream",
     "text": [
      "(220047,)\n",
      "(220047,)\n",
      "(220047,)\n",
      "(220047,)\n",
      "(220047,)\n",
      "(220047,)\n",
      "(220047,)\n",
      "(220047,)\n",
      "(220047,)\n",
      "(220047,)\n",
      "(220047,)\n",
      "(220047,)\n",
      "(220047,)\n",
      "(220047,)\n",
      "(220047,)\n",
      "(220047,)\n",
      "(220047,)\n",
      "(220047,)\n",
      "(220047,)\n",
      "(220047,)\n",
      "(220047,)\n",
      "(220047,)\n"
     ]
    }
   ],
   "source": [
    "print(df_dateTime.shape)\n",
    "print(df_DwellTime.shape)\n",
    "print(df_WeekDay.shape)\n",
    "print(df_month.shape)\n",
    "print(df_TimeOfDay.shape)\n",
    "print(df_CartDwellTime.shape)\n",
    "print(df_ProductTimeLeft.shape)\n",
    "print(df_PageCount.shape)\n",
    "print(df_ProductCount.shape)\n",
    "print(df_PopByViewed.shape)\n",
    "print(df_PopByCart.shape)\n",
    "print(df_EmailProv.shape)\n",
    "print(df_BrowserFamily.shape)\n",
    "print(df_OSfamily.shape)\n",
    "print(df_deviceBrand.shape)\n",
    "print(df_referrer.shape)\n",
    "print(df_paymentType.shape)\n",
    "print(df_productPrice.shape)\n",
    "print(df_productSave.shape)\n",
    "print(df_total.shape)\n",
    "print(df_city.shape)\n",
    "print(df_country.shape)"
   ]
  },
  {
   "cell_type": "code",
   "execution_count": 7,
   "metadata": {
    "collapsed": false
   },
   "outputs": [],
   "source": [
    "df_features=pd.concat(list_features, axis=1)"
   ]
  },
  {
   "cell_type": "code",
   "execution_count": 8,
   "metadata": {
    "collapsed": false
   },
   "outputs": [],
   "source": [
    "# Rename page_count_sess\n",
    "df_features.rename(columns={0:'page_count_sess'},inplace=True)"
   ]
  },
  {
   "cell_type": "code",
   "execution_count": 9,
   "metadata": {
    "collapsed": false
   },
   "outputs": [
    {
     "data": {
      "text/html": [
       "<div>\n",
       "<table border=\"1\" class=\"dataframe\">\n",
       "  <thead>\n",
       "    <tr style=\"text-align: right;\">\n",
       "      <th></th>\n",
       "      <th></th>\n",
       "      <th>datetime</th>\n",
       "      <th>dwell_time</th>\n",
       "      <th>weekday</th>\n",
       "      <th>month</th>\n",
       "      <th>time_of_day</th>\n",
       "      <th>cart_DwellTime</th>\n",
       "      <th>product_time_left</th>\n",
       "      <th>page_count_sess</th>\n",
       "      <th>product_id_ProductViewed</th>\n",
       "      <th>PopByViewed</th>\n",
       "      <th>PopByCart</th>\n",
       "      <th>email</th>\n",
       "      <th>Browser_Family</th>\n",
       "      <th>OS_family</th>\n",
       "      <th>Device_Brand</th>\n",
       "      <th>referrer</th>\n",
       "      <th>payment_type</th>\n",
       "      <th>product_price</th>\n",
       "      <th>product_save</th>\n",
       "      <th>total</th>\n",
       "      <th>city</th>\n",
       "      <th>country</th>\n",
       "    </tr>\n",
       "    <tr>\n",
       "      <th>id</th>\n",
       "      <th>num_sess</th>\n",
       "      <th></th>\n",
       "      <th></th>\n",
       "      <th></th>\n",
       "      <th></th>\n",
       "      <th></th>\n",
       "      <th></th>\n",
       "      <th></th>\n",
       "      <th></th>\n",
       "      <th></th>\n",
       "      <th></th>\n",
       "      <th></th>\n",
       "      <th></th>\n",
       "      <th></th>\n",
       "      <th></th>\n",
       "      <th></th>\n",
       "      <th></th>\n",
       "      <th></th>\n",
       "      <th></th>\n",
       "      <th></th>\n",
       "      <th></th>\n",
       "      <th></th>\n",
       "      <th></th>\n",
       "    </tr>\n",
       "  </thead>\n",
       "  <tbody>\n",
       "    <tr>\n",
       "      <th rowspan=\"4\" valign=\"top\">1</th>\n",
       "      <th>1</th>\n",
       "      <td>1.495181e+09</td>\n",
       "      <td>0.0</td>\n",
       "      <td>4</td>\n",
       "      <td>5</td>\n",
       "      <td>28973</td>\n",
       "      <td>0.0</td>\n",
       "      <td>0.0</td>\n",
       "      <td>1</td>\n",
       "      <td>0</td>\n",
       "      <td>761</td>\n",
       "      <td>3465</td>\n",
       "      <td>nun</td>\n",
       "      <td>Mobile Safari</td>\n",
       "      <td>iOS</td>\n",
       "      <td>Apple</td>\n",
       "      <td>0</td>\n",
       "      <td>None</td>\n",
       "      <td>0.0</td>\n",
       "      <td>0.0</td>\n",
       "      <td>0.0</td>\n",
       "      <td>Others</td>\n",
       "      <td>GB</td>\n",
       "    </tr>\n",
       "    <tr>\n",
       "      <th>2</th>\n",
       "      <td>1.495202e+09</td>\n",
       "      <td>0.0</td>\n",
       "      <td>4</td>\n",
       "      <td>5</td>\n",
       "      <td>49919</td>\n",
       "      <td>0.0</td>\n",
       "      <td>0.0</td>\n",
       "      <td>1</td>\n",
       "      <td>0</td>\n",
       "      <td>761</td>\n",
       "      <td>3465</td>\n",
       "      <td>nun</td>\n",
       "      <td>Mobile Safari</td>\n",
       "      <td>iOS</td>\n",
       "      <td>Apple</td>\n",
       "      <td>0</td>\n",
       "      <td>None</td>\n",
       "      <td>0.0</td>\n",
       "      <td>0.0</td>\n",
       "      <td>0.0</td>\n",
       "      <td>Others</td>\n",
       "      <td>GB</td>\n",
       "    </tr>\n",
       "    <tr>\n",
       "      <th>3</th>\n",
       "      <td>1.496440e+09</td>\n",
       "      <td>0.0</td>\n",
       "      <td>4</td>\n",
       "      <td>6</td>\n",
       "      <td>78006</td>\n",
       "      <td>0.0</td>\n",
       "      <td>264004.0</td>\n",
       "      <td>1</td>\n",
       "      <td>0</td>\n",
       "      <td>286</td>\n",
       "      <td>736</td>\n",
       "      <td>nun</td>\n",
       "      <td>Mobile Safari</td>\n",
       "      <td>iOS</td>\n",
       "      <td>Apple</td>\n",
       "      <td>0</td>\n",
       "      <td>None</td>\n",
       "      <td>9.0</td>\n",
       "      <td>75.0</td>\n",
       "      <td>9.0</td>\n",
       "      <td>Others</td>\n",
       "      <td>GB</td>\n",
       "    </tr>\n",
       "    <tr>\n",
       "      <th>4</th>\n",
       "      <td>1.497018e+09</td>\n",
       "      <td>0.0</td>\n",
       "      <td>4</td>\n",
       "      <td>6</td>\n",
       "      <td>51790</td>\n",
       "      <td>0.0</td>\n",
       "      <td>31014.0</td>\n",
       "      <td>1</td>\n",
       "      <td>0</td>\n",
       "      <td>286</td>\n",
       "      <td>736</td>\n",
       "      <td>nun</td>\n",
       "      <td>Mobile Safari</td>\n",
       "      <td>iOS</td>\n",
       "      <td>Apple</td>\n",
       "      <td>0</td>\n",
       "      <td>None</td>\n",
       "      <td>9.0</td>\n",
       "      <td>75.0</td>\n",
       "      <td>9.0</td>\n",
       "      <td>Others</td>\n",
       "      <td>GB</td>\n",
       "    </tr>\n",
       "    <tr>\n",
       "      <th>2</th>\n",
       "      <th>1</th>\n",
       "      <td>1.495805e+09</td>\n",
       "      <td>0.0</td>\n",
       "      <td>4</td>\n",
       "      <td>5</td>\n",
       "      <td>48327</td>\n",
       "      <td>0.0</td>\n",
       "      <td>552880.0</td>\n",
       "      <td>1</td>\n",
       "      <td>1</td>\n",
       "      <td>710</td>\n",
       "      <td>1420</td>\n",
       "      <td>nun</td>\n",
       "      <td>Chrome</td>\n",
       "      <td>Windows</td>\n",
       "      <td>NaN</td>\n",
       "      <td>0</td>\n",
       "      <td>None</td>\n",
       "      <td>69.0</td>\n",
       "      <td>26.0</td>\n",
       "      <td>69.0</td>\n",
       "      <td>Others</td>\n",
       "      <td>GB</td>\n",
       "    </tr>\n",
       "  </tbody>\n",
       "</table>\n",
       "</div>"
      ],
      "text/plain": [
       "                 datetime  dwell_time  weekday  month  time_of_day  \\\n",
       "id num_sess                                                          \n",
       "1  1         1.495181e+09         0.0        4      5        28973   \n",
       "   2         1.495202e+09         0.0        4      5        49919   \n",
       "   3         1.496440e+09         0.0        4      6        78006   \n",
       "   4         1.497018e+09         0.0        4      6        51790   \n",
       "2  1         1.495805e+09         0.0        4      5        48327   \n",
       "\n",
       "             cart_DwellTime  product_time_left  page_count_sess  \\\n",
       "id num_sess                                                       \n",
       "1  1                    0.0                0.0                1   \n",
       "   2                    0.0                0.0                1   \n",
       "   3                    0.0           264004.0                1   \n",
       "   4                    0.0            31014.0                1   \n",
       "2  1                    0.0           552880.0                1   \n",
       "\n",
       "             product_id_ProductViewed  PopByViewed  PopByCart email  \\\n",
       "id num_sess                                                           \n",
       "1  1                                0          761       3465   nun   \n",
       "   2                                0          761       3465   nun   \n",
       "   3                                0          286        736   nun   \n",
       "   4                                0          286        736   nun   \n",
       "2  1                                1          710       1420   nun   \n",
       "\n",
       "            Browser_Family OS_family Device_Brand  referrer payment_type  \\\n",
       "id num_sess                                                                \n",
       "1  1         Mobile Safari       iOS        Apple         0         None   \n",
       "   2         Mobile Safari       iOS        Apple         0         None   \n",
       "   3         Mobile Safari       iOS        Apple         0         None   \n",
       "   4         Mobile Safari       iOS        Apple         0         None   \n",
       "2  1                Chrome   Windows          NaN         0         None   \n",
       "\n",
       "             product_price  product_save  total    city country  \n",
       "id num_sess                                                      \n",
       "1  1                   0.0           0.0    0.0  Others      GB  \n",
       "   2                   0.0           0.0    0.0  Others      GB  \n",
       "   3                   9.0          75.0    9.0  Others      GB  \n",
       "   4                   9.0          75.0    9.0  Others      GB  \n",
       "2  1                  69.0          26.0   69.0  Others      GB  "
      ]
     },
     "execution_count": 9,
     "metadata": {},
     "output_type": "execute_result"
    }
   ],
   "source": [
    "df_features[:5]"
   ]
  },
  {
   "cell_type": "code",
   "execution_count": 10,
   "metadata": {
    "collapsed": false
   },
   "outputs": [
    {
     "name": "stdout",
     "output_type": "stream",
     "text": [
      "(220047,)\n",
      "(220047,)\n",
      "(220047,)\n",
      "(220047,)\n",
      "(220047,)\n",
      "(220047,)\n",
      "(220047,)\n",
      "(220047,)\n",
      "(220047,)\n",
      "(220047,)\n",
      "(220047,)\n",
      "(220047,)\n"
     ]
    }
   ],
   "source": [
    "print(df_ProductCount.shape)\n",
    "# print(df_lastProductInCart.shape)\n",
    "# print(df_PopByViewed.shape)\n",
    "# print(df_PopByCart.shape)\n",
    "print(df_EmailProv.shape)\n",
    "print(df_BrowserFamily.shape)\n",
    "print(df_OSfamily.shape)\n",
    "print(df_deviceBrand.shape)\n",
    "print(df_referrer.shape)\n",
    "print(df_paymentType.shape)\n",
    "print(df_productPrice.shape)\n",
    "print(df_productSave.shape)\n",
    "print(df_total.shape)\n",
    "print(df_city.shape)\n",
    "print(df_country.shape)"
   ]
  },
  {
   "cell_type": "code",
   "execution_count": 60,
   "metadata": {
    "collapsed": false
   },
   "outputs": [],
   "source": [
    "# reset index and drop id column\n",
    "df_features=df_features.reset_index().drop(['id'],axis=1)"
   ]
  },
  {
   "cell_type": "code",
   "execution_count": 61,
   "metadata": {
    "collapsed": false
   },
   "outputs": [
    {
     "name": "stdout",
     "output_type": "stream",
     "text": [
      "(220047, 23)\n"
     ]
    },
    {
     "data": {
      "text/html": [
       "<div>\n",
       "<table border=\"1\" class=\"dataframe\">\n",
       "  <thead>\n",
       "    <tr style=\"text-align: right;\">\n",
       "      <th></th>\n",
       "      <th>num_sess</th>\n",
       "      <th>datetime</th>\n",
       "      <th>dwell_time</th>\n",
       "      <th>weekday</th>\n",
       "      <th>month</th>\n",
       "      <th>time_of_day</th>\n",
       "      <th>cart_DwellTime</th>\n",
       "      <th>product_time_left</th>\n",
       "      <th>page_count_sess</th>\n",
       "      <th>product_id_ProductViewed</th>\n",
       "      <th>PopByViewed</th>\n",
       "      <th>PopByCart</th>\n",
       "      <th>email</th>\n",
       "      <th>Browser_Family</th>\n",
       "      <th>OS_family</th>\n",
       "      <th>Device_Brand</th>\n",
       "      <th>referrer</th>\n",
       "      <th>payment_type</th>\n",
       "      <th>product_price</th>\n",
       "      <th>product_save</th>\n",
       "      <th>total</th>\n",
       "      <th>city</th>\n",
       "      <th>country</th>\n",
       "    </tr>\n",
       "  </thead>\n",
       "  <tbody>\n",
       "    <tr>\n",
       "      <th>0</th>\n",
       "      <td>1</td>\n",
       "      <td>1.495181e+09</td>\n",
       "      <td>0.0</td>\n",
       "      <td>4</td>\n",
       "      <td>5</td>\n",
       "      <td>28973</td>\n",
       "      <td>0.0</td>\n",
       "      <td>0.0</td>\n",
       "      <td>1</td>\n",
       "      <td>0</td>\n",
       "      <td>761</td>\n",
       "      <td>3465</td>\n",
       "      <td>nun</td>\n",
       "      <td>Mobile Safari</td>\n",
       "      <td>iOS</td>\n",
       "      <td>Apple</td>\n",
       "      <td>0</td>\n",
       "      <td>None</td>\n",
       "      <td>0.0</td>\n",
       "      <td>0.0</td>\n",
       "      <td>0.0</td>\n",
       "      <td>Others</td>\n",
       "      <td>GB</td>\n",
       "    </tr>\n",
       "    <tr>\n",
       "      <th>1</th>\n",
       "      <td>2</td>\n",
       "      <td>1.495202e+09</td>\n",
       "      <td>0.0</td>\n",
       "      <td>4</td>\n",
       "      <td>5</td>\n",
       "      <td>49919</td>\n",
       "      <td>0.0</td>\n",
       "      <td>0.0</td>\n",
       "      <td>1</td>\n",
       "      <td>0</td>\n",
       "      <td>761</td>\n",
       "      <td>3465</td>\n",
       "      <td>nun</td>\n",
       "      <td>Mobile Safari</td>\n",
       "      <td>iOS</td>\n",
       "      <td>Apple</td>\n",
       "      <td>0</td>\n",
       "      <td>None</td>\n",
       "      <td>0.0</td>\n",
       "      <td>0.0</td>\n",
       "      <td>0.0</td>\n",
       "      <td>Others</td>\n",
       "      <td>GB</td>\n",
       "    </tr>\n",
       "    <tr>\n",
       "      <th>2</th>\n",
       "      <td>3</td>\n",
       "      <td>1.496440e+09</td>\n",
       "      <td>0.0</td>\n",
       "      <td>4</td>\n",
       "      <td>6</td>\n",
       "      <td>78006</td>\n",
       "      <td>0.0</td>\n",
       "      <td>264004.0</td>\n",
       "      <td>1</td>\n",
       "      <td>0</td>\n",
       "      <td>286</td>\n",
       "      <td>736</td>\n",
       "      <td>nun</td>\n",
       "      <td>Mobile Safari</td>\n",
       "      <td>iOS</td>\n",
       "      <td>Apple</td>\n",
       "      <td>0</td>\n",
       "      <td>None</td>\n",
       "      <td>9.0</td>\n",
       "      <td>75.0</td>\n",
       "      <td>9.0</td>\n",
       "      <td>Others</td>\n",
       "      <td>GB</td>\n",
       "    </tr>\n",
       "    <tr>\n",
       "      <th>3</th>\n",
       "      <td>4</td>\n",
       "      <td>1.497018e+09</td>\n",
       "      <td>0.0</td>\n",
       "      <td>4</td>\n",
       "      <td>6</td>\n",
       "      <td>51790</td>\n",
       "      <td>0.0</td>\n",
       "      <td>31014.0</td>\n",
       "      <td>1</td>\n",
       "      <td>0</td>\n",
       "      <td>286</td>\n",
       "      <td>736</td>\n",
       "      <td>nun</td>\n",
       "      <td>Mobile Safari</td>\n",
       "      <td>iOS</td>\n",
       "      <td>Apple</td>\n",
       "      <td>0</td>\n",
       "      <td>None</td>\n",
       "      <td>9.0</td>\n",
       "      <td>75.0</td>\n",
       "      <td>9.0</td>\n",
       "      <td>Others</td>\n",
       "      <td>GB</td>\n",
       "    </tr>\n",
       "    <tr>\n",
       "      <th>4</th>\n",
       "      <td>1</td>\n",
       "      <td>1.495805e+09</td>\n",
       "      <td>0.0</td>\n",
       "      <td>4</td>\n",
       "      <td>5</td>\n",
       "      <td>48327</td>\n",
       "      <td>0.0</td>\n",
       "      <td>552880.0</td>\n",
       "      <td>1</td>\n",
       "      <td>1</td>\n",
       "      <td>710</td>\n",
       "      <td>1420</td>\n",
       "      <td>nun</td>\n",
       "      <td>Chrome</td>\n",
       "      <td>Windows</td>\n",
       "      <td>NaN</td>\n",
       "      <td>0</td>\n",
       "      <td>None</td>\n",
       "      <td>69.0</td>\n",
       "      <td>26.0</td>\n",
       "      <td>69.0</td>\n",
       "      <td>Others</td>\n",
       "      <td>GB</td>\n",
       "    </tr>\n",
       "  </tbody>\n",
       "</table>\n",
       "</div>"
      ],
      "text/plain": [
       "   num_sess      datetime  dwell_time  weekday  month  time_of_day  \\\n",
       "0         1  1.495181e+09         0.0        4      5        28973   \n",
       "1         2  1.495202e+09         0.0        4      5        49919   \n",
       "2         3  1.496440e+09         0.0        4      6        78006   \n",
       "3         4  1.497018e+09         0.0        4      6        51790   \n",
       "4         1  1.495805e+09         0.0        4      5        48327   \n",
       "\n",
       "   cart_DwellTime  product_time_left  page_count_sess  \\\n",
       "0             0.0                0.0                1   \n",
       "1             0.0                0.0                1   \n",
       "2             0.0           264004.0                1   \n",
       "3             0.0            31014.0                1   \n",
       "4             0.0           552880.0                1   \n",
       "\n",
       "   product_id_ProductViewed  PopByViewed  PopByCart email Browser_Family  \\\n",
       "0                         0          761       3465   nun  Mobile Safari   \n",
       "1                         0          761       3465   nun  Mobile Safari   \n",
       "2                         0          286        736   nun  Mobile Safari   \n",
       "3                         0          286        736   nun  Mobile Safari   \n",
       "4                         1          710       1420   nun         Chrome   \n",
       "\n",
       "  OS_family Device_Brand  referrer payment_type  product_price  product_save  \\\n",
       "0       iOS        Apple         0         None            0.0           0.0   \n",
       "1       iOS        Apple         0         None            0.0           0.0   \n",
       "2       iOS        Apple         0         None            9.0          75.0   \n",
       "3       iOS        Apple         0         None            9.0          75.0   \n",
       "4   Windows          NaN         0         None           69.0          26.0   \n",
       "\n",
       "   total    city country  \n",
       "0    0.0  Others      GB  \n",
       "1    0.0  Others      GB  \n",
       "2    9.0  Others      GB  \n",
       "3    9.0  Others      GB  \n",
       "4   69.0  Others      GB  "
      ]
     },
     "execution_count": 61,
     "metadata": {},
     "output_type": "execute_result"
    }
   ],
   "source": [
    "print(df_features.shape)\n",
    "df_features[:5]"
   ]
  },
  {
   "cell_type": "markdown",
   "metadata": {},
   "source": [
    "### - get df_features\n",
    "**Save df_features**"
   ]
  },
  {
   "cell_type": "code",
   "execution_count": 62,
   "metadata": {
    "collapsed": false
   },
   "outputs": [
    {
     "name": "stdout",
     "output_type": "stream",
     "text": [
      "CPU times: user 234 ms, sys: 76 ms, total: 310 ms\n",
      "Wall time: 366 ms\n"
     ]
    }
   ],
   "source": [
    "%%time\n",
    "with open( \"../Data/Feature_Engineering/df_features.p\", \"wb\" ) as f:\n",
    "    pickle.dump(df_features, f)"
   ]
  },
  {
   "cell_type": "code",
   "execution_count": 5,
   "metadata": {
    "collapsed": false
   },
   "outputs": [
    {
     "name": "stdout",
     "output_type": "stream",
     "text": [
      "CPU times: user 106 ms, sys: 37 ms, total: 143 ms\n",
      "Wall time: 175 ms\n"
     ]
    }
   ],
   "source": [
    "%%time\n",
    "with open( \"../Data/Feature_Engineering/df_features.p\", \"rb\" ) as f:\n",
    "    df_features=pickle.load(f)"
   ]
  },
  {
   "cell_type": "code",
   "execution_count": 9,
   "metadata": {
    "collapsed": false
   },
   "outputs": [
    {
     "data": {
      "text/plain": [
       "Index(['num_sess', 'datetime', 'dwell_time', 'weekday', 'month', 'time_of_day',\n",
       "       'cart_DwellTime', 'product_time_left', 'page_count_sess',\n",
       "       'product_id_ProductViewed', 'PopByViewed', 'PopByCart', 'email',\n",
       "       'Browser_Family', 'OS_family', 'Device_Brand', 'referrer',\n",
       "       'payment_type', 'product_price', 'product_save', 'total', 'city',\n",
       "       'country'],\n",
       "      dtype='object')"
      ]
     },
     "execution_count": 9,
     "metadata": {},
     "output_type": "execute_result"
    }
   ],
   "source": [
    "df_features.columns"
   ]
  },
  {
   "cell_type": "code",
   "execution_count": 10,
   "metadata": {
    "collapsed": false
   },
   "outputs": [
    {
     "data": {
      "text/plain": [
       "(220047, 23)"
      ]
     },
     "execution_count": 10,
     "metadata": {},
     "output_type": "execute_result"
    }
   ],
   "source": [
    "df_features.shape"
   ]
  },
  {
   "cell_type": "code",
   "execution_count": 6,
   "metadata": {
    "collapsed": false
   },
   "outputs": [
    {
     "data": {
      "text/html": [
       "<div>\n",
       "<table border=\"1\" class=\"dataframe\">\n",
       "  <thead>\n",
       "    <tr style=\"text-align: right;\">\n",
       "      <th></th>\n",
       "      <th>num_sess</th>\n",
       "      <th>datetime</th>\n",
       "      <th>dwell_time</th>\n",
       "      <th>weekday</th>\n",
       "      <th>month</th>\n",
       "      <th>time_of_day</th>\n",
       "      <th>cart_DwellTime</th>\n",
       "      <th>product_time_left</th>\n",
       "      <th>page_count_sess</th>\n",
       "      <th>product_id_ProductViewed</th>\n",
       "      <th>PopByViewed</th>\n",
       "      <th>PopByCart</th>\n",
       "      <th>email</th>\n",
       "      <th>Browser_Family</th>\n",
       "      <th>OS_family</th>\n",
       "      <th>Device_Brand</th>\n",
       "      <th>referrer</th>\n",
       "      <th>payment_type</th>\n",
       "      <th>product_price</th>\n",
       "      <th>product_save</th>\n",
       "      <th>total</th>\n",
       "      <th>city</th>\n",
       "      <th>country</th>\n",
       "    </tr>\n",
       "  </thead>\n",
       "  <tbody>\n",
       "    <tr>\n",
       "      <th>0</th>\n",
       "      <td>1</td>\n",
       "      <td>1.495181e+09</td>\n",
       "      <td>0.0</td>\n",
       "      <td>4</td>\n",
       "      <td>5</td>\n",
       "      <td>28973</td>\n",
       "      <td>0.0</td>\n",
       "      <td>0.0</td>\n",
       "      <td>1</td>\n",
       "      <td>0</td>\n",
       "      <td>761</td>\n",
       "      <td>3465</td>\n",
       "      <td>nun</td>\n",
       "      <td>Mobile Safari</td>\n",
       "      <td>iOS</td>\n",
       "      <td>Apple</td>\n",
       "      <td>0</td>\n",
       "      <td>None</td>\n",
       "      <td>0.00</td>\n",
       "      <td>0.0</td>\n",
       "      <td>0.00</td>\n",
       "      <td>Others</td>\n",
       "      <td>GB</td>\n",
       "    </tr>\n",
       "    <tr>\n",
       "      <th>1</th>\n",
       "      <td>2</td>\n",
       "      <td>1.495202e+09</td>\n",
       "      <td>0.0</td>\n",
       "      <td>4</td>\n",
       "      <td>5</td>\n",
       "      <td>49919</td>\n",
       "      <td>0.0</td>\n",
       "      <td>0.0</td>\n",
       "      <td>1</td>\n",
       "      <td>0</td>\n",
       "      <td>761</td>\n",
       "      <td>3465</td>\n",
       "      <td>nun</td>\n",
       "      <td>Mobile Safari</td>\n",
       "      <td>iOS</td>\n",
       "      <td>Apple</td>\n",
       "      <td>0</td>\n",
       "      <td>None</td>\n",
       "      <td>0.00</td>\n",
       "      <td>0.0</td>\n",
       "      <td>0.00</td>\n",
       "      <td>Others</td>\n",
       "      <td>GB</td>\n",
       "    </tr>\n",
       "    <tr>\n",
       "      <th>2</th>\n",
       "      <td>3</td>\n",
       "      <td>1.496440e+09</td>\n",
       "      <td>0.0</td>\n",
       "      <td>4</td>\n",
       "      <td>6</td>\n",
       "      <td>78006</td>\n",
       "      <td>0.0</td>\n",
       "      <td>264004.0</td>\n",
       "      <td>1</td>\n",
       "      <td>0</td>\n",
       "      <td>286</td>\n",
       "      <td>736</td>\n",
       "      <td>nun</td>\n",
       "      <td>Mobile Safari</td>\n",
       "      <td>iOS</td>\n",
       "      <td>Apple</td>\n",
       "      <td>0</td>\n",
       "      <td>None</td>\n",
       "      <td>9.00</td>\n",
       "      <td>75.0</td>\n",
       "      <td>9.00</td>\n",
       "      <td>Others</td>\n",
       "      <td>GB</td>\n",
       "    </tr>\n",
       "    <tr>\n",
       "      <th>3</th>\n",
       "      <td>4</td>\n",
       "      <td>1.497018e+09</td>\n",
       "      <td>0.0</td>\n",
       "      <td>4</td>\n",
       "      <td>6</td>\n",
       "      <td>51790</td>\n",
       "      <td>0.0</td>\n",
       "      <td>31014.0</td>\n",
       "      <td>1</td>\n",
       "      <td>0</td>\n",
       "      <td>286</td>\n",
       "      <td>736</td>\n",
       "      <td>nun</td>\n",
       "      <td>Mobile Safari</td>\n",
       "      <td>iOS</td>\n",
       "      <td>Apple</td>\n",
       "      <td>0</td>\n",
       "      <td>None</td>\n",
       "      <td>9.00</td>\n",
       "      <td>75.0</td>\n",
       "      <td>9.00</td>\n",
       "      <td>Others</td>\n",
       "      <td>GB</td>\n",
       "    </tr>\n",
       "    <tr>\n",
       "      <th>4</th>\n",
       "      <td>1</td>\n",
       "      <td>1.495805e+09</td>\n",
       "      <td>0.0</td>\n",
       "      <td>4</td>\n",
       "      <td>5</td>\n",
       "      <td>48327</td>\n",
       "      <td>0.0</td>\n",
       "      <td>552880.0</td>\n",
       "      <td>1</td>\n",
       "      <td>1</td>\n",
       "      <td>710</td>\n",
       "      <td>1420</td>\n",
       "      <td>nun</td>\n",
       "      <td>Chrome</td>\n",
       "      <td>Windows</td>\n",
       "      <td>NaN</td>\n",
       "      <td>0</td>\n",
       "      <td>None</td>\n",
       "      <td>69.00</td>\n",
       "      <td>26.0</td>\n",
       "      <td>69.00</td>\n",
       "      <td>Others</td>\n",
       "      <td>GB</td>\n",
       "    </tr>\n",
       "    <tr>\n",
       "      <th>5</th>\n",
       "      <td>2</td>\n",
       "      <td>1.497014e+09</td>\n",
       "      <td>1.0</td>\n",
       "      <td>4</td>\n",
       "      <td>6</td>\n",
       "      <td>48022</td>\n",
       "      <td>0.0</td>\n",
       "      <td>380369.0</td>\n",
       "      <td>1</td>\n",
       "      <td>1</td>\n",
       "      <td>1202</td>\n",
       "      <td>2738</td>\n",
       "      <td>nun</td>\n",
       "      <td>Chrome</td>\n",
       "      <td>Windows</td>\n",
       "      <td>NaN</td>\n",
       "      <td>0</td>\n",
       "      <td>None</td>\n",
       "      <td>229.00</td>\n",
       "      <td>27.0</td>\n",
       "      <td>229.00</td>\n",
       "      <td>Others</td>\n",
       "      <td>GB</td>\n",
       "    </tr>\n",
       "    <tr>\n",
       "      <th>6</th>\n",
       "      <td>3</td>\n",
       "      <td>1.497256e+09</td>\n",
       "      <td>0.0</td>\n",
       "      <td>0</td>\n",
       "      <td>6</td>\n",
       "      <td>30746</td>\n",
       "      <td>0.0</td>\n",
       "      <td>311235.0</td>\n",
       "      <td>1</td>\n",
       "      <td>1</td>\n",
       "      <td>19</td>\n",
       "      <td>43</td>\n",
       "      <td>nun</td>\n",
       "      <td>Chrome</td>\n",
       "      <td>Windows</td>\n",
       "      <td>NaN</td>\n",
       "      <td>0</td>\n",
       "      <td>None</td>\n",
       "      <td>9.00</td>\n",
       "      <td>64.0</td>\n",
       "      <td>9.00</td>\n",
       "      <td>Others</td>\n",
       "      <td>GB</td>\n",
       "    </tr>\n",
       "    <tr>\n",
       "      <th>7</th>\n",
       "      <td>4</td>\n",
       "      <td>1.497448e+09</td>\n",
       "      <td>68.0</td>\n",
       "      <td>2</td>\n",
       "      <td>6</td>\n",
       "      <td>49801</td>\n",
       "      <td>0.0</td>\n",
       "      <td>551353.0</td>\n",
       "      <td>2</td>\n",
       "      <td>2</td>\n",
       "      <td>829</td>\n",
       "      <td>1799</td>\n",
       "      <td>nun</td>\n",
       "      <td>Chrome</td>\n",
       "      <td>Windows</td>\n",
       "      <td>NaN</td>\n",
       "      <td>0</td>\n",
       "      <td>None</td>\n",
       "      <td>259.00</td>\n",
       "      <td>35.0</td>\n",
       "      <td>259.00</td>\n",
       "      <td>Others</td>\n",
       "      <td>GB</td>\n",
       "    </tr>\n",
       "    <tr>\n",
       "      <th>8</th>\n",
       "      <td>1</td>\n",
       "      <td>1.496513e+09</td>\n",
       "      <td>82.0</td>\n",
       "      <td>5</td>\n",
       "      <td>6</td>\n",
       "      <td>65057</td>\n",
       "      <td>0.0</td>\n",
       "      <td>194120.0</td>\n",
       "      <td>2</td>\n",
       "      <td>1</td>\n",
       "      <td>327</td>\n",
       "      <td>1230</td>\n",
       "      <td>nun</td>\n",
       "      <td>Chrome</td>\n",
       "      <td>Android</td>\n",
       "      <td>Generic</td>\n",
       "      <td>0</td>\n",
       "      <td>None</td>\n",
       "      <td>6.99</td>\n",
       "      <td>81.0</td>\n",
       "      <td>6.99</td>\n",
       "      <td>Ashford</td>\n",
       "      <td>GB</td>\n",
       "    </tr>\n",
       "    <tr>\n",
       "      <th>9</th>\n",
       "      <td>2</td>\n",
       "      <td>1.496704e+09</td>\n",
       "      <td>356.0</td>\n",
       "      <td>0</td>\n",
       "      <td>6</td>\n",
       "      <td>83069</td>\n",
       "      <td>118.0</td>\n",
       "      <td>348603.0</td>\n",
       "      <td>1</td>\n",
       "      <td>1</td>\n",
       "      <td>45</td>\n",
       "      <td>91</td>\n",
       "      <td>nun</td>\n",
       "      <td>Chrome</td>\n",
       "      <td>Android</td>\n",
       "      <td>Generic</td>\n",
       "      <td>0</td>\n",
       "      <td>None</td>\n",
       "      <td>12.00</td>\n",
       "      <td>87.0</td>\n",
       "      <td>12.00</td>\n",
       "      <td>Ashford</td>\n",
       "      <td>GB</td>\n",
       "    </tr>\n",
       "    <tr>\n",
       "      <th>10</th>\n",
       "      <td>3</td>\n",
       "      <td>1.497374e+09</td>\n",
       "      <td>5.0</td>\n",
       "      <td>1</td>\n",
       "      <td>6</td>\n",
       "      <td>62358</td>\n",
       "      <td>0.0</td>\n",
       "      <td>196865.0</td>\n",
       "      <td>1</td>\n",
       "      <td>1</td>\n",
       "      <td>90</td>\n",
       "      <td>230</td>\n",
       "      <td>nun</td>\n",
       "      <td>Chrome</td>\n",
       "      <td>Android</td>\n",
       "      <td>Generic</td>\n",
       "      <td>0</td>\n",
       "      <td>None</td>\n",
       "      <td>8.00</td>\n",
       "      <td>70.0</td>\n",
       "      <td>8.00</td>\n",
       "      <td>Ashford</td>\n",
       "      <td>GB</td>\n",
       "    </tr>\n",
       "    <tr>\n",
       "      <th>11</th>\n",
       "      <td>1</td>\n",
       "      <td>1.496844e+09</td>\n",
       "      <td>0.0</td>\n",
       "      <td>2</td>\n",
       "      <td>6</td>\n",
       "      <td>50641</td>\n",
       "      <td>0.0</td>\n",
       "      <td>291360.0</td>\n",
       "      <td>1</td>\n",
       "      <td>0</td>\n",
       "      <td>973</td>\n",
       "      <td>1854</td>\n",
       "      <td>nun</td>\n",
       "      <td>Mobile Safari</td>\n",
       "      <td>iOS</td>\n",
       "      <td>Apple</td>\n",
       "      <td>0</td>\n",
       "      <td>None</td>\n",
       "      <td>289.00</td>\n",
       "      <td>27.0</td>\n",
       "      <td>289.00</td>\n",
       "      <td>Storrington</td>\n",
       "      <td>GB</td>\n",
       "    </tr>\n",
       "    <tr>\n",
       "      <th>12</th>\n",
       "      <td>2</td>\n",
       "      <td>1.497085e+09</td>\n",
       "      <td>0.0</td>\n",
       "      <td>5</td>\n",
       "      <td>6</td>\n",
       "      <td>32362</td>\n",
       "      <td>0.0</td>\n",
       "      <td>309639.0</td>\n",
       "      <td>1</td>\n",
       "      <td>0</td>\n",
       "      <td>300</td>\n",
       "      <td>574</td>\n",
       "      <td>nun</td>\n",
       "      <td>Mobile Safari</td>\n",
       "      <td>iOS</td>\n",
       "      <td>Apple</td>\n",
       "      <td>0</td>\n",
       "      <td>None</td>\n",
       "      <td>69.00</td>\n",
       "      <td>50.0</td>\n",
       "      <td>69.00</td>\n",
       "      <td>Storrington</td>\n",
       "      <td>GB</td>\n",
       "    </tr>\n",
       "    <tr>\n",
       "      <th>13</th>\n",
       "      <td>3</td>\n",
       "      <td>1.497201e+09</td>\n",
       "      <td>0.0</td>\n",
       "      <td>6</td>\n",
       "      <td>6</td>\n",
       "      <td>62107</td>\n",
       "      <td>0.0</td>\n",
       "      <td>539097.0</td>\n",
       "      <td>1</td>\n",
       "      <td>0</td>\n",
       "      <td>165</td>\n",
       "      <td>353</td>\n",
       "      <td>nun</td>\n",
       "      <td>Mobile Safari</td>\n",
       "      <td>iOS</td>\n",
       "      <td>Apple</td>\n",
       "      <td>0</td>\n",
       "      <td>None</td>\n",
       "      <td>99.00</td>\n",
       "      <td>50.0</td>\n",
       "      <td>99.00</td>\n",
       "      <td>Storrington</td>\n",
       "      <td>GB</td>\n",
       "    </tr>\n",
       "    <tr>\n",
       "      <th>14</th>\n",
       "      <td>1</td>\n",
       "      <td>1.495377e+09</td>\n",
       "      <td>0.0</td>\n",
       "      <td>6</td>\n",
       "      <td>5</td>\n",
       "      <td>52680</td>\n",
       "      <td>0.0</td>\n",
       "      <td>980520.0</td>\n",
       "      <td>1</td>\n",
       "      <td>0</td>\n",
       "      <td>170</td>\n",
       "      <td>282</td>\n",
       "      <td>nun</td>\n",
       "      <td>Mobile Safari</td>\n",
       "      <td>iOS</td>\n",
       "      <td>Apple</td>\n",
       "      <td>0</td>\n",
       "      <td>None</td>\n",
       "      <td>699.00</td>\n",
       "      <td>38.0</td>\n",
       "      <td>699.00</td>\n",
       "      <td>Belfast</td>\n",
       "      <td>GB</td>\n",
       "    </tr>\n",
       "    <tr>\n",
       "      <th>15</th>\n",
       "      <td>2</td>\n",
       "      <td>1.495384e+09</td>\n",
       "      <td>0.0</td>\n",
       "      <td>6</td>\n",
       "      <td>5</td>\n",
       "      <td>59324</td>\n",
       "      <td>0.0</td>\n",
       "      <td>62920.0</td>\n",
       "      <td>1</td>\n",
       "      <td>0</td>\n",
       "      <td>546</td>\n",
       "      <td>1050</td>\n",
       "      <td>nun</td>\n",
       "      <td>Mobile Safari</td>\n",
       "      <td>iOS</td>\n",
       "      <td>Apple</td>\n",
       "      <td>0</td>\n",
       "      <td>None</td>\n",
       "      <td>109.00</td>\n",
       "      <td>38.0</td>\n",
       "      <td>109.00</td>\n",
       "      <td>Belfast</td>\n",
       "      <td>GB</td>\n",
       "    </tr>\n",
       "    <tr>\n",
       "      <th>16</th>\n",
       "      <td>3</td>\n",
       "      <td>1.495700e+09</td>\n",
       "      <td>0.0</td>\n",
       "      <td>3</td>\n",
       "      <td>5</td>\n",
       "      <td>29510</td>\n",
       "      <td>0.0</td>\n",
       "      <td>53290.0</td>\n",
       "      <td>1</td>\n",
       "      <td>0</td>\n",
       "      <td>92</td>\n",
       "      <td>216</td>\n",
       "      <td>nun</td>\n",
       "      <td>Mobile Safari</td>\n",
       "      <td>iOS</td>\n",
       "      <td>Apple</td>\n",
       "      <td>0</td>\n",
       "      <td>None</td>\n",
       "      <td>149.00</td>\n",
       "      <td>38.0</td>\n",
       "      <td>149.00</td>\n",
       "      <td>Belfast</td>\n",
       "      <td>GB</td>\n",
       "    </tr>\n",
       "    <tr>\n",
       "      <th>17</th>\n",
       "      <td>1</td>\n",
       "      <td>1.496394e+09</td>\n",
       "      <td>552.0</td>\n",
       "      <td>4</td>\n",
       "      <td>6</td>\n",
       "      <td>32273</td>\n",
       "      <td>0.0</td>\n",
       "      <td>50259.0</td>\n",
       "      <td>5</td>\n",
       "      <td>3</td>\n",
       "      <td>144</td>\n",
       "      <td>560</td>\n",
       "      <td>nun</td>\n",
       "      <td>Chrome</td>\n",
       "      <td>Windows</td>\n",
       "      <td>NaN</td>\n",
       "      <td>1</td>\n",
       "      <td>None</td>\n",
       "      <td>79.00</td>\n",
       "      <td>51.0</td>\n",
       "      <td>79.00</td>\n",
       "      <td>Others</td>\n",
       "      <td>GB</td>\n",
       "    </tr>\n",
       "    <tr>\n",
       "      <th>18</th>\n",
       "      <td>2</td>\n",
       "      <td>1.496426e+09</td>\n",
       "      <td>3.0</td>\n",
       "      <td>4</td>\n",
       "      <td>6</td>\n",
       "      <td>64085</td>\n",
       "      <td>0.0</td>\n",
       "      <td>537116.0</td>\n",
       "      <td>1</td>\n",
       "      <td>1</td>\n",
       "      <td>1072</td>\n",
       "      <td>2166</td>\n",
       "      <td>nun</td>\n",
       "      <td>Chrome</td>\n",
       "      <td>Windows</td>\n",
       "      <td>NaN</td>\n",
       "      <td>1</td>\n",
       "      <td>None</td>\n",
       "      <td>69.00</td>\n",
       "      <td>46.0</td>\n",
       "      <td>69.00</td>\n",
       "      <td>Others</td>\n",
       "      <td>GB</td>\n",
       "    </tr>\n",
       "    <tr>\n",
       "      <th>19</th>\n",
       "      <td>3</td>\n",
       "      <td>1.496429e+09</td>\n",
       "      <td>536.0</td>\n",
       "      <td>4</td>\n",
       "      <td>6</td>\n",
       "      <td>67633</td>\n",
       "      <td>0.0</td>\n",
       "      <td>533035.0</td>\n",
       "      <td>3</td>\n",
       "      <td>2</td>\n",
       "      <td>459</td>\n",
       "      <td>912</td>\n",
       "      <td>nun</td>\n",
       "      <td>Chrome</td>\n",
       "      <td>Windows</td>\n",
       "      <td>NaN</td>\n",
       "      <td>1</td>\n",
       "      <td>None</td>\n",
       "      <td>79.00</td>\n",
       "      <td>46.0</td>\n",
       "      <td>79.00</td>\n",
       "      <td>Others</td>\n",
       "      <td>GB</td>\n",
       "    </tr>\n",
       "  </tbody>\n",
       "</table>\n",
       "</div>"
      ],
      "text/plain": [
       "    num_sess      datetime  dwell_time  weekday  month  time_of_day  \\\n",
       "0          1  1.495181e+09         0.0        4      5        28973   \n",
       "1          2  1.495202e+09         0.0        4      5        49919   \n",
       "2          3  1.496440e+09         0.0        4      6        78006   \n",
       "3          4  1.497018e+09         0.0        4      6        51790   \n",
       "4          1  1.495805e+09         0.0        4      5        48327   \n",
       "5          2  1.497014e+09         1.0        4      6        48022   \n",
       "6          3  1.497256e+09         0.0        0      6        30746   \n",
       "7          4  1.497448e+09        68.0        2      6        49801   \n",
       "8          1  1.496513e+09        82.0        5      6        65057   \n",
       "9          2  1.496704e+09       356.0        0      6        83069   \n",
       "10         3  1.497374e+09         5.0        1      6        62358   \n",
       "11         1  1.496844e+09         0.0        2      6        50641   \n",
       "12         2  1.497085e+09         0.0        5      6        32362   \n",
       "13         3  1.497201e+09         0.0        6      6        62107   \n",
       "14         1  1.495377e+09         0.0        6      5        52680   \n",
       "15         2  1.495384e+09         0.0        6      5        59324   \n",
       "16         3  1.495700e+09         0.0        3      5        29510   \n",
       "17         1  1.496394e+09       552.0        4      6        32273   \n",
       "18         2  1.496426e+09         3.0        4      6        64085   \n",
       "19         3  1.496429e+09       536.0        4      6        67633   \n",
       "\n",
       "    cart_DwellTime  product_time_left  page_count_sess  \\\n",
       "0              0.0                0.0                1   \n",
       "1              0.0                0.0                1   \n",
       "2              0.0           264004.0                1   \n",
       "3              0.0            31014.0                1   \n",
       "4              0.0           552880.0                1   \n",
       "5              0.0           380369.0                1   \n",
       "6              0.0           311235.0                1   \n",
       "7              0.0           551353.0                2   \n",
       "8              0.0           194120.0                2   \n",
       "9            118.0           348603.0                1   \n",
       "10             0.0           196865.0                1   \n",
       "11             0.0           291360.0                1   \n",
       "12             0.0           309639.0                1   \n",
       "13             0.0           539097.0                1   \n",
       "14             0.0           980520.0                1   \n",
       "15             0.0            62920.0                1   \n",
       "16             0.0            53290.0                1   \n",
       "17             0.0            50259.0                5   \n",
       "18             0.0           537116.0                1   \n",
       "19             0.0           533035.0                3   \n",
       "\n",
       "    product_id_ProductViewed  PopByViewed  PopByCart email Browser_Family  \\\n",
       "0                          0          761       3465   nun  Mobile Safari   \n",
       "1                          0          761       3465   nun  Mobile Safari   \n",
       "2                          0          286        736   nun  Mobile Safari   \n",
       "3                          0          286        736   nun  Mobile Safari   \n",
       "4                          1          710       1420   nun         Chrome   \n",
       "5                          1         1202       2738   nun         Chrome   \n",
       "6                          1           19         43   nun         Chrome   \n",
       "7                          2          829       1799   nun         Chrome   \n",
       "8                          1          327       1230   nun         Chrome   \n",
       "9                          1           45         91   nun         Chrome   \n",
       "10                         1           90        230   nun         Chrome   \n",
       "11                         0          973       1854   nun  Mobile Safari   \n",
       "12                         0          300        574   nun  Mobile Safari   \n",
       "13                         0          165        353   nun  Mobile Safari   \n",
       "14                         0          170        282   nun  Mobile Safari   \n",
       "15                         0          546       1050   nun  Mobile Safari   \n",
       "16                         0           92        216   nun  Mobile Safari   \n",
       "17                         3          144        560   nun         Chrome   \n",
       "18                         1         1072       2166   nun         Chrome   \n",
       "19                         2          459        912   nun         Chrome   \n",
       "\n",
       "   OS_family Device_Brand  referrer payment_type  product_price  product_save  \\\n",
       "0        iOS        Apple         0         None           0.00           0.0   \n",
       "1        iOS        Apple         0         None           0.00           0.0   \n",
       "2        iOS        Apple         0         None           9.00          75.0   \n",
       "3        iOS        Apple         0         None           9.00          75.0   \n",
       "4    Windows          NaN         0         None          69.00          26.0   \n",
       "5    Windows          NaN         0         None         229.00          27.0   \n",
       "6    Windows          NaN         0         None           9.00          64.0   \n",
       "7    Windows          NaN         0         None         259.00          35.0   \n",
       "8    Android      Generic         0         None           6.99          81.0   \n",
       "9    Android      Generic         0         None          12.00          87.0   \n",
       "10   Android      Generic         0         None           8.00          70.0   \n",
       "11       iOS        Apple         0         None         289.00          27.0   \n",
       "12       iOS        Apple         0         None          69.00          50.0   \n",
       "13       iOS        Apple         0         None          99.00          50.0   \n",
       "14       iOS        Apple         0         None         699.00          38.0   \n",
       "15       iOS        Apple         0         None         109.00          38.0   \n",
       "16       iOS        Apple         0         None         149.00          38.0   \n",
       "17   Windows          NaN         1         None          79.00          51.0   \n",
       "18   Windows          NaN         1         None          69.00          46.0   \n",
       "19   Windows          NaN         1         None          79.00          46.0   \n",
       "\n",
       "     total         city country  \n",
       "0     0.00       Others      GB  \n",
       "1     0.00       Others      GB  \n",
       "2     9.00       Others      GB  \n",
       "3     9.00       Others      GB  \n",
       "4    69.00       Others      GB  \n",
       "5   229.00       Others      GB  \n",
       "6     9.00       Others      GB  \n",
       "7   259.00       Others      GB  \n",
       "8     6.99      Ashford      GB  \n",
       "9    12.00      Ashford      GB  \n",
       "10    8.00      Ashford      GB  \n",
       "11  289.00  Storrington      GB  \n",
       "12   69.00  Storrington      GB  \n",
       "13   99.00  Storrington      GB  \n",
       "14  699.00      Belfast      GB  \n",
       "15  109.00      Belfast      GB  \n",
       "16  149.00      Belfast      GB  \n",
       "17   79.00       Others      GB  \n",
       "18   69.00       Others      GB  \n",
       "19   79.00       Others      GB  "
      ]
     },
     "execution_count": 6,
     "metadata": {},
     "output_type": "execute_result"
    }
   ],
   "source": [
    "df_features[:20]"
   ]
  },
  {
   "cell_type": "markdown",
   "metadata": {},
   "source": [
    "### - Normalize data\n",
    "**Split data into:**\n",
    "- **float data**\n",
    "- **category data**"
   ]
  },
  {
   "cell_type": "code",
   "execution_count": null,
   "metadata": {
    "collapsed": true
   },
   "outputs": [],
   "source": [
    "preprocessing.MinMaxScaler()"
   ]
  },
  {
   "cell_type": "code",
   "execution_count": 11,
   "metadata": {
    "collapsed": false
   },
   "outputs": [
    {
     "data": {
      "text/plain": [
       "Index(['num_sess', 'datetime', 'dwell_time', 'weekday', 'month', 'time_of_day',\n",
       "       'cart_DwellTime', 'product_time_left', 'page_count_sess',\n",
       "       'product_id_ProductViewed', 'PopByViewed', 'PopByCart', 'email',\n",
       "       'Browser_Family', 'OS_family', 'Device_Brand', 'referrer',\n",
       "       'payment_type', 'product_price', 'product_save', 'total', 'city',\n",
       "       'country'],\n",
       "      dtype='object')"
      ]
     },
     "execution_count": 11,
     "metadata": {},
     "output_type": "execute_result"
    }
   ],
   "source": [
    "df_features.columns"
   ]
  },
  {
   "cell_type": "code",
   "execution_count": 12,
   "metadata": {
    "collapsed": true
   },
   "outputs": [],
   "source": [
    "list_float=['num_sess', 'datetime', 'dwell_time', 'weekday', 'month', 'time_of_day',\n",
    "           'cart_DwellTime', 'product_time_left', 'page_count_sess',\n",
    "           'product_id_ProductViewed', 'PopByViewed','PopByCart', 'referrer', \n",
    "           'product_price', 'product_save', 'total']"
   ]
  },
  {
   "cell_type": "code",
   "execution_count": 16,
   "metadata": {
    "collapsed": true
   },
   "outputs": [],
   "source": [
    "df_features_float=df_features[list_float].astype(np.float32)"
   ]
  },
  {
   "cell_type": "code",
   "execution_count": 17,
   "metadata": {
    "collapsed": true
   },
   "outputs": [],
   "source": [
    "list_norm=['datetime','time_of_day','product_time_left']"
   ]
  },
  {
   "cell_type": "code",
   "execution_count": 19,
   "metadata": {
    "collapsed": false
   },
   "outputs": [
    {
     "data": {
      "text/plain": [
       "array([[  0.00000000e+00,   1.39277293e-02,   1.44221532e-01, ...,\n",
       "          0.00000000e+00,   0.00000000e+00,   0.00000000e+00],\n",
       "       [  1.14942529e-02,   2.29204365e-02,   1.44221532e-01, ...,\n",
       "          0.00000000e+00,   0.00000000e+00,   0.00000000e+00],\n",
       "       [  2.29885057e-02,   5.53106322e-01,   1.44221532e-01, ...,\n",
       "          1.79964007e-03,   7.50000000e-01,   9.00000000e-04],\n",
       "       ..., \n",
       "       [  1.14942529e-02,   9.11553435e-01,   1.44221532e-01, ...,\n",
       "          1.01779644e-01,   4.80000000e-01,   5.09000000e-02],\n",
       "       [  2.29885057e-02,   9.11553435e-01,   1.44221532e-01, ...,\n",
       "          1.01779644e-01,   4.80000000e-01,   5.09000000e-02],\n",
       "       [  3.44827586e-02,   9.11827603e-01,   1.87454083e-01, ...,\n",
       "          7.37852430e-02,   2.00000000e-01,   3.69000000e-02]])"
      ]
     },
     "execution_count": 19,
     "metadata": {},
     "output_type": "execute_result"
    }
   ],
   "source": [
    "\n",
    "min_max_scaler=preprocessing.MinMaxScaler()\n",
    "\n",
    "X_train_minmax = min_max_scaler.fit_transform(df_features_float)\n",
    "X_train_minmax"
   ]
  },
  {
   "cell_type": "code",
   "execution_count": 20,
   "metadata": {
    "collapsed": false
   },
   "outputs": [
    {
     "data": {
      "text/plain": [
       "(220047, 16)"
      ]
     },
     "execution_count": 20,
     "metadata": {},
     "output_type": "execute_result"
    }
   ],
   "source": [
    "X_train_minmax.shape"
   ]
  },
  {
   "cell_type": "markdown",
   "metadata": {},
   "source": [
    "**category data:**"
   ]
  },
  {
   "cell_type": "code",
   "execution_count": 21,
   "metadata": {
    "collapsed": true
   },
   "outputs": [],
   "source": [
    "list_category=['email','Browser_Family', 'OS_family', 'Device_Brand','payment_type','city','country']"
   ]
  },
  {
   "cell_type": "code",
   "execution_count": 22,
   "metadata": {
    "collapsed": true
   },
   "outputs": [],
   "source": [
    "df_features_category=df_features[list_category]"
   ]
  },
  {
   "cell_type": "code",
   "execution_count": null,
   "metadata": {
    "collapsed": true
   },
   "outputs": [],
   "source": [
    "df_features=pd.concat([df_features_float,df_features_category],axis=1)"
   ]
  },
  {
   "cell_type": "markdown",
   "metadata": {},
   "source": [
    "### - get_dummies"
   ]
  },
  {
   "cell_type": "markdown",
   "metadata": {},
   "source": [
    "**Transfrom all integer and float64 to float32**"
   ]
  },
  {
   "cell_type": "code",
   "execution_count": 32,
   "metadata": {
    "collapsed": false
   },
   "outputs": [
    {
     "data": {
      "text/plain": [
       "Index(['num_sess', 'datetime', 'dwell_time', 'weekday', 'month', 'time_of_day',\n",
       "       'cart_DwellTime', 'product_time_left', 'page_count_sess',\n",
       "       'product_id_ProductViewed', 'PopByViewed', 'PopByCart', 'email',\n",
       "       'Browser_Family', 'OS_family', 'Device_Brand', 'referrer',\n",
       "       'payment_type', 'product_price', 'product_save', 'total', 'city',\n",
       "       'country'],\n",
       "      dtype='object')"
      ]
     },
     "execution_count": 32,
     "metadata": {},
     "output_type": "execute_result"
    }
   ],
   "source": [
    "df_features.columns"
   ]
  },
  {
   "cell_type": "code",
   "execution_count": 33,
   "metadata": {
    "collapsed": true
   },
   "outputs": [],
   "source": [
    "list=['num_sess', 'datetime', 'dwell_time', 'weekday', 'month', 'time_of_day',\n",
    "       'cart_DwellTime', 'product_time_left', 'page_count_sess',\n",
    "       'product_id_ProductViewed', 'PopByViewed', 'PopByCart', 'email',\n",
    "       'Browser_Family', 'OS_family', 'Device_Brand', 'referrer',\n",
    "       'payment_type', 'product_price', 'product_save', 'total', 'city',\n",
    "       'country']"
   ]
  },
  {
   "cell_type": "code",
   "execution_count": 34,
   "metadata": {
    "collapsed": false
   },
   "outputs": [
    {
     "data": {
      "text/plain": [
       "(220047, 23)"
      ]
     },
     "execution_count": 34,
     "metadata": {},
     "output_type": "execute_result"
    }
   ],
   "source": [
    "df_features[list].shape"
   ]
  },
  {
   "cell_type": "code",
   "execution_count": 36,
   "metadata": {
    "collapsed": false
   },
   "outputs": [
    {
     "data": {
      "text/html": [
       "<div>\n",
       "<table border=\"1\" class=\"dataframe\">\n",
       "  <thead>\n",
       "    <tr style=\"text-align: right;\">\n",
       "      <th></th>\n",
       "      <th>num_sess</th>\n",
       "      <th>datetime</th>\n",
       "      <th>dwell_time</th>\n",
       "      <th>weekday</th>\n",
       "      <th>month</th>\n",
       "      <th>time_of_day</th>\n",
       "      <th>cart_DwellTime</th>\n",
       "      <th>product_time_left</th>\n",
       "      <th>page_count_sess</th>\n",
       "      <th>product_id_ProductViewed</th>\n",
       "      <th>PopByViewed</th>\n",
       "      <th>PopByCart</th>\n",
       "      <th>email</th>\n",
       "      <th>Browser_Family</th>\n",
       "      <th>OS_family</th>\n",
       "      <th>Device_Brand</th>\n",
       "      <th>referrer</th>\n",
       "      <th>payment_type</th>\n",
       "      <th>product_price</th>\n",
       "      <th>product_save</th>\n",
       "      <th>total</th>\n",
       "      <th>city</th>\n",
       "      <th>country</th>\n",
       "    </tr>\n",
       "  </thead>\n",
       "  <tbody>\n",
       "    <tr>\n",
       "      <th>0</th>\n",
       "      <td>1</td>\n",
       "      <td>1.495181e+09</td>\n",
       "      <td>0.0</td>\n",
       "      <td>4</td>\n",
       "      <td>5</td>\n",
       "      <td>28973</td>\n",
       "      <td>0.0</td>\n",
       "      <td>0.0</td>\n",
       "      <td>1</td>\n",
       "      <td>0</td>\n",
       "      <td>761</td>\n",
       "      <td>3465</td>\n",
       "      <td>nun</td>\n",
       "      <td>Mobile Safari</td>\n",
       "      <td>iOS</td>\n",
       "      <td>Apple</td>\n",
       "      <td>0</td>\n",
       "      <td>None</td>\n",
       "      <td>0.0</td>\n",
       "      <td>0.0</td>\n",
       "      <td>0.0</td>\n",
       "      <td>Others</td>\n",
       "      <td>GB</td>\n",
       "    </tr>\n",
       "    <tr>\n",
       "      <th>1</th>\n",
       "      <td>2</td>\n",
       "      <td>1.495202e+09</td>\n",
       "      <td>0.0</td>\n",
       "      <td>4</td>\n",
       "      <td>5</td>\n",
       "      <td>49919</td>\n",
       "      <td>0.0</td>\n",
       "      <td>0.0</td>\n",
       "      <td>1</td>\n",
       "      <td>0</td>\n",
       "      <td>761</td>\n",
       "      <td>3465</td>\n",
       "      <td>nun</td>\n",
       "      <td>Mobile Safari</td>\n",
       "      <td>iOS</td>\n",
       "      <td>Apple</td>\n",
       "      <td>0</td>\n",
       "      <td>None</td>\n",
       "      <td>0.0</td>\n",
       "      <td>0.0</td>\n",
       "      <td>0.0</td>\n",
       "      <td>Others</td>\n",
       "      <td>GB</td>\n",
       "    </tr>\n",
       "    <tr>\n",
       "      <th>2</th>\n",
       "      <td>3</td>\n",
       "      <td>1.496440e+09</td>\n",
       "      <td>0.0</td>\n",
       "      <td>4</td>\n",
       "      <td>6</td>\n",
       "      <td>78006</td>\n",
       "      <td>0.0</td>\n",
       "      <td>264004.0</td>\n",
       "      <td>1</td>\n",
       "      <td>0</td>\n",
       "      <td>286</td>\n",
       "      <td>736</td>\n",
       "      <td>nun</td>\n",
       "      <td>Mobile Safari</td>\n",
       "      <td>iOS</td>\n",
       "      <td>Apple</td>\n",
       "      <td>0</td>\n",
       "      <td>None</td>\n",
       "      <td>9.0</td>\n",
       "      <td>75.0</td>\n",
       "      <td>9.0</td>\n",
       "      <td>Others</td>\n",
       "      <td>GB</td>\n",
       "    </tr>\n",
       "    <tr>\n",
       "      <th>3</th>\n",
       "      <td>4</td>\n",
       "      <td>1.497018e+09</td>\n",
       "      <td>0.0</td>\n",
       "      <td>4</td>\n",
       "      <td>6</td>\n",
       "      <td>51790</td>\n",
       "      <td>0.0</td>\n",
       "      <td>31014.0</td>\n",
       "      <td>1</td>\n",
       "      <td>0</td>\n",
       "      <td>286</td>\n",
       "      <td>736</td>\n",
       "      <td>nun</td>\n",
       "      <td>Mobile Safari</td>\n",
       "      <td>iOS</td>\n",
       "      <td>Apple</td>\n",
       "      <td>0</td>\n",
       "      <td>None</td>\n",
       "      <td>9.0</td>\n",
       "      <td>75.0</td>\n",
       "      <td>9.0</td>\n",
       "      <td>Others</td>\n",
       "      <td>GB</td>\n",
       "    </tr>\n",
       "    <tr>\n",
       "      <th>4</th>\n",
       "      <td>1</td>\n",
       "      <td>1.495805e+09</td>\n",
       "      <td>0.0</td>\n",
       "      <td>4</td>\n",
       "      <td>5</td>\n",
       "      <td>48327</td>\n",
       "      <td>0.0</td>\n",
       "      <td>552880.0</td>\n",
       "      <td>1</td>\n",
       "      <td>1</td>\n",
       "      <td>710</td>\n",
       "      <td>1420</td>\n",
       "      <td>nun</td>\n",
       "      <td>Chrome</td>\n",
       "      <td>Windows</td>\n",
       "      <td>NaN</td>\n",
       "      <td>0</td>\n",
       "      <td>None</td>\n",
       "      <td>69.0</td>\n",
       "      <td>26.0</td>\n",
       "      <td>69.0</td>\n",
       "      <td>Others</td>\n",
       "      <td>GB</td>\n",
       "    </tr>\n",
       "  </tbody>\n",
       "</table>\n",
       "</div>"
      ],
      "text/plain": [
       "   num_sess      datetime  dwell_time  weekday  month  time_of_day  \\\n",
       "0         1  1.495181e+09         0.0        4      5        28973   \n",
       "1         2  1.495202e+09         0.0        4      5        49919   \n",
       "2         3  1.496440e+09         0.0        4      6        78006   \n",
       "3         4  1.497018e+09         0.0        4      6        51790   \n",
       "4         1  1.495805e+09         0.0        4      5        48327   \n",
       "\n",
       "   cart_DwellTime  product_time_left  page_count_sess  \\\n",
       "0             0.0                0.0                1   \n",
       "1             0.0                0.0                1   \n",
       "2             0.0           264004.0                1   \n",
       "3             0.0            31014.0                1   \n",
       "4             0.0           552880.0                1   \n",
       "\n",
       "   product_id_ProductViewed  PopByViewed  PopByCart email Browser_Family  \\\n",
       "0                         0          761       3465   nun  Mobile Safari   \n",
       "1                         0          761       3465   nun  Mobile Safari   \n",
       "2                         0          286        736   nun  Mobile Safari   \n",
       "3                         0          286        736   nun  Mobile Safari   \n",
       "4                         1          710       1420   nun         Chrome   \n",
       "\n",
       "  OS_family Device_Brand  referrer payment_type  product_price  product_save  \\\n",
       "0       iOS        Apple         0         None            0.0           0.0   \n",
       "1       iOS        Apple         0         None            0.0           0.0   \n",
       "2       iOS        Apple         0         None            9.0          75.0   \n",
       "3       iOS        Apple         0         None            9.0          75.0   \n",
       "4   Windows          NaN         0         None           69.0          26.0   \n",
       "\n",
       "   total    city country  \n",
       "0    0.0  Others      GB  \n",
       "1    0.0  Others      GB  \n",
       "2    9.0  Others      GB  \n",
       "3    9.0  Others      GB  \n",
       "4   69.0  Others      GB  "
      ]
     },
     "execution_count": 36,
     "metadata": {},
     "output_type": "execute_result"
    }
   ],
   "source": [
    "df_features[list][:5]"
   ]
  },
  {
   "cell_type": "code",
   "execution_count": 38,
   "metadata": {
    "collapsed": false
   },
   "outputs": [
    {
     "data": {
      "text/plain": [
       "0    1.495181e+09\n",
       "1    1.495202e+09\n",
       "2    1.496440e+09\n",
       "Name: datetime, dtype: float32"
      ]
     },
     "execution_count": 38,
     "metadata": {},
     "output_type": "execute_result"
    }
   ],
   "source": [
    "df_features_float[:3].datetime"
   ]
  },
  {
   "cell_type": "code",
   "execution_count": 39,
   "metadata": {
    "collapsed": true
   },
   "outputs": [],
   "source": [
    "list_category=['email','Browser_Family', 'OS_family', 'Device_Brand','payment_type','city','country']"
   ]
  },
  {
   "cell_type": "code",
   "execution_count": 40,
   "metadata": {
    "collapsed": true
   },
   "outputs": [],
   "source": [
    "df_features_category=df_features[list_category]"
   ]
  },
  {
   "cell_type": "code",
   "execution_count": 108,
   "metadata": {
    "collapsed": true
   },
   "outputs": [],
   "source": [
    "df_features=pd.concat([df_features_float,df_features_category],axis=1)"
   ]
  },
  {
   "cell_type": "code",
   "execution_count": 110,
   "metadata": {
    "collapsed": false
   },
   "outputs": [
    {
     "data": {
      "text/html": [
       "<div>\n",
       "<table border=\"1\" class=\"dataframe\">\n",
       "  <thead>\n",
       "    <tr style=\"text-align: right;\">\n",
       "      <th></th>\n",
       "      <th>num_sess</th>\n",
       "      <th>datetime</th>\n",
       "      <th>dwell_time</th>\n",
       "      <th>weekday</th>\n",
       "      <th>month</th>\n",
       "      <th>time_of_day</th>\n",
       "      <th>cart_DwellTime</th>\n",
       "      <th>product_time_left</th>\n",
       "      <th>page_count_sess</th>\n",
       "      <th>product_id_ProductViewed</th>\n",
       "      <th>product_id_CartStarted</th>\n",
       "      <th>product_id_CartStarted</th>\n",
       "      <th>product_id_CartStarted</th>\n",
       "      <th>product_id_CartStarted</th>\n",
       "      <th>product_id_CartStarted</th>\n",
       "      <th>product_id_CartStarted</th>\n",
       "      <th>product_id_CartStarted</th>\n",
       "      <th>product_id_CartStarted</th>\n",
       "      <th>product_id_CartStarted</th>\n",
       "      <th>referrer</th>\n",
       "      <th>product_price</th>\n",
       "      <th>product_save</th>\n",
       "      <th>total</th>\n",
       "      <th>city</th>\n",
       "      <th>country</th>\n",
       "      <th>email</th>\n",
       "      <th>payment_type</th>\n",
       "      <th>Browser_Family</th>\n",
       "      <th>OS_family</th>\n",
       "      <th>Device_Brand</th>\n",
       "    </tr>\n",
       "  </thead>\n",
       "  <tbody>\n",
       "    <tr>\n",
       "      <th>0</th>\n",
       "      <td>1.0</td>\n",
       "      <td>1.495181e+09</td>\n",
       "      <td>0.0</td>\n",
       "      <td>4.0</td>\n",
       "      <td>5.0</td>\n",
       "      <td>28973.0</td>\n",
       "      <td>0.0</td>\n",
       "      <td>0.0</td>\n",
       "      <td>1.0</td>\n",
       "      <td>0.0</td>\n",
       "      <td>3838997.0</td>\n",
       "      <td>761.0</td>\n",
       "      <td>3465.0</td>\n",
       "      <td>3838997.0</td>\n",
       "      <td>761.0</td>\n",
       "      <td>3465.0</td>\n",
       "      <td>3838997.0</td>\n",
       "      <td>761.0</td>\n",
       "      <td>3465.0</td>\n",
       "      <td>0.0</td>\n",
       "      <td>0.0</td>\n",
       "      <td>0.0</td>\n",
       "      <td>0.0</td>\n",
       "      <td>Others</td>\n",
       "      <td>GB</td>\n",
       "      <td>nun</td>\n",
       "      <td>None</td>\n",
       "      <td>Mobile Safari</td>\n",
       "      <td>iOS</td>\n",
       "      <td>Apple</td>\n",
       "    </tr>\n",
       "    <tr>\n",
       "      <th>1</th>\n",
       "      <td>2.0</td>\n",
       "      <td>1.495202e+09</td>\n",
       "      <td>0.0</td>\n",
       "      <td>4.0</td>\n",
       "      <td>5.0</td>\n",
       "      <td>49919.0</td>\n",
       "      <td>0.0</td>\n",
       "      <td>0.0</td>\n",
       "      <td>1.0</td>\n",
       "      <td>0.0</td>\n",
       "      <td>3838997.0</td>\n",
       "      <td>761.0</td>\n",
       "      <td>3465.0</td>\n",
       "      <td>3838997.0</td>\n",
       "      <td>761.0</td>\n",
       "      <td>3465.0</td>\n",
       "      <td>3838997.0</td>\n",
       "      <td>761.0</td>\n",
       "      <td>3465.0</td>\n",
       "      <td>0.0</td>\n",
       "      <td>0.0</td>\n",
       "      <td>0.0</td>\n",
       "      <td>0.0</td>\n",
       "      <td>Others</td>\n",
       "      <td>GB</td>\n",
       "      <td>nun</td>\n",
       "      <td>None</td>\n",
       "      <td>Mobile Safari</td>\n",
       "      <td>iOS</td>\n",
       "      <td>Apple</td>\n",
       "    </tr>\n",
       "    <tr>\n",
       "      <th>2</th>\n",
       "      <td>3.0</td>\n",
       "      <td>1.496440e+09</td>\n",
       "      <td>0.0</td>\n",
       "      <td>4.0</td>\n",
       "      <td>6.0</td>\n",
       "      <td>78006.0</td>\n",
       "      <td>0.0</td>\n",
       "      <td>264004.0</td>\n",
       "      <td>1.0</td>\n",
       "      <td>0.0</td>\n",
       "      <td>4096138.0</td>\n",
       "      <td>286.0</td>\n",
       "      <td>736.0</td>\n",
       "      <td>4096138.0</td>\n",
       "      <td>286.0</td>\n",
       "      <td>736.0</td>\n",
       "      <td>4096138.0</td>\n",
       "      <td>286.0</td>\n",
       "      <td>736.0</td>\n",
       "      <td>0.0</td>\n",
       "      <td>9.0</td>\n",
       "      <td>75.0</td>\n",
       "      <td>9.0</td>\n",
       "      <td>Others</td>\n",
       "      <td>GB</td>\n",
       "      <td>nun</td>\n",
       "      <td>None</td>\n",
       "      <td>Mobile Safari</td>\n",
       "      <td>iOS</td>\n",
       "      <td>Apple</td>\n",
       "    </tr>\n",
       "  </tbody>\n",
       "</table>\n",
       "</div>"
      ],
      "text/plain": [
       "   num_sess      datetime  dwell_time  weekday  month  time_of_day  \\\n",
       "0       1.0  1.495181e+09         0.0      4.0    5.0      28973.0   \n",
       "1       2.0  1.495202e+09         0.0      4.0    5.0      49919.0   \n",
       "2       3.0  1.496440e+09         0.0      4.0    6.0      78006.0   \n",
       "\n",
       "   cart_DwellTime  product_time_left  page_count_sess  \\\n",
       "0             0.0                0.0              1.0   \n",
       "1             0.0                0.0              1.0   \n",
       "2             0.0           264004.0              1.0   \n",
       "\n",
       "   product_id_ProductViewed  product_id_CartStarted  product_id_CartStarted  \\\n",
       "0                       0.0               3838997.0                   761.0   \n",
       "1                       0.0               3838997.0                   761.0   \n",
       "2                       0.0               4096138.0                   286.0   \n",
       "\n",
       "   product_id_CartStarted  product_id_CartStarted  product_id_CartStarted  \\\n",
       "0                  3465.0               3838997.0                   761.0   \n",
       "1                  3465.0               3838997.0                   761.0   \n",
       "2                   736.0               4096138.0                   286.0   \n",
       "\n",
       "   product_id_CartStarted  product_id_CartStarted  product_id_CartStarted  \\\n",
       "0                  3465.0               3838997.0                   761.0   \n",
       "1                  3465.0               3838997.0                   761.0   \n",
       "2                   736.0               4096138.0                   286.0   \n",
       "\n",
       "   product_id_CartStarted  referrer  product_price  product_save  total  \\\n",
       "0                  3465.0       0.0            0.0           0.0    0.0   \n",
       "1                  3465.0       0.0            0.0           0.0    0.0   \n",
       "2                   736.0       0.0            9.0          75.0    9.0   \n",
       "\n",
       "     city country email payment_type Browser_Family OS_family Device_Brand  \n",
       "0  Others      GB   nun         None  Mobile Safari       iOS        Apple  \n",
       "1  Others      GB   nun         None  Mobile Safari       iOS        Apple  \n",
       "2  Others      GB   nun         None  Mobile Safari       iOS        Apple  "
      ]
     },
     "execution_count": 110,
     "metadata": {},
     "output_type": "execute_result"
    }
   ],
   "source": [
    "df_features[:3]"
   ]
  },
  {
   "cell_type": "markdown",
   "metadata": {},
   "source": [
    "**Get_dummies**"
   ]
  },
  {
   "cell_type": "code",
   "execution_count": 41,
   "metadata": {
    "collapsed": true
   },
   "outputs": [],
   "source": [
    "df_with_dummies = pd.get_dummies(df_features_category)"
   ]
  },
  {
   "cell_type": "code",
   "execution_count": 46,
   "metadata": {
    "collapsed": false
   },
   "outputs": [
    {
     "data": {
      "text/plain": [
       "(5, 2339)"
      ]
     },
     "execution_count": 46,
     "metadata": {},
     "output_type": "execute_result"
    }
   ],
   "source": [
    "np.asarray(df_with_dummies[:5]).shape"
   ]
  },
  {
   "cell_type": "code",
   "execution_count": 111,
   "metadata": {
    "collapsed": false
   },
   "outputs": [],
   "source": [
    "# cols_to_transform = [ 'city','country','email','payment_type',\n",
    "#                      'Browser_Family','OS_family','Device_Brand']\n",
    "# df_with_dummies = pd.get_dummies(df_features, columns = cols_to_transform)"
   ]
  },
  {
   "cell_type": "code",
   "execution_count": 112,
   "metadata": {
    "collapsed": false
   },
   "outputs": [
    {
     "data": {
      "text/plain": [
       "(220047, 2362)"
      ]
     },
     "execution_count": 112,
     "metadata": {},
     "output_type": "execute_result"
    }
   ],
   "source": [
    "df_with_dummies.shape"
   ]
  },
  {
   "cell_type": "code",
   "execution_count": null,
   "metadata": {
    "collapsed": false
   },
   "outputs": [],
   "source": [
    "# substitute all nan term to 0:\n",
    "df_with_dummies=df_with_dummies.fillna(0)"
   ]
  },
  {
   "cell_type": "markdown",
   "metadata": {},
   "source": [
    "**Save df_features**"
   ]
  },
  {
   "cell_type": "code",
   "execution_count": null,
   "metadata": {
    "collapsed": false
   },
   "outputs": [],
   "source": [
    "%%time\n",
    "with open( \"../Data/Feature_Engineering/df_features_dummies.p\", \"wb\" ) as f:\n",
    "    pickle.dump(df_with_dummies, f)"
   ]
  },
  {
   "cell_type": "markdown",
   "metadata": {},
   "source": [
    "---\n",
    "# Label: Basket Paid"
   ]
  },
  {
   "cell_type": "markdown",
   "metadata": {},
   "source": [
    "**Load df_final:**"
   ]
  },
  {
   "cell_type": "code",
   "execution_count": 6,
   "metadata": {
    "collapsed": false
   },
   "outputs": [
    {
     "name": "stdout",
     "output_type": "stream",
     "text": [
      "CPU times: user 5.61 s, sys: 2.35 s, total: 7.96 s\n",
      "Wall time: 7.95 s\n"
     ]
    }
   ],
   "source": [
    "%%time\n",
    "with open( \"../Data/data_final.p\", \"rb\" ) as f:\n",
    "    data=pickle.load(f)"
   ]
  },
  {
   "cell_type": "markdown",
   "metadata": {},
   "source": [
    "**show difference between basket_paid from browse and cart**"
   ]
  },
  {
   "cell_type": "code",
   "execution_count": 15,
   "metadata": {
    "collapsed": false
   },
   "outputs": [
    {
     "data": {
      "text/html": [
       "<div>\n",
       "<table border=\"1\" class=\"dataframe\">\n",
       "  <thead>\n",
       "    <tr style=\"text-align: right;\">\n",
       "      <th></th>\n",
       "      <th>id</th>\n",
       "      <th>num_sess</th>\n",
       "      <th>basket_paid_browsing</th>\n",
       "      <th>basket_paid_cart</th>\n",
       "    </tr>\n",
       "  </thead>\n",
       "  <tbody>\n",
       "    <tr>\n",
       "      <th>3566</th>\n",
       "      <td>182</td>\n",
       "      <td>3</td>\n",
       "      <td>None</td>\n",
       "      <td>False</td>\n",
       "    </tr>\n",
       "    <tr>\n",
       "      <th>3567</th>\n",
       "      <td>182</td>\n",
       "      <td>3</td>\n",
       "      <td>None</td>\n",
       "      <td>False</td>\n",
       "    </tr>\n",
       "    <tr>\n",
       "      <th>3568</th>\n",
       "      <td>183</td>\n",
       "      <td>1</td>\n",
       "      <td>None</td>\n",
       "      <td>True</td>\n",
       "    </tr>\n",
       "    <tr>\n",
       "      <th>3569</th>\n",
       "      <td>183</td>\n",
       "      <td>1</td>\n",
       "      <td>None</td>\n",
       "      <td>True</td>\n",
       "    </tr>\n",
       "    <tr>\n",
       "      <th>3570</th>\n",
       "      <td>183</td>\n",
       "      <td>1</td>\n",
       "      <td>None</td>\n",
       "      <td>True</td>\n",
       "    </tr>\n",
       "    <tr>\n",
       "      <th>3571</th>\n",
       "      <td>183</td>\n",
       "      <td>1</td>\n",
       "      <td>None</td>\n",
       "      <td>True</td>\n",
       "    </tr>\n",
       "    <tr>\n",
       "      <th>3572</th>\n",
       "      <td>183</td>\n",
       "      <td>1</td>\n",
       "      <td>True</td>\n",
       "      <td>True</td>\n",
       "    </tr>\n",
       "    <tr>\n",
       "      <th>3573</th>\n",
       "      <td>183</td>\n",
       "      <td>2</td>\n",
       "      <td>None</td>\n",
       "      <td>True</td>\n",
       "    </tr>\n",
       "    <tr>\n",
       "      <th>3574</th>\n",
       "      <td>183</td>\n",
       "      <td>2</td>\n",
       "      <td>None</td>\n",
       "      <td>True</td>\n",
       "    </tr>\n",
       "  </tbody>\n",
       "</table>\n",
       "</div>"
      ],
      "text/plain": [
       "       id  num_sess basket_paid_browsing basket_paid_cart\n",
       "3566  182  3         None                 False          \n",
       "3567  182  3         None                 False          \n",
       "3568  183  1         None                 True           \n",
       "3569  183  1         None                 True           \n",
       "3570  183  1         None                 True           \n",
       "3571  183  1         None                 True           \n",
       "3572  183  1         True                 True           \n",
       "3573  183  2         None                 True           \n",
       "3574  183  2         None                 True           "
      ]
     },
     "execution_count": 15,
     "metadata": {},
     "output_type": "execute_result"
    }
   ],
   "source": [
    "data[['id','num_sess','basket_paid_browsing','basket_paid_cart']].loc[range(3566,3575)]"
   ]
  },
  {
   "cell_type": "markdown",
   "metadata": {},
   "source": [
    "## 0. Generate label"
   ]
  },
  {
   "cell_type": "code",
   "execution_count": 40,
   "metadata": {
    "collapsed": false
   },
   "outputs": [],
   "source": [
    "data0=data.sort_values(['id','num_sess','basket_paid_cart'])\n",
    "df_label0=data0.groupby(['id','num_sess']).last()['basket_paid_cart']"
   ]
  },
  {
   "cell_type": "code",
   "execution_count": 41,
   "metadata": {
    "collapsed": false
   },
   "outputs": [
    {
     "name": "stdout",
     "output_type": "stream",
     "text": [
      "(220047,)\n"
     ]
    },
    {
     "data": {
      "text/plain": [
       "33677"
      ]
     },
     "execution_count": 41,
     "metadata": {},
     "output_type": "execute_result"
    }
   ],
   "source": [
    "print(df_label0.shape)\n",
    "sum(df_label0.values=='True')"
   ]
  },
  {
   "cell_type": "code",
   "execution_count": 42,
   "metadata": {
    "collapsed": false
   },
   "outputs": [],
   "source": [
    "def label_class(x):\n",
    "  if x == 'True':\n",
    "    return 1\n",
    "  else:\n",
    "    return 0"
   ]
  },
  {
   "cell_type": "code",
   "execution_count": 43,
   "metadata": {
    "collapsed": false
   },
   "outputs": [],
   "source": [
    "df_label=df_label0.apply(lambda x: label_class(x))"
   ]
  },
  {
   "cell_type": "code",
   "execution_count": 47,
   "metadata": {
    "collapsed": false
   },
   "outputs": [
    {
     "name": "stdout",
     "output_type": "stream",
     "text": [
      "(220047,)\n"
     ]
    },
    {
     "data": {
      "text/plain": [
       "id     num_sess\n",
       "1      1           0\n",
       "       2           0\n",
       "       3           0\n",
       "       4           0\n",
       "52432  1           1\n",
       "       2           1\n",
       "       3           0\n",
       "       4           0\n",
       "Name: basket_paid_cart, dtype: int64"
      ]
     },
     "execution_count": 47,
     "metadata": {},
     "output_type": "execute_result"
    }
   ],
   "source": [
    "print(df_label.shape)\n",
    "df_label.loc[[1,52432]]"
   ]
  },
  {
   "cell_type": "markdown",
   "metadata": {},
   "source": [
    "## 0.0 Save df_label"
   ]
  },
  {
   "cell_type": "code",
   "execution_count": 48,
   "metadata": {
    "collapsed": false
   },
   "outputs": [
    {
     "name": "stdout",
     "output_type": "stream",
     "text": [
      "CPU times: user 5 ms, sys: 4 ms, total: 9 ms\n",
      "Wall time: 44.8 ms\n"
     ]
    }
   ],
   "source": [
    "%%time\n",
    "with open( \"../Data/Feature_Engineering/df_label.p\", \"wb\" ) as f:\n",
    "    pickle.dump(df_label, f)"
   ]
  },
  {
   "cell_type": "markdown",
   "metadata": {},
   "source": [
    "## 1. Investigate #True in Browse and Cart data"
   ]
  },
  {
   "cell_type": "markdown",
   "metadata": {},
   "source": [
    "**Count #True from: **\n",
    "<br>**1. basket_paid_browsing **\n",
    "<br>**2. basket_paid_cart**"
   ]
  },
  {
   "cell_type": "code",
   "execution_count": 16,
   "metadata": {
    "collapsed": false
   },
   "outputs": [
    {
     "name": "stdout",
     "output_type": "stream",
     "text": [
      "Following count is for df_data:\n",
      "count #True for basket_paid_browsing:  20458\n",
      "count #True for basket_paid_cart:      376486\n"
     ]
    }
   ],
   "source": [
    "print('Following count is for df_data:')\n",
    "print('count #True for basket_paid_browsing: ', sum(data['basket_paid_browsing']==True))\n",
    "print('count #True for basket_paid_cart:     ', sum(data['basket_paid_cart']=='True'))"
   ]
  },
  {
   "cell_type": "markdown",
   "metadata": {},
   "source": [
    "**Get id_sess_true Table:**\n",
    "<br>**This table would give you all (id, num_sess) with basket_paid_browsing = true.**"
   ]
  },
  {
   "cell_type": "markdown",
   "metadata": {},
   "source": [
    "### For browse data:"
   ]
  },
  {
   "cell_type": "code",
   "execution_count": 17,
   "metadata": {
    "collapsed": false
   },
   "outputs": [
    {
     "name": "stdout",
     "output_type": "stream",
     "text": [
      "#(id, num_sess) with label = True :  20458\n",
      "\n",
      "id_sess table:\n"
     ]
    },
    {
     "data": {
      "text/html": [
       "<div>\n",
       "<table border=\"1\" class=\"dataframe\">\n",
       "  <thead>\n",
       "    <tr style=\"text-align: right;\">\n",
       "      <th></th>\n",
       "      <th>id</th>\n",
       "      <th>num_sess</th>\n",
       "    </tr>\n",
       "  </thead>\n",
       "  <tbody>\n",
       "    <tr>\n",
       "      <th>2069</th>\n",
       "      <td>88</td>\n",
       "      <td>7</td>\n",
       "    </tr>\n",
       "    <tr>\n",
       "      <th>3572</th>\n",
       "      <td>183</td>\n",
       "      <td>1</td>\n",
       "    </tr>\n",
       "  </tbody>\n",
       "</table>\n",
       "</div>"
      ],
      "text/plain": [
       "       id  num_sess\n",
       "2069  88   7       \n",
       "3572  183  1       "
      ]
     },
     "execution_count": 17,
     "metadata": {},
     "output_type": "execute_result"
    }
   ],
   "source": [
    "# get 'id' and 'num_sess' column for basket_paid_browsing\n",
    "id_sess_true = data[data['basket_paid_browsing']==True][['id','num_sess']]\n",
    "print('#(id, num_sess) with label = True : ',len(id_sess_true))\n",
    "print('\\nid_sess table:')\n",
    "id_sess_true[:2]"
   ]
  },
  {
   "cell_type": "code",
   "execution_count": 18,
   "metadata": {
    "collapsed": false
   },
   "outputs": [
    {
     "name": "stdout",
     "output_type": "stream",
     "text": [
      "drop duplicated term in id_sess_true and get shape:  (20037, 2)\n",
      "20458 != 20037\n",
      "Therefore, it is proved that there exists multi-buy within sessions\n"
     ]
    }
   ],
   "source": [
    "print('drop duplicated term in id_sess_true and get shape: ', id_sess_true.drop_duplicates().shape)\n",
    "print(len(id_sess_true),'!=',id_sess_true.drop_duplicates().shape[0])\n",
    "print('Therefore, it is proved that there exists multi-buy within sessions')"
   ]
  },
  {
   "cell_type": "markdown",
   "metadata": {},
   "source": [
    "**True% analysis**"
   ]
  },
  {
   "cell_type": "code",
   "execution_count": 19,
   "metadata": {
    "collapsed": false
   },
   "outputs": [
    {
     "name": "stdout",
     "output_type": "stream",
     "text": [
      "The shape of data_groupby with both T or F labels            :   (220047, 31)\n",
      "Percentage of purchase by products (including multi-buy)) is :   9.297104709448437 %\n"
     ]
    }
   ],
   "source": [
    "tmp=data.groupby(['id','num_sess'],sort=False).nth(0)\n",
    "print('The shape of data_groupby with both T or F labels            :  ',tmp.shape)\n",
    "print('Percentage of purchase by products (including multi-buy)) is :  ', 20458/tmp.shape[0]*100,'%')"
   ]
  },
  {
   "cell_type": "markdown",
   "metadata": {},
   "source": [
    "### For cart data:"
   ]
  },
  {
   "cell_type": "code",
   "execution_count": 22,
   "metadata": {
    "collapsed": false
   },
   "outputs": [
    {
     "name": "stdout",
     "output_type": "stream",
     "text": [
      "#(id, num_sess) with label = True (duplicated term dropped):  33677\n",
      "\n",
      "id_sess table:\n"
     ]
    },
    {
     "data": {
      "text/html": [
       "<div>\n",
       "<table border=\"1\" class=\"dataframe\">\n",
       "  <thead>\n",
       "    <tr style=\"text-align: right;\">\n",
       "      <th></th>\n",
       "      <th>id</th>\n",
       "      <th>num_sess</th>\n",
       "    </tr>\n",
       "  </thead>\n",
       "  <tbody>\n",
       "    <tr>\n",
       "      <th>2063</th>\n",
       "      <td>88</td>\n",
       "      <td>7</td>\n",
       "    </tr>\n",
       "    <tr>\n",
       "      <th>3541</th>\n",
       "      <td>180</td>\n",
       "      <td>1</td>\n",
       "    </tr>\n",
       "  </tbody>\n",
       "</table>\n",
       "</div>"
      ],
      "text/plain": [
       "       id  num_sess\n",
       "2063  88   7       \n",
       "3541  180  1       "
      ]
     },
     "execution_count": 22,
     "metadata": {},
     "output_type": "execute_result"
    }
   ],
   "source": [
    "# get 'id' and 'num_sess' column for basket_paid_browsing\n",
    "id_sess_true = data[data['basket_paid_cart']=='True'][['id','num_sess']]\n",
    "print('#(id, num_sess) with label = True (duplicated term dropped): ',len(id_sess_true.drop_duplicates()))\n",
    "print('\\nid_sess table:')\n",
    "id_sess_true.drop_duplicates()[:2]"
   ]
  },
  {
   "cell_type": "markdown",
   "metadata": {},
   "source": [
    "**True% analysis**"
   ]
  },
  {
   "cell_type": "code",
   "execution_count": 34,
   "metadata": {
    "collapsed": false
   },
   "outputs": [
    {
     "name": "stdout",
     "output_type": "stream",
     "text": [
      "The shape of data_groupby with both T or F labels :  (220047, 28)\n",
      "Percentage of purchase by sessions is             :  15.30445768404023 %\n"
     ]
    }
   ],
   "source": [
    "tmp=data.groupby(['id','num_sess'],sort=False).nth(0)\n",
    "print('The shape of data_groupby with both T or F labels : ',tmp.shape)\n",
    "print('Percentage of purchase by sessions is             : ', 33677/tmp.shape[0]*100,'%')"
   ]
  },
  {
   "cell_type": "markdown",
   "metadata": {},
   "source": [
    "---\n",
    "Use see if label is together with product id"
   ]
  },
  {
   "cell_type": "code",
   "execution_count": 15,
   "metadata": {
    "collapsed": false
   },
   "outputs": [
    {
     "data": {
      "text/html": [
       "<div>\n",
       "<table border=\"1\" class=\"dataframe\">\n",
       "  <thead>\n",
       "    <tr style=\"text-align: right;\">\n",
       "      <th></th>\n",
       "      <th>id</th>\n",
       "      <th>num_sess</th>\n",
       "      <th>datetime</th>\n",
       "      <th>referrer</th>\n",
       "      <th>page_url</th>\n",
       "      <th>product_viewed_browse</th>\n",
       "      <th>product_name</th>\n",
       "      <th>cart_startTime</th>\n",
       "      <th>cart_started</th>\n",
       "      <th>basket_paid_browsing</th>\n",
       "      <th>product_id_ProductViewed</th>\n",
       "      <th>product_id_CartStarted</th>\n",
       "    </tr>\n",
       "  </thead>\n",
       "  <tbody>\n",
       "    <tr>\n",
       "      <th>3573</th>\n",
       "      <td>183</td>\n",
       "      <td>2</td>\n",
       "      <td>2017-05-20 18:53:29</td>\n",
       "      <td>https%3A%2F%2Fwww.wowcher.co.uk%2Fdeal%2Fshop%2F3611529%2F15-1-bluetooth-fitness-watch-12-99%3Fsearchresult%3Dtrue</td>\n",
       "      <td>https%3A%2F%2Fsecure.wowcher.co.uk%2Fcheckout%2F3611529%3Fproduct_id%3D337452%26quantity%3D1%26pay_deposit%3Dfalse</td>\n",
       "      <td>NaT</td>\n",
       "      <td>None</td>\n",
       "      <td>2017-05-20 18:54:00</td>\n",
       "      <td>NaT</td>\n",
       "      <td>None</td>\n",
       "      <td>NaN</td>\n",
       "      <td>3611529</td>\n",
       "    </tr>\n",
       "    <tr>\n",
       "      <th>3574</th>\n",
       "      <td>183</td>\n",
       "      <td>2</td>\n",
       "      <td>2017-05-20 18:53:30</td>\n",
       "      <td>https%3A%2F%2Fwww.wowcher.co.uk%2Fdeal%2Fshop%2F3611529%2F15-1-bluetooth-fitness-watch-12-99%3Fsearchresult%3Dtrue</td>\n",
       "      <td>https%3A%2F%2Fsecure.wowcher.co.uk%2Fcheckout%2F3611529%3Fproduct_id%3D337452%26quantity%3D1%26pay_deposit%3Dfalse</td>\n",
       "      <td>NaT</td>\n",
       "      <td>None</td>\n",
       "      <td>2017-05-20 18:54:00</td>\n",
       "      <td>NaT</td>\n",
       "      <td>None</td>\n",
       "      <td>NaN</td>\n",
       "      <td>3611529</td>\n",
       "    </tr>\n",
       "    <tr>\n",
       "      <th>3575</th>\n",
       "      <td>183</td>\n",
       "      <td>2</td>\n",
       "      <td>2017-05-20 18:53:30</td>\n",
       "      <td>https%3A%2F%2Fwww.wowcher.co.uk%2Fdeal%2Fshop%2F3611529%2F15-1-bluetooth-fitness-watch-12-99%3Fsearchresult%3Dtrue</td>\n",
       "      <td>https%3A%2F%2Fsecure.wowcher.co.uk%2Fcheckout%2F3611529%3Fproduct_id%3D337452%26quantity%3D1%26pay_deposit%3Dfalse</td>\n",
       "      <td>NaT</td>\n",
       "      <td>None</td>\n",
       "      <td>2017-05-20 18:54:00</td>\n",
       "      <td>NaT</td>\n",
       "      <td>None</td>\n",
       "      <td>NaN</td>\n",
       "      <td>3611529</td>\n",
       "    </tr>\n",
       "    <tr>\n",
       "      <th>3576</th>\n",
       "      <td>183</td>\n",
       "      <td>2</td>\n",
       "      <td>2017-05-20 18:53:30</td>\n",
       "      <td>https%3A%2F%2Fwww.wowcher.co.uk%2Fdeal%2Fshop%2F3611529%2F15-1-bluetooth-fitness-watch-12-99%3Fsearchresult%3Dtrue</td>\n",
       "      <td>https%3A%2F%2Fsecure.wowcher.co.uk%2Fcheckout%2F3611529%3Fproduct_id%3D337452%26quantity%3D1%26pay_deposit%3Dfalse</td>\n",
       "      <td>NaT</td>\n",
       "      <td>None</td>\n",
       "      <td>2017-05-20 18:54:00</td>\n",
       "      <td>NaT</td>\n",
       "      <td>None</td>\n",
       "      <td>NaN</td>\n",
       "      <td>3611529</td>\n",
       "    </tr>\n",
       "    <tr>\n",
       "      <th>3577</th>\n",
       "      <td>183</td>\n",
       "      <td>2</td>\n",
       "      <td>2017-05-20 18:53:30</td>\n",
       "      <td>https%3A%2F%2Fwww.wowcher.co.uk%2Fdeal%2Fshop%2F3611529%2F15-1-bluetooth-fitness-watch-12-99%3Fsearchresult%3Dtrue</td>\n",
       "      <td>https%3A%2F%2Fsecure.wowcher.co.uk%2Fcheckout%2F3611529%3Fproduct_id%3D337452%26quantity%3D1%26pay_deposit%3Dfalse</td>\n",
       "      <td>NaT</td>\n",
       "      <td>None</td>\n",
       "      <td>2017-05-20 18:54:00</td>\n",
       "      <td>NaT</td>\n",
       "      <td>None</td>\n",
       "      <td>NaN</td>\n",
       "      <td>3611529</td>\n",
       "    </tr>\n",
       "    <tr>\n",
       "      <th>3578</th>\n",
       "      <td>183</td>\n",
       "      <td>2</td>\n",
       "      <td>2017-05-20 18:53:36</td>\n",
       "      <td>https%3A%2F%2Fwww.wowcher.co.uk%2Fdeal%2Fshop%2F3611529%2F15-1-bluetooth-fitness-watch-12-99%3Fsearchresult%3Dtrue</td>\n",
       "      <td>https%3A%2F%2Fsecure.wowcher.co.uk%2Fcheckout%2F3611529%3Fproduct_id%3D337452%26quantity%3D1%26pay_deposit%3Dfalse</td>\n",
       "      <td>NaT</td>\n",
       "      <td>None</td>\n",
       "      <td>2017-05-20 18:54:00</td>\n",
       "      <td>NaT</td>\n",
       "      <td>None</td>\n",
       "      <td>NaN</td>\n",
       "      <td>3611529</td>\n",
       "    </tr>\n",
       "    <tr>\n",
       "      <th>3579</th>\n",
       "      <td>183</td>\n",
       "      <td>2</td>\n",
       "      <td>2017-05-20 18:53:36</td>\n",
       "      <td>https%3A%2F%2Fwww.wowcher.co.uk%2Fdeal%2Fshop%2F3611529%2F15-1-bluetooth-fitness-watch-12-99%3Fsearchresult%3Dtrue</td>\n",
       "      <td>https%3A%2F%2Fsecure.wowcher.co.uk%2Fcheckout%2F3611529%3Fproduct_id%3D337452%26quantity%3D1%26pay_deposit%3Dfalse</td>\n",
       "      <td>NaT</td>\n",
       "      <td>None</td>\n",
       "      <td>2017-05-20 18:54:00</td>\n",
       "      <td>NaT</td>\n",
       "      <td>None</td>\n",
       "      <td>NaN</td>\n",
       "      <td>3611529</td>\n",
       "    </tr>\n",
       "    <tr>\n",
       "      <th>3580</th>\n",
       "      <td>183</td>\n",
       "      <td>2</td>\n",
       "      <td>2017-05-20 18:53:36</td>\n",
       "      <td>https%3A%2F%2Fwww.wowcher.co.uk%2Fdeal%2Fshop%2F3611529%2F15-1-bluetooth-fitness-watch-12-99%3Fsearchresult%3Dtrue</td>\n",
       "      <td>https%3A%2F%2Fsecure.wowcher.co.uk%2Fcheckout%2F3611529%3Fproduct_id%3D337452%26quantity%3D1%26pay_deposit%3Dfalse</td>\n",
       "      <td>NaT</td>\n",
       "      <td>None</td>\n",
       "      <td>2017-05-20 18:54:00</td>\n",
       "      <td>NaT</td>\n",
       "      <td>None</td>\n",
       "      <td>NaN</td>\n",
       "      <td>3611529</td>\n",
       "    </tr>\n",
       "    <tr>\n",
       "      <th>3581</th>\n",
       "      <td>183</td>\n",
       "      <td>2</td>\n",
       "      <td>2017-05-20 18:53:39</td>\n",
       "      <td>https%3A%2F%2Fwww.wowcher.co.uk%2Fdeal%2Fshop%2F3611529%2F15-1-bluetooth-fitness-watch-12-99%3Fsearchresult%3Dtrue</td>\n",
       "      <td>https%3A%2F%2Fsecure.wowcher.co.uk%2Fcheckout%2F3611529%3Fproduct_id%3D337452%26quantity%3D1%26pay_deposit%3Dfalse</td>\n",
       "      <td>NaT</td>\n",
       "      <td>None</td>\n",
       "      <td>2017-05-20 18:54:00</td>\n",
       "      <td>NaT</td>\n",
       "      <td>None</td>\n",
       "      <td>NaN</td>\n",
       "      <td>3611529</td>\n",
       "    </tr>\n",
       "    <tr>\n",
       "      <th>3582</th>\n",
       "      <td>183</td>\n",
       "      <td>2</td>\n",
       "      <td>2017-05-20 18:53:39</td>\n",
       "      <td>https%3A%2F%2Fwww.wowcher.co.uk%2Fdeal%2Fshop%2F3611529%2F15-1-bluetooth-fitness-watch-12-99%3Fsearchresult%3Dtrue</td>\n",
       "      <td>https%3A%2F%2Fsecure.wowcher.co.uk%2Fcheckout%2F3611529%3Fproduct_id%3D337452%26quantity%3D1%26pay_deposit%3Dfalse</td>\n",
       "      <td>NaT</td>\n",
       "      <td>None</td>\n",
       "      <td>2017-05-20 18:54:00</td>\n",
       "      <td>NaT</td>\n",
       "      <td>None</td>\n",
       "      <td>NaN</td>\n",
       "      <td>3611529</td>\n",
       "    </tr>\n",
       "    <tr>\n",
       "      <th>3583</th>\n",
       "      <td>183</td>\n",
       "      <td>2</td>\n",
       "      <td>2017-05-20 18:53:39</td>\n",
       "      <td>https%3A%2F%2Fwww.wowcher.co.uk%2Fdeal%2Fshop%2F3611529%2F15-1-bluetooth-fitness-watch-12-99%3Fsearchresult%3Dtrue</td>\n",
       "      <td>https%3A%2F%2Fsecure.wowcher.co.uk%2Fcheckout%2F3611529%3Fproduct_id%3D337452%26quantity%3D1%26pay_deposit%3Dfalse</td>\n",
       "      <td>NaT</td>\n",
       "      <td>None</td>\n",
       "      <td>2017-05-20 18:54:00</td>\n",
       "      <td>NaT</td>\n",
       "      <td>None</td>\n",
       "      <td>NaN</td>\n",
       "      <td>3611529</td>\n",
       "    </tr>\n",
       "    <tr>\n",
       "      <th>3584</th>\n",
       "      <td>183</td>\n",
       "      <td>2</td>\n",
       "      <td>2017-05-20 18:53:39</td>\n",
       "      <td>https%3A%2F%2Fwww.wowcher.co.uk%2Fdeal%2Fshop%2F3611529%2F15-1-bluetooth-fitness-watch-12-99%3Fsearchresult%3Dtrue</td>\n",
       "      <td>https%3A%2F%2Fsecure.wowcher.co.uk%2Fcheckout%2F3611529%3Fproduct_id%3D337452%26quantity%3D1%26pay_deposit%3Dfalse</td>\n",
       "      <td>NaT</td>\n",
       "      <td>None</td>\n",
       "      <td>2017-05-20 18:54:00</td>\n",
       "      <td>NaT</td>\n",
       "      <td>None</td>\n",
       "      <td>NaN</td>\n",
       "      <td>3611529</td>\n",
       "    </tr>\n",
       "    <tr>\n",
       "      <th>3585</th>\n",
       "      <td>183</td>\n",
       "      <td>2</td>\n",
       "      <td>2017-05-20 18:53:44</td>\n",
       "      <td>https%3A%2F%2Fwww.wowcher.co.uk%2Fdeal%2Fshop%2F3611529%2F15-1-bluetooth-fitness-watch-12-99%3Fsearchresult%3Dtrue</td>\n",
       "      <td>https%3A%2F%2Fsecure.wowcher.co.uk%2Fmyaccount%2Fvouchers</td>\n",
       "      <td>NaT</td>\n",
       "      <td>None</td>\n",
       "      <td>2017-05-20 18:54:00</td>\n",
       "      <td>2017-05-20 18:53:44</td>\n",
       "      <td>True</td>\n",
       "      <td>NaN</td>\n",
       "      <td>0</td>\n",
       "    </tr>\n",
       "  </tbody>\n",
       "</table>\n",
       "</div>"
      ],
      "text/plain": [
       "       id  num_sess            datetime  \\\n",
       "3573  183  2        2017-05-20 18:53:29   \n",
       "3574  183  2        2017-05-20 18:53:30   \n",
       "3575  183  2        2017-05-20 18:53:30   \n",
       "3576  183  2        2017-05-20 18:53:30   \n",
       "3577  183  2        2017-05-20 18:53:30   \n",
       "3578  183  2        2017-05-20 18:53:36   \n",
       "3579  183  2        2017-05-20 18:53:36   \n",
       "3580  183  2        2017-05-20 18:53:36   \n",
       "3581  183  2        2017-05-20 18:53:39   \n",
       "3582  183  2        2017-05-20 18:53:39   \n",
       "3583  183  2        2017-05-20 18:53:39   \n",
       "3584  183  2        2017-05-20 18:53:39   \n",
       "3585  183  2        2017-05-20 18:53:44   \n",
       "\n",
       "                                                                                                                referrer  \\\n",
       "3573  https%3A%2F%2Fwww.wowcher.co.uk%2Fdeal%2Fshop%2F3611529%2F15-1-bluetooth-fitness-watch-12-99%3Fsearchresult%3Dtrue   \n",
       "3574  https%3A%2F%2Fwww.wowcher.co.uk%2Fdeal%2Fshop%2F3611529%2F15-1-bluetooth-fitness-watch-12-99%3Fsearchresult%3Dtrue   \n",
       "3575  https%3A%2F%2Fwww.wowcher.co.uk%2Fdeal%2Fshop%2F3611529%2F15-1-bluetooth-fitness-watch-12-99%3Fsearchresult%3Dtrue   \n",
       "3576  https%3A%2F%2Fwww.wowcher.co.uk%2Fdeal%2Fshop%2F3611529%2F15-1-bluetooth-fitness-watch-12-99%3Fsearchresult%3Dtrue   \n",
       "3577  https%3A%2F%2Fwww.wowcher.co.uk%2Fdeal%2Fshop%2F3611529%2F15-1-bluetooth-fitness-watch-12-99%3Fsearchresult%3Dtrue   \n",
       "3578  https%3A%2F%2Fwww.wowcher.co.uk%2Fdeal%2Fshop%2F3611529%2F15-1-bluetooth-fitness-watch-12-99%3Fsearchresult%3Dtrue   \n",
       "3579  https%3A%2F%2Fwww.wowcher.co.uk%2Fdeal%2Fshop%2F3611529%2F15-1-bluetooth-fitness-watch-12-99%3Fsearchresult%3Dtrue   \n",
       "3580  https%3A%2F%2Fwww.wowcher.co.uk%2Fdeal%2Fshop%2F3611529%2F15-1-bluetooth-fitness-watch-12-99%3Fsearchresult%3Dtrue   \n",
       "3581  https%3A%2F%2Fwww.wowcher.co.uk%2Fdeal%2Fshop%2F3611529%2F15-1-bluetooth-fitness-watch-12-99%3Fsearchresult%3Dtrue   \n",
       "3582  https%3A%2F%2Fwww.wowcher.co.uk%2Fdeal%2Fshop%2F3611529%2F15-1-bluetooth-fitness-watch-12-99%3Fsearchresult%3Dtrue   \n",
       "3583  https%3A%2F%2Fwww.wowcher.co.uk%2Fdeal%2Fshop%2F3611529%2F15-1-bluetooth-fitness-watch-12-99%3Fsearchresult%3Dtrue   \n",
       "3584  https%3A%2F%2Fwww.wowcher.co.uk%2Fdeal%2Fshop%2F3611529%2F15-1-bluetooth-fitness-watch-12-99%3Fsearchresult%3Dtrue   \n",
       "3585  https%3A%2F%2Fwww.wowcher.co.uk%2Fdeal%2Fshop%2F3611529%2F15-1-bluetooth-fitness-watch-12-99%3Fsearchresult%3Dtrue   \n",
       "\n",
       "                                                                                                                page_url  \\\n",
       "3573  https%3A%2F%2Fsecure.wowcher.co.uk%2Fcheckout%2F3611529%3Fproduct_id%3D337452%26quantity%3D1%26pay_deposit%3Dfalse   \n",
       "3574  https%3A%2F%2Fsecure.wowcher.co.uk%2Fcheckout%2F3611529%3Fproduct_id%3D337452%26quantity%3D1%26pay_deposit%3Dfalse   \n",
       "3575  https%3A%2F%2Fsecure.wowcher.co.uk%2Fcheckout%2F3611529%3Fproduct_id%3D337452%26quantity%3D1%26pay_deposit%3Dfalse   \n",
       "3576  https%3A%2F%2Fsecure.wowcher.co.uk%2Fcheckout%2F3611529%3Fproduct_id%3D337452%26quantity%3D1%26pay_deposit%3Dfalse   \n",
       "3577  https%3A%2F%2Fsecure.wowcher.co.uk%2Fcheckout%2F3611529%3Fproduct_id%3D337452%26quantity%3D1%26pay_deposit%3Dfalse   \n",
       "3578  https%3A%2F%2Fsecure.wowcher.co.uk%2Fcheckout%2F3611529%3Fproduct_id%3D337452%26quantity%3D1%26pay_deposit%3Dfalse   \n",
       "3579  https%3A%2F%2Fsecure.wowcher.co.uk%2Fcheckout%2F3611529%3Fproduct_id%3D337452%26quantity%3D1%26pay_deposit%3Dfalse   \n",
       "3580  https%3A%2F%2Fsecure.wowcher.co.uk%2Fcheckout%2F3611529%3Fproduct_id%3D337452%26quantity%3D1%26pay_deposit%3Dfalse   \n",
       "3581  https%3A%2F%2Fsecure.wowcher.co.uk%2Fcheckout%2F3611529%3Fproduct_id%3D337452%26quantity%3D1%26pay_deposit%3Dfalse   \n",
       "3582  https%3A%2F%2Fsecure.wowcher.co.uk%2Fcheckout%2F3611529%3Fproduct_id%3D337452%26quantity%3D1%26pay_deposit%3Dfalse   \n",
       "3583  https%3A%2F%2Fsecure.wowcher.co.uk%2Fcheckout%2F3611529%3Fproduct_id%3D337452%26quantity%3D1%26pay_deposit%3Dfalse   \n",
       "3584  https%3A%2F%2Fsecure.wowcher.co.uk%2Fcheckout%2F3611529%3Fproduct_id%3D337452%26quantity%3D1%26pay_deposit%3Dfalse   \n",
       "3585  https%3A%2F%2Fsecure.wowcher.co.uk%2Fmyaccount%2Fvouchers                                                            \n",
       "\n",
       "     product_viewed_browse product_name       cart_startTime  \\\n",
       "3573 NaT                    None         2017-05-20 18:54:00   \n",
       "3574 NaT                    None         2017-05-20 18:54:00   \n",
       "3575 NaT                    None         2017-05-20 18:54:00   \n",
       "3576 NaT                    None         2017-05-20 18:54:00   \n",
       "3577 NaT                    None         2017-05-20 18:54:00   \n",
       "3578 NaT                    None         2017-05-20 18:54:00   \n",
       "3579 NaT                    None         2017-05-20 18:54:00   \n",
       "3580 NaT                    None         2017-05-20 18:54:00   \n",
       "3581 NaT                    None         2017-05-20 18:54:00   \n",
       "3582 NaT                    None         2017-05-20 18:54:00   \n",
       "3583 NaT                    None         2017-05-20 18:54:00   \n",
       "3584 NaT                    None         2017-05-20 18:54:00   \n",
       "3585 NaT                    None         2017-05-20 18:54:00   \n",
       "\n",
       "            cart_started basket_paid_browsing product_id_ProductViewed  \\\n",
       "3573 NaT                  None                 NaN                       \n",
       "3574 NaT                  None                 NaN                       \n",
       "3575 NaT                  None                 NaN                       \n",
       "3576 NaT                  None                 NaN                       \n",
       "3577 NaT                  None                 NaN                       \n",
       "3578 NaT                  None                 NaN                       \n",
       "3579 NaT                  None                 NaN                       \n",
       "3580 NaT                  None                 NaN                       \n",
       "3581 NaT                  None                 NaN                       \n",
       "3582 NaT                  None                 NaN                       \n",
       "3583 NaT                  None                 NaN                       \n",
       "3584 NaT                  None                 NaN                       \n",
       "3585 2017-05-20 18:53:44  True                 NaN                       \n",
       "\n",
       "     product_id_CartStarted  \n",
       "3573  3611529                \n",
       "3574  3611529                \n",
       "3575  3611529                \n",
       "3576  3611529                \n",
       "3577  3611529                \n",
       "3578  3611529                \n",
       "3579  3611529                \n",
       "3580  3611529                \n",
       "3581  3611529                \n",
       "3582  3611529                \n",
       "3583  3611529                \n",
       "3584  3611529                \n",
       "3585  0                      "
      ]
     },
     "execution_count": 15,
     "metadata": {},
     "output_type": "execute_result"
    }
   ],
   "source": [
    "pd.set_option('display.max_colwidth', -1)\n",
    "data[(data['id']==183)&(data['num_sess']==2)][['id','num_sess','datetime','referrer','page_url',\n",
    "                                              'product_viewed_browse','product_name','cart_startTime',\n",
    "                                              'cart_started','basket_paid_browsing','product_id_ProductViewed'\n",
    "                                              ,'product_id_CartStarted']]"
   ]
  },
  {
   "cell_type": "code",
   "execution_count": 6,
   "metadata": {
    "collapsed": false
   },
   "outputs": [
    {
     "data": {
      "text/html": [
       "<div>\n",
       "<table border=\"1\" class=\"dataframe\">\n",
       "  <thead>\n",
       "    <tr style=\"text-align: right;\">\n",
       "      <th></th>\n",
       "      <th>id</th>\n",
       "      <th>num_sess</th>\n",
       "      <th>product_id_ProductViewed</th>\n",
       "      <th>product_id_CartStarted</th>\n",
       "      <th>basket_paid_browsing</th>\n",
       "    </tr>\n",
       "  </thead>\n",
       "  <tbody>\n",
       "    <tr>\n",
       "      <th>2069</th>\n",
       "      <td>88</td>\n",
       "      <td>7</td>\n",
       "      <td>NaN</td>\n",
       "      <td>0</td>\n",
       "      <td>True</td>\n",
       "    </tr>\n",
       "    <tr>\n",
       "      <th>3572</th>\n",
       "      <td>183</td>\n",
       "      <td>1</td>\n",
       "      <td>NaN</td>\n",
       "      <td>0</td>\n",
       "      <td>True</td>\n",
       "    </tr>\n",
       "    <tr>\n",
       "      <th>3585</th>\n",
       "      <td>183</td>\n",
       "      <td>2</td>\n",
       "      <td>NaN</td>\n",
       "      <td>0</td>\n",
       "      <td>True</td>\n",
       "    </tr>\n",
       "    <tr>\n",
       "      <th>3598</th>\n",
       "      <td>183</td>\n",
       "      <td>3</td>\n",
       "      <td>NaN</td>\n",
       "      <td>0</td>\n",
       "      <td>True</td>\n",
       "    </tr>\n",
       "    <tr>\n",
       "      <th>3610</th>\n",
       "      <td>183</td>\n",
       "      <td>4</td>\n",
       "      <td>NaN</td>\n",
       "      <td>0</td>\n",
       "      <td>True</td>\n",
       "    </tr>\n",
       "    <tr>\n",
       "      <th>7017</th>\n",
       "      <td>466</td>\n",
       "      <td>1</td>\n",
       "      <td>NaN</td>\n",
       "      <td>0</td>\n",
       "      <td>True</td>\n",
       "    </tr>\n",
       "    <tr>\n",
       "      <th>7026</th>\n",
       "      <td>466</td>\n",
       "      <td>3</td>\n",
       "      <td>NaN</td>\n",
       "      <td>0</td>\n",
       "      <td>True</td>\n",
       "    </tr>\n",
       "    <tr>\n",
       "      <th>7037</th>\n",
       "      <td>466</td>\n",
       "      <td>6</td>\n",
       "      <td>NaN</td>\n",
       "      <td>0</td>\n",
       "      <td>True</td>\n",
       "    </tr>\n",
       "    <tr>\n",
       "      <th>7045</th>\n",
       "      <td>466</td>\n",
       "      <td>7</td>\n",
       "      <td>NaN</td>\n",
       "      <td>0</td>\n",
       "      <td>True</td>\n",
       "    </tr>\n",
       "    <tr>\n",
       "      <th>7317</th>\n",
       "      <td>470</td>\n",
       "      <td>12</td>\n",
       "      <td>NaN</td>\n",
       "      <td>0</td>\n",
       "      <td>True</td>\n",
       "    </tr>\n",
       "    <tr>\n",
       "      <th>7518</th>\n",
       "      <td>471</td>\n",
       "      <td>9</td>\n",
       "      <td>NaN</td>\n",
       "      <td>0</td>\n",
       "      <td>True</td>\n",
       "    </tr>\n",
       "    <tr>\n",
       "      <th>7805</th>\n",
       "      <td>474</td>\n",
       "      <td>1</td>\n",
       "      <td>NaN</td>\n",
       "      <td>0</td>\n",
       "      <td>True</td>\n",
       "    </tr>\n",
       "    <tr>\n",
       "      <th>7810</th>\n",
       "      <td>474</td>\n",
       "      <td>3</td>\n",
       "      <td>NaN</td>\n",
       "      <td>0</td>\n",
       "      <td>True</td>\n",
       "    </tr>\n",
       "    <tr>\n",
       "      <th>7815</th>\n",
       "      <td>474</td>\n",
       "      <td>4</td>\n",
       "      <td>NaN</td>\n",
       "      <td>0</td>\n",
       "      <td>True</td>\n",
       "    </tr>\n",
       "    <tr>\n",
       "      <th>7820</th>\n",
       "      <td>474</td>\n",
       "      <td>5</td>\n",
       "      <td>NaN</td>\n",
       "      <td>0</td>\n",
       "      <td>True</td>\n",
       "    </tr>\n",
       "    <tr>\n",
       "      <th>7830</th>\n",
       "      <td>474</td>\n",
       "      <td>6</td>\n",
       "      <td>NaN</td>\n",
       "      <td>0</td>\n",
       "      <td>True</td>\n",
       "    </tr>\n",
       "    <tr>\n",
       "      <th>7834</th>\n",
       "      <td>474</td>\n",
       "      <td>7</td>\n",
       "      <td>NaN</td>\n",
       "      <td>0</td>\n",
       "      <td>True</td>\n",
       "    </tr>\n",
       "    <tr>\n",
       "      <th>7840</th>\n",
       "      <td>474</td>\n",
       "      <td>8</td>\n",
       "      <td>NaN</td>\n",
       "      <td>0</td>\n",
       "      <td>True</td>\n",
       "    </tr>\n",
       "    <tr>\n",
       "      <th>7846</th>\n",
       "      <td>474</td>\n",
       "      <td>9</td>\n",
       "      <td>NaN</td>\n",
       "      <td>0</td>\n",
       "      <td>True</td>\n",
       "    </tr>\n",
       "    <tr>\n",
       "      <th>7851</th>\n",
       "      <td>474</td>\n",
       "      <td>11</td>\n",
       "      <td>NaN</td>\n",
       "      <td>0</td>\n",
       "      <td>True</td>\n",
       "    </tr>\n",
       "    <tr>\n",
       "      <th>7856</th>\n",
       "      <td>474</td>\n",
       "      <td>12</td>\n",
       "      <td>NaN</td>\n",
       "      <td>0</td>\n",
       "      <td>True</td>\n",
       "    </tr>\n",
       "    <tr>\n",
       "      <th>7863</th>\n",
       "      <td>474</td>\n",
       "      <td>14</td>\n",
       "      <td>NaN</td>\n",
       "      <td>0</td>\n",
       "      <td>True</td>\n",
       "    </tr>\n",
       "    <tr>\n",
       "      <th>7870</th>\n",
       "      <td>474</td>\n",
       "      <td>16</td>\n",
       "      <td>NaN</td>\n",
       "      <td>0</td>\n",
       "      <td>True</td>\n",
       "    </tr>\n",
       "    <tr>\n",
       "      <th>7874</th>\n",
       "      <td>474</td>\n",
       "      <td>17</td>\n",
       "      <td>NaN</td>\n",
       "      <td>0</td>\n",
       "      <td>True</td>\n",
       "    </tr>\n",
       "    <tr>\n",
       "      <th>7880</th>\n",
       "      <td>474</td>\n",
       "      <td>19</td>\n",
       "      <td>NaN</td>\n",
       "      <td>0</td>\n",
       "      <td>True</td>\n",
       "    </tr>\n",
       "    <tr>\n",
       "      <th>7884</th>\n",
       "      <td>474</td>\n",
       "      <td>20</td>\n",
       "      <td>NaN</td>\n",
       "      <td>0</td>\n",
       "      <td>True</td>\n",
       "    </tr>\n",
       "    <tr>\n",
       "      <th>8212</th>\n",
       "      <td>476</td>\n",
       "      <td>7</td>\n",
       "      <td>NaN</td>\n",
       "      <td>0</td>\n",
       "      <td>True</td>\n",
       "    </tr>\n",
       "    <tr>\n",
       "      <th>8219</th>\n",
       "      <td>476</td>\n",
       "      <td>8</td>\n",
       "      <td>NaN</td>\n",
       "      <td>0</td>\n",
       "      <td>True</td>\n",
       "    </tr>\n",
       "    <tr>\n",
       "      <th>8224</th>\n",
       "      <td>476</td>\n",
       "      <td>9</td>\n",
       "      <td>NaN</td>\n",
       "      <td>0</td>\n",
       "      <td>True</td>\n",
       "    </tr>\n",
       "    <tr>\n",
       "      <th>8265</th>\n",
       "      <td>476</td>\n",
       "      <td>20</td>\n",
       "      <td>NaN</td>\n",
       "      <td>0</td>\n",
       "      <td>True</td>\n",
       "    </tr>\n",
       "    <tr>\n",
       "      <th>...</th>\n",
       "      <td>...</td>\n",
       "      <td>...</td>\n",
       "      <td>...</td>\n",
       "      <td>...</td>\n",
       "      <td>...</td>\n",
       "    </tr>\n",
       "    <tr>\n",
       "      <th>1467263</th>\n",
       "      <td>52360</td>\n",
       "      <td>2</td>\n",
       "      <td>NaN</td>\n",
       "      <td>0</td>\n",
       "      <td>True</td>\n",
       "    </tr>\n",
       "    <tr>\n",
       "      <th>1467407</th>\n",
       "      <td>52367</td>\n",
       "      <td>2</td>\n",
       "      <td>NaN</td>\n",
       "      <td>0</td>\n",
       "      <td>True</td>\n",
       "    </tr>\n",
       "    <tr>\n",
       "      <th>1467607</th>\n",
       "      <td>52378</td>\n",
       "      <td>1</td>\n",
       "      <td>NaN</td>\n",
       "      <td>0</td>\n",
       "      <td>True</td>\n",
       "    </tr>\n",
       "    <tr>\n",
       "      <th>1467662</th>\n",
       "      <td>52379</td>\n",
       "      <td>2</td>\n",
       "      <td>NaN</td>\n",
       "      <td>0</td>\n",
       "      <td>True</td>\n",
       "    </tr>\n",
       "    <tr>\n",
       "      <th>1467699</th>\n",
       "      <td>52383</td>\n",
       "      <td>1</td>\n",
       "      <td>NaN</td>\n",
       "      <td>0</td>\n",
       "      <td>True</td>\n",
       "    </tr>\n",
       "    <tr>\n",
       "      <th>1467726</th>\n",
       "      <td>52383</td>\n",
       "      <td>3</td>\n",
       "      <td>NaN</td>\n",
       "      <td>0</td>\n",
       "      <td>True</td>\n",
       "    </tr>\n",
       "    <tr>\n",
       "      <th>1467785</th>\n",
       "      <td>52385</td>\n",
       "      <td>4</td>\n",
       "      <td>NaN</td>\n",
       "      <td>0</td>\n",
       "      <td>True</td>\n",
       "    </tr>\n",
       "    <tr>\n",
       "      <th>1467813</th>\n",
       "      <td>52386</td>\n",
       "      <td>1</td>\n",
       "      <td>NaN</td>\n",
       "      <td>0</td>\n",
       "      <td>True</td>\n",
       "    </tr>\n",
       "    <tr>\n",
       "      <th>1467832</th>\n",
       "      <td>52386</td>\n",
       "      <td>2</td>\n",
       "      <td>NaN</td>\n",
       "      <td>0</td>\n",
       "      <td>True</td>\n",
       "    </tr>\n",
       "    <tr>\n",
       "      <th>1467921</th>\n",
       "      <td>52387</td>\n",
       "      <td>1</td>\n",
       "      <td>NaN</td>\n",
       "      <td>0</td>\n",
       "      <td>True</td>\n",
       "    </tr>\n",
       "    <tr>\n",
       "      <th>1468020</th>\n",
       "      <td>52390</td>\n",
       "      <td>1</td>\n",
       "      <td>NaN</td>\n",
       "      <td>0</td>\n",
       "      <td>True</td>\n",
       "    </tr>\n",
       "    <tr>\n",
       "      <th>1468022</th>\n",
       "      <td>52390</td>\n",
       "      <td>2</td>\n",
       "      <td>NaN</td>\n",
       "      <td>0</td>\n",
       "      <td>True</td>\n",
       "    </tr>\n",
       "    <tr>\n",
       "      <th>1468109</th>\n",
       "      <td>52392</td>\n",
       "      <td>1</td>\n",
       "      <td>NaN</td>\n",
       "      <td>0</td>\n",
       "      <td>True</td>\n",
       "    </tr>\n",
       "    <tr>\n",
       "      <th>1468164</th>\n",
       "      <td>52396</td>\n",
       "      <td>2</td>\n",
       "      <td>NaN</td>\n",
       "      <td>0</td>\n",
       "      <td>True</td>\n",
       "    </tr>\n",
       "    <tr>\n",
       "      <th>1468225</th>\n",
       "      <td>52398</td>\n",
       "      <td>4</td>\n",
       "      <td>NaN</td>\n",
       "      <td>0</td>\n",
       "      <td>True</td>\n",
       "    </tr>\n",
       "    <tr>\n",
       "      <th>1468333</th>\n",
       "      <td>52402</td>\n",
       "      <td>2</td>\n",
       "      <td>NaN</td>\n",
       "      <td>0</td>\n",
       "      <td>True</td>\n",
       "    </tr>\n",
       "    <tr>\n",
       "      <th>1468384</th>\n",
       "      <td>52403</td>\n",
       "      <td>3</td>\n",
       "      <td>NaN</td>\n",
       "      <td>0</td>\n",
       "      <td>True</td>\n",
       "    </tr>\n",
       "    <tr>\n",
       "      <th>1468440</th>\n",
       "      <td>52409</td>\n",
       "      <td>1</td>\n",
       "      <td>NaN</td>\n",
       "      <td>0</td>\n",
       "      <td>True</td>\n",
       "    </tr>\n",
       "    <tr>\n",
       "      <th>1468456</th>\n",
       "      <td>52409</td>\n",
       "      <td>3</td>\n",
       "      <td>NaN</td>\n",
       "      <td>0</td>\n",
       "      <td>True</td>\n",
       "    </tr>\n",
       "    <tr>\n",
       "      <th>1468504</th>\n",
       "      <td>52410</td>\n",
       "      <td>1</td>\n",
       "      <td>NaN</td>\n",
       "      <td>0</td>\n",
       "      <td>True</td>\n",
       "    </tr>\n",
       "    <tr>\n",
       "      <th>1468709</th>\n",
       "      <td>52414</td>\n",
       "      <td>2</td>\n",
       "      <td>NaN</td>\n",
       "      <td>0</td>\n",
       "      <td>True</td>\n",
       "    </tr>\n",
       "    <tr>\n",
       "      <th>1468763</th>\n",
       "      <td>52419</td>\n",
       "      <td>1</td>\n",
       "      <td>NaN</td>\n",
       "      <td>0</td>\n",
       "      <td>True</td>\n",
       "    </tr>\n",
       "    <tr>\n",
       "      <th>1468828</th>\n",
       "      <td>52421</td>\n",
       "      <td>1</td>\n",
       "      <td>NaN</td>\n",
       "      <td>0</td>\n",
       "      <td>True</td>\n",
       "    </tr>\n",
       "    <tr>\n",
       "      <th>1468849</th>\n",
       "      <td>52421</td>\n",
       "      <td>4</td>\n",
       "      <td>NaN</td>\n",
       "      <td>0</td>\n",
       "      <td>True</td>\n",
       "    </tr>\n",
       "    <tr>\n",
       "      <th>1468942</th>\n",
       "      <td>52422</td>\n",
       "      <td>3</td>\n",
       "      <td>NaN</td>\n",
       "      <td>0</td>\n",
       "      <td>True</td>\n",
       "    </tr>\n",
       "    <tr>\n",
       "      <th>1468979</th>\n",
       "      <td>52424</td>\n",
       "      <td>1</td>\n",
       "      <td>NaN</td>\n",
       "      <td>0</td>\n",
       "      <td>True</td>\n",
       "    </tr>\n",
       "    <tr>\n",
       "      <th>1469004</th>\n",
       "      <td>52425</td>\n",
       "      <td>4</td>\n",
       "      <td>NaN</td>\n",
       "      <td>0</td>\n",
       "      <td>True</td>\n",
       "    </tr>\n",
       "    <tr>\n",
       "      <th>1469096</th>\n",
       "      <td>52431</td>\n",
       "      <td>2</td>\n",
       "      <td>NaN</td>\n",
       "      <td>0</td>\n",
       "      <td>True</td>\n",
       "    </tr>\n",
       "    <tr>\n",
       "      <th>1469139</th>\n",
       "      <td>52432</td>\n",
       "      <td>1</td>\n",
       "      <td>NaN</td>\n",
       "      <td>0</td>\n",
       "      <td>True</td>\n",
       "    </tr>\n",
       "    <tr>\n",
       "      <th>1469150</th>\n",
       "      <td>52432</td>\n",
       "      <td>2</td>\n",
       "      <td>NaN</td>\n",
       "      <td>0</td>\n",
       "      <td>True</td>\n",
       "    </tr>\n",
       "  </tbody>\n",
       "</table>\n",
       "<p>20458 rows × 5 columns</p>\n",
       "</div>"
      ],
      "text/plain": [
       "            id  num_sess product_id_ProductViewed product_id_CartStarted  \\\n",
       "2069        88         7                      NaN                      0   \n",
       "3572       183         1                      NaN                      0   \n",
       "3585       183         2                      NaN                      0   \n",
       "3598       183         3                      NaN                      0   \n",
       "3610       183         4                      NaN                      0   \n",
       "7017       466         1                      NaN                      0   \n",
       "7026       466         3                      NaN                      0   \n",
       "7037       466         6                      NaN                      0   \n",
       "7045       466         7                      NaN                      0   \n",
       "7317       470        12                      NaN                      0   \n",
       "7518       471         9                      NaN                      0   \n",
       "7805       474         1                      NaN                      0   \n",
       "7810       474         3                      NaN                      0   \n",
       "7815       474         4                      NaN                      0   \n",
       "7820       474         5                      NaN                      0   \n",
       "7830       474         6                      NaN                      0   \n",
       "7834       474         7                      NaN                      0   \n",
       "7840       474         8                      NaN                      0   \n",
       "7846       474         9                      NaN                      0   \n",
       "7851       474        11                      NaN                      0   \n",
       "7856       474        12                      NaN                      0   \n",
       "7863       474        14                      NaN                      0   \n",
       "7870       474        16                      NaN                      0   \n",
       "7874       474        17                      NaN                      0   \n",
       "7880       474        19                      NaN                      0   \n",
       "7884       474        20                      NaN                      0   \n",
       "8212       476         7                      NaN                      0   \n",
       "8219       476         8                      NaN                      0   \n",
       "8224       476         9                      NaN                      0   \n",
       "8265       476        20                      NaN                      0   \n",
       "...        ...       ...                      ...                    ...   \n",
       "1467263  52360         2                      NaN                      0   \n",
       "1467407  52367         2                      NaN                      0   \n",
       "1467607  52378         1                      NaN                      0   \n",
       "1467662  52379         2                      NaN                      0   \n",
       "1467699  52383         1                      NaN                      0   \n",
       "1467726  52383         3                      NaN                      0   \n",
       "1467785  52385         4                      NaN                      0   \n",
       "1467813  52386         1                      NaN                      0   \n",
       "1467832  52386         2                      NaN                      0   \n",
       "1467921  52387         1                      NaN                      0   \n",
       "1468020  52390         1                      NaN                      0   \n",
       "1468022  52390         2                      NaN                      0   \n",
       "1468109  52392         1                      NaN                      0   \n",
       "1468164  52396         2                      NaN                      0   \n",
       "1468225  52398         4                      NaN                      0   \n",
       "1468333  52402         2                      NaN                      0   \n",
       "1468384  52403         3                      NaN                      0   \n",
       "1468440  52409         1                      NaN                      0   \n",
       "1468456  52409         3                      NaN                      0   \n",
       "1468504  52410         1                      NaN                      0   \n",
       "1468709  52414         2                      NaN                      0   \n",
       "1468763  52419         1                      NaN                      0   \n",
       "1468828  52421         1                      NaN                      0   \n",
       "1468849  52421         4                      NaN                      0   \n",
       "1468942  52422         3                      NaN                      0   \n",
       "1468979  52424         1                      NaN                      0   \n",
       "1469004  52425         4                      NaN                      0   \n",
       "1469096  52431         2                      NaN                      0   \n",
       "1469139  52432         1                      NaN                      0   \n",
       "1469150  52432         2                      NaN                      0   \n",
       "\n",
       "        basket_paid_browsing  \n",
       "2069                    True  \n",
       "3572                    True  \n",
       "3585                    True  \n",
       "3598                    True  \n",
       "3610                    True  \n",
       "7017                    True  \n",
       "7026                    True  \n",
       "7037                    True  \n",
       "7045                    True  \n",
       "7317                    True  \n",
       "7518                    True  \n",
       "7805                    True  \n",
       "7810                    True  \n",
       "7815                    True  \n",
       "7820                    True  \n",
       "7830                    True  \n",
       "7834                    True  \n",
       "7840                    True  \n",
       "7846                    True  \n",
       "7851                    True  \n",
       "7856                    True  \n",
       "7863                    True  \n",
       "7870                    True  \n",
       "7874                    True  \n",
       "7880                    True  \n",
       "7884                    True  \n",
       "8212                    True  \n",
       "8219                    True  \n",
       "8224                    True  \n",
       "8265                    True  \n",
       "...                      ...  \n",
       "1467263                 True  \n",
       "1467407                 True  \n",
       "1467607                 True  \n",
       "1467662                 True  \n",
       "1467699                 True  \n",
       "1467726                 True  \n",
       "1467785                 True  \n",
       "1467813                 True  \n",
       "1467832                 True  \n",
       "1467921                 True  \n",
       "1468020                 True  \n",
       "1468022                 True  \n",
       "1468109                 True  \n",
       "1468164                 True  \n",
       "1468225                 True  \n",
       "1468333                 True  \n",
       "1468384                 True  \n",
       "1468440                 True  \n",
       "1468456                 True  \n",
       "1468504                 True  \n",
       "1468709                 True  \n",
       "1468763                 True  \n",
       "1468828                 True  \n",
       "1468849                 True  \n",
       "1468942                 True  \n",
       "1468979                 True  \n",
       "1469004                 True  \n",
       "1469096                 True  \n",
       "1469139                 True  \n",
       "1469150                 True  \n",
       "\n",
       "[20458 rows x 5 columns]"
      ]
     },
     "execution_count": 6,
     "metadata": {},
     "output_type": "execute_result"
    }
   ],
   "source": [
    "data[data['basket_paid_browsing']==True][['id','num_sess','product_id_ProductViewed','product_id_CartStarted','basket_paid_browsing']]"
   ]
  },
  {
   "cell_type": "markdown",
   "metadata": {},
   "source": [
    "---"
   ]
  },
  {
   "cell_type": "markdown",
   "metadata": {
    "collapsed": true
   },
   "source": [
    "## 2. Check inner join of label=true from cart & browse"
   ]
  },
  {
   "cell_type": "code",
   "execution_count": 35,
   "metadata": {
    "collapsed": false
   },
   "outputs": [
    {
     "name": "stdout",
     "output_type": "stream",
     "text": [
      "browse: shape of id_sess for sessions :  (20037, 2)\n",
      "cart:   shape of id_sess for sessions :  (33677, 2)\n"
     ]
    }
   ],
   "source": [
    "# browse data:\n",
    "id_sess_true_browse = data[data['basket_paid_browsing']==True][['id','num_sess']]\n",
    "id_sess_true_browse_drop=id_sess_true_browse.drop_duplicates()\n",
    "print('browse: shape of id_sess for sessions : ', id_sess_true_browse_drop.shape)\n",
    "# cart data:\n",
    "id_sess_true_cart = data[data['basket_paid_cart']=='True'][['id','num_sess']]\n",
    "id_sess_true_cart_drop=id_sess_true_cart.drop_duplicates()\n",
    "print('cart:   shape of id_sess for sessions : ', id_sess_true_cart_drop.shape)"
   ]
  },
  {
   "cell_type": "code",
   "execution_count": 36,
   "metadata": {
    "collapsed": false
   },
   "outputs": [],
   "source": [
    "joint_id_sess=pd.merge(id_sess_true_browse_drop, id_sess_true_cart_drop, how='inner', on=['id','num_sess'])"
   ]
  },
  {
   "cell_type": "code",
   "execution_count": 37,
   "metadata": {
    "collapsed": false
   },
   "outputs": [
    {
     "name": "stdout",
     "output_type": "stream",
     "text": [
      "(20034, 2)\n",
      "Conclusion:\n",
      "Cart data indeed contains more information of basket_paid. \n",
      "Only 20037-20034 = 3 \"true\" in browse data are not included in cart data.\n"
     ]
    }
   ],
   "source": [
    "print(joint_id_sess.shape)\n",
    "print('Conclusion:')\n",
    "print('Cart data indeed contains more information of basket_paid.', \n",
    "      '\\nOnly 20037-20034 = 3 \"true\" in browse data are not included in cart data.')"
   ]
  },
  {
   "cell_type": "code",
   "execution_count": 38,
   "metadata": {
    "collapsed": false
   },
   "outputs": [
    {
     "name": "stdout",
     "output_type": "stream",
     "text": [
      "In order to use product name etc. features still decide to use browse data to get information\n"
     ]
    }
   ],
   "source": [
    "print('In order to use product name etc. features still decide to use browse data to get information')"
   ]
  },
  {
   "cell_type": "markdown",
   "metadata": {},
   "source": [
    "---"
   ]
  },
  {
   "cell_type": "markdown",
   "metadata": {},
   "source": [
    "## 3. Locate multi-buy\n",
    "duplicated rows in id_sess_true for browse data indicating multi-buy"
   ]
  },
  {
   "cell_type": "code",
   "execution_count": 39,
   "metadata": {
    "collapsed": true
   },
   "outputs": [],
   "source": [
    "id_sess_true = data[data['basket_paid_browsing']==True][['id','num_sess']]"
   ]
  },
  {
   "cell_type": "code",
   "execution_count": 40,
   "metadata": {
    "collapsed": false
   },
   "outputs": [
    {
     "name": "stdout",
     "output_type": "stream",
     "text": [
      "(707, 2)\n"
     ]
    },
    {
     "data": {
      "text/html": [
       "<div>\n",
       "<table border=\"1\" class=\"dataframe\">\n",
       "  <thead>\n",
       "    <tr style=\"text-align: right;\">\n",
       "      <th></th>\n",
       "      <th>id</th>\n",
       "      <th>num_sess</th>\n",
       "    </tr>\n",
       "  </thead>\n",
       "  <tbody>\n",
       "    <tr>\n",
       "      <th>17073</th>\n",
       "      <td>602</td>\n",
       "      <td>2</td>\n",
       "    </tr>\n",
       "    <tr>\n",
       "      <th>17074</th>\n",
       "      <td>602</td>\n",
       "      <td>2</td>\n",
       "    </tr>\n",
       "    <tr>\n",
       "      <th>17129</th>\n",
       "      <td>602</td>\n",
       "      <td>4</td>\n",
       "    </tr>\n",
       "    <tr>\n",
       "      <th>17130</th>\n",
       "      <td>602</td>\n",
       "      <td>4</td>\n",
       "    </tr>\n",
       "    <tr>\n",
       "      <th>19409</th>\n",
       "      <td>646</td>\n",
       "      <td>2</td>\n",
       "    </tr>\n",
       "    <tr>\n",
       "      <th>19410</th>\n",
       "      <td>646</td>\n",
       "      <td>2</td>\n",
       "    </tr>\n",
       "    <tr>\n",
       "      <th>22513</th>\n",
       "      <td>745</td>\n",
       "      <td>4</td>\n",
       "    </tr>\n",
       "    <tr>\n",
       "      <th>22514</th>\n",
       "      <td>745</td>\n",
       "      <td>4</td>\n",
       "    </tr>\n",
       "    <tr>\n",
       "      <th>22515</th>\n",
       "      <td>745</td>\n",
       "      <td>4</td>\n",
       "    </tr>\n",
       "    <tr>\n",
       "      <th>22516</th>\n",
       "      <td>745</td>\n",
       "      <td>4</td>\n",
       "    </tr>\n",
       "  </tbody>\n",
       "</table>\n",
       "</div>"
      ],
      "text/plain": [
       "        id  num_sess\n",
       "17073  602         2\n",
       "17074  602         2\n",
       "17129  602         4\n",
       "17130  602         4\n",
       "19409  646         2\n",
       "19410  646         2\n",
       "22513  745         4\n",
       "22514  745         4\n",
       "22515  745         4\n",
       "22516  745         4"
      ]
     },
     "execution_count": 40,
     "metadata": {},
     "output_type": "execute_result"
    }
   ],
   "source": [
    "id_sess_multiBuy=id_sess_true[id_sess_true.duplicated(keep=False)] # keep=False would return all duplicated rows \n",
    "print(id_sess_multiBuy.shape)\n",
    "id_sess_multiBuy[:10]"
   ]
  },
  {
   "cell_type": "code",
   "execution_count": 41,
   "metadata": {
    "collapsed": false
   },
   "outputs": [],
   "source": [
    "# id_sess_multiBuy0\n",
    "id_sess_multiBuy0=id_sess_multiBuy.drop_duplicates()\n",
    "id_sess_multiBuy0.reset_index(inplace=True)\n"
   ]
  },
  {
   "cell_type": "code",
   "execution_count": 42,
   "metadata": {
    "collapsed": false
   },
   "outputs": [
    {
     "name": "stdout",
     "output_type": "stream",
     "text": [
      "(19503, 31)\n"
     ]
    },
    {
     "data": {
      "text/plain": [
       "(19503, 31)"
      ]
     },
     "execution_count": 42,
     "metadata": {},
     "output_type": "execute_result"
    }
   ],
   "source": [
    "multiBuy_table=pd.merge(id_sess_multiBuy0,data_final,how='inner',on=['id','num_sess'])\n",
    "print(multiBuy_table.shape)\n",
    "multiBuy_table.drop_duplicates().shape"
   ]
  },
  {
   "cell_type": "code",
   "execution_count": 43,
   "metadata": {
    "collapsed": false
   },
   "outputs": [
    {
     "data": {
      "text/plain": [
       "Index(['index', 'id', 'num_sess', 'session_id', 'finger_print', 'datetime',\n",
       "       'days', 'referrer', 'page_url', 'product_viewed_browse', 'cart_started',\n",
       "       'basket_paid_browsing', 'product_name', 'product_save', 'product_price',\n",
       "       'product_time_left', 'email', 'Post_Code', 'cart_startTime',\n",
       "       'product_viewed_cart', 'total', 'basket_paid_cart', 'payment_type',\n",
       "       'email_click_through', 'cart_firstTime', 'cart_lastTime',\n",
       "       'basketInfoTime', 'ip_address', 'user_agent', 'city', 'country'],\n",
       "      dtype='object')"
      ]
     },
     "execution_count": 43,
     "metadata": {},
     "output_type": "execute_result"
    }
   ],
   "source": [
    "multiBuy_table.columns"
   ]
  },
  {
   "cell_type": "code",
   "execution_count": 57,
   "metadata": {
    "collapsed": false
   },
   "outputs": [],
   "source": [
    "tmp=multiBuy_table[['id','num_sess','datetime','session_id','product_viewed_browse','product_viewed_cart',\n",
    "                    'product_name','basket_paid_browsing','product_save','product_price','product_time_left']]"
   ]
  },
  {
   "cell_type": "code",
   "execution_count": 58,
   "metadata": {
    "collapsed": false
   },
   "outputs": [
    {
     "name": "stdout",
     "output_type": "stream",
     "text": [
      "Sooo Soft 54 Rolls Toilet Paper & 24 Roll Kitchen Towel Bundle\n",
      "Sooo Soft 54 Rolls Toilet Paper & 24 Roll Kitchen Towel Bundle\n"
     ]
    }
   ],
   "source": [
    "print(multiBuy_table.loc[[12,13]].drop_duplicates().loc[12,'product_name'])\n",
    "print(multiBuy_table.loc[[12,13]].drop_duplicates().loc[13,'product_name'])"
   ]
  },
  {
   "cell_type": "code",
   "execution_count": 59,
   "metadata": {
    "collapsed": false
   },
   "outputs": [
    {
     "data": {
      "text/html": [
       "<div>\n",
       "<table border=\"1\" class=\"dataframe\">\n",
       "  <thead>\n",
       "    <tr style=\"text-align: right;\">\n",
       "      <th></th>\n",
       "      <th>id</th>\n",
       "      <th>num_sess</th>\n",
       "      <th>datetime</th>\n",
       "      <th>session_id</th>\n",
       "      <th>product_viewed_browse</th>\n",
       "      <th>product_viewed_cart</th>\n",
       "      <th>product_name</th>\n",
       "      <th>basket_paid_browsing</th>\n",
       "      <th>product_save</th>\n",
       "      <th>product_price</th>\n",
       "      <th>product_time_left</th>\n",
       "    </tr>\n",
       "  </thead>\n",
       "  <tbody>\n",
       "    <tr>\n",
       "      <th>12</th>\n",
       "      <td>602</td>\n",
       "      <td>4</td>\n",
       "      <td>2017-06-07 18:03:48</td>\n",
       "      <td>1ottm4i3gc5cd1auv2omnsq131</td>\n",
       "      <td>NaT</td>\n",
       "      <td>None</td>\n",
       "      <td>Sooo Soft 54 Rolls Toilet Paper &amp; 24 Roll Kitc...</td>\n",
       "      <td>None</td>\n",
       "      <td>66%</td>\n",
       "      <td>14.99</td>\n",
       "      <td>25:4:39:20</td>\n",
       "    </tr>\n",
       "    <tr>\n",
       "      <th>14</th>\n",
       "      <td>602</td>\n",
       "      <td>4</td>\n",
       "      <td>2017-06-07 18:05:53</td>\n",
       "      <td>1ottm4i3gc5cd1auv2omnsq131</td>\n",
       "      <td>NaT</td>\n",
       "      <td>None</td>\n",
       "      <td>Sooo Soft 54 Rolls Toilet Paper &amp; 24 Roll Kitc...</td>\n",
       "      <td>None</td>\n",
       "      <td>66%</td>\n",
       "      <td>14.99</td>\n",
       "      <td>25:4:39:20</td>\n",
       "    </tr>\n",
       "    <tr>\n",
       "      <th>16</th>\n",
       "      <td>602</td>\n",
       "      <td>4</td>\n",
       "      <td>2017-06-07 18:07:06</td>\n",
       "      <td>1ottm4i3gc5cd1auv2omnsq131</td>\n",
       "      <td>NaT</td>\n",
       "      <td>None</td>\n",
       "      <td>Sooo Soft 54 Rolls Toilet Paper &amp; 24 Roll Kitc...</td>\n",
       "      <td>None</td>\n",
       "      <td>66%</td>\n",
       "      <td>14.99</td>\n",
       "      <td>25:4:39:20</td>\n",
       "    </tr>\n",
       "    <tr>\n",
       "      <th>18</th>\n",
       "      <td>602</td>\n",
       "      <td>4</td>\n",
       "      <td>2017-06-07 18:14:37</td>\n",
       "      <td>1ottm4i3gc5cd1auv2omnsq131</td>\n",
       "      <td>NaT</td>\n",
       "      <td>None</td>\n",
       "      <td>Sooo Soft 54 Rolls Toilet Paper &amp; 24 Roll Kitc...</td>\n",
       "      <td>None</td>\n",
       "      <td>66%</td>\n",
       "      <td>14.99</td>\n",
       "      <td>25:4:39:20</td>\n",
       "    </tr>\n",
       "    <tr>\n",
       "      <th>20</th>\n",
       "      <td>602</td>\n",
       "      <td>4</td>\n",
       "      <td>2017-06-07 18:15:42</td>\n",
       "      <td>1ottm4i3gc5cd1auv2omnsq131</td>\n",
       "      <td>NaT</td>\n",
       "      <td>None</td>\n",
       "      <td>Sooo Soft 54 Rolls Toilet Paper &amp; 24 Roll Kitc...</td>\n",
       "      <td>None</td>\n",
       "      <td>66%</td>\n",
       "      <td>14.99</td>\n",
       "      <td>25:4:39:20</td>\n",
       "    </tr>\n",
       "    <tr>\n",
       "      <th>22</th>\n",
       "      <td>602</td>\n",
       "      <td>4</td>\n",
       "      <td>2017-06-07 18:16:17</td>\n",
       "      <td>1ottm4i3gc5cd1auv2omnsq131</td>\n",
       "      <td>NaT</td>\n",
       "      <td>None</td>\n",
       "      <td>Sooo Soft 54 Rolls Toilet Paper &amp; 24 Roll Kitc...</td>\n",
       "      <td>None</td>\n",
       "      <td>66%</td>\n",
       "      <td>14.99</td>\n",
       "      <td>25:4:39:20</td>\n",
       "    </tr>\n",
       "    <tr>\n",
       "      <th>24</th>\n",
       "      <td>602</td>\n",
       "      <td>4</td>\n",
       "      <td>2017-06-07 18:16:32</td>\n",
       "      <td>1ottm4i3gc5cd1auv2omnsq131</td>\n",
       "      <td>NaT</td>\n",
       "      <td>None</td>\n",
       "      <td>Sooo Soft 54 Rolls Toilet Paper &amp; 24 Roll Kitc...</td>\n",
       "      <td>None</td>\n",
       "      <td>66%</td>\n",
       "      <td>14.99</td>\n",
       "      <td>25:4:39:20</td>\n",
       "    </tr>\n",
       "  </tbody>\n",
       "</table>\n",
       "</div>"
      ],
      "text/plain": [
       "     id  num_sess            datetime                  session_id  \\\n",
       "12  602         4 2017-06-07 18:03:48  1ottm4i3gc5cd1auv2omnsq131   \n",
       "14  602         4 2017-06-07 18:05:53  1ottm4i3gc5cd1auv2omnsq131   \n",
       "16  602         4 2017-06-07 18:07:06  1ottm4i3gc5cd1auv2omnsq131   \n",
       "18  602         4 2017-06-07 18:14:37  1ottm4i3gc5cd1auv2omnsq131   \n",
       "20  602         4 2017-06-07 18:15:42  1ottm4i3gc5cd1auv2omnsq131   \n",
       "22  602         4 2017-06-07 18:16:17  1ottm4i3gc5cd1auv2omnsq131   \n",
       "24  602         4 2017-06-07 18:16:32  1ottm4i3gc5cd1auv2omnsq131   \n",
       "\n",
       "   product_viewed_browse product_viewed_cart  \\\n",
       "12                   NaT                None   \n",
       "14                   NaT                None   \n",
       "16                   NaT                None   \n",
       "18                   NaT                None   \n",
       "20                   NaT                None   \n",
       "22                   NaT                None   \n",
       "24                   NaT                None   \n",
       "\n",
       "                                         product_name basket_paid_browsing  \\\n",
       "12  Sooo Soft 54 Rolls Toilet Paper & 24 Roll Kitc...                 None   \n",
       "14  Sooo Soft 54 Rolls Toilet Paper & 24 Roll Kitc...                 None   \n",
       "16  Sooo Soft 54 Rolls Toilet Paper & 24 Roll Kitc...                 None   \n",
       "18  Sooo Soft 54 Rolls Toilet Paper & 24 Roll Kitc...                 None   \n",
       "20  Sooo Soft 54 Rolls Toilet Paper & 24 Roll Kitc...                 None   \n",
       "22  Sooo Soft 54 Rolls Toilet Paper & 24 Roll Kitc...                 None   \n",
       "24  Sooo Soft 54 Rolls Toilet Paper & 24 Roll Kitc...                 None   \n",
       "\n",
       "   product_save product_price product_time_left  \n",
       "12          66%         14.99        25:4:39:20  \n",
       "14          66%         14.99        25:4:39:20  \n",
       "16          66%         14.99        25:4:39:20  \n",
       "18          66%         14.99        25:4:39:20  \n",
       "20          66%         14.99        25:4:39:20  \n",
       "22          66%         14.99        25:4:39:20  \n",
       "24          66%         14.99        25:4:39:20  "
      ]
     },
     "execution_count": 59,
     "metadata": {},
     "output_type": "execute_result"
    }
   ],
   "source": [
    "tmp.loc[[12,13,14,15,16,17,18,19,20,21,22,23,24,25]].drop_duplicates()"
   ]
  },
  {
   "cell_type": "code",
   "execution_count": null,
   "metadata": {
    "collapsed": false
   },
   "outputs": [],
   "source": [
    "a=data[data['id']==117][data[data['id']==117]['num_sess']==4]\n",
    "print(a.drop(['ip_address','city','country'],axis=1).shape)\n",
    "a.drop(['ip_address','city','country'],axis=1).drop_duplicates()\n",
    "# tmp[tmp['id']==745][tmp[tmp['id']==745]['num_sess']==4]"
   ]
  },
  {
   "cell_type": "code",
   "execution_count": 65,
   "metadata": {
    "collapsed": false
   },
   "outputs": [
    {
     "data": {
      "text/plain": [
       "(62, 12)"
      ]
     },
     "execution_count": 65,
     "metadata": {},
     "output_type": "execute_result"
    }
   ],
   "source": [
    "tmp[tmp['id']==602].shape"
   ]
  },
  {
   "cell_type": "code",
   "execution_count": 94,
   "metadata": {
    "collapsed": false
   },
   "outputs": [],
   "source": [
    "tmp[tmp['id']==602]['num_sess']==2"
   ]
  },
  {
   "cell_type": "code",
   "execution_count": null,
   "metadata": {
    "collapsed": true
   },
   "outputs": [],
   "source": []
  },
  {
   "cell_type": "code",
   "execution_count": null,
   "metadata": {
    "collapsed": true
   },
   "outputs": [],
   "source": []
  },
  {
   "cell_type": "code",
   "execution_count": null,
   "metadata": {
    "collapsed": true
   },
   "outputs": [],
   "source": []
  },
  {
   "cell_type": "code",
   "execution_count": null,
   "metadata": {
    "collapsed": true
   },
   "outputs": [],
   "source": []
  },
  {
   "cell_type": "markdown",
   "metadata": {},
   "source": [
    "# Appendix"
   ]
  },
  {
   "cell_type": "markdown",
   "metadata": {},
   "source": [
    "**inner join id_sess_true and df_final**\n",
    "<br>**to get df_browse_true from**"
   ]
  },
  {
   "cell_type": "code",
   "execution_count": 149,
   "metadata": {
    "collapsed": false
   },
   "outputs": [
    {
     "name": "stdout",
     "output_type": "stream",
     "text": [
      "shape of df_browse_true original       : (409098, 30)\n",
      "shape of df_browse_true drop duplicates: (362369, 30)\n",
      "----------------------------------------------------------------------\n",
      "#True for df_browse_true original       : 21916\n",
      "#True for df_browse_true drop duplicates: 20458\n"
     ]
    }
   ],
   "source": [
    "# inner join id_sess_true and df:\n",
    "id_sess_true = data_final[data_final['basket_paid_browsing']==True][['id','num_sess']]\n",
    "df_browse_true=pd.merge(id_sess_true,data_final,'inner', on=['id','num_sess'])\n",
    "\n",
    "print('shape of df_browse_true original       :', df_browse_true.shape)\n",
    "print('shape of df_browse_true drop duplicates:', df_browse_true.drop_duplicates().shape)\n",
    "\n",
    "print('----------------------------------------------------------------------')\n",
    "\n",
    "# original data:\n",
    "print('#True for df_browse_true original       :', (df_browse_true[['basket_paid_browsing']]==True).sum()[0])\n",
    "\n",
    "# drop duplicates and redo:\n",
    "df_browse_true_drop=df_browse_true.drop_duplicates()[['basket_paid_browsing']]==True\n",
    "print('#True for df_browse_true drop duplicates:', df_browse_true_drop.sum()[0])"
   ]
  },
  {
   "cell_type": "code",
   "execution_count": 30,
   "metadata": {
    "collapsed": false
   },
   "outputs": [
    {
     "data": {
      "text/html": [
       "<div>\n",
       "<table border=\"1\" class=\"dataframe\">\n",
       "  <thead>\n",
       "    <tr style=\"text-align: right;\">\n",
       "      <th></th>\n",
       "      <th>id</th>\n",
       "      <th>num_sess</th>\n",
       "      <th>session_id</th>\n",
       "      <th>finger_print</th>\n",
       "      <th>datetime</th>\n",
       "      <th>days</th>\n",
       "      <th>referrer</th>\n",
       "      <th>page_url</th>\n",
       "      <th>product_viewed_browse</th>\n",
       "      <th>cart_started</th>\n",
       "      <th>basket_paid_browsing</th>\n",
       "      <th>product_name</th>\n",
       "      <th>product_save</th>\n",
       "      <th>product_price</th>\n",
       "      <th>product_time_left</th>\n",
       "      <th>email</th>\n",
       "      <th>Post_Code</th>\n",
       "      <th>cart_startTime</th>\n",
       "      <th>product_viewed_cart</th>\n",
       "      <th>total</th>\n",
       "      <th>basket_paid_cart</th>\n",
       "      <th>payment_type</th>\n",
       "      <th>email_click_through</th>\n",
       "      <th>cart_firstTime</th>\n",
       "      <th>cart_lastTime</th>\n",
       "      <th>basketInfoTime</th>\n",
       "      <th>ip_address</th>\n",
       "      <th>user_agent</th>\n",
       "      <th>city</th>\n",
       "      <th>country</th>\n",
       "    </tr>\n",
       "  </thead>\n",
       "  <tbody>\n",
       "    <tr>\n",
       "      <th>0</th>\n",
       "      <td>88</td>\n",
       "      <td>7</td>\n",
       "      <td>18yrzevjvtdg12jfmdilomamv</td>\n",
       "      <td>27837983657a0de6b3a32ac9a95c22a3</td>\n",
       "      <td>2017-06-10 09:08:47</td>\n",
       "      <td>10</td>\n",
       "      <td></td>\n",
       "      <td>https%3A%2F%2Fwww.wowcher.co.uk%2Fdeal%2Fshop%...</td>\n",
       "      <td>2017-06-10 09:08:47.019</td>\n",
       "      <td>NaT</td>\n",
       "      <td>None</td>\n",
       "      <td>Lace Up Invisible Push Up Bra - 4 Colours!</td>\n",
       "      <td>87%</td>\n",
       "      <td>7.99</td>\n",
       "      <td>01:13:51:12</td>\n",
       "      <td>None</td>\n",
       "      <td>joan1leech@yahoo.co.uk</td>\n",
       "      <td>1497085802688</td>\n",
       "      <td>None</td>\n",
       "      <td>7.99</td>\n",
       "      <td>True</td>\n",
       "      <td>None</td>\n",
       "      <td>False</td>\n",
       "      <td>2017-06-10 10:10:03</td>\n",
       "      <td>2017-06-10 10:12:54</td>\n",
       "      <td>1497086107</td>\n",
       "      <td>195.147.100.114</td>\n",
       "      <td>Mozilla/5.0+(Windows+NT+5.1;+rv:52.0)+Gecko/20...</td>\n",
       "      <td>None</td>\n",
       "      <td>GB</td>\n",
       "    </tr>\n",
       "    <tr>\n",
       "      <th>1</th>\n",
       "      <td>88</td>\n",
       "      <td>7</td>\n",
       "      <td>18yrzevjvtdg12jfmdilomamv</td>\n",
       "      <td>27837983657a0de6b3a32ac9a95c22a3</td>\n",
       "      <td>2017-06-10 09:10:03</td>\n",
       "      <td>10</td>\n",
       "      <td></td>\n",
       "      <td>https%3A%2F%2Fwww.wowcher.co.uk%2Fdeal%2Fshop%...</td>\n",
       "      <td>NaT</td>\n",
       "      <td>2017-06-10 09:10:02.688</td>\n",
       "      <td>None</td>\n",
       "      <td>Lace Up Invisible Push Up Bra - 4 Colours!</td>\n",
       "      <td>87%</td>\n",
       "      <td>7.99</td>\n",
       "      <td>01:13:51:12</td>\n",
       "      <td>None</td>\n",
       "      <td>joan1leech@yahoo.co.uk</td>\n",
       "      <td>1497085802688</td>\n",
       "      <td>None</td>\n",
       "      <td>7.99</td>\n",
       "      <td>True</td>\n",
       "      <td>None</td>\n",
       "      <td>False</td>\n",
       "      <td>2017-06-10 10:10:03</td>\n",
       "      <td>2017-06-10 10:12:54</td>\n",
       "      <td>1497086107</td>\n",
       "      <td>195.147.100.114</td>\n",
       "      <td>Mozilla/5.0+(Windows+NT+5.1;+rv:52.0)+Gecko/20...</td>\n",
       "      <td>None</td>\n",
       "      <td>GB</td>\n",
       "    </tr>\n",
       "    <tr>\n",
       "      <th>2</th>\n",
       "      <td>88</td>\n",
       "      <td>7</td>\n",
       "      <td>18yrzevjvtdg12jfmdilomamv</td>\n",
       "      <td>27837983657a0de6b3a32ac9a95c22a3</td>\n",
       "      <td>2017-06-10 09:12:12</td>\n",
       "      <td>10</td>\n",
       "      <td>https%3A%2F%2Fwww.wowcher.co.uk%2Fdeal%2Fshop%...</td>\n",
       "      <td>https%3A%2F%2Fsecure.wowcher.co.uk%2Fcheckout%...</td>\n",
       "      <td>NaT</td>\n",
       "      <td>2017-06-10 09:12:11.368</td>\n",
       "      <td>None</td>\n",
       "      <td>Lace Up Invisible Push Up Bra - 4 Colours!</td>\n",
       "      <td>87%</td>\n",
       "      <td>7.99</td>\n",
       "      <td>01:13:51:12</td>\n",
       "      <td>None</td>\n",
       "      <td>joan1leech@yahoo.co.uk</td>\n",
       "      <td>1497085802688</td>\n",
       "      <td>None</td>\n",
       "      <td>7.99</td>\n",
       "      <td>True</td>\n",
       "      <td>None</td>\n",
       "      <td>False</td>\n",
       "      <td>2017-06-10 10:10:03</td>\n",
       "      <td>2017-06-10 10:12:54</td>\n",
       "      <td>1497086107</td>\n",
       "      <td>195.147.100.114</td>\n",
       "      <td>Mozilla/5.0+(Windows+NT+5.1;+rv:52.0)+Gecko/20...</td>\n",
       "      <td>None</td>\n",
       "      <td>GB</td>\n",
       "    </tr>\n",
       "  </tbody>\n",
       "</table>\n",
       "</div>"
      ],
      "text/plain": [
       "   id  num_sess                 session_id                      finger_print  \\\n",
       "0  88         7  18yrzevjvtdg12jfmdilomamv  27837983657a0de6b3a32ac9a95c22a3   \n",
       "1  88         7  18yrzevjvtdg12jfmdilomamv  27837983657a0de6b3a32ac9a95c22a3   \n",
       "2  88         7  18yrzevjvtdg12jfmdilomamv  27837983657a0de6b3a32ac9a95c22a3   \n",
       "\n",
       "             datetime  days  \\\n",
       "0 2017-06-10 09:08:47    10   \n",
       "1 2017-06-10 09:10:03    10   \n",
       "2 2017-06-10 09:12:12    10   \n",
       "\n",
       "                                            referrer  \\\n",
       "0                                                      \n",
       "1                                                      \n",
       "2  https%3A%2F%2Fwww.wowcher.co.uk%2Fdeal%2Fshop%...   \n",
       "\n",
       "                                            page_url   product_viewed_browse  \\\n",
       "0  https%3A%2F%2Fwww.wowcher.co.uk%2Fdeal%2Fshop%... 2017-06-10 09:08:47.019   \n",
       "1  https%3A%2F%2Fwww.wowcher.co.uk%2Fdeal%2Fshop%...                     NaT   \n",
       "2  https%3A%2F%2Fsecure.wowcher.co.uk%2Fcheckout%...                     NaT   \n",
       "\n",
       "             cart_started basket_paid_browsing  \\\n",
       "0                     NaT                 None   \n",
       "1 2017-06-10 09:10:02.688                 None   \n",
       "2 2017-06-10 09:12:11.368                 None   \n",
       "\n",
       "                                 product_name product_save product_price  \\\n",
       "0  Lace Up Invisible Push Up Bra - 4 Colours!          87%          7.99   \n",
       "1  Lace Up Invisible Push Up Bra - 4 Colours!          87%          7.99   \n",
       "2  Lace Up Invisible Push Up Bra - 4 Colours!          87%          7.99   \n",
       "\n",
       "  product_time_left email               Post_Code cart_startTime  \\\n",
       "0       01:13:51:12  None  joan1leech@yahoo.co.uk  1497085802688   \n",
       "1       01:13:51:12  None  joan1leech@yahoo.co.uk  1497085802688   \n",
       "2       01:13:51:12  None  joan1leech@yahoo.co.uk  1497085802688   \n",
       "\n",
       "  product_viewed_cart total basket_paid_cart payment_type email_click_through  \\\n",
       "0                None  7.99             True         None               False   \n",
       "1                None  7.99             True         None               False   \n",
       "2                None  7.99             True         None               False   \n",
       "\n",
       "        cart_firstTime        cart_lastTime basketInfoTime       ip_address  \\\n",
       "0  2017-06-10 10:10:03  2017-06-10 10:12:54     1497086107  195.147.100.114   \n",
       "1  2017-06-10 10:10:03  2017-06-10 10:12:54     1497086107  195.147.100.114   \n",
       "2  2017-06-10 10:10:03  2017-06-10 10:12:54     1497086107  195.147.100.114   \n",
       "\n",
       "                                          user_agent  city country  \n",
       "0  Mozilla/5.0+(Windows+NT+5.1;+rv:52.0)+Gecko/20...  None      GB  \n",
       "1  Mozilla/5.0+(Windows+NT+5.1;+rv:52.0)+Gecko/20...  None      GB  \n",
       "2  Mozilla/5.0+(Windows+NT+5.1;+rv:52.0)+Gecko/20...  None      GB  "
      ]
     },
     "execution_count": 30,
     "metadata": {},
     "output_type": "execute_result"
    }
   ],
   "source": [
    "df_browse_true_drop=df_browse_true.drop_duplicates()\n",
    "print('')\n",
    "df_browse_true_drop[:3]"
   ]
  },
  {
   "cell_type": "code",
   "execution_count": 26,
   "metadata": {
    "collapsed": true
   },
   "outputs": [],
   "source": [
    "# task 1: is true only in final row of session?\n",
    "# task 2: is it possible to have multiple true for same session?"
   ]
  },
  {
   "cell_type": "markdown",
   "metadata": {},
   "source": [
    "task 1: is true only in final row of session?\n",
    "\n"
   ]
  },
  {
   "cell_type": "markdown",
   "metadata": {},
   "source": [
    "For basket_paid_browsing:"
   ]
  },
  {
   "cell_type": "code",
   "execution_count": 38,
   "metadata": {
    "collapsed": false
   },
   "outputs": [
    {
     "name": "stdout",
     "output_type": "stream",
     "text": [
      "(20037, 28)\n",
      "#True in df_browse_groupby (with ascending = [T,T,F]):\n",
      "20037\n"
     ]
    }
   ],
   "source": [
    "df_browse_sort = df_browse_drop.sort_values(['id','num_sess','basket_paid_browsing']\n",
    "                                        ,ascending=['True','True','False'])\n",
    "df_browse_groupby=df_browse_sort.groupby(['id','num_sess'],sort=False).nth(0)\n",
    "\n",
    "print(df_browse_groupby.shape)\n",
    "count_true=sum(df_browse_groupby.basket_paid_browsing.apply(lambda x: x==True))\n",
    "print('#True in df_browse_groupby (with ascending = [T,T,F]):')\n",
    "print(count_true)\n",
    "\n"
   ]
  },
  {
   "cell_type": "code",
   "execution_count": 39,
   "metadata": {
    "collapsed": false
   },
   "outputs": [
    {
     "data": {
      "text/plain": [
       "20037"
      ]
     },
     "execution_count": 39,
     "metadata": {},
     "output_type": "execute_result"
    }
   ],
   "source": [
    "sum(df_browse_groupby.basket_paid_browsing.apply(lambda x: x==True))"
   ]
  },
  {
   "cell_type": "code",
   "execution_count": null,
   "metadata": {
    "collapsed": true
   },
   "outputs": [],
   "source": []
  },
  {
   "cell_type": "code",
   "execution_count": 29,
   "metadata": {
    "collapsed": false
   },
   "outputs": [
    {
     "name": "stdout",
     "output_type": "stream",
     "text": [
      "#True in df_browse_groupby (with ascending = [T,T,T]):\n",
      "20037\n"
     ]
    }
   ],
   "source": [
    "Df_browse_sort=df_browse_drop.sort_values(['id','num_sess','basket_paid_browsing']\n",
    "                                                      ,ascending=['True','True','True'])\n",
    "Df_browse_groupby=Df_browse_sort.groupby(['id','num_sess'],sort=False).nth(0)\n",
    "\n",
    "\n",
    "count_true = sum(Df_browse_groupby.basket_paid_browsing.apply(lambda x: x==True))\n",
    "print('#True in df_browse_groupby (with ascending = [T,T,T]):')\n",
    "print(count_true)\n"
   ]
  },
  {
   "cell_type": "markdown",
   "metadata": {},
   "source": [
    "---\n",
    "**Test on id_sess_full, which has all columns of df_browse**"
   ]
  },
  {
   "cell_type": "code",
   "execution_count": 32,
   "metadata": {
    "collapsed": false
   },
   "outputs": [
    {
     "name": "stdout",
     "output_type": "stream",
     "text": [
      "shape of id_sess_full:  (20458, 30)\n",
      "shape of id_sess_full drop_duplicates：  (20458, 30)\n"
     ]
    }
   ],
   "source": [
    "df_browse_sort=df_browse_drop.sort_values(['id','num_sess','basket_paid_browsing']\n",
    "                                                      ,ascending=['True','True','False'])\n",
    "\n",
    "# id_sess_full is all rows having true label (also having all columns)\n",
    "id_sesee_full=df_browse_sort[df_browse_sort['basket_paid_browsing']==True]\n",
    "\n",
    "print('shape of id_sess_full: ',id_sesee_full.shape)\n",
    "print('shape of id_sess_full drop_duplicates： ',id_sesee_full.drop_duplicates().shape)"
   ]
  },
  {
   "cell_type": "code",
   "execution_count": 41,
   "metadata": {
    "collapsed": false
   },
   "outputs": [
    {
     "name": "stdout",
     "output_type": "stream",
     "text": [
      "df_browse_merge_full.shaped:\n",
      " (409098, 58)\n",
      "df_browse_merge_full.drop_duplicates().shape:\n",
      " (409098, 58)\n",
      "So there is no duplicated terms.\n"
     ]
    }
   ],
   "source": [
    "df_browse_merge_full = pd.merge(id_sesee_full,data_sort_basket_paid_browsing\n",
    "                                             ,how='inner', on=['id','num_sess'] ,suffixes=('','_y'))\n",
    "print('df_browse_merge_full.shaped:\\n',df_browse_merge_full.shape)\n",
    "print('df_browse_merge_full.drop_duplicates().shape:\\n',df_browse_merge_full.drop_duplicates().shape)\n",
    "print('So there is no duplicated terms.')"
   ]
  },
  {
   "cell_type": "code",
   "execution_count": 42,
   "metadata": {
    "collapsed": false
   },
   "outputs": [
    {
     "name": "stdout",
     "output_type": "stream",
     "text": [
      "#True of groupby: 20037\n"
     ]
    }
   ],
   "source": [
    "df_browse_groupby_full=df_browse_merge_full.groupby(['id','num_sess'],sort=False).nth(0)\n",
    "\n",
    "print('#True of groupby:',sum(df_browse_groupby_full.basket_paid_browsing.apply(lambda x: x==True)))"
   ]
  },
  {
   "cell_type": "code",
   "execution_count": 52,
   "metadata": {
    "collapsed": false
   },
   "outputs": [
    {
     "name": "stdout",
     "output_type": "stream",
     "text": [
      "!=20458\n",
      "so it seems groupby would also decrease true label,implying there would be multi-purchase during session.\n"
     ]
    }
   ],
   "source": [
    "print('!=20458\\nso it seems groupby would also decrease true label,implying there would be multi-purchase during session.')"
   ]
  },
  {
   "cell_type": "markdown",
   "metadata": {
    "collapsed": true
   },
   "source": [
    "---"
   ]
  },
  {
   "cell_type": "markdown",
   "metadata": {
    "collapsed": true
   },
   "source": [
    "**Try to find multi-purchase**"
   ]
  },
  {
   "cell_type": "code",
   "execution_count": 69,
   "metadata": {
    "collapsed": true
   },
   "outputs": [],
   "source": [
    "df_browse_sort = df_browse_drop.sort_values(['id','num_sess','basket_paid_browsing']\n",
    "                                        ,ascending=['True','True','False'])\n"
   ]
  },
  {
   "cell_type": "code",
   "execution_count": 117,
   "metadata": {
    "collapsed": false
   },
   "outputs": [
    {
     "name": "stdout",
     "output_type": "stream",
     "text": [
      "basket_paid_browsing    20458\n",
      "dtype: int64\n"
     ]
    },
    {
     "data": {
      "text/html": [
       "<div>\n",
       "<table border=\"1\" class=\"dataframe\">\n",
       "  <thead>\n",
       "    <tr style=\"text-align: right;\">\n",
       "      <th></th>\n",
       "      <th></th>\n",
       "      <th>basket_paid_browsing</th>\n",
       "    </tr>\n",
       "    <tr>\n",
       "      <th>id</th>\n",
       "      <th>num_sess</th>\n",
       "      <th></th>\n",
       "    </tr>\n",
       "  </thead>\n",
       "  <tbody>\n",
       "    <tr>\n",
       "      <th>88</th>\n",
       "      <th>7</th>\n",
       "      <td>1</td>\n",
       "    </tr>\n",
       "    <tr>\n",
       "      <th rowspan=\"3\" valign=\"top\">183</th>\n",
       "      <th>1</th>\n",
       "      <td>1</td>\n",
       "    </tr>\n",
       "    <tr>\n",
       "      <th>2</th>\n",
       "      <td>1</td>\n",
       "    </tr>\n",
       "    <tr>\n",
       "      <th>3</th>\n",
       "      <td>1</td>\n",
       "    </tr>\n",
       "  </tbody>\n",
       "</table>\n",
       "</div>"
      ],
      "text/plain": [
       "              basket_paid_browsing\n",
       "id  num_sess                      \n",
       "88  7                            1\n",
       "183 1                            1\n",
       "    2                            1\n",
       "    3                            1"
      ]
     },
     "execution_count": 117,
     "metadata": {},
     "output_type": "execute_result"
    }
   ],
   "source": [
    "tmp=df_browse_sort[['id','num_sess','basket_paid_browsing']].groupby(['id','num_sess'],sort=False).count()\n",
    "print(tmp.sum())\n",
    "tmp[:4]"
   ]
  },
  {
   "cell_type": "code",
   "execution_count": 128,
   "metadata": {
    "collapsed": false
   },
   "outputs": [
    {
     "data": {
      "text/html": [
       "<div>\n",
       "<table border=\"1\" class=\"dataframe\">\n",
       "  <thead>\n",
       "    <tr style=\"text-align: right;\">\n",
       "      <th></th>\n",
       "      <th></th>\n",
       "      <th>basket_paid_browsing</th>\n",
       "    </tr>\n",
       "    <tr>\n",
       "      <th>id</th>\n",
       "      <th>num_sess</th>\n",
       "      <th></th>\n",
       "    </tr>\n",
       "  </thead>\n",
       "  <tbody>\n",
       "    <tr>\n",
       "      <th rowspan=\"2\" valign=\"top\">602</th>\n",
       "      <th>2</th>\n",
       "      <td>2</td>\n",
       "    </tr>\n",
       "    <tr>\n",
       "      <th>4</th>\n",
       "      <td>2</td>\n",
       "    </tr>\n",
       "    <tr>\n",
       "      <th>646</th>\n",
       "      <th>2</th>\n",
       "      <td>2</td>\n",
       "    </tr>\n",
       "    <tr>\n",
       "      <th>745</th>\n",
       "      <th>4</th>\n",
       "      <td>4</td>\n",
       "    </tr>\n",
       "    <tr>\n",
       "      <th>923</th>\n",
       "      <th>1</th>\n",
       "      <td>2</td>\n",
       "    </tr>\n",
       "    <tr>\n",
       "      <th>1027</th>\n",
       "      <th>2</th>\n",
       "      <td>4</td>\n",
       "    </tr>\n",
       "    <tr>\n",
       "      <th>1055</th>\n",
       "      <th>2</th>\n",
       "      <td>2</td>\n",
       "    </tr>\n",
       "    <tr>\n",
       "      <th>1182</th>\n",
       "      <th>4</th>\n",
       "      <td>2</td>\n",
       "    </tr>\n",
       "    <tr>\n",
       "      <th>1440</th>\n",
       "      <th>1</th>\n",
       "      <td>4</td>\n",
       "    </tr>\n",
       "    <tr>\n",
       "      <th>2155</th>\n",
       "      <th>5</th>\n",
       "      <td>2</td>\n",
       "    </tr>\n",
       "    <tr>\n",
       "      <th>2164</th>\n",
       "      <th>3</th>\n",
       "      <td>2</td>\n",
       "    </tr>\n",
       "    <tr>\n",
       "      <th>2271</th>\n",
       "      <th>5</th>\n",
       "      <td>2</td>\n",
       "    </tr>\n",
       "    <tr>\n",
       "      <th>2871</th>\n",
       "      <th>1</th>\n",
       "      <td>2</td>\n",
       "    </tr>\n",
       "    <tr>\n",
       "      <th>2875</th>\n",
       "      <th>1</th>\n",
       "      <td>2</td>\n",
       "    </tr>\n",
       "    <tr>\n",
       "      <th>2963</th>\n",
       "      <th>1</th>\n",
       "      <td>2</td>\n",
       "    </tr>\n",
       "    <tr>\n",
       "      <th>4145</th>\n",
       "      <th>2</th>\n",
       "      <td>2</td>\n",
       "    </tr>\n",
       "    <tr>\n",
       "      <th>4248</th>\n",
       "      <th>2</th>\n",
       "      <td>2</td>\n",
       "    </tr>\n",
       "    <tr>\n",
       "      <th>4409</th>\n",
       "      <th>1</th>\n",
       "      <td>2</td>\n",
       "    </tr>\n",
       "    <tr>\n",
       "      <th>5066</th>\n",
       "      <th>7</th>\n",
       "      <td>3</td>\n",
       "    </tr>\n",
       "    <tr>\n",
       "      <th>5493</th>\n",
       "      <th>4</th>\n",
       "      <td>2</td>\n",
       "    </tr>\n",
       "    <tr>\n",
       "      <th rowspan=\"2\" valign=\"top\">5529</th>\n",
       "      <th>1</th>\n",
       "      <td>3</td>\n",
       "    </tr>\n",
       "    <tr>\n",
       "      <th>2</th>\n",
       "      <td>2</td>\n",
       "    </tr>\n",
       "    <tr>\n",
       "      <th>5581</th>\n",
       "      <th>1</th>\n",
       "      <td>2</td>\n",
       "    </tr>\n",
       "    <tr>\n",
       "      <th>5677</th>\n",
       "      <th>2</th>\n",
       "      <td>2</td>\n",
       "    </tr>\n",
       "    <tr>\n",
       "      <th>5867</th>\n",
       "      <th>3</th>\n",
       "      <td>2</td>\n",
       "    </tr>\n",
       "    <tr>\n",
       "      <th>6032</th>\n",
       "      <th>4</th>\n",
       "      <td>2</td>\n",
       "    </tr>\n",
       "    <tr>\n",
       "      <th rowspan=\"3\" valign=\"top\">6542</th>\n",
       "      <th>2</th>\n",
       "      <td>4</td>\n",
       "    </tr>\n",
       "    <tr>\n",
       "      <th>4</th>\n",
       "      <td>4</td>\n",
       "    </tr>\n",
       "    <tr>\n",
       "      <th>9</th>\n",
       "      <td>3</td>\n",
       "    </tr>\n",
       "    <tr>\n",
       "      <th>6573</th>\n",
       "      <th>1</th>\n",
       "      <td>2</td>\n",
       "    </tr>\n",
       "    <tr>\n",
       "      <th>...</th>\n",
       "      <th>...</th>\n",
       "      <td>...</td>\n",
       "    </tr>\n",
       "    <tr>\n",
       "      <th>47120</th>\n",
       "      <th>2</th>\n",
       "      <td>2</td>\n",
       "    </tr>\n",
       "    <tr>\n",
       "      <th rowspan=\"2\" valign=\"top\">47194</th>\n",
       "      <th>1</th>\n",
       "      <td>2</td>\n",
       "    </tr>\n",
       "    <tr>\n",
       "      <th>3</th>\n",
       "      <td>2</td>\n",
       "    </tr>\n",
       "    <tr>\n",
       "      <th>47221</th>\n",
       "      <th>2</th>\n",
       "      <td>2</td>\n",
       "    </tr>\n",
       "    <tr>\n",
       "      <th>47330</th>\n",
       "      <th>4</th>\n",
       "      <td>2</td>\n",
       "    </tr>\n",
       "    <tr>\n",
       "      <th>47368</th>\n",
       "      <th>4</th>\n",
       "      <td>2</td>\n",
       "    </tr>\n",
       "    <tr>\n",
       "      <th>47410</th>\n",
       "      <th>2</th>\n",
       "      <td>2</td>\n",
       "    </tr>\n",
       "    <tr>\n",
       "      <th>47420</th>\n",
       "      <th>3</th>\n",
       "      <td>2</td>\n",
       "    </tr>\n",
       "    <tr>\n",
       "      <th>47577</th>\n",
       "      <th>1</th>\n",
       "      <td>3</td>\n",
       "    </tr>\n",
       "    <tr>\n",
       "      <th>47675</th>\n",
       "      <th>2</th>\n",
       "      <td>2</td>\n",
       "    </tr>\n",
       "    <tr>\n",
       "      <th>47732</th>\n",
       "      <th>1</th>\n",
       "      <td>2</td>\n",
       "    </tr>\n",
       "    <tr>\n",
       "      <th>47734</th>\n",
       "      <th>1</th>\n",
       "      <td>2</td>\n",
       "    </tr>\n",
       "    <tr>\n",
       "      <th>48198</th>\n",
       "      <th>3</th>\n",
       "      <td>4</td>\n",
       "    </tr>\n",
       "    <tr>\n",
       "      <th>48514</th>\n",
       "      <th>1</th>\n",
       "      <td>2</td>\n",
       "    </tr>\n",
       "    <tr>\n",
       "      <th>48800</th>\n",
       "      <th>2</th>\n",
       "      <td>6</td>\n",
       "    </tr>\n",
       "    <tr>\n",
       "      <th>48981</th>\n",
       "      <th>1</th>\n",
       "      <td>2</td>\n",
       "    </tr>\n",
       "    <tr>\n",
       "      <th>49319</th>\n",
       "      <th>1</th>\n",
       "      <td>2</td>\n",
       "    </tr>\n",
       "    <tr>\n",
       "      <th rowspan=\"3\" valign=\"top\">49856</th>\n",
       "      <th>11</th>\n",
       "      <td>2</td>\n",
       "    </tr>\n",
       "    <tr>\n",
       "      <th>12</th>\n",
       "      <td>4</td>\n",
       "    </tr>\n",
       "    <tr>\n",
       "      <th>23</th>\n",
       "      <td>4</td>\n",
       "    </tr>\n",
       "    <tr>\n",
       "      <th>50113</th>\n",
       "      <th>3</th>\n",
       "      <td>2</td>\n",
       "    </tr>\n",
       "    <tr>\n",
       "      <th>50159</th>\n",
       "      <th>2</th>\n",
       "      <td>2</td>\n",
       "    </tr>\n",
       "    <tr>\n",
       "      <th>50777</th>\n",
       "      <th>1</th>\n",
       "      <td>2</td>\n",
       "    </tr>\n",
       "    <tr>\n",
       "      <th>51396</th>\n",
       "      <th>4</th>\n",
       "      <td>2</td>\n",
       "    </tr>\n",
       "    <tr>\n",
       "      <th>51474</th>\n",
       "      <th>5</th>\n",
       "      <td>3</td>\n",
       "    </tr>\n",
       "    <tr>\n",
       "      <th>51568</th>\n",
       "      <th>3</th>\n",
       "      <td>2</td>\n",
       "    </tr>\n",
       "    <tr>\n",
       "      <th>51606</th>\n",
       "      <th>1</th>\n",
       "      <td>2</td>\n",
       "    </tr>\n",
       "    <tr>\n",
       "      <th>51824</th>\n",
       "      <th>3</th>\n",
       "      <td>2</td>\n",
       "    </tr>\n",
       "    <tr>\n",
       "      <th>51902</th>\n",
       "      <th>1</th>\n",
       "      <td>2</td>\n",
       "    </tr>\n",
       "    <tr>\n",
       "      <th>51979</th>\n",
       "      <th>1</th>\n",
       "      <td>2</td>\n",
       "    </tr>\n",
       "  </tbody>\n",
       "</table>\n",
       "<p>286 rows × 1 columns</p>\n",
       "</div>"
      ],
      "text/plain": [
       "                basket_paid_browsing\n",
       "id    num_sess                      \n",
       "602   2                            2\n",
       "      4                            2\n",
       "646   2                            2\n",
       "745   4                            4\n",
       "923   1                            2\n",
       "1027  2                            4\n",
       "1055  2                            2\n",
       "1182  4                            2\n",
       "1440  1                            4\n",
       "2155  5                            2\n",
       "2164  3                            2\n",
       "2271  5                            2\n",
       "2871  1                            2\n",
       "2875  1                            2\n",
       "2963  1                            2\n",
       "4145  2                            2\n",
       "4248  2                            2\n",
       "4409  1                            2\n",
       "5066  7                            3\n",
       "5493  4                            2\n",
       "5529  1                            3\n",
       "      2                            2\n",
       "5581  1                            2\n",
       "5677  2                            2\n",
       "5867  3                            2\n",
       "6032  4                            2\n",
       "6542  2                            4\n",
       "      4                            4\n",
       "      9                            3\n",
       "6573  1                            2\n",
       "...                              ...\n",
       "47120 2                            2\n",
       "47194 1                            2\n",
       "      3                            2\n",
       "47221 2                            2\n",
       "47330 4                            2\n",
       "47368 4                            2\n",
       "47410 2                            2\n",
       "47420 3                            2\n",
       "47577 1                            3\n",
       "47675 2                            2\n",
       "47732 1                            2\n",
       "47734 1                            2\n",
       "48198 3                            4\n",
       "48514 1                            2\n",
       "48800 2                            6\n",
       "48981 1                            2\n",
       "49319 1                            2\n",
       "49856 11                           2\n",
       "      12                           4\n",
       "      23                           4\n",
       "50113 3                            2\n",
       "50159 2                            2\n",
       "50777 1                            2\n",
       "51396 4                            2\n",
       "51474 5                            3\n",
       "51568 3                            2\n",
       "51606 1                            2\n",
       "51824 3                            2\n",
       "51902 1                            2\n",
       "51979 1                            2\n",
       "\n",
       "[286 rows x 1 columns]"
      ]
     },
     "execution_count": 128,
     "metadata": {},
     "output_type": "execute_result"
    }
   ],
   "source": [
    "# tmp!=1\n",
    "multi_buy=tmp[tmp['basket_paid_browsing']!=1]\n",
    "multi_buy"
   ]
  },
  {
   "cell_type": "code",
   "execution_count": null,
   "metadata": {
    "collapsed": true
   },
   "outputs": [],
   "source": [
    "df_browse_sort = df_browse_drop.sort_values(['id','num_sess','basket_paid_browsing']\n",
    "                                        ,ascending=['True','True','False'])\n",
    "df_browse_groupby=df_browse_sort.groupby(['id','num_sess'],sort=False).count('basket_paid_browsing')\n",
    "\n",
    "print('#True in df_browse_groupby (with ascending = [T,T,F]):')\n",
    "print(sum(df_browse_groupby.basket_paid_browsing.apply(lambda x: x==True)))"
   ]
  },
  {
   "cell_type": "code",
   "execution_count": null,
   "metadata": {
    "collapsed": true
   },
   "outputs": [],
   "source": []
  },
  {
   "cell_type": "code",
   "execution_count": null,
   "metadata": {
    "collapsed": true
   },
   "outputs": [],
   "source": []
  },
  {
   "cell_type": "code",
   "execution_count": null,
   "metadata": {
    "collapsed": true
   },
   "outputs": [],
   "source": [
    "cols_to_transform = [ 'a', 'list', 'of', 'categorical', 'column', 'names' ]\n",
    "df_with_dummies = pd.get_dummies( columns = cols_to_transform )\n",
    "#http://fastml.com/converting-categorical-data-into-numbers-with-pandas-and-scikit-learn/"
   ]
  },
  {
   "cell_type": "code",
   "execution_count": null,
   "metadata": {
    "collapsed": true
   },
   "outputs": [],
   "source": [
    "#You can convert them into integer codes by using the categorical datatype.\n",
    "column = column.astype('category')\n",
    "column_encoded = column.cat.codes\n",
    "# https://stackoverflow.com/questions/34915813/convert-text-columns-into-numbers-in-sklearn"
   ]
  }
 ],
 "metadata": {
  "kernelspec": {
   "display_name": "Python 3",
   "language": "python",
   "name": "python3"
  },
  "language_info": {
   "codemirror_mode": {
    "name": "ipython",
    "version": 3
   },
   "file_extension": ".py",
   "mimetype": "text/x-python",
   "name": "python",
   "nbconvert_exporter": "python",
   "pygments_lexer": "ipython3",
   "version": "3.5.2"
  }
 },
 "nbformat": 4,
 "nbformat_minor": 2
}
