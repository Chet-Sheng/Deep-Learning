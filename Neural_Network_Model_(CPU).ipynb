{
 "cells": [
  {
   "cell_type": "markdown",
   "metadata": {},
   "source": [
    "# Neuron Network Model (CPU)"
   ]
  },
  {
   "cell_type": "code",
   "execution_count": 12,
   "metadata": {
    "collapsed": false
   },
   "outputs": [],
   "source": [
    "import tensorflow as tf\n",
    "import numpy as np\n",
    "import pickle\n",
    "import os\n",
    "import matplotlib as plt\n",
    "from sklearn.metrics import classification_report, confusion_matrix\n",
    "import itertools\n",
    "import matplotlib.pyplot as plt\n",
    "import time\n",
    "import datetime\n",
    "import scipy\n",
    "from scipy.sparse import coo_matrix\n",
    "# sess = tf.InteractiveSession()"
   ]
  },
  {
   "cell_type": "markdown",
   "metadata": {},
   "source": [
    "**Confusion Matrix Plot**"
   ]
  },
  {
   "cell_type": "code",
   "execution_count": 2,
   "metadata": {
    "collapsed": true
   },
   "outputs": [],
   "source": [
    "def plot_confusion_matrix(cm, classes, normalize=False):\n",
    "    \"\"\"\n",
    "    This function prints and plots the confusion matrix.\n",
    "    Normalization can be applied by setting `normalize=True`.\n",
    "    \"\"\"\n",
    "    cmap = plt.cm.Blues\n",
    "    title = \"Confusion Matrix\"\n",
    "    if normalize:\n",
    "        cm = cm.astype('float') / cm.sum(axis=1)[:, np.newaxis]\n",
    "        cm = np.around(cm, decimals=3)\n",
    "\n",
    "    plt.imshow(cm, interpolation='nearest', cmap=cmap)\n",
    "    plt.title(title)\n",
    "    plt.colorbar()\n",
    "    tick_marks = np.arange(len(classes))\n",
    "    plt.xticks(tick_marks, classes, rotation=45)\n",
    "    plt.yticks(tick_marks, classes)\n",
    "\n",
    "    thresh = cm.max() / 2.\n",
    "    for i, j in itertools.product(range(cm.shape[0]), range(cm.shape[1])):\n",
    "        plt.text(j, i, cm[i, j],\n",
    "                 horizontalalignment=\"center\",\n",
    "                 color=\"white\" if cm[i, j] > thresh else \"black\")\n",
    "\n",
    "    plt.tight_layout()\n",
    "    plt.ylabel('True label')\n",
    "    plt.xlabel('Predicted label')"
   ]
  },
  {
   "cell_type": "markdown",
   "metadata": {},
   "source": [
    "---\n",
    "## 0 .Data Preparation\n",
    "---"
   ]
  },
  {
   "cell_type": "code",
   "execution_count": 3,
   "metadata": {
    "collapsed": false
   },
   "outputs": [
    {
     "name": "stdout",
     "output_type": "stream",
     "text": [
      "CPU times: user 479 ms, sys: 2.57 s, total: 3.05 s\n",
      "Wall time: 18 s\n"
     ]
    }
   ],
   "source": [
    "%%time\n",
    "with open(\"../../Data/Propensity_Modeling/Neuron_Net/data.p\", \"rb\" ) as f:\n",
    "    data_features = pickle.load(f)    \n",
    "with open( \"../../Data/Feature_Engineering/df_label.p\", \"rb\" ) as f:\n",
    "    data_label = pickle.load(f)"
   ]
  },
  {
   "cell_type": "code",
   "execution_count": 4,
   "metadata": {
    "collapsed": false
   },
   "outputs": [
    {
     "name": "stdout",
     "output_type": "stream",
     "text": [
      "shape of data_features (220047, 2351)\n",
      "shape of data_label (220047,)\n",
      "---------------------------------------\n",
      "X_train done.\n",
      "Y_train done.\n",
      "X_validation done.\n",
      "Y_validation done.\n",
      "X_test done.\n",
      "Y_test done.\n",
      "---------------------------------------\n",
      "shape of X_train (154033, 2351)\n",
      "shape of Y_train (154033, 1)\n",
      "shape of X_validataion (22005, 2351)\n",
      "shape of Y_validation (22005, 1)\n",
      "shape of X_test (44009, 2351)\n",
      "shape of Y_test (44009, 1)\n",
      "CPU times: user 2 ms, sys: 1e+03 µs, total: 3 ms\n",
      "Wall time: 2.79 ms\n"
     ]
    }
   ],
   "source": [
    "%%time\n",
    "print('shape of data_features', data_features.shape)\n",
    "print('shape of data_label', data_label.shape)\n",
    "print('---------------------------------------')\n",
    "X = data_features\n",
    "Y = data_label\n",
    "Y = np.asarray(Y)\n",
    "\n",
    "bar_70 = np.floor(X.shape[0]*0.7).astype(int)\n",
    "bar_70=bar_70+1\n",
    "bar_80 = np.floor(X.shape[0]*0.8).astype(int)\n",
    "bar_80=bar_80+1\n",
    "\n",
    "X_train=X[:bar_70]\n",
    "# X_train.reshape([X_train.shape[0],X_train.shape[1]])\n",
    "# X_train = tf.reshape(X_train,[X_train.shape[0],X_train.shape[1]])\n",
    "# X_train=tf.cast(X_train, tf.float32)\n",
    "# X_train=X_train.eval()\n",
    "print('X_train done.')\n",
    "\n",
    "Y_train=Y[:bar_70]\n",
    "Y_train=Y_train.reshape([Y_train.shape[0],1])\n",
    "# Y_train = tf.reshape(Y_train,[Y_train.shape[0],1])\n",
    "# Y_train=tf.cast(Y_train, tf.float32)\n",
    "# Y_train=Y_train.eval()\n",
    "print('Y_train done.')\n",
    "\n",
    "X_validation=X[bar_70:bar_80]\n",
    "# X_validataion.reshape([X_validataion.shape[0],X_validataion.shape[1]])\n",
    "# X_validataion = tf.reshape(X_validataion,[X_validataion.shape[0],X_validataion.shape[1]])\n",
    "# X_validataion=tf.cast(X_validataion, tf.float32)\n",
    "# X_validataion=X_validataion.eval()\n",
    "print('X_validation done.')\n",
    "\n",
    "Y_validation=Y[bar_70:bar_80]\n",
    "Y_validation=Y_validation.reshape([Y_validation.shape[0],1])\n",
    "# Y_validation = tf.reshape(Y_validation,[Y_validation.shape[0],1])\n",
    "# Y_validation=tf.cast(Y_validation, tf.float32)\n",
    "# Y_validation=Y_validation.eval()\n",
    "print('Y_validation done.')\n",
    "\n",
    "X_test=X[bar_80:]\n",
    "# X_test.reshape([X_test.shape[0],X_test.shape[1]])\n",
    "# X_test = tf.reshape(X_test,[X_test.shape[0],X_test.shape[1]])\n",
    "# X_test=tf.cast(X_test, tf.float32)\n",
    "# X_test=X_test.eval()\n",
    "print('X_test done.')\n",
    "\n",
    "Y_test=Y[bar_80:]\n",
    "Y_test=Y_test.reshape([Y_test.shape[0],1])\n",
    "# Y_test = tf.reshape(Y_test,[Y_test.shape[0],1])\n",
    "# Y_test=tf.cast(Y_test, tf.float32)\n",
    "# Y_test=Y_test.eval()\n",
    "print('Y_test done.')\n",
    "\n",
    "print('---------------------------------------')\n",
    "print('shape of X_train',X_train.shape)\n",
    "print('shape of Y_train',Y_train.shape)\n",
    "print('shape of X_validataion',X_validation.shape)\n",
    "print('shape of Y_validation',Y_validation.shape)\n",
    "print('shape of X_test',X_test.shape)\n",
    "print('shape of Y_test',Y_test.shape)"
   ]
  },
  {
   "cell_type": "code",
   "execution_count": 5,
   "metadata": {
    "collapsed": false
   },
   "outputs": [
    {
     "name": "stdout",
     "output_type": "stream",
     "text": [
      "Finished: data loaded. Stats below: \n",
      "Number of training samples: 154033\n",
      "Number of validation  samples: 22005\n",
      "Dimension of X_train: 2351\n",
      "Dimension of Y_validation: 1\n"
     ]
    }
   ],
   "source": [
    "(nrTrainSamples, dimX) = X_train.shape\n",
    "(nrValidationSamples, dimY)  = Y_validation.shape\n",
    "\n",
    "print (\"Finished: data loaded. Stats below: \")\n",
    "print (\"Number of training samples: %d\" %nrTrainSamples)\n",
    "print (\"Number of validation  samples: %d\" %nrValidationSamples)\n",
    "print (\"Dimension of X_train: %d\" %dimX)\n",
    "print (\"Dimension of Y_validation: %d\" %dimY)"
   ]
  },
  {
   "cell_type": "code",
   "execution_count": 6,
   "metadata": {
    "collapsed": true
   },
   "outputs": [],
   "source": [
    "# %%time\n",
    "# with open( \"../../Data/Propensity_Modeling/Neuron_Net/X_train.p\", \"wb\" ) as f:\n",
    "#     pickle.dump(X_train, f)\n",
    "# with open( \"../../Data/Propensity_Modeling/Neuron_Net/Y_train.p\", \"wb\" ) as f:\n",
    "#     pickle.dump(Y_train, f)\n",
    "# with open( \"../../Data/Propensity_Modeling/Neuron_Net/X_validataion.p\", \"wb\" ) as f:\n",
    "#     pickle.dump(X_validataion, f)\n",
    "# with open( \"../../Data/Propensity_Modeling/Neuron_Net/Y_validation.p\", \"wb\" ) as f:\n",
    "#     pickle.dump(Y_validation, f)\n",
    "# with open( \"../../Data/Propensity_Modeling/Neuron_Net/X_test.p\", \"wb\" ) as f:\n",
    "#     pickle.dump(X_test, f)\n",
    "# with open( \"../../Data/Propensity_Modeling/Neuron_Net/Y_test.p\", \"wb\" ) as f:\n",
    "#     pickle.dump(Y_test, f)"
   ]
  },
  {
   "cell_type": "markdown",
   "metadata": {},
   "source": [
    "---\n",
    "## 1. Parameter Setting\n",
    "---"
   ]
  },
  {
   "cell_type": "code",
   "execution_count": 7,
   "metadata": {
    "collapsed": false
   },
   "outputs": [],
   "source": [
    "sess = tf.InteractiveSession()\n",
    "BATCH_SIZE    = 100\n",
    "MAX_ITERS     = 50\n",
    "LEARNING_RATE = 0.1\n",
    "require_improvement = 50  # Stop optimization if no improvement found in this many iterations.\n",
    "n_hidden=256           # 256 units in this hidden lapyer"
   ]
  },
  {
   "cell_type": "markdown",
   "metadata": {},
   "source": [
    "## 2. Model Design"
   ]
  },
  {
   "cell_type": "markdown",
   "metadata": {},
   "source": [
    "### 2.1 Layers"
   ]
  },
  {
   "cell_type": "code",
   "execution_count": 8,
   "metadata": {
    "collapsed": true
   },
   "outputs": [],
   "source": [
    "# ---------------------------------------------------------------\n",
    "# Linear layer:\n",
    "def LinearLayer(x,dim1,dim2):\n",
    "    # the W & b here are random normal (before training)\n",
    "    W=tf.Variable(tf.random_normal([dim1,dim2],stddev=0.01))\n",
    "    b=tf.Variable(tf.random_normal([1, dim2],stddev=0.01))\n",
    "    return tf.matmul(x,W)+b\n",
    "\n",
    "# ---------------------------------------------------------------    \n",
    "# ReLU hidden layer: (one linear layer inside)\n",
    "# ReLU function itself wouldn't change dimension of data.\n",
    "# y = max(0, x)\n",
    "def ReLULayer(x,dim1,dim2,dropout_prob=0.5):\n",
    "    \n",
    "    W_h = tf.Variable(tf.truncated_normal([dim1,dim2], stddev=0.1))\n",
    "    b_h = tf.constant(0.1, shape=[dim2])\n",
    "    z_h = tf.matmul(x,W_h) + b_h\n",
    "    y_h = tf.nn.relu(z_h) \n",
    "    \n",
    "    # Dropout layer\n",
    "    output = tf.nn.dropout(y_h, dropout_prob)\n",
    "    return output"
   ]
  },
  {
   "cell_type": "markdown",
   "metadata": {},
   "source": [
    "### 2.2 Models\n",
    "- **2 hidden ReLU + Sigmoid**"
   ]
  },
  {
   "cell_type": "code",
   "execution_count": 9,
   "metadata": {
    "collapsed": true
   },
   "outputs": [],
   "source": [
    "# Construct Model has 2 hidden ReLU layers.\n",
    "def Model(x,dim1,dim2):\n",
    "    # apply dropout to input layer\n",
    "    prob_keep_input=0.8\n",
    "    x=tf.nn.dropout(x,prob_keep_input)\n",
    "    \n",
    "    dimH1, dimH2=n_hidden, n_hidden\n",
    "    \n",
    "#     # hidden layer 1:\n",
    "#     h1=ReLULayer(x,dim1,dimH1,dropout_prob=0.5)\n",
    "#     # hidden layer 2:\n",
    "#     h2=ReLULayer(h1,dimH1,dimH2,dropout_prob=0.5)\n",
    "    \n",
    "    # output layer (Sigmoid layer):\n",
    "    # Sigmoid layer doesm't change dimension of data.\n",
    "    logits=LinearLayer(x,dim1,dim2)\n",
    "#     logits=LinearLayer(h2,dimH2,dim2)\n",
    "    y_pred_prob=tf.nn.sigmoid(logits)\n",
    "    # y_ is the predicted label\n",
    "    \n",
    "    return [logits, y_pred_prob]\n",
    "\n",
    "# ---------------------------------------------------------------\n",
    "# Generic training function:\n",
    "# ---------------------------------------------------------------\n",
    "# x                   tf.palceholder or INPUT\n",
    "# y                   tf.palceholder or OUTPUT\n",
    "# train_op            training operation (tf.Optimizer)\n",
    "# accuracy     \n",
    "# trainX, trainY      training data and labels\n",
    "# testX, testY        testing data and labels"
   ]
  },
  {
   "cell_type": "markdown",
   "metadata": {},
   "source": [
    "### 2.3 Model Training"
   ]
  },
  {
   "cell_type": "code",
   "execution_count": 10,
   "metadata": {
    "collapsed": false
   },
   "outputs": [],
   "source": [
    "def trainModel(accuracy, train_op, x, y, X_train, Y_train, X_validation, Y_validation, X_test, Y_test):\n",
    "    # Ensure we update the global variables rather than local copies.\n",
    "#     global best_validation_accuracy\n",
    "#     global last_improvement\n",
    "\n",
    "    best_validation_accuracy=0\n",
    "    last_improvement=0\n",
    "    \n",
    "    print (\"===============================\")\n",
    "    print (\"Training started........\")\n",
    "\n",
    "    # Start-time used for printing time-usage below.\n",
    "    start_time = time.time()\n",
    "    \n",
    "    for indexIter in range(MAX_ITERS):\n",
    "        for startIndex, endIndex in zip( range(0,len(X_train),BATCH_SIZE), range(BATCH_SIZE,len(X_train),BATCH_SIZE)):\n",
    "            # gradient descending, finding parameters.\n",
    "            sess.run(train_op, feed_dict = {x: X_train[startIndex:endIndex], y: Y_train[startIndex:endIndex]})\n",
    "            \n",
    "        # Visualize accuracy only every 10 iterations\n",
    "        if (indexIter%10==0) or (indexIter == (MAX_ITERS - 1)):\n",
    "            acc_train = sess.run(accuracy, feed_dict={x:X_train, y:Y_train})\n",
    "            acc_validation  = sess.run(accuracy, feed_dict={x:X_validation,  y:Y_validation})\n",
    "            acc_test = sess.run(accuracy, feed_dict={x:X_test,  y:Y_test})\n",
    "            \n",
    "            if acc_validation > best_validation_accuracy :\n",
    "                # Update the best-known validation accuracy.\n",
    "                best_validation_accuracy = acc_validation\n",
    "                \n",
    "                # Set the iteration for the last improvement to current.\n",
    "                last_improvement = indexIter\n",
    "\n",
    "                # A string to be printed below, shows improvement found.\n",
    "                improved_str = '*'\n",
    "                print('Iteration %d: Accuracy %.5f(training) %.5f(validation) %.5f(test)'%(indexIter+1, acc_train, acc_validation, acc_test)+improved_str)\n",
    "                \n",
    "                # Save all variables of the TensorFlow graph to file.\n",
    "                saver = tf.train.Saver()\n",
    "                save_dir='../../Data/Propensity_Modeling/Neuron_Net/model01'\n",
    "                if not os.path.exists(save_dir):\n",
    "                    os.makedirs(save_dir)\n",
    "                saver.save(sess, save_dir)\n",
    "                print(\"Model saved in file: %s\" % save_dir)\n",
    "                \n",
    "            else:\n",
    "                # An empty string to be printed below.\n",
    "                # Shows that no improvement was found.\n",
    "                improved_str = ''\n",
    "                print('Iteration %d: Accuracy %.5f(training) %.5f(validation) %.5f(test)'%(indexIter+1, acc_train, acc_validation, acc_test)+improved_str)                \n",
    "\n",
    "        if (indexIter - last_improvement) > require_improvement:\n",
    "            print(\"No improvement found in a while, early stop the training.\")\n",
    "            print (\"===============================\")\n",
    "            break\n",
    "                  \n",
    "    print (\"Training finished.\")\n",
    "    # Ending time.\n",
    "    end_time = time.time()\n",
    "\n",
    "    # Difference between start and end-times.\n",
    "    time_dif = end_time - start_time\n",
    "\n",
    "    # Print the time-usage.\n",
    "    print(\"Time usage: \" + str(datetime.timedelta(seconds=int(round(time_dif)))))\n",
    "    print (\"===============================\")\n",
    "    "
   ]
  },
  {
   "cell_type": "markdown",
   "metadata": {},
   "source": [
    "### 2.4 Main function"
   ]
  },
  {
   "cell_type": "code",
   "execution_count": 11,
   "metadata": {
    "collapsed": true
   },
   "outputs": [],
   "source": [
    "# ---------------------------------------------------------------\n",
    "def main():\n",
    "    \n",
    "    #============================\n",
    "    # 1. Build model (graph)\n",
    "    #============================\n",
    "    \n",
    "    x = tf.placeholder(tf.float32, shape=[None, dimX]) \n",
    "    # None is the number of data set, 784 is the dimensions of features\n",
    "    y = tf.placeholder(tf.float32, shape=[None, dimY])\n",
    "    \n",
    "    # model returns a score vector over all classes\n",
    "    [logits,y_pred_prob] = Model(x, dimX, dimY)\n",
    "    \n",
    "    # Get predicted classes\n",
    "    y_pred = tf.round(y_pred_prob)\n",
    "    \n",
    "    # Loss function (Cross-entropy for classification)\n",
    "    cross_entropy=tf.reduce_mean(tf.nn.sigmoid_cross_entropy_with_logits(labels=y, logits = logits))\n",
    "    # Error: Only call `sigmoid_cross_entropy_with_logits` with named arguments (labels=..., logits=..., ...)\n",
    "    \n",
    "    # Accuracy(if different measure from loss)\n",
    "    correct_prediction = tf.equal(y_pred, y)\n",
    "    accuracy = tf.reduce_mean(tf.cast(correct_prediction, tf.float32))\n",
    "    \n",
    "    #============================\n",
    "    # 2. Train model\n",
    "    #============================\n",
    "    # initialize variables\n",
    "    tf.global_variables_initializer().run()\n",
    "    \n",
    "    # Best validation accuracy seen so far.\n",
    "    best_validation_accuracy= 0\n",
    "    # Iteration-number for last improvement to validation accuracy.\n",
    "    last_improvement = 0\n",
    "\n",
    "    # Add ops to save and restore all the variables.\n",
    "    saver = tf.train.Saver()\n",
    "\n",
    "    # Train model:\n",
    "    train_op = tf.train.GradientDescentOptimizer(LEARNING_RATE).minimize(cross_entropy)\n",
    "    trainModel(accuracy, train_op, x, y, X_train, Y_train, X_validation, Y_validation, X_test, Y_test)\n",
    "\n",
    "    acc_test = sess.run(accuracy, feed_dict={x:X_test, y:Y_test})\n",
    "    y_pred=sess.run(y_pred, feed_dict={x:X_test})\n",
    "    y_pred_prob=sess.run(y_pred_prob, feed_dict={x:X_test})\n",
    "\n",
    "    print('Final model (may note be the optimal) on test data got accuracy:', acc_test)\n",
    "    \n",
    "    return [y_pred_prob, y_pred]"
   ]
  },
  {
   "cell_type": "markdown",
   "metadata": {},
   "source": [
    "---\n",
    "## 3. Trained Result:\n",
    "---\n",
    "### 3.1 Training Result & Accuracy"
   ]
  },
  {
   "cell_type": "code",
   "execution_count": 12,
   "metadata": {
    "collapsed": false
   },
   "outputs": [
    {
     "name": "stdout",
     "output_type": "stream",
     "text": [
      "===============================\n",
      "Training started........\n",
      "Iteration 1: Accuracy 0.84240(training) 0.85267(validation) 0.83722(test)*\n",
      "Model saved in file: ../../Data/Propensity_Modeling/Neuron_Net/model01\n",
      "Iteration 11: Accuracy 0.84210(training) 0.85249(validation) 0.83756(test)\n",
      "Iteration 21: Accuracy 0.84196(training) 0.85231(validation) 0.83744(test)\n",
      "Iteration 31: Accuracy 0.84230(training) 0.85253(validation) 0.83749(test)\n",
      "Iteration 41: Accuracy 0.15895(training) 0.14833(validation) 0.16340(test)\n",
      "Iteration 50: Accuracy 0.84211(training) 0.85290(validation) 0.83737(test)*\n",
      "Model saved in file: ../../Data/Propensity_Modeling/Neuron_Net/model01\n",
      "Training finished.\n",
      "Time usage: 0:07:56\n",
      "===============================\n",
      "Final model (may note be the optimal) on test data got accuracy: 0.837397\n"
     ]
    }
   ],
   "source": [
    "#(REPRODUCIBILITY) set random seeds\n",
    "tf.set_random_seed(722)\n",
    "\n",
    "[y_pred_prob, y_pred]=main()\n",
    "\n",
    "# y_true = np.argmax(mnist.test.labels,1)\n",
    "    \n",
    "# Save the the whole session\n",
    "# saver = tf.train.Saver()\n",
    "# name_of_checkpoint = \"model_C\"\n",
    "# print(\"\\n Saving model to: \" + name_of_checkpoint)\n",
    "# saver.save(sess,name_of_checkpoint)"
   ]
  },
  {
   "cell_type": "code",
   "execution_count": 14,
   "metadata": {
    "collapsed": false
   },
   "outputs": [
    {
     "name": "stdout",
     "output_type": "stream",
     "text": [
      "(44009, 1)\n"
     ]
    },
    {
     "data": {
      "text/plain": [
       "array([[ 0.],\n",
       "       [ 0.],\n",
       "       [ 0.],\n",
       "       ..., \n",
       "       [ 0.],\n",
       "       [ 0.],\n",
       "       [ 0.]], dtype=float32)"
      ]
     },
     "execution_count": 14,
     "metadata": {},
     "output_type": "execute_result"
    }
   ],
   "source": [
    "print(y_pred.shape)\n",
    "y_pred"
   ]
  },
  {
   "cell_type": "code",
   "execution_count": 15,
   "metadata": {
    "collapsed": false
   },
   "outputs": [
    {
     "data": {
      "text/plain": [
       "array([[ 0.],\n",
       "       [ 0.],\n",
       "       [ 0.],\n",
       "       ..., \n",
       "       [ 0.],\n",
       "       [ 0.],\n",
       "       [ 0.]], dtype=float32)"
      ]
     },
     "execution_count": 15,
     "metadata": {},
     "output_type": "execute_result"
    }
   ],
   "source": [
    "y_pred_prob"
   ]
  },
  {
   "cell_type": "code",
   "execution_count": 13,
   "metadata": {
    "collapsed": false
   },
   "outputs": [
    {
     "data": {
      "text/plain": [
       "array([ 0.84684451])"
      ]
     },
     "execution_count": 13,
     "metadata": {},
     "output_type": "execute_result"
    }
   ],
   "source": [
    "sum(Y_train==0)/len(Y_train)"
   ]
  },
  {
   "cell_type": "markdown",
   "metadata": {},
   "source": [
    "### 3.2 Confusion Matrix"
   ]
  },
  {
   "cell_type": "code",
   "execution_count": null,
   "metadata": {
    "collapsed": false
   },
   "outputs": [],
   "source": [
    "# Compute confusion matrix\n",
    "y_Test = tf.argmax(testY, 1)\n",
    "y_test=y_Test.eval()\n",
    "cfm = confusion_matrix(y_test, y_pred,labels=range(0,10))\n",
    "np.set_printoptions(precision=2)\n",
    "\n",
    "print('\\nPlot of Confusion Matrix without nomalize is:')\n",
    "plt.figure(figsize=(14,10))\n",
    "plot_confusion_matrix(cfm, classes=range(0,10), normalize=False)\n",
    "plt.show()\n",
    "print('\\nPlot of Confusion Matrix with nomalize is:')\n",
    "plt.figure(figsize=(14,10))\n",
    "plot_confusion_matrix(cfm, classes=range(0,10), normalize=True)\n",
    "plt.show()"
   ]
  },
  {
   "cell_type": "markdown",
   "metadata": {},
   "source": [
    "### End\n",
    "---"
   ]
  },
  {
   "cell_type": "code",
   "execution_count": null,
   "metadata": {
    "collapsed": true
   },
   "outputs": [],
   "source": []
  },
  {
   "cell_type": "code",
   "execution_count": null,
   "metadata": {
    "collapsed": true
   },
   "outputs": [],
   "source": []
  }
 ],
 "metadata": {
  "kernelspec": {
   "display_name": "Python 3",
   "language": "python",
   "name": "python3"
  },
  "language_info": {
   "codemirror_mode": {
    "name": "ipython",
    "version": 3
   },
   "file_extension": ".py",
   "mimetype": "text/x-python",
   "name": "python",
   "nbconvert_exporter": "python",
   "pygments_lexer": "ipython3",
   "version": "3.5.2"
  }
 },
 "nbformat": 4,
 "nbformat_minor": 2
}
