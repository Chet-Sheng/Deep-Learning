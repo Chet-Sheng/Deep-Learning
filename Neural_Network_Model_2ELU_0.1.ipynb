{
 "cells": [
  {
   "cell_type": "markdown",
   "metadata": {},
   "source": [
    "# Neuron Network Model (GPU)*"
   ]
  },
  {
   "cell_type": "code",
   "execution_count": 1,
   "metadata": {
    "collapsed": false
   },
   "outputs": [],
   "source": [
    "import tensorflow as tf\n",
    "import numpy as np\n",
    "import pickle\n",
    "import os\n",
    "import matplotlib as plt\n",
    "from sklearn.metrics import classification_report, confusion_matrix\n",
    "import itertools\n",
    "import matplotlib.pyplot as plt\n",
    "import time\n",
    "import datetime\n",
    "import Model_1Linear_2ELU_1Softmax as model\n",
    "from sklearn.metrics import roc_curve, auc\n",
    "\n",
    "# import plot_confusion_matrix as a"
   ]
  },
  {
   "cell_type": "markdown",
   "metadata": {},
   "source": [
    "---\n",
    "## 0 .Data Preparation*\n",
    "---"
   ]
  },
  {
   "cell_type": "code",
   "execution_count": 2,
   "metadata": {
    "collapsed": false
   },
   "outputs": [
    {
     "name": "stdout",
     "output_type": "stream",
     "text": [
      "CPU times: user 751 ms, sys: 4.64 s, total: 5.39 s\n",
      "Wall time: 1min 42s\n"
     ]
    }
   ],
   "source": [
    "%%time\n",
    "with open(\"../../Data/Feature_Engineering/df_features_normalize.p\", \"rb\" ) as f:\n",
    "    data_features = pickle.load(f)    \n",
    "with open( \"../../Data/Feature_Engineering/df_label.p\", \"rb\" ) as f:\n",
    "    data_label = pickle.load(f)"
   ]
  },
  {
   "cell_type": "markdown",
   "metadata": {},
   "source": [
    "**Remember to change Y according to softmax and sigmoid***\n",
    "\n",
    "here always use softmax "
   ]
  },
  {
   "cell_type": "code",
   "execution_count": 3,
   "metadata": {
    "collapsed": false
   },
   "outputs": [
    {
     "name": "stdout",
     "output_type": "stream",
     "text": [
      "shape of data_features (220047, 2357)\n",
      "shape of data_label (220047,)\n",
      "---------------------------------------\n",
      "X_train done.\n",
      "Y_train done.\n",
      "X_validation done.\n",
      "Y_validation done.\n",
      "X_test done.\n",
      "Y_test done.\n",
      "---------------------------------------\n",
      "shape of X_train (154033, 2357)\n",
      "shape of Y_train (154033, 2)\n",
      "shape of X_validataion (22005, 2357)\n",
      "shape of Y_validation (22005, 2)\n",
      "shape of X_test (44009, 2357)\n",
      "shape of Y_test (44009, 2)\n",
      "CPU times: user 4 ms, sys: 3 ms, total: 7 ms\n",
      "Wall time: 6 ms\n"
     ]
    }
   ],
   "source": [
    "%%time\n",
    "print('shape of data_features', data_features.shape)\n",
    "print('shape of data_label', data_label.shape)\n",
    "print('---------------------------------------')\n",
    "X = data_features\n",
    "Y0 = data_label\n",
    "Y0 = np.asarray(Y0)\n",
    "# sigmoid layer:------------------------------\n",
    "# Y=np.asarray(Y0)\n",
    "# Y=Y.reshape(Y.shape[0],1)\n",
    "# softmax Layer:------------------------------\n",
    "Y1=1-Y0\n",
    "Y2=Y0\n",
    "Y1=Y1.reshape(Y1.shape[0],1)\n",
    "Y2=Y2.reshape(Y2.shape[0],1)\n",
    "Y=np.concatenate((Y1,Y2),axis=1)\n",
    "\n",
    "bar_70 = np.floor(X.shape[0]*0.7).astype(int)\n",
    "bar_70=bar_70+1\n",
    "bar_80 = np.floor(X.shape[0]*0.8).astype(int)\n",
    "bar_80=bar_80+1\n",
    "\n",
    "X_train=X[:bar_70]\n",
    "print('X_train done.')\n",
    "\n",
    "Y_train=Y[:bar_70]\n",
    "Y_train=Y_train.reshape([Y_train.shape[0],Y_train.shape[1]])\n",
    "print('Y_train done.')\n",
    "\n",
    "X_validation=X[bar_70:bar_80]\n",
    "print('X_validation done.')\n",
    "\n",
    "Y_validation=Y[bar_70:bar_80]\n",
    "Y_validation=Y_validation.reshape([Y_validation.shape[0],Y_validation.shape[1]])\n",
    "print('Y_validation done.')\n",
    "\n",
    "X_test=X[bar_80:]\n",
    "print('X_test done.')\n",
    "\n",
    "Y_test=Y[bar_80:]\n",
    "Y_test=Y_test.reshape([Y_test.shape[0],Y_test.shape[1]])\n",
    "print('Y_test done.')\n",
    "\n",
    "print('---------------------------------------')\n",
    "print('shape of X_train',X_train.shape)\n",
    "print('shape of Y_train',Y_train.shape)\n",
    "print('shape of X_validataion',X_validation.shape)\n",
    "print('shape of Y_validation',Y_validation.shape)\n",
    "print('shape of X_test',X_test.shape)\n",
    "print('shape of Y_test',Y_test.shape)"
   ]
  },
  {
   "cell_type": "code",
   "execution_count": 4,
   "metadata": {
    "collapsed": false
   },
   "outputs": [
    {
     "name": "stdout",
     "output_type": "stream",
     "text": [
      "Finished: data loaded. Stats below: \n",
      "Number of training samples: 154033\n",
      "Number of validation  samples: 22005\n",
      "Dimension of X_train: 2357\n",
      "Dimension of Y_validation: 2\n"
     ]
    }
   ],
   "source": [
    "(nrTrainSamples, dimX) = X_train.shape\n",
    "(nrValidationSamples, dimY)  = Y_validation.shape\n",
    "\n",
    "print (\"Finished: data loaded. Stats below: \")\n",
    "print (\"Number of training samples: %d\" %nrTrainSamples)\n",
    "print (\"Number of validation  samples: %d\" %nrValidationSamples)\n",
    "print (\"Dimension of X_train: %d\" %dimX)\n",
    "print (\"Dimension of Y_validation: %d\" %dimY)"
   ]
  },
  {
   "cell_type": "markdown",
   "metadata": {},
   "source": [
    "---\n",
    "## 1. Parameter Setting\n",
    "---"
   ]
  },
  {
   "cell_type": "code",
   "execution_count": 5,
   "metadata": {
    "collapsed": false
   },
   "outputs": [],
   "source": [
    "sess = tf.InteractiveSession()\n",
    "BATCH_SIZE    = 100\n",
    "MAX_ITERS     = 30\n",
    "LEARNING_RATE = 0.1\n",
    "require_improvement = 60  # Stop optimization if no improvement found in this many iterations.\n",
    "n_hidden=256           # 256 units in this hidden lapyer"
   ]
  },
  {
   "cell_type": "markdown",
   "metadata": {},
   "source": [
    "## Train Model*\n",
    "**Possible changes on**\n",
    "- best_validation_accuracy\n",
    "- PATH"
   ]
  },
  {
   "cell_type": "code",
   "execution_count": 6,
   "metadata": {
    "collapsed": true
   },
   "outputs": [],
   "source": [
    "# --------------------------------------------------------------------------------------------------------------------------------------------------------------------------\n",
    "def trainModel(accuracy, train_op, x, y, X_train, Y_train, X_validation, Y_validation, X_test, Y_test):\n",
    "#     Ensure we update the global variables rather than local copies.\n",
    "#     global best_validation_accuracy\n",
    "#     global last_improvement\n",
    "\n",
    "    best_validation_accuracy=0\n",
    "     \n",
    "    print (\"===============================\")\n",
    "    print (\"Training started........\")\n",
    "\n",
    "    # Start-time used for printing time-usage below.\n",
    "    start_time = time.time()\n",
    "    \n",
    "    for indexIter in range(MAX_ITERS):\n",
    "        for startIndex, endIndex in zip( range(0,len(X_train),BATCH_SIZE), range(BATCH_SIZE,len(X_train),BATCH_SIZE)):\n",
    "            # gradient descending, finding parameters.\n",
    "            sess.run(train_op, feed_dict = {x: X_train[startIndex:endIndex], y: Y_train[startIndex:endIndex]})\n",
    "            \n",
    "        # Visualize accuracy only every 10 iterations\n",
    "        if (indexIter%10==0) or (indexIter == (MAX_ITERS - 1)):\n",
    "            acc_train = sess.run(accuracy, feed_dict={x:X_train, y:Y_train})\n",
    "            acc_validation  = sess.run(accuracy, feed_dict={x:X_validation,  y:Y_validation})\n",
    "            acc_test = sess.run(accuracy, feed_dict={x:X_test,  y:Y_test})\n",
    "            \n",
    "            if acc_validation > best_validation_accuracy :\n",
    "                # Update the best-known validation accuracy.\n",
    "                best_validation_accuracy = acc_validation\n",
    "                \n",
    "                # Set the iteration for the last improvement to current.\n",
    "                last_improvement = indexIter\n",
    "\n",
    "                # A string to be printed below, shows improvement found.\n",
    "                improved_str = '*'\n",
    "                print('Iteration %d: Accuracy %.5f(training) %.5f(validation) %.5f(test)'%(indexIter+1, acc_train, acc_validation, acc_test)+improved_str)\n",
    "                \n",
    "                # Save all variables of the TensorFlow graph to file.\n",
    "                saver = tf.train.Saver()\n",
    "                save_dir='../../Data/Propensity_Modeling/Neuron_Net/model_2ELU'\n",
    "                if not os.path.exists(save_dir):\n",
    "                    os.makedirs(save_dir)\n",
    "                saver.save(sess, save_dir)\n",
    "                print(\"Model saved in file: %s\" % save_dir)\n",
    "                \n",
    "            else:\n",
    "                # An empty string to be printed below.\n",
    "                # Shows that no improvement was found.\n",
    "                improved_str = ''\n",
    "                print('Iteration %d: Accuracy %.5f(training) %.5f(validation) %.5f(test)'%(indexIter+1, acc_train, acc_validation, acc_test)+improved_str)                \n",
    "\n",
    "        if (indexIter - last_improvement) > require_improvement:\n",
    "            print(\"No improvement found in a while, early stop the training.\")\n",
    "            print (\"===============================\")\n",
    "            break\n",
    "                  \n",
    "    print (\"Training finished.\")\n",
    "    # Ending time.\n",
    "    end_time = time.time()\n",
    "\n",
    "    # Difference between start and end-times.\n",
    "    time_diff = end_time - start_time\n",
    "\n",
    "    # Print the time-usage.\n",
    "    print(\"Time usage: \" + str(datetime.timedelta(seconds=int(round(time_diff)))))\n",
    "    print (\"===============================\")\n",
    "    "
   ]
  },
  {
   "cell_type": "markdown",
   "metadata": {},
   "source": [
    "## 2. Main function*\n",
    "**Possible changes on:**\n",
    "- cross_entropy"
   ]
  },
  {
   "cell_type": "code",
   "execution_count": 7,
   "metadata": {
    "collapsed": true
   },
   "outputs": [],
   "source": [
    "# -------------------------------------------------------------------------------------------------------------------\n",
    "def main():\n",
    "    \n",
    "    #============================\n",
    "    # 1. Build model (graph)\n",
    "    #============================\n",
    "    import tensorflow as tf\n",
    "    \n",
    "    x = tf.placeholder(tf.float32, shape=[None, dimX])\n",
    "    # None is the number of data set, 784 is the dimensions of features\n",
    "    y = tf.placeholder(tf.float32, shape=[None, dimY])\n",
    "    \n",
    "# -------------------------------------------------------------------------------------------------------------------    \n",
    "    # model returns a score vector over all classes\n",
    "    [logits,y_pred_prob] = model.Model(x, dimX, dimY, n_hidden)\n",
    "# -------------------------------------------------------------------------------------------------------------------\n",
    "    # Get predicted classes\n",
    "    y_pred = tf.round(y_pred_prob)\n",
    "    \n",
    "    # Loss function (Cross-entropy for classification)\n",
    "    cross_entropy=tf.reduce_mean(tf.nn.softmax_cross_entropy_with_logits(labels=y, logits = logits))\n",
    "    # Error: Only call `sigmoid_cross_entropy_with_logits` with named arguments (labels=..., logits=..., ...)\n",
    "    \n",
    "    # Accuracy(if different measure from loss)\n",
    "    correct_prediction = tf.equal(y_pred, y)\n",
    "    accuracy = tf.reduce_mean(tf.cast(correct_prediction, tf.float32))\n",
    "    \n",
    "    #============================\n",
    "    # 2. Train model\n",
    "    #============================\n",
    "    # initialize variables\n",
    "    tf.global_variables_initializer().run()\n",
    "    \n",
    "    # Best validation accuracy seen so far.\n",
    "    best_validation_accuracy= 0\n",
    "    # Iteration-number for last improvement to validation accuracy.\n",
    "    last_improvement = 0\n",
    "\n",
    "    # Add ops to save and restore all the variables.\n",
    "    saver = tf.train.Saver()\n",
    "\n",
    "    # Train model:\n",
    "    train_op = tf.train.GradientDescentOptimizer(LEARNING_RATE).minimize(cross_entropy)\n",
    "    trainModel(accuracy, train_op, x, y, X_train, Y_train, X_validation, Y_validation, X_test, Y_test)\n",
    "\n",
    "    acc_test = sess.run(accuracy, feed_dict={x:X_test, y:Y_test})\n",
    "    y_pred_prob=sess.run(y_pred_prob, feed_dict={x:X_test})\n",
    "    y_pred=sess.run(y_pred, feed_dict={x:X_test})\n",
    "    print('Final model (may note be the optimal) on test data got accuracy:', acc_test)\n",
    "    \n",
    "    return [y_pred_prob, y_pred]"
   ]
  },
  {
   "cell_type": "code",
   "execution_count": null,
   "metadata": {
    "collapsed": true
   },
   "outputs": [],
   "source": []
  },
  {
   "cell_type": "code",
   "execution_count": null,
   "metadata": {
    "collapsed": true
   },
   "outputs": [],
   "source": []
  },
  {
   "cell_type": "code",
   "execution_count": null,
   "metadata": {
    "collapsed": true
   },
   "outputs": [],
   "source": []
  },
  {
   "cell_type": "code",
   "execution_count": null,
   "metadata": {
    "collapsed": true
   },
   "outputs": [],
   "source": []
  },
  {
   "cell_type": "markdown",
   "metadata": {},
   "source": [
    "---\n",
    "## 3. Trained Result:\n",
    "---"
   ]
  },
  {
   "cell_type": "markdown",
   "metadata": {},
   "source": [
    "### 3.0 Model 0: 1 Linear + 2 ELU + 1 Softmax"
   ]
  },
  {
   "cell_type": "code",
   "execution_count": 8,
   "metadata": {
    "collapsed": false
   },
   "outputs": [
    {
     "name": "stdout",
     "output_type": "stream",
     "text": [
      "Model: 1 Linear + 2 ReLu + 1 Softmax\n",
      "===============================\n",
      "Training started........\n",
      "Iteration 1: Accuracy 0.87819(training) 0.88284(validation) 0.87398(test)*\n",
      "Model saved in file: ../../Data/Propensity_Modeling/Neuron_Net/model_2ELU\n",
      "Iteration 11: Accuracy 0.88232(training) 0.88775(validation) 0.87739(test)*\n",
      "Model saved in file: ../../Data/Propensity_Modeling/Neuron_Net/model_2ELU\n",
      "Iteration 21: Accuracy 0.88426(training) 0.88966(validation) 0.88071(test)*\n",
      "Model saved in file: ../../Data/Propensity_Modeling/Neuron_Net/model_2ELU\n",
      "Iteration 30: Accuracy 0.88614(training) 0.89030(validation) 0.88125(test)*\n",
      "Model saved in file: ../../Data/Propensity_Modeling/Neuron_Net/model_2ELU\n",
      "Training finished.\n",
      "Time usage: 0:12:48\n",
      "===============================\n",
      "Final model (may note be the optimal) on test data got accuracy: 0.883069\n"
     ]
    }
   ],
   "source": [
    "#(REPRODUCIBILITY) set random seeds\n",
    "tf.set_random_seed(722)\n",
    "\n",
    "print('Model: 1 Linear + 2 ReLu + 1 Softmax')\n",
    "[y_pred_prob, y_pred]=main()"
   ]
  },
  {
   "cell_type": "code",
   "execution_count": 9,
   "metadata": {
    "collapsed": false
   },
   "outputs": [
    {
     "name": "stdout",
     "output_type": "stream",
     "text": [
      "(44009, 2)\n",
      "(44009, 2)\n",
      "(44009, 2)\n"
     ]
    }
   ],
   "source": [
    "print(y_pred_prob.shape)\n",
    "print(y_pred.shape)\n",
    "print(Y_test.shape)"
   ]
  },
  {
   "cell_type": "markdown",
   "metadata": {},
   "source": [
    "**Confusion matrix**"
   ]
  },
  {
   "cell_type": "code",
   "execution_count": 10,
   "metadata": {
    "collapsed": false
   },
   "outputs": [
    {
     "name": "stdout",
     "output_type": "stream",
     "text": [
      "Confusion Matrix is:\n",
      " [[36010  1055]\n",
      " [ 4118  2826]]\n",
      "\n",
      "Plot of Confusion Matrix is:\n"
     ]
    },
    {
     "data": {
      "image/png": "[encoded data removed]",
      "text/plain": [
       "<matplotlib.figure.Figure at 0x7f3800715198>"
      ]
     },
     "metadata": {},
     "output_type": "display_data"
    }
   ],
   "source": [
    "def plot_confusion_matrix(cm, classes, normalize=False):\n",
    "    \"\"\"\n",
    "    This function prints and plots the confusion matrix.\n",
    "    Normalization can be applied by setting `normalize=True`.\n",
    "    \"\"\"\n",
    "    cmap = plt.cm.Blues\n",
    "    title = \"Confusion Matrix\"\n",
    "    if normalize:\n",
    "        cm = cm.astype('float') / cm.sum(axis=1)[:, np.newaxis]\n",
    "        cm = np.around(cm, decimals=3)\n",
    "\n",
    "    plt.imshow(cm, interpolation='nearest', cmap=cmap)\n",
    "    plt.title(title)\n",
    "    plt.colorbar()\n",
    "    tick_marks = np.arange(len(classes))\n",
    "    plt.xticks(tick_marks, classes, rotation=45)\n",
    "    plt.yticks(tick_marks, classes)\n",
    "\n",
    "    thresh = cm.max() / 2.\n",
    "    for i, j in itertools.product(range(cm.shape[0]), range(cm.shape[1])):\n",
    "        plt.text(j, i, cm[i, j],\n",
    "                 horizontalalignment=\"center\",\n",
    "                 color=\"white\" if cm[i, j] > thresh else \"black\")\n",
    "\n",
    "    plt.tight_layout()\n",
    "    plt.ylabel('True label')\n",
    "    plt.xlabel('Predicted label')\n",
    "\n",
    "# cfm = confusion_matrix(y_true, y_pred, labels\n",
    "cfm = confusion_matrix(Y_test[:,1], y_pred[:,1], labels=[0, 1])\n",
    "print('Confusion Matrix is:\\n',confusion_matrix(Y_test[:,1], y_pred[:,1]))\n",
    "print('\\nPlot of Confusion Matrix is:')\n",
    "plt.figure(figsize=(10,6))\n",
    "plot_confusion_matrix(cfm, classes=[\"Non-Purchased\", \"Purchase\"], normalize=True)\n",
    "plt.show()"
   ]
  },
  {
   "cell_type": "markdown",
   "metadata": {},
   "source": [
    "**ROC**"
   ]
  },
  {
   "cell_type": "code",
   "execution_count": 11,
   "metadata": {
    "collapsed": false
   },
   "outputs": [
    {
     "data": {
      "image/png": "[encoded data removed]",
      "text/plain": [
       "<matplotlib.figure.Figure at 0x7f37fd3ba0b8>"
      ]
     },
     "metadata": {},
     "output_type": "display_data"
    }
   ],
   "source": [
    "n_classes=1\n",
    "Y_prob=y_pred_prob\n",
    "\n",
    "fpr = dict()\n",
    "tpr = dict()\n",
    "roc_auc = dict()\n",
    "for i in range(n_classes):\n",
    "    fpr[i], tpr[i], _ = roc_curve(Y_test[:,1], Y_prob[:,1])\n",
    "    roc_auc[i] = auc(fpr[i], tpr[i])\n",
    "\n",
    "# Compute micro-average ROC curve and ROC area\n",
    "fpr[\"micro\"], tpr[\"micro\"], _ = roc_curve(Y_test[:,1].ravel(), Y_prob[:,1].ravel())\n",
    "roc_auc[\"micro\"] = auc(fpr[\"micro\"], tpr[\"micro\"])\n",
    "\n",
    "# Compute ROC curve and ROC area for each class\n",
    "plt.figure()\n",
    "lw = 2\n",
    "plt.plot(fpr[0], tpr[0], color='darkorange',\n",
    "         lw=lw, label='ROC curve (area = %0.2f)' % roc_auc[0])\n",
    "plt.plot([0, 1], [0, 1], color='navy', lw=lw, linestyle='--')\n",
    "plt.xlim([0.0, 1.0])\n",
    "plt.ylim([0.0, 1.05])\n",
    "plt.xlabel('False Positive Rate')\n",
    "plt.ylabel('True Positive Rate')\n",
    "plt.title('Receiver operating characteristic example')\n",
    "plt.legend(loc=\"lower right\")\n",
    "plt.show()"
   ]
  },
  {
   "cell_type": "code",
   "execution_count": null,
   "metadata": {
    "collapsed": true
   },
   "outputs": [],
   "source": []
  },
  {
   "cell_type": "markdown",
   "metadata": {},
   "source": [
    "### 3.1 Model: 1 Linear + 1 Sigmoid"
   ]
  },
  {
   "cell_type": "code",
   "execution_count": 8,
   "metadata": {
    "collapsed": false
   },
   "outputs": [
    {
     "name": "stdout",
     "output_type": "stream",
     "text": [
      "Model: 1 linear layer + 1 sigmoid layer\n",
      "===============================\n",
      "Training started........\n",
      "Iteration 1: Accuracy 0.88190(training) 0.88730(validation) 0.87730(test)*\n",
      "Model saved in file: ../../Data/Propensity_Modeling/Neuron_Net/model01\n",
      "Training finished.\n",
      "Time usage: 0:02:07\n",
      "===============================\n",
      "Final model (may note be the optimal) on test data got accuracy: 0.878479\n"
     ]
    }
   ],
   "source": [
    "#(REPRODUCIBILITY) set random seeds\n",
    "tf.set_random_seed(722)\n",
    "\n",
    "print('Model: 1 linear layer + 1 sigmoid layer')\n",
    "[y_pred_prob, y_pred]=main()"
   ]
  },
  {
   "cell_type": "code",
   "execution_count": 9,
   "metadata": {
    "collapsed": false
   },
   "outputs": [
    {
     "data": {
      "text/plain": [
       "array([[ 0.01236884],\n",
       "       [ 0.00577357],\n",
       "       [ 0.01659127],\n",
       "       ..., \n",
       "       [ 0.09779712],\n",
       "       [ 0.11972279],\n",
       "       [ 0.09042992]], dtype=float32)"
      ]
     },
     "execution_count": 9,
     "metadata": {},
     "output_type": "execute_result"
    }
   ],
   "source": [
    "y_pred_prob"
   ]
  },
  {
   "cell_type": "code",
   "execution_count": 10,
   "metadata": {
    "collapsed": false
   },
   "outputs": [
    {
     "data": {
      "text/plain": [
       "array([[ 0.],\n",
       "       [ 0.],\n",
       "       [ 0.],\n",
       "       ..., \n",
       "       [ 0.],\n",
       "       [ 0.],\n",
       "       [ 0.]], dtype=float32)"
      ]
     },
     "execution_count": 10,
     "metadata": {},
     "output_type": "execute_result"
    }
   ],
   "source": [
    "y_pred"
   ]
  },
  {
   "cell_type": "code",
   "execution_count": null,
   "metadata": {
    "collapsed": false
   },
   "outputs": [],
   "source": [
    "sum(Y_train==0)/len(Y_train)"
   ]
  },
  {
   "cell_type": "code",
   "execution_count": null,
   "metadata": {
    "collapsed": true
   },
   "outputs": [],
   "source": []
  },
  {
   "cell_type": "markdown",
   "metadata": {},
   "source": [
    "### 3.1.1 Model: 1 Linear + 1 Sigmoid (GPU)"
   ]
  },
  {
   "cell_type": "code",
   "execution_count": 25,
   "metadata": {
    "collapsed": false
   },
   "outputs": [
    {
     "name": "stdout",
     "output_type": "stream",
     "text": [
      "Model: 1 linear layer + 1 sigmoid layer\n",
      "===============================\n",
      "Training started........\n",
      "Iteration 1: Accuracy 0.88138(training) 0.88743(validation) 0.87830(test)*\n",
      "Model saved in file: ../../Data/Propensity_Modeling/Neuron_Net/model01\n",
      "Iteration 11: Accuracy 0.88288(training) 0.88884(validation) 0.87968(test)*\n",
      "Model saved in file: ../../Data/Propensity_Modeling/Neuron_Net/model01\n",
      "Iteration 21: Accuracy 0.88327(training) 0.88975(validation) 0.87921(test)*\n",
      "Model saved in file: ../../Data/Propensity_Modeling/Neuron_Net/model01\n",
      "Iteration 31: Accuracy 0.88359(training) 0.89107(validation) 0.87959(test)*\n",
      "Model saved in file: ../../Data/Propensity_Modeling/Neuron_Net/model01\n",
      "Iteration 41: Accuracy 0.88311(training) 0.88839(validation) 0.87952(test)\n",
      "Iteration 51: Accuracy 0.88298(training) 0.88921(validation) 0.87959(test)\n",
      "No improvement found in a while, early stop the training.\n",
      "===============================\n",
      "Training finished.\n",
      "Time usage: 0:07:38\n",
      "===============================\n",
      "Final model (may note be the optimal) on test data got accuracy: 0.879752\n"
     ]
    }
   ],
   "source": [
    "#(REPRODUCIBILITY) set random seeds\n",
    "tf.set_random_seed(722)\n",
    "\n",
    "print('Model: 1 linear layer + 1 sigmoid layer')\n",
    "[y_pred_prob, y_pred]=main()"
   ]
  },
  {
   "cell_type": "code",
   "execution_count": 27,
   "metadata": {
    "collapsed": false
   },
   "outputs": [
    {
     "data": {
      "text/plain": [
       "array([[ 0.03598347],\n",
       "       [ 0.01091612],\n",
       "       [ 0.00492952],\n",
       "       ..., \n",
       "       [ 0.05789928],\n",
       "       [ 0.16166596],\n",
       "       [ 0.07142878]], dtype=float32)"
      ]
     },
     "execution_count": 27,
     "metadata": {},
     "output_type": "execute_result"
    }
   ],
   "source": [
    "y_pred_prob"
   ]
  },
  {
   "cell_type": "code",
   "execution_count": 28,
   "metadata": {
    "collapsed": false
   },
   "outputs": [
    {
     "data": {
      "text/plain": [
       "array([ 0.91999072,  0.85221207,  0.80182505, ...,  0.83714122,\n",
       "        0.85873485,  0.82573932], dtype=float32)"
      ]
     },
     "execution_count": 28,
     "metadata": {},
     "output_type": "execute_result"
    }
   ],
   "source": [
    "y_pred_prob[(y_pred_prob>0.8)]"
   ]
  },
  {
   "cell_type": "code",
   "execution_count": 33,
   "metadata": {
    "collapsed": false
   },
   "outputs": [
    {
     "data": {
      "text/plain": [
       "344"
      ]
     },
     "execution_count": 33,
     "metadata": {},
     "output_type": "execute_result"
    }
   ],
   "source": [
    "sum(y_pred[(y_pred_prob>0.8)]==0)"
   ]
  },
  {
   "cell_type": "code",
   "execution_count": 30,
   "metadata": {
    "collapsed": false
   },
   "outputs": [
    {
     "name": "stdout",
     "output_type": "stream",
     "text": [
      "(44009, 1)\n",
      "(44009, 1)\n"
     ]
    }
   ],
   "source": [
    "print(y_pred.shape)\n",
    "print(y_pred_prob.shape)"
   ]
  },
  {
   "cell_type": "markdown",
   "metadata": {},
   "source": [
    "### 3.2 Model: 1 linear + 1 softmax"
   ]
  },
  {
   "cell_type": "code",
   "execution_count": 12,
   "metadata": {
    "collapsed": false
   },
   "outputs": [
    {
     "name": "stdout",
     "output_type": "stream",
     "text": [
      "Model: 1 linear layer + 1 softmax layer\n",
      "===============================\n",
      "Training started........\n",
      "Iteration 1: Accuracy 0.88255(training) 0.88748(validation) 0.87864(test)*\n",
      "Model saved in file: ../../Data/Propensity_Modeling/Neuron_Net/model01\n",
      "Iteration 11: Accuracy 0.88337(training) 0.88980(validation) 0.87850(test)*\n",
      "Model saved in file: ../../Data/Propensity_Modeling/Neuron_Net/model01\n",
      "Iteration 21: Accuracy 0.88250(training) 0.88975(validation) 0.87952(test)\n",
      "Iteration 30: Accuracy 0.88344(training) 0.88857(validation) 0.87971(test)\n",
      "Training finished.\n",
      "Time usage: 0:03:57\n",
      "===============================\n",
      "Final model (may note be the optimal) on test data got accuracy: 0.880456\n"
     ]
    }
   ],
   "source": [
    "#(REPRODUCIBILITY) set random seeds\n",
    "tf.set_random_seed(722)\n",
    "\n",
    "print('Model: 1 linear layer + 1 softmax layer')\n",
    "[y_pred_prob, y_pred]=main()"
   ]
  },
  {
   "cell_type": "code",
   "execution_count": 13,
   "metadata": {
    "collapsed": false
   },
   "outputs": [
    {
     "data": {
      "text/plain": [
       "array([[ 1.,  0.],\n",
       "       [ 1.,  0.],\n",
       "       [ 1.,  0.],\n",
       "       ..., \n",
       "       [ 1.,  0.],\n",
       "       [ 1.,  0.],\n",
       "       [ 1.,  0.]], dtype=float32)"
      ]
     },
     "execution_count": 13,
     "metadata": {},
     "output_type": "execute_result"
    }
   ],
   "source": [
    "y_pred"
   ]
  },
  {
   "cell_type": "code",
   "execution_count": 19,
   "metadata": {
    "collapsed": false
   },
   "outputs": [
    {
     "data": {
      "text/plain": [
       "array([[ 0.,  1.],\n",
       "       [ 0.,  1.],\n",
       "       [ 0.,  1.],\n",
       "       ..., \n",
       "       [ 0.,  1.],\n",
       "       [ 0.,  1.],\n",
       "       [ 0.,  1.]], dtype=float32)"
      ]
     },
     "execution_count": 19,
     "metadata": {},
     "output_type": "execute_result"
    }
   ],
   "source": [
    "y_pred[y_pred[:,0]!=1]"
   ]
  },
  {
   "cell_type": "code",
   "execution_count": 25,
   "metadata": {
    "collapsed": false
   },
   "outputs": [
    {
     "data": {
      "text/plain": [
       "678"
      ]
     },
     "execution_count": 25,
     "metadata": {},
     "output_type": "execute_result"
    }
   ],
   "source": [
    "# There're some cases that y_pred_prob has different result to y_pred\n",
    "sum(y_pred_prob[[y_pred[:,0]!=1]][:,0]>=y_pred_prob[[y_pred[:,0]!=1]][:,1])"
   ]
  },
  {
   "cell_type": "code",
   "execution_count": 26,
   "metadata": {
    "collapsed": false
   },
   "outputs": [
    {
     "data": {
      "text/plain": [
       "2407"
      ]
     },
     "execution_count": 26,
     "metadata": {},
     "output_type": "execute_result"
    }
   ],
   "source": [
    "sum(y_pred_prob[[y_pred[:,0]!=1]][:,0]<=y_pred_prob[[y_pred[:,0]!=1]][:,1])"
   ]
  },
  {
   "cell_type": "code",
   "execution_count": 41,
   "metadata": {
    "collapsed": false
   },
   "outputs": [
    {
     "data": {
      "text/plain": [
       "2998"
      ]
     },
     "execution_count": 41,
     "metadata": {},
     "output_type": "execute_result"
    }
   ],
   "source": [
    "sum(y_pred[1][:,1]!=1&y_pred[1][:,1]!=1)"
   ]
  },
  {
   "cell_type": "code",
   "execution_count": 47,
   "metadata": {
    "collapsed": false
   },
   "outputs": [
    {
     "data": {
      "text/plain": [
       "(44009, 2)"
      ]
     },
     "execution_count": 47,
     "metadata": {},
     "output_type": "execute_result"
    }
   ],
   "source": [
    "y_pred[1].shape"
   ]
  },
  {
   "cell_type": "code",
   "execution_count": 43,
   "metadata": {
    "collapsed": false
   },
   "outputs": [
    {
     "ename": "InvalidArgumentError",
     "evalue": "Shape [-1,2357] has negative dimensions\n\t [[Node: Placeholder = Placeholder[dtype=DT_FLOAT, shape=[?,2357], _device=\"/job:localhost/replica:0/task:0/cpu:0\"]()]]\n\nCaused by op 'Placeholder', defined at:\n  File \"/usr/lib/python3.5/runpy.py\", line 184, in _run_module_as_main\n    \"__main__\", mod_spec)\n  File \"/usr/lib/python3.5/runpy.py\", line 85, in _run_code\n    exec(code, run_globals)\n  File \"/usr/local/lib/python3.5/dist-packages/ipykernel/__main__.py\", line 3, in <module>\n    app.launch_new_instance()\n  File \"/usr/local/lib/python3.5/dist-packages/traitlets/config/application.py\", line 658, in launch_instance\n    app.start()\n  File \"/usr/local/lib/python3.5/dist-packages/ipykernel/kernelapp.py\", line 474, in start\n    ioloop.IOLoop.instance().start()\n  File \"/usr/local/lib/python3.5/dist-packages/zmq/eventloop/ioloop.py\", line 177, in start\n    super(ZMQIOLoop, self).start()\n  File \"/usr/local/lib/python3.5/dist-packages/tornado/ioloop.py\", line 887, in start\n    handler_func(fd_obj, events)\n  File \"/usr/local/lib/python3.5/dist-packages/tornado/stack_context.py\", line 275, in null_wrapper\n    return fn(*args, **kwargs)\n  File \"/usr/local/lib/python3.5/dist-packages/zmq/eventloop/zmqstream.py\", line 440, in _handle_events\n    self._handle_recv()\n  File \"/usr/local/lib/python3.5/dist-packages/zmq/eventloop/zmqstream.py\", line 472, in _handle_recv\n    self._run_callback(callback, msg)\n  File \"/usr/local/lib/python3.5/dist-packages/zmq/eventloop/zmqstream.py\", line 414, in _run_callback\n    callback(*args, **kwargs)\n  File \"/usr/local/lib/python3.5/dist-packages/tornado/stack_context.py\", line 275, in null_wrapper\n    return fn(*args, **kwargs)\n  File \"/usr/local/lib/python3.5/dist-packages/ipykernel/kernelbase.py\", line 276, in dispatcher\n    return self.dispatch_shell(stream, msg)\n  File \"/usr/local/lib/python3.5/dist-packages/ipykernel/kernelbase.py\", line 228, in dispatch_shell\n    handler(stream, idents, msg)\n  File \"/usr/local/lib/python3.5/dist-packages/ipykernel/kernelbase.py\", line 390, in execute_request\n    user_expressions, allow_stdin)\n  File \"/usr/local/lib/python3.5/dist-packages/ipykernel/ipkernel.py\", line 196, in do_execute\n    res = shell.run_cell(code, store_history=store_history, silent=silent)\n  File \"/usr/local/lib/python3.5/dist-packages/ipykernel/zmqshell.py\", line 501, in run_cell\n    return super(ZMQInteractiveShell, self).run_cell(*args, **kwargs)\n  File \"/usr/local/lib/python3.5/dist-packages/IPython/core/interactiveshell.py\", line 2698, in run_cell\n    interactivity=interactivity, compiler=compiler, result=result)\n  File \"/usr/local/lib/python3.5/dist-packages/IPython/core/interactiveshell.py\", line 2802, in run_ast_nodes\n    if self.run_code(code, result):\n  File \"/usr/local/lib/python3.5/dist-packages/IPython/core/interactiveshell.py\", line 2862, in run_code\n    exec(code_obj, self.user_global_ns, self.user_ns)\n  File \"<ipython-input-8-1999953a6897>\", line 5, in <module>\n    y_pred=main()\n  File \"<ipython-input-7-65f3510a526d>\", line 9, in main\n    x = tf.placeholder(tf.float32, shape=[None, dimX])\n  File \"/usr/local/lib/python3.5/dist-packages/tensorflow/python/ops/array_ops.py\", line 1530, in placeholder\n    return gen_array_ops._placeholder(dtype=dtype, shape=shape, name=name)\n  File \"/usr/local/lib/python3.5/dist-packages/tensorflow/python/ops/gen_array_ops.py\", line 1954, in _placeholder\n    name=name)\n  File \"/usr/local/lib/python3.5/dist-packages/tensorflow/python/framework/op_def_library.py\", line 767, in apply_op\n    op_def=op_def)\n  File \"/usr/local/lib/python3.5/dist-packages/tensorflow/python/framework/ops.py\", line 2506, in create_op\n    original_op=self._default_original_op, op_def=op_def)\n  File \"/usr/local/lib/python3.5/dist-packages/tensorflow/python/framework/ops.py\", line 1269, in __init__\n    self._traceback = _extract_stack()\n\nInvalidArgumentError (see above for traceback): Shape [-1,2357] has negative dimensions\n\t [[Node: Placeholder = Placeholder[dtype=DT_FLOAT, shape=[?,2357], _device=\"/job:localhost/replica:0/task:0/cpu:0\"]()]]\n",
     "output_type": "error",
     "traceback": [
      "\u001b[0;31m---------------------------------------------------------------------------\u001b[0m",
      "\u001b[0;31mInvalidArgumentError\u001b[0m                      Traceback (most recent call last)",
      "\u001b[0;32m/usr/local/lib/python3.5/dist-packages/tensorflow/python/client/session.py\u001b[0m in \u001b[0;36m_do_call\u001b[0;34m(self, fn, *args)\u001b[0m\n\u001b[1;32m   1138\u001b[0m     \u001b[0;32mtry\u001b[0m\u001b[0;34m:\u001b[0m\u001b[0;34m\u001b[0m\u001b[0m\n\u001b[0;32m-> 1139\u001b[0;31m       \u001b[0;32mreturn\u001b[0m \u001b[0mfn\u001b[0m\u001b[0;34m(\u001b[0m\u001b[0;34m*\u001b[0m\u001b[0margs\u001b[0m\u001b[0;34m)\u001b[0m\u001b[0;34m\u001b[0m\u001b[0m\n\u001b[0m\u001b[1;32m   1140\u001b[0m     \u001b[0;32mexcept\u001b[0m \u001b[0merrors\u001b[0m\u001b[0;34m.\u001b[0m\u001b[0mOpError\u001b[0m \u001b[0;32mas\u001b[0m \u001b[0me\u001b[0m\u001b[0;34m:\u001b[0m\u001b[0;34m\u001b[0m\u001b[0m\n",
      "\u001b[0;32m/usr/local/lib/python3.5/dist-packages/tensorflow/python/client/session.py\u001b[0m in \u001b[0;36m_run_fn\u001b[0;34m(session, feed_dict, fetch_list, target_list, options, run_metadata)\u001b[0m\n\u001b[1;32m   1120\u001b[0m                                  \u001b[0mfeed_dict\u001b[0m\u001b[0;34m,\u001b[0m \u001b[0mfetch_list\u001b[0m\u001b[0;34m,\u001b[0m \u001b[0mtarget_list\u001b[0m\u001b[0;34m,\u001b[0m\u001b[0;34m\u001b[0m\u001b[0m\n\u001b[0;32m-> 1121\u001b[0;31m                                  status, run_metadata)\n\u001b[0m\u001b[1;32m   1122\u001b[0m \u001b[0;34m\u001b[0m\u001b[0m\n",
      "\u001b[0;32m/usr/lib/python3.5/contextlib.py\u001b[0m in \u001b[0;36m__exit__\u001b[0;34m(self, type, value, traceback)\u001b[0m\n\u001b[1;32m     65\u001b[0m             \u001b[0;32mtry\u001b[0m\u001b[0;34m:\u001b[0m\u001b[0;34m\u001b[0m\u001b[0m\n\u001b[0;32m---> 66\u001b[0;31m                 \u001b[0mnext\u001b[0m\u001b[0;34m(\u001b[0m\u001b[0mself\u001b[0m\u001b[0;34m.\u001b[0m\u001b[0mgen\u001b[0m\u001b[0;34m)\u001b[0m\u001b[0;34m\u001b[0m\u001b[0m\n\u001b[0m\u001b[1;32m     67\u001b[0m             \u001b[0;32mexcept\u001b[0m \u001b[0mStopIteration\u001b[0m\u001b[0;34m:\u001b[0m\u001b[0;34m\u001b[0m\u001b[0m\n",
      "\u001b[0;32m/usr/local/lib/python3.5/dist-packages/tensorflow/python/framework/errors_impl.py\u001b[0m in \u001b[0;36mraise_exception_on_not_ok_status\u001b[0;34m()\u001b[0m\n\u001b[1;32m    465\u001b[0m           \u001b[0mcompat\u001b[0m\u001b[0;34m.\u001b[0m\u001b[0mas_text\u001b[0m\u001b[0;34m(\u001b[0m\u001b[0mpywrap_tensorflow\u001b[0m\u001b[0;34m.\u001b[0m\u001b[0mTF_Message\u001b[0m\u001b[0;34m(\u001b[0m\u001b[0mstatus\u001b[0m\u001b[0;34m)\u001b[0m\u001b[0;34m)\u001b[0m\u001b[0;34m,\u001b[0m\u001b[0;34m\u001b[0m\u001b[0m\n\u001b[0;32m--> 466\u001b[0;31m           pywrap_tensorflow.TF_GetCode(status))\n\u001b[0m\u001b[1;32m    467\u001b[0m   \u001b[0;32mfinally\u001b[0m\u001b[0;34m:\u001b[0m\u001b[0;34m\u001b[0m\u001b[0m\n",
      "\u001b[0;31mInvalidArgumentError\u001b[0m: Shape [-1,2357] has negative dimensions\n\t [[Node: Placeholder = Placeholder[dtype=DT_FLOAT, shape=[?,2357], _device=\"/job:localhost/replica:0/task:0/cpu:0\"]()]]",
      "\nDuring handling of the above exception, another exception occurred:\n",
      "\u001b[0;31mInvalidArgumentError\u001b[0m                      Traceback (most recent call last)",
      "\u001b[0;32m<ipython-input-43-ffb0409a4a0c>\u001b[0m in \u001b[0;36m<module>\u001b[0;34m()\u001b[0m\n\u001b[0;32m----> 1\u001b[0;31m \u001b[0my_pred\u001b[0m\u001b[0;34m[\u001b[0m\u001b[0;36m0\u001b[0m\u001b[0;34m]\u001b[0m\u001b[0;34m.\u001b[0m\u001b[0meval\u001b[0m\u001b[0;34m(\u001b[0m\u001b[0;34m)\u001b[0m\u001b[0;34m\u001b[0m\u001b[0m\n\u001b[0m",
      "\u001b[0;32m/usr/local/lib/python3.5/dist-packages/tensorflow/python/framework/ops.py\u001b[0m in \u001b[0;36meval\u001b[0;34m(self, feed_dict, session)\u001b[0m\n\u001b[1;32m    604\u001b[0m \u001b[0;34m\u001b[0m\u001b[0m\n\u001b[1;32m    605\u001b[0m     \"\"\"\n\u001b[0;32m--> 606\u001b[0;31m     \u001b[0;32mreturn\u001b[0m \u001b[0m_eval_using_default_session\u001b[0m\u001b[0;34m(\u001b[0m\u001b[0mself\u001b[0m\u001b[0;34m,\u001b[0m \u001b[0mfeed_dict\u001b[0m\u001b[0;34m,\u001b[0m \u001b[0mself\u001b[0m\u001b[0;34m.\u001b[0m\u001b[0mgraph\u001b[0m\u001b[0;34m,\u001b[0m \u001b[0msession\u001b[0m\u001b[0;34m)\u001b[0m\u001b[0;34m\u001b[0m\u001b[0m\n\u001b[0m\u001b[1;32m    607\u001b[0m \u001b[0;34m\u001b[0m\u001b[0m\n\u001b[1;32m    608\u001b[0m \u001b[0;34m\u001b[0m\u001b[0m\n",
      "\u001b[0;32m/usr/local/lib/python3.5/dist-packages/tensorflow/python/framework/ops.py\u001b[0m in \u001b[0;36m_eval_using_default_session\u001b[0;34m(tensors, feed_dict, graph, session)\u001b[0m\n\u001b[1;32m   3926\u001b[0m                        \u001b[0;34m\"the tensor's graph is different from the session's \"\u001b[0m\u001b[0;34m\u001b[0m\u001b[0m\n\u001b[1;32m   3927\u001b[0m                        \"graph.\")\n\u001b[0;32m-> 3928\u001b[0;31m   \u001b[0;32mreturn\u001b[0m \u001b[0msession\u001b[0m\u001b[0;34m.\u001b[0m\u001b[0mrun\u001b[0m\u001b[0;34m(\u001b[0m\u001b[0mtensors\u001b[0m\u001b[0;34m,\u001b[0m \u001b[0mfeed_dict\u001b[0m\u001b[0;34m)\u001b[0m\u001b[0;34m\u001b[0m\u001b[0m\n\u001b[0m\u001b[1;32m   3929\u001b[0m \u001b[0;34m\u001b[0m\u001b[0m\n\u001b[1;32m   3930\u001b[0m \u001b[0;34m\u001b[0m\u001b[0m\n",
      "\u001b[0;32m/usr/local/lib/python3.5/dist-packages/tensorflow/python/client/session.py\u001b[0m in \u001b[0;36mrun\u001b[0;34m(self, fetches, feed_dict, options, run_metadata)\u001b[0m\n\u001b[1;32m    787\u001b[0m     \u001b[0;32mtry\u001b[0m\u001b[0;34m:\u001b[0m\u001b[0;34m\u001b[0m\u001b[0m\n\u001b[1;32m    788\u001b[0m       result = self._run(None, fetches, feed_dict, options_ptr,\n\u001b[0;32m--> 789\u001b[0;31m                          run_metadata_ptr)\n\u001b[0m\u001b[1;32m    790\u001b[0m       \u001b[0;32mif\u001b[0m \u001b[0mrun_metadata\u001b[0m\u001b[0;34m:\u001b[0m\u001b[0;34m\u001b[0m\u001b[0m\n\u001b[1;32m    791\u001b[0m         \u001b[0mproto_data\u001b[0m \u001b[0;34m=\u001b[0m \u001b[0mtf_session\u001b[0m\u001b[0;34m.\u001b[0m\u001b[0mTF_GetBuffer\u001b[0m\u001b[0;34m(\u001b[0m\u001b[0mrun_metadata_ptr\u001b[0m\u001b[0;34m)\u001b[0m\u001b[0;34m\u001b[0m\u001b[0m\n",
      "\u001b[0;32m/usr/local/lib/python3.5/dist-packages/tensorflow/python/client/session.py\u001b[0m in \u001b[0;36m_run\u001b[0;34m(self, handle, fetches, feed_dict, options, run_metadata)\u001b[0m\n\u001b[1;32m    995\u001b[0m     \u001b[0;32mif\u001b[0m \u001b[0mfinal_fetches\u001b[0m \u001b[0;32mor\u001b[0m \u001b[0mfinal_targets\u001b[0m\u001b[0;34m:\u001b[0m\u001b[0;34m\u001b[0m\u001b[0m\n\u001b[1;32m    996\u001b[0m       results = self._do_run(handle, final_targets, final_fetches,\n\u001b[0;32m--> 997\u001b[0;31m                              feed_dict_string, options, run_metadata)\n\u001b[0m\u001b[1;32m    998\u001b[0m     \u001b[0;32melse\u001b[0m\u001b[0;34m:\u001b[0m\u001b[0;34m\u001b[0m\u001b[0m\n\u001b[1;32m    999\u001b[0m       \u001b[0mresults\u001b[0m \u001b[0;34m=\u001b[0m \u001b[0;34m[\u001b[0m\u001b[0;34m]\u001b[0m\u001b[0;34m\u001b[0m\u001b[0m\n",
      "\u001b[0;32m/usr/local/lib/python3.5/dist-packages/tensorflow/python/client/session.py\u001b[0m in \u001b[0;36m_do_run\u001b[0;34m(self, handle, target_list, fetch_list, feed_dict, options, run_metadata)\u001b[0m\n\u001b[1;32m   1130\u001b[0m     \u001b[0;32mif\u001b[0m \u001b[0mhandle\u001b[0m \u001b[0;32mis\u001b[0m \u001b[0;32mNone\u001b[0m\u001b[0;34m:\u001b[0m\u001b[0;34m\u001b[0m\u001b[0m\n\u001b[1;32m   1131\u001b[0m       return self._do_call(_run_fn, self._session, feed_dict, fetch_list,\n\u001b[0;32m-> 1132\u001b[0;31m                            target_list, options, run_metadata)\n\u001b[0m\u001b[1;32m   1133\u001b[0m     \u001b[0;32melse\u001b[0m\u001b[0;34m:\u001b[0m\u001b[0;34m\u001b[0m\u001b[0m\n\u001b[1;32m   1134\u001b[0m       return self._do_call(_prun_fn, self._session, handle, feed_dict,\n",
      "\u001b[0;32m/usr/local/lib/python3.5/dist-packages/tensorflow/python/client/session.py\u001b[0m in \u001b[0;36m_do_call\u001b[0;34m(self, fn, *args)\u001b[0m\n\u001b[1;32m   1150\u001b[0m         \u001b[0;32mexcept\u001b[0m \u001b[0mKeyError\u001b[0m\u001b[0;34m:\u001b[0m\u001b[0;34m\u001b[0m\u001b[0m\n\u001b[1;32m   1151\u001b[0m           \u001b[0;32mpass\u001b[0m\u001b[0;34m\u001b[0m\u001b[0m\n\u001b[0;32m-> 1152\u001b[0;31m       \u001b[0;32mraise\u001b[0m \u001b[0mtype\u001b[0m\u001b[0;34m(\u001b[0m\u001b[0me\u001b[0m\u001b[0;34m)\u001b[0m\u001b[0;34m(\u001b[0m\u001b[0mnode_def\u001b[0m\u001b[0;34m,\u001b[0m \u001b[0mop\u001b[0m\u001b[0;34m,\u001b[0m \u001b[0mmessage\u001b[0m\u001b[0;34m)\u001b[0m\u001b[0;34m\u001b[0m\u001b[0m\n\u001b[0m\u001b[1;32m   1153\u001b[0m \u001b[0;34m\u001b[0m\u001b[0m\n\u001b[1;32m   1154\u001b[0m   \u001b[0;32mdef\u001b[0m \u001b[0m_extend_graph\u001b[0m\u001b[0;34m(\u001b[0m\u001b[0mself\u001b[0m\u001b[0;34m)\u001b[0m\u001b[0;34m:\u001b[0m\u001b[0;34m\u001b[0m\u001b[0m\n",
      "\u001b[0;31mInvalidArgumentError\u001b[0m: Shape [-1,2357] has negative dimensions\n\t [[Node: Placeholder = Placeholder[dtype=DT_FLOAT, shape=[?,2357], _device=\"/job:localhost/replica:0/task:0/cpu:0\"]()]]\n\nCaused by op 'Placeholder', defined at:\n  File \"/usr/lib/python3.5/runpy.py\", line 184, in _run_module_as_main\n    \"__main__\", mod_spec)\n  File \"/usr/lib/python3.5/runpy.py\", line 85, in _run_code\n    exec(code, run_globals)\n  File \"/usr/local/lib/python3.5/dist-packages/ipykernel/__main__.py\", line 3, in <module>\n    app.launch_new_instance()\n  File \"/usr/local/lib/python3.5/dist-packages/traitlets/config/application.py\", line 658, in launch_instance\n    app.start()\n  File \"/usr/local/lib/python3.5/dist-packages/ipykernel/kernelapp.py\", line 474, in start\n    ioloop.IOLoop.instance().start()\n  File \"/usr/local/lib/python3.5/dist-packages/zmq/eventloop/ioloop.py\", line 177, in start\n    super(ZMQIOLoop, self).start()\n  File \"/usr/local/lib/python3.5/dist-packages/tornado/ioloop.py\", line 887, in start\n    handler_func(fd_obj, events)\n  File \"/usr/local/lib/python3.5/dist-packages/tornado/stack_context.py\", line 275, in null_wrapper\n    return fn(*args, **kwargs)\n  File \"/usr/local/lib/python3.5/dist-packages/zmq/eventloop/zmqstream.py\", line 440, in _handle_events\n    self._handle_recv()\n  File \"/usr/local/lib/python3.5/dist-packages/zmq/eventloop/zmqstream.py\", line 472, in _handle_recv\n    self._run_callback(callback, msg)\n  File \"/usr/local/lib/python3.5/dist-packages/zmq/eventloop/zmqstream.py\", line 414, in _run_callback\n    callback(*args, **kwargs)\n  File \"/usr/local/lib/python3.5/dist-packages/tornado/stack_context.py\", line 275, in null_wrapper\n    return fn(*args, **kwargs)\n  File \"/usr/local/lib/python3.5/dist-packages/ipykernel/kernelbase.py\", line 276, in dispatcher\n    return self.dispatch_shell(stream, msg)\n  File \"/usr/local/lib/python3.5/dist-packages/ipykernel/kernelbase.py\", line 228, in dispatch_shell\n    handler(stream, idents, msg)\n  File \"/usr/local/lib/python3.5/dist-packages/ipykernel/kernelbase.py\", line 390, in execute_request\n    user_expressions, allow_stdin)\n  File \"/usr/local/lib/python3.5/dist-packages/ipykernel/ipkernel.py\", line 196, in do_execute\n    res = shell.run_cell(code, store_history=store_history, silent=silent)\n  File \"/usr/local/lib/python3.5/dist-packages/ipykernel/zmqshell.py\", line 501, in run_cell\n    return super(ZMQInteractiveShell, self).run_cell(*args, **kwargs)\n  File \"/usr/local/lib/python3.5/dist-packages/IPython/core/interactiveshell.py\", line 2698, in run_cell\n    interactivity=interactivity, compiler=compiler, result=result)\n  File \"/usr/local/lib/python3.5/dist-packages/IPython/core/interactiveshell.py\", line 2802, in run_ast_nodes\n    if self.run_code(code, result):\n  File \"/usr/local/lib/python3.5/dist-packages/IPython/core/interactiveshell.py\", line 2862, in run_code\n    exec(code_obj, self.user_global_ns, self.user_ns)\n  File \"<ipython-input-8-1999953a6897>\", line 5, in <module>\n    y_pred=main()\n  File \"<ipython-input-7-65f3510a526d>\", line 9, in main\n    x = tf.placeholder(tf.float32, shape=[None, dimX])\n  File \"/usr/local/lib/python3.5/dist-packages/tensorflow/python/ops/array_ops.py\", line 1530, in placeholder\n    return gen_array_ops._placeholder(dtype=dtype, shape=shape, name=name)\n  File \"/usr/local/lib/python3.5/dist-packages/tensorflow/python/ops/gen_array_ops.py\", line 1954, in _placeholder\n    name=name)\n  File \"/usr/local/lib/python3.5/dist-packages/tensorflow/python/framework/op_def_library.py\", line 767, in apply_op\n    op_def=op_def)\n  File \"/usr/local/lib/python3.5/dist-packages/tensorflow/python/framework/ops.py\", line 2506, in create_op\n    original_op=self._default_original_op, op_def=op_def)\n  File \"/usr/local/lib/python3.5/dist-packages/tensorflow/python/framework/ops.py\", line 1269, in __init__\n    self._traceback = _extract_stack()\n\nInvalidArgumentError (see above for traceback): Shape [-1,2357] has negative dimensions\n\t [[Node: Placeholder = Placeholder[dtype=DT_FLOAT, shape=[?,2357], _device=\"/job:localhost/replica:0/task:0/cpu:0\"]()]]\n"
     ]
    }
   ],
   "source": [
    "y_pred[0].eval()"
   ]
  },
  {
   "cell_type": "markdown",
   "metadata": {},
   "source": [
    "### 3.2 Confusion Matrix"
   ]
  },
  {
   "cell_type": "code",
   "execution_count": 17,
   "metadata": {
    "collapsed": false
   },
   "outputs": [
    {
     "ename": "NameError",
     "evalue": "name 'testY' is not defined",
     "output_type": "error",
     "traceback": [
      "\u001b[0;31m---------------------------------------------------------------------------\u001b[0m",
      "\u001b[0;31mNameError\u001b[0m                                 Traceback (most recent call last)",
      "\u001b[0;32m<ipython-input-17-adab9320a843>\u001b[0m in \u001b[0;36m<module>\u001b[0;34m()\u001b[0m\n\u001b[1;32m      1\u001b[0m \u001b[0;31m# Compute confusion matrix\u001b[0m\u001b[0;34m\u001b[0m\u001b[0;34m\u001b[0m\u001b[0m\n\u001b[0;32m----> 2\u001b[0;31m \u001b[0my_Test\u001b[0m \u001b[0;34m=\u001b[0m \u001b[0mtf\u001b[0m\u001b[0;34m.\u001b[0m\u001b[0margmax\u001b[0m\u001b[0;34m(\u001b[0m\u001b[0mtestY\u001b[0m\u001b[0;34m,\u001b[0m \u001b[0;36m1\u001b[0m\u001b[0;34m)\u001b[0m\u001b[0;34m\u001b[0m\u001b[0m\n\u001b[0m\u001b[1;32m      3\u001b[0m \u001b[0my_test\u001b[0m\u001b[0;34m=\u001b[0m\u001b[0my_Test\u001b[0m\u001b[0;34m.\u001b[0m\u001b[0meval\u001b[0m\u001b[0;34m(\u001b[0m\u001b[0;34m)\u001b[0m\u001b[0;34m\u001b[0m\u001b[0m\n\u001b[1;32m      4\u001b[0m \u001b[0mcfm\u001b[0m \u001b[0;34m=\u001b[0m \u001b[0mconfusion_matrix\u001b[0m\u001b[0;34m(\u001b[0m\u001b[0my_test\u001b[0m\u001b[0;34m,\u001b[0m \u001b[0my_pred\u001b[0m\u001b[0;34m,\u001b[0m\u001b[0mlabels\u001b[0m\u001b[0;34m=\u001b[0m\u001b[0mrange\u001b[0m\u001b[0;34m(\u001b[0m\u001b[0;36m0\u001b[0m\u001b[0;34m,\u001b[0m\u001b[0;36m10\u001b[0m\u001b[0;34m)\u001b[0m\u001b[0;34m)\u001b[0m\u001b[0;34m\u001b[0m\u001b[0m\n\u001b[1;32m      5\u001b[0m \u001b[0mnp\u001b[0m\u001b[0;34m.\u001b[0m\u001b[0mset_printoptions\u001b[0m\u001b[0;34m(\u001b[0m\u001b[0mprecision\u001b[0m\u001b[0;34m=\u001b[0m\u001b[0;36m2\u001b[0m\u001b[0;34m)\u001b[0m\u001b[0;34m\u001b[0m\u001b[0m\n",
      "\u001b[0;31mNameError\u001b[0m: name 'testY' is not defined"
     ]
    }
   ],
   "source": [
    "# Compute confusion matrix\n",
    "y_Test = tf.argmax(testY, 1)\n",
    "y_test=y_Test.eval()\n",
    "cfm = confusion_matrix(y_test, y_pred,labels=range(0,10))\n",
    "np.set_printoptions(precision=2)\n",
    "\n",
    "print('\\nPlot of Confusion Matrix without nomalize is:')\n",
    "plt.figure(figsize=(14,10))\n",
    "plot_confusion_matrix(cfm, classes=range(0,10), normalize=False)\n",
    "plt.show()\n",
    "print('\\nPlot of Confusion Matrix with nomalize is:')\n",
    "plt.figure(figsize=(14,10))\n",
    "plot_confusion_matrix(cfm, classes=range(0,10), normalize=True)\n",
    "plt.show()"
   ]
  },
  {
   "cell_type": "markdown",
   "metadata": {},
   "source": [
    "### End\n",
    "---"
   ]
  },
  {
   "cell_type": "code",
   "execution_count": null,
   "metadata": {
    "collapsed": true
   },
   "outputs": [],
   "source": []
  },
  {
   "cell_type": "code",
   "execution_count": null,
   "metadata": {
    "collapsed": true
   },
   "outputs": [],
   "source": []
  }
 ],
 "metadata": {
  "kernelspec": {
   "display_name": "Python 3",
   "language": "python",
   "name": "python3"
  },
  "language_info": {
   "codemirror_mode": {
    "name": "ipython",
    "version": 3
   },
   "file_extension": ".py",
   "mimetype": "text/x-python",
   "name": "python",
   "nbconvert_exporter": "python",
   "pygments_lexer": "ipython3",
   "version": "3.5.2"
  }
 },
 "nbformat": 4,
 "nbformat_minor": 2
}
